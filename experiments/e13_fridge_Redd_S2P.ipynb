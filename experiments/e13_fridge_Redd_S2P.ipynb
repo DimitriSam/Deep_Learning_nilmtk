{
  "nbformat": 4,
  "nbformat_minor": 0,
  "metadata": {
    "colab": {
      "name": "e13_fridge_Redd_S2P.ipynb",
      "version": "0.3.2",
      "provenance": []
    },
    "language_info": {
      "codemirror_mode": {
        "name": "ipython",
        "version": 3
      },
      "file_extension": ".py",
      "mimetype": "text/x-python",
      "name": "python",
      "nbconvert_exporter": "python",
      "pygments_lexer": "ipython3",
      "version": "3.6.7"
    },
    "kernelspec": {
      "name": "python3",
      "display_name": "Python 3"
    },
    "accelerator": "GPU"
  },
  "cells": [
    {
      "cell_type": "code",
      "metadata": {
        "id": "nheyVgwbFlbA",
        "colab_type": "code",
        "colab": {
          "base_uri": "https://localhost:8080/",
          "height": 35
        },
        "outputId": "97bc0836-8122-4259-b63e-87a8a948a66d"
      },
      "source": [
        "'''\n",
        "P2P\n",
        "\n",
        "with normalisation\n",
        "no dropout\n",
        "'''"
      ],
      "execution_count": 1,
      "outputs": [
        {
          "output_type": "execute_result",
          "data": {
            "text/plain": [
              "'\\nP2P\\n\\nwith normalisation\\n'"
            ]
          },
          "metadata": {
            "tags": []
          },
          "execution_count": 1
        }
      ]
    },
    {
      "cell_type": "code",
      "metadata": {
        "id": "eaYRKT2BFpbM",
        "colab_type": "code",
        "colab": {
          "base_uri": "https://localhost:8080/",
          "height": 126
        },
        "outputId": "668aae64-b918-4d14-9cac-b7c36fe8f408"
      },
      "source": [
        "from google.colab import drive\n",
        "drive.mount('/content/drive')\n",
        "import sys\n",
        "sys.path.insert(0,'drive/My Drive/Dissertation')"
      ],
      "execution_count": 1,
      "outputs": [
        {
          "output_type": "stream",
          "text": [
            "Go to this URL in a browser: https://accounts.google.com/o/oauth2/auth?client_id=947318989803-6bn6qk8qdgf4n4g3pfee6491hc0brc4i.apps.googleusercontent.com&redirect_uri=urn%3Aietf%3Awg%3Aoauth%3A2.0%3Aoob&scope=email%20https%3A%2F%2Fwww.googleapis.com%2Fauth%2Fdocs.test%20https%3A%2F%2Fwww.googleapis.com%2Fauth%2Fdrive%20https%3A%2F%2Fwww.googleapis.com%2Fauth%2Fdrive.photos.readonly%20https%3A%2F%2Fwww.googleapis.com%2Fauth%2Fpeopleapi.readonly&response_type=code\n",
            "\n",
            "Enter your authorization code:\n",
            "··········\n",
            "Mounted at /content/drive\n"
          ],
          "name": "stdout"
        }
      ]
    },
    {
      "cell_type": "code",
      "metadata": {
        "id": "frkTSzkzHC9C",
        "colab_type": "code",
        "colab": {
          "base_uri": "https://localhost:8080/",
          "height": 1000
        },
        "outputId": "4ef28cdd-9b05-414e-d385-168324fefcc9"
      },
      "source": [
        "pip install git+git://github.com/nilmtk/nilmtk.git"
      ],
      "execution_count": 2,
      "outputs": [
        {
          "output_type": "stream",
          "text": [
            "Collecting git+git://github.com/nilmtk/nilmtk.git\n",
            "  Cloning git://github.com/nilmtk/nilmtk.git to /tmp/pip-req-build-uix_1h7i\n",
            "  Running command git clone -q git://github.com/nilmtk/nilmtk.git /tmp/pip-req-build-uix_1h7i\n",
            "Requirement already satisfied: future in /usr/local/lib/python3.6/dist-packages (from nilmtk==0.3.0.dev0+git.2f15ab7) (0.16.0)\n",
            "Requirement already satisfied: six in /usr/local/lib/python3.6/dist-packages (from nilmtk==0.3.0.dev0+git.2f15ab7) (1.12.0)\n",
            "Collecting psycopg2-binary (from nilmtk==0.3.0.dev0+git.2f15ab7)\n",
            "\u001b[?25l  Downloading https://files.pythonhosted.org/packages/b1/35/75c9c2d9cfc073ab6c42b2d8e91ff58c9b99f4ed7ed56b36647642e6080e/psycopg2_binary-2.8.3-cp36-cp36m-manylinux1_x86_64.whl (2.9MB)\n",
            "\u001b[K     |████████████████████████████████| 2.9MB 45.0MB/s \n",
            "\u001b[?25hRequirement already satisfied: pandas==0.24.2 in /usr/local/lib/python3.6/dist-packages (from nilmtk==0.3.0.dev0+git.2f15ab7) (0.24.2)\n",
            "Collecting networkx==2.1 (from nilmtk==0.3.0.dev0+git.2f15ab7)\n",
            "\u001b[?25l  Downloading https://files.pythonhosted.org/packages/11/42/f951cc6838a4dff6ce57211c4d7f8444809ccbe2134179950301e5c4c83c/networkx-2.1.zip (1.6MB)\n",
            "\u001b[K     |████████████████████████████████| 1.6MB 54.9MB/s \n",
            "\u001b[?25hRequirement already satisfied: scipy in /usr/local/lib/python3.6/dist-packages (from nilmtk==0.3.0.dev0+git.2f15ab7) (1.3.0)\n",
            "Requirement already satisfied: tables in /usr/local/lib/python3.6/dist-packages (from nilmtk==0.3.0.dev0+git.2f15ab7) (3.4.4)\n",
            "Requirement already satisfied: scikit-learn>=0.21.2 in /usr/local/lib/python3.6/dist-packages (from nilmtk==0.3.0.dev0+git.2f15ab7) (0.21.2)\n",
            "Collecting hmmlearn>=0.2.1 (from nilmtk==0.3.0.dev0+git.2f15ab7)\n",
            "\u001b[?25l  Downloading https://files.pythonhosted.org/packages/d7/c5/91b43156b193d180ed94069269bcf88d3c7c6e54514a8482050fa9995e10/hmmlearn-0.2.2.tar.gz (146kB)\n",
            "\u001b[K     |████████████████████████████████| 153kB 42.7MB/s \n",
            "\u001b[?25hRequirement already satisfied: pyyaml in /usr/local/lib/python3.6/dist-packages (from nilmtk==0.3.0.dev0+git.2f15ab7) (3.13)\n",
            "Requirement already satisfied: matplotlib>=2.2.0 in /usr/local/lib/python3.6/dist-packages (from nilmtk==0.3.0.dev0+git.2f15ab7) (3.0.3)\n",
            "Requirement already satisfied: jupyter in /usr/local/lib/python3.6/dist-packages (from nilmtk==0.3.0.dev0+git.2f15ab7) (1.0.0)\n",
            "Requirement already satisfied: numpy>=1.12.0 in /usr/local/lib/python3.6/dist-packages (from pandas==0.24.2->nilmtk==0.3.0.dev0+git.2f15ab7) (1.16.4)\n",
            "Requirement already satisfied: pytz>=2011k in /usr/local/lib/python3.6/dist-packages (from pandas==0.24.2->nilmtk==0.3.0.dev0+git.2f15ab7) (2018.9)\n",
            "Requirement already satisfied: python-dateutil>=2.5.0 in /usr/local/lib/python3.6/dist-packages (from pandas==0.24.2->nilmtk==0.3.0.dev0+git.2f15ab7) (2.5.3)\n",
            "Requirement already satisfied: decorator>=4.1.0 in /usr/local/lib/python3.6/dist-packages (from networkx==2.1->nilmtk==0.3.0.dev0+git.2f15ab7) (4.4.0)\n",
            "Requirement already satisfied: numexpr>=2.5.2 in /usr/local/lib/python3.6/dist-packages (from tables->nilmtk==0.3.0.dev0+git.2f15ab7) (2.6.9)\n",
            "Requirement already satisfied: joblib>=0.11 in /usr/local/lib/python3.6/dist-packages (from scikit-learn>=0.21.2->nilmtk==0.3.0.dev0+git.2f15ab7) (0.13.2)\n",
            "Requirement already satisfied: cycler>=0.10 in /usr/local/lib/python3.6/dist-packages (from matplotlib>=2.2.0->nilmtk==0.3.0.dev0+git.2f15ab7) (0.10.0)\n",
            "Requirement already satisfied: pyparsing!=2.0.4,!=2.1.2,!=2.1.6,>=2.0.1 in /usr/local/lib/python3.6/dist-packages (from matplotlib>=2.2.0->nilmtk==0.3.0.dev0+git.2f15ab7) (2.4.0)\n",
            "Requirement already satisfied: kiwisolver>=1.0.1 in /usr/local/lib/python3.6/dist-packages (from matplotlib>=2.2.0->nilmtk==0.3.0.dev0+git.2f15ab7) (1.1.0)\n",
            "Requirement already satisfied: ipykernel in /usr/local/lib/python3.6/dist-packages (from jupyter->nilmtk==0.3.0.dev0+git.2f15ab7) (4.6.1)\n",
            "Requirement already satisfied: jupyter-console in /usr/local/lib/python3.6/dist-packages (from jupyter->nilmtk==0.3.0.dev0+git.2f15ab7) (6.0.0)\n",
            "Requirement already satisfied: ipywidgets in /usr/local/lib/python3.6/dist-packages (from jupyter->nilmtk==0.3.0.dev0+git.2f15ab7) (7.4.2)\n",
            "Requirement already satisfied: notebook in /usr/local/lib/python3.6/dist-packages (from jupyter->nilmtk==0.3.0.dev0+git.2f15ab7) (5.2.2)\n",
            "Requirement already satisfied: nbconvert in /usr/local/lib/python3.6/dist-packages (from jupyter->nilmtk==0.3.0.dev0+git.2f15ab7) (5.5.0)\n",
            "Requirement already satisfied: qtconsole in /usr/local/lib/python3.6/dist-packages (from jupyter->nilmtk==0.3.0.dev0+git.2f15ab7) (4.5.1)\n",
            "Requirement already satisfied: setuptools in /usr/local/lib/python3.6/dist-packages (from kiwisolver>=1.0.1->matplotlib>=2.2.0->nilmtk==0.3.0.dev0+git.2f15ab7) (41.0.1)\n",
            "Requirement already satisfied: tornado>=4.0 in /usr/local/lib/python3.6/dist-packages (from ipykernel->jupyter->nilmtk==0.3.0.dev0+git.2f15ab7) (4.5.3)\n",
            "Requirement already satisfied: traitlets>=4.1.0 in /usr/local/lib/python3.6/dist-packages (from ipykernel->jupyter->nilmtk==0.3.0.dev0+git.2f15ab7) (4.3.2)\n",
            "Requirement already satisfied: jupyter-client in /usr/local/lib/python3.6/dist-packages (from ipykernel->jupyter->nilmtk==0.3.0.dev0+git.2f15ab7) (5.2.4)\n",
            "Requirement already satisfied: ipython>=4.0.0 in /usr/local/lib/python3.6/dist-packages (from ipykernel->jupyter->nilmtk==0.3.0.dev0+git.2f15ab7) (5.5.0)\n",
            "Requirement already satisfied: pygments in /usr/local/lib/python3.6/dist-packages (from jupyter-console->jupyter->nilmtk==0.3.0.dev0+git.2f15ab7) (2.1.3)\n",
            "Collecting prompt-toolkit<2.1.0,>=2.0.0 (from jupyter-console->jupyter->nilmtk==0.3.0.dev0+git.2f15ab7)\n",
            "\u001b[?25l  Downloading https://files.pythonhosted.org/packages/f7/a7/9b1dd14ef45345f186ef69d175bdd2491c40ab1dfa4b2b3e4352df719ed7/prompt_toolkit-2.0.9-py3-none-any.whl (337kB)\n",
            "\u001b[K     |████████████████████████████████| 337kB 28.1MB/s \n",
            "\u001b[?25hRequirement already satisfied: widgetsnbextension~=3.4.0 in /usr/local/lib/python3.6/dist-packages (from ipywidgets->jupyter->nilmtk==0.3.0.dev0+git.2f15ab7) (3.4.2)\n",
            "Requirement already satisfied: nbformat>=4.2.0 in /usr/local/lib/python3.6/dist-packages (from ipywidgets->jupyter->nilmtk==0.3.0.dev0+git.2f15ab7) (4.4.0)\n",
            "Requirement already satisfied: ipython-genutils in /usr/local/lib/python3.6/dist-packages (from notebook->jupyter->nilmtk==0.3.0.dev0+git.2f15ab7) (0.2.0)\n",
            "Requirement already satisfied: jupyter-core in /usr/local/lib/python3.6/dist-packages (from notebook->jupyter->nilmtk==0.3.0.dev0+git.2f15ab7) (4.4.0)\n",
            "Requirement already satisfied: terminado>=0.3.3; sys_platform != \"win32\" in /usr/local/lib/python3.6/dist-packages (from notebook->jupyter->nilmtk==0.3.0.dev0+git.2f15ab7) (0.8.2)\n",
            "Requirement already satisfied: jinja2 in /usr/local/lib/python3.6/dist-packages (from notebook->jupyter->nilmtk==0.3.0.dev0+git.2f15ab7) (2.10.1)\n",
            "Requirement already satisfied: pandocfilters>=1.4.1 in /usr/local/lib/python3.6/dist-packages (from nbconvert->jupyter->nilmtk==0.3.0.dev0+git.2f15ab7) (1.4.2)\n",
            "Requirement already satisfied: testpath in /usr/local/lib/python3.6/dist-packages (from nbconvert->jupyter->nilmtk==0.3.0.dev0+git.2f15ab7) (0.4.2)\n",
            "Requirement already satisfied: defusedxml in /usr/local/lib/python3.6/dist-packages (from nbconvert->jupyter->nilmtk==0.3.0.dev0+git.2f15ab7) (0.6.0)\n",
            "Requirement already satisfied: entrypoints>=0.2.2 in /usr/local/lib/python3.6/dist-packages (from nbconvert->jupyter->nilmtk==0.3.0.dev0+git.2f15ab7) (0.3)\n",
            "Requirement already satisfied: mistune>=0.8.1 in /usr/local/lib/python3.6/dist-packages (from nbconvert->jupyter->nilmtk==0.3.0.dev0+git.2f15ab7) (0.8.4)\n",
            "Requirement already satisfied: bleach in /usr/local/lib/python3.6/dist-packages (from nbconvert->jupyter->nilmtk==0.3.0.dev0+git.2f15ab7) (3.1.0)\n",
            "Requirement already satisfied: pyzmq>=13 in /usr/local/lib/python3.6/dist-packages (from jupyter-client->ipykernel->jupyter->nilmtk==0.3.0.dev0+git.2f15ab7) (17.0.0)\n",
            "Requirement already satisfied: simplegeneric>0.8 in /usr/local/lib/python3.6/dist-packages (from ipython>=4.0.0->ipykernel->jupyter->nilmtk==0.3.0.dev0+git.2f15ab7) (0.8.1)\n",
            "Requirement already satisfied: pexpect; sys_platform != \"win32\" in /usr/local/lib/python3.6/dist-packages (from ipython>=4.0.0->ipykernel->jupyter->nilmtk==0.3.0.dev0+git.2f15ab7) (4.7.0)\n",
            "Requirement already satisfied: pickleshare in /usr/local/lib/python3.6/dist-packages (from ipython>=4.0.0->ipykernel->jupyter->nilmtk==0.3.0.dev0+git.2f15ab7) (0.7.5)\n",
            "Requirement already satisfied: wcwidth in /usr/local/lib/python3.6/dist-packages (from prompt-toolkit<2.1.0,>=2.0.0->jupyter-console->jupyter->nilmtk==0.3.0.dev0+git.2f15ab7) (0.1.7)\n",
            "Requirement already satisfied: jsonschema!=2.5.0,>=2.4 in /usr/local/lib/python3.6/dist-packages (from nbformat>=4.2.0->ipywidgets->jupyter->nilmtk==0.3.0.dev0+git.2f15ab7) (2.6.0)\n",
            "Requirement already satisfied: ptyprocess; os_name != \"nt\" in /usr/local/lib/python3.6/dist-packages (from terminado>=0.3.3; sys_platform != \"win32\"->notebook->jupyter->nilmtk==0.3.0.dev0+git.2f15ab7) (0.6.0)\n",
            "Requirement already satisfied: MarkupSafe>=0.23 in /usr/local/lib/python3.6/dist-packages (from jinja2->notebook->jupyter->nilmtk==0.3.0.dev0+git.2f15ab7) (1.1.1)\n",
            "Requirement already satisfied: webencodings in /usr/local/lib/python3.6/dist-packages (from bleach->nbconvert->jupyter->nilmtk==0.3.0.dev0+git.2f15ab7) (0.5.1)\n",
            "Building wheels for collected packages: nilmtk, networkx, hmmlearn\n",
            "  Building wheel for nilmtk (setup.py) ... \u001b[?25l\u001b[?25hdone\n",
            "  Stored in directory: /tmp/pip-ephem-wheel-cache-tn9ofewt/wheels/71/84/2f/eca0fb8014a0fe59881ab1a3e3374f4108211de4c7c3081e8d\n",
            "  Building wheel for networkx (setup.py) ... \u001b[?25l\u001b[?25hdone\n",
            "  Stored in directory: /root/.cache/pip/wheels/44/c0/34/6f98693a554301bdb405f8d65d95bbcd3e50180cbfdd98a94e\n",
            "  Building wheel for hmmlearn (setup.py) ... \u001b[?25l\u001b[?25hdone\n",
            "  Stored in directory: /root/.cache/pip/wheels/2c/b6/0e/63a865a30e21e01d04f417d8995fbfb793d6bd464707efc546\n",
            "Successfully built nilmtk networkx hmmlearn\n",
            "\u001b[31mERROR: ipython 5.5.0 has requirement prompt-toolkit<2.0.0,>=1.0.4, but you'll have prompt-toolkit 2.0.9 which is incompatible.\u001b[0m\n",
            "\u001b[31mERROR: albumentations 0.1.12 has requirement imgaug<0.2.7,>=0.2.5, but you'll have imgaug 0.2.9 which is incompatible.\u001b[0m\n",
            "Installing collected packages: psycopg2-binary, networkx, hmmlearn, nilmtk, prompt-toolkit\n",
            "  Found existing installation: networkx 2.3\n",
            "    Uninstalling networkx-2.3:\n",
            "      Successfully uninstalled networkx-2.3\n",
            "  Found existing installation: prompt-toolkit 1.0.16\n",
            "    Uninstalling prompt-toolkit-1.0.16:\n",
            "      Successfully uninstalled prompt-toolkit-1.0.16\n",
            "Successfully installed hmmlearn-0.2.2 networkx-2.1 nilmtk-0.3.0.dev0+git.2f15ab7 prompt-toolkit-2.0.9 psycopg2-binary-2.8.3\n"
          ],
          "name": "stdout"
        },
        {
          "output_type": "display_data",
          "data": {
            "application/vnd.colab-display-data+json": {
              "pip_warning": {
                "packages": [
                  "prompt_toolkit"
                ]
              }
            }
          },
          "metadata": {
            "tags": []
          }
        }
      ]
    },
    {
      "cell_type": "code",
      "metadata": {
        "id": "LwfMpZX8HDnv",
        "colab_type": "code",
        "colab": {
          "base_uri": "https://localhost:8080/",
          "height": 284
        },
        "outputId": "f0e4a698-2b6b-4b0a-d8d2-676cad27659c"
      },
      "source": [
        "pip install git+git://github.com/nilmtk/nilm_metadata.git"
      ],
      "execution_count": 3,
      "outputs": [
        {
          "output_type": "stream",
          "text": [
            "Collecting git+git://github.com/nilmtk/nilm_metadata.git\n",
            "  Cloning git://github.com/nilmtk/nilm_metadata.git to /tmp/pip-req-build-6qe_wt4v\n",
            "  Running command git clone -q git://github.com/nilmtk/nilm_metadata.git /tmp/pip-req-build-6qe_wt4v\n",
            "Requirement already satisfied: PyYAML in /usr/local/lib/python3.6/dist-packages (from nilm-metadata==0.2.3) (3.13)\n",
            "Requirement already satisfied: six in /usr/local/lib/python3.6/dist-packages (from nilm-metadata==0.2.3) (1.12.0)\n",
            "Requirement already satisfied: pandas in /usr/local/lib/python3.6/dist-packages (from nilm-metadata==0.2.3) (0.24.2)\n",
            "Requirement already satisfied: python-dateutil>=2.5.0 in /usr/local/lib/python3.6/dist-packages (from pandas->nilm-metadata==0.2.3) (2.5.3)\n",
            "Requirement already satisfied: pytz>=2011k in /usr/local/lib/python3.6/dist-packages (from pandas->nilm-metadata==0.2.3) (2018.9)\n",
            "Requirement already satisfied: numpy>=1.12.0 in /usr/local/lib/python3.6/dist-packages (from pandas->nilm-metadata==0.2.3) (1.16.4)\n",
            "Building wheels for collected packages: nilm-metadata\n",
            "  Building wheel for nilm-metadata (setup.py) ... \u001b[?25l\u001b[?25hdone\n",
            "  Stored in directory: /tmp/pip-ephem-wheel-cache-ed4gczki/wheels/75/e0/6d/1ec555a322c151fe20b4c9834753a692203b1f62a66b3ee235\n",
            "Successfully built nilm-metadata\n",
            "Installing collected packages: nilm-metadata\n",
            "Successfully installed nilm-metadata-0.2.3\n"
          ],
          "name": "stdout"
        }
      ]
    },
    {
      "cell_type": "code",
      "metadata": {
        "id": "6H2-FIOHHIMX",
        "colab_type": "code",
        "colab": {
          "base_uri": "https://localhost:8080/",
          "height": 336
        },
        "outputId": "b57a2de2-cc0c-49ff-f72e-f06bafee5977"
      },
      "source": [
        "pip install pandas==0.24.0"
      ],
      "execution_count": 4,
      "outputs": [
        {
          "output_type": "stream",
          "text": [
            "Collecting pandas==0.24.0\n",
            "\u001b[?25l  Downloading https://files.pythonhosted.org/packages/f9/e1/4a63ed31e1b1362d40ce845a5735c717a959bda992669468dae3420af2cd/pandas-0.24.0-cp36-cp36m-manylinux1_x86_64.whl (10.1MB)\n",
            "\u001b[K     |████████████████████████████████| 10.1MB 19.3MB/s \n",
            "\u001b[?25hRequirement already satisfied: pytz>=2011k in /usr/local/lib/python3.6/dist-packages (from pandas==0.24.0) (2018.9)\n",
            "Requirement already satisfied: python-dateutil>=2.5.0 in /usr/local/lib/python3.6/dist-packages (from pandas==0.24.0) (2.5.3)\n",
            "Requirement already satisfied: numpy>=1.12.0 in /usr/local/lib/python3.6/dist-packages (from pandas==0.24.0) (1.16.4)\n",
            "Requirement already satisfied: six>=1.5 in /usr/local/lib/python3.6/dist-packages (from python-dateutil>=2.5.0->pandas==0.24.0) (1.12.0)\n",
            "\u001b[31mERROR: nilmtk 0.3.0.dev0+git.2f15ab7 has requirement pandas==0.24.2, but you'll have pandas 0.24.0 which is incompatible.\u001b[0m\n",
            "Installing collected packages: pandas\n",
            "  Found existing installation: pandas 0.24.2\n",
            "    Uninstalling pandas-0.24.2:\n",
            "      Successfully uninstalled pandas-0.24.2\n",
            "Successfully installed pandas-0.24.0\n"
          ],
          "name": "stdout"
        },
        {
          "output_type": "display_data",
          "data": {
            "application/vnd.colab-display-data+json": {
              "pip_warning": {
                "packages": [
                  "pandas"
                ]
              }
            }
          },
          "metadata": {
            "tags": []
          }
        }
      ]
    },
    {
      "cell_type": "code",
      "metadata": {
        "id": "gEnfnGHVFlbG",
        "colab_type": "code",
        "colab": {}
      },
      "source": [
        "from __future__ import print_function, division\n",
        "import time\n",
        "\n",
        "from matplotlib import rcParams\n",
        "import matplotlib.pyplot as plt\n",
        "\n",
        "from nilmtk import DataSet, TimeFrame, MeterGroup, HDFDataStore\n",
        "\n",
        "\n",
        "import random\n",
        "import sys\n",
        "import pandas as pd\n",
        "import numpy as np\n",
        "import h5py\n"
      ],
      "execution_count": 0,
      "outputs": []
    },
    {
      "cell_type": "code",
      "metadata": {
        "id": "9l6SVMHmFlbJ",
        "colab_type": "code",
        "colab": {}
      },
      "source": [
        "# =====Define paramaters======\n",
        "info = {'filename': 'drive/My Drive/Dissertation/redd.h5',\n",
        "        'meter_label': 'fridge',  # [\"kettle\" , \"microwave\" , \"dishwasher\" , \"fridge\" , \"washing_machine\"]\n",
        "        'train_building': 1,\n",
        "        'test_building': 1,\n",
        "        'sample_period': 3\n",
        "       }\n",
        "\n",
        "# Parameters\n",
        "params = {'batch_size': 512,\n",
        "          'window_size': 50,\n",
        "          'model_name': 'DAE',\n",
        "          'shuffle': True}\n",
        "\n",
        "\n",
        "\n",
        "#test_window = {1: ('30-4-2011', '5-5-2011')}\n",
        "train_window = {1: (None, '30-4-2011')}\n",
        "test_window = {1: ('30-4-2011', None)}\n",
        "\n",
        "\n",
        "def load_dataset(train_window,test_window, filename, meter_label, train_building, test_building, **load_kwargs):\n",
        "    \n",
        "        #Load datasets\n",
        "    train = DataSet(filename)\n",
        "    test = DataSet(filename)\n",
        "\n",
        "    test.set_window(*test_window[test_building])\n",
        "    train.set_window(*train_window[test_building])\n",
        "    \n",
        "    x = train.buildings[train_building].elec.mains().all_meters()[0]\n",
        "    x = x.power_series_all_data(**load_kwargs)\n",
        "    \n",
        "    y = train.buildings[train_building].elec.submeters()[meter_label]\n",
        "    y = y.power_series_all_data(**load_kwargs)\n",
        "    \n",
        "    x.fillna(0, inplace=True)\n",
        "    y.fillna(0, inplace=True)\n",
        "    ix = x.index.intersection(y.index)\n",
        "    x = np.array(x[ix])\n",
        "    y = np.array(y[ix])\n",
        "    \n",
        "    #TEST\n",
        "    \n",
        "    x_test = test.buildings[test_building].elec.mains().all_meters()[0]\n",
        "    x_test = x_test.power_series_all_data(**load_kwargs)\n",
        "    \n",
        "    y_test = test.buildings[test_building].elec.submeters()[meter_label]\n",
        "    y_test = y_test.power_series_all_data(**load_kwargs)\n",
        "    \n",
        "    x_test.fillna(0, inplace=True)\n",
        "    y_test.fillna(0, inplace=True)\n",
        "    ix = x_test.index.intersection(y_test.index)\n",
        "    x_test = np.array(x_test[ix])\n",
        "    y_test = np.array(y_test[ix])\n",
        "\n",
        "    return x ,y,x_test,y_test \n",
        "  \n",
        "  \n",
        "x , y, x_test, y_test =load_dataset(train_window,test_window, **info)  \n",
        "\n"
      ],
      "execution_count": 0,
      "outputs": []
    },
    {
      "cell_type": "markdown",
      "metadata": {
        "id": "rPqkCnBBFlbP",
        "colab_type": "text"
      },
      "source": [
        "### Nomralise Data"
      ]
    },
    {
      "cell_type": "code",
      "metadata": {
        "id": "ADiDynHwFlbQ",
        "colab_type": "code",
        "colab": {}
      },
      "source": [
        "def normalise(data,mmax):\n",
        "    return data/mmax\n",
        "\n",
        "def inversenormalise(data,mmax):\n",
        "    return data*mmax\n",
        "\n",
        "\n",
        "mmax = np.max(x)\n",
        "x = normalise(x,mmax)\n",
        "y = normalise(y,mmax)"
      ],
      "execution_count": 0,
      "outputs": []
    },
    {
      "cell_type": "code",
      "metadata": {
        "id": "2IuuZJyBGvf9",
        "colab_type": "code",
        "colab": {}
      },
      "source": [
        ""
      ],
      "execution_count": 0,
      "outputs": []
    },
    {
      "cell_type": "markdown",
      "metadata": {
        "id": "sFH80Lr-Gz8a",
        "colab_type": "text"
      },
      "source": [
        "## Windows\n"
      ]
    },
    {
      "cell_type": "code",
      "metadata": {
        "id": "0E7DTO2cF0nj",
        "colab_type": "code",
        "colab": {}
      },
      "source": [
        "indexer = np.arange(params['window_size'])[None, :] + np.arange(len(x)-params['window_size']+1)[:, None]\n",
        "x = x[indexer]\n",
        "y = y[params['window_size']-1:]\n",
        "\n",
        "x = np.reshape(x, (x.shape[0],params['window_size'],1))\n",
        "y = np.reshape(y, (y.shape[0],1))"
      ],
      "execution_count": 0,
      "outputs": []
    },
    {
      "cell_type": "code",
      "metadata": {
        "id": "_R1qialnPzv9",
        "colab_type": "code",
        "colab": {}
      },
      "source": [
        ""
      ],
      "execution_count": 0,
      "outputs": []
    },
    {
      "cell_type": "markdown",
      "metadata": {
        "id": "Nigi0j4HFlbT",
        "colab_type": "text"
      },
      "source": [
        "# GRU"
      ]
    },
    {
      "cell_type": "code",
      "metadata": {
        "scrolled": true,
        "id": "LZN6PV24FlbT",
        "colab_type": "code",
        "colab": {
          "base_uri": "https://localhost:8080/",
          "height": 641
        },
        "outputId": "a22d9728-d8ac-4dbb-a2c1-4604a741628f"
      },
      "source": [
        "import random\n",
        "import sys\n",
        "import pandas as pd\n",
        "import numpy as np\n",
        "import h5py\n",
        "\n",
        "from keras.models import load_model\n",
        "from keras.models import Sequential\n",
        "from keras.layers import Dense, Conv1D, GRU, Bidirectional, Dropout\n",
        "\n",
        "\n",
        "model = Sequential()\n",
        "\n",
        "# 1D Conv\n",
        "model.add(Conv1D(16, 4, activation=\"relu\", padding=\"same\", strides=1, input_shape=(params['window_size'],1)))\n",
        "model.add(Conv1D(8, 4, activation=\"relu\", padding=\"same\", strides=1))\n",
        "\n",
        "# Bi-directional LSTMs\n",
        "model.add(Bidirectional(GRU(64, return_sequences=True, stateful=False), merge_mode='concat'))\n",
        "model.add(Bidirectional(GRU(128, return_sequences=False, stateful=False), merge_mode='concat'))\n",
        "\n",
        "# Fully Connected Layers\n",
        "model.add(Dense(64, activation='relu'))\n",
        "model.add(Dense(1, activation='linear'))\n",
        "\n",
        "model.compile(loss='mse', optimizer='adam')\n",
        "\n",
        "model.fit(x, y, epochs=8, batch_size=128, shuffle=True)"
      ],
      "execution_count": 11,
      "outputs": [
        {
          "output_type": "stream",
          "text": [
            "Using TensorFlow backend.\n",
            "WARNING: Logging before flag parsing goes to stderr.\n",
            "W0628 13:25:03.325930 140158274418560 deprecation_wrapper.py:119] From /usr/local/lib/python3.6/dist-packages/keras/backend/tensorflow_backend.py:74: The name tf.get_default_graph is deprecated. Please use tf.compat.v1.get_default_graph instead.\n",
            "\n",
            "W0628 13:25:03.366490 140158274418560 deprecation_wrapper.py:119] From /usr/local/lib/python3.6/dist-packages/keras/backend/tensorflow_backend.py:517: The name tf.placeholder is deprecated. Please use tf.compat.v1.placeholder instead.\n",
            "\n",
            "W0628 13:25:03.376542 140158274418560 deprecation_wrapper.py:119] From /usr/local/lib/python3.6/dist-packages/keras/backend/tensorflow_backend.py:4138: The name tf.random_uniform is deprecated. Please use tf.random.uniform instead.\n",
            "\n",
            "W0628 13:25:04.178723 140158274418560 deprecation_wrapper.py:119] From /usr/local/lib/python3.6/dist-packages/keras/optimizers.py:790: The name tf.train.Optimizer is deprecated. Please use tf.compat.v1.train.Optimizer instead.\n",
            "\n",
            "W0628 13:25:04.611607 140158274418560 deprecation.py:323] From /usr/local/lib/python3.6/dist-packages/tensorflow/python/ops/math_grad.py:1250: add_dispatch_support.<locals>.wrapper (from tensorflow.python.ops.array_ops) is deprecated and will be removed in a future version.\n",
            "Instructions for updating:\n",
            "Use tf.where in 2.0, which has the same broadcast rule as np.where\n",
            "W0628 13:25:06.148609 140158274418560 deprecation_wrapper.py:119] From /usr/local/lib/python3.6/dist-packages/keras/backend/tensorflow_backend.py:986: The name tf.assign_add is deprecated. Please use tf.compat.v1.assign_add instead.\n",
            "\n",
            "W0628 13:25:06.378889 140158274418560 deprecation_wrapper.py:119] From /usr/local/lib/python3.6/dist-packages/keras/backend/tensorflow_backend.py:973: The name tf.assign is deprecated. Please use tf.compat.v1.assign instead.\n",
            "\n"
          ],
          "name": "stderr"
        },
        {
          "output_type": "stream",
          "text": [
            "Epoch 1/8\n",
            "334307/334307 [==============================] - 615s 2ms/step - loss: 1.7345e-04\n",
            "Epoch 2/8\n",
            "334307/334307 [==============================] - 609s 2ms/step - loss: 1.4254e-04\n",
            "Epoch 3/8\n",
            "334307/334307 [==============================] - 610s 2ms/step - loss: 1.3523e-04\n",
            "Epoch 4/8\n",
            "334307/334307 [==============================] - 611s 2ms/step - loss: 1.3309e-04\n",
            "Epoch 5/8\n",
            "334307/334307 [==============================] - 610s 2ms/step - loss: 1.3053e-04\n",
            "Epoch 6/8\n",
            "334307/334307 [==============================] - 609s 2ms/step - loss: 1.2935e-04\n",
            "Epoch 7/8\n",
            "334307/334307 [==============================] - 606s 2ms/step - loss: 1.2795e-04\n",
            "Epoch 8/8\n",
            "334307/334307 [==============================] - 615s 2ms/step - loss: 1.2703e-04\n"
          ],
          "name": "stdout"
        },
        {
          "output_type": "execute_result",
          "data": {
            "text/plain": [
              "<keras.callbacks.History at 0x7f78cae3a978>"
            ]
          },
          "metadata": {
            "tags": []
          },
          "execution_count": 11
        }
      ]
    },
    {
      "cell_type": "code",
      "metadata": {
        "id": "-5izFuAeFlbX",
        "colab_type": "code",
        "colab": {}
      },
      "source": [
        "predict = model.predict(x, batch_size=128)\n"
      ],
      "execution_count": 0,
      "outputs": []
    },
    {
      "cell_type": "code",
      "metadata": {
        "id": "iC1w0p-kkfV8",
        "colab_type": "code",
        "colab": {}
      },
      "source": [
        "y = inversenormalise(y,mmax)\n",
        "predict = inversenormalise(predict,mmax)"
      ],
      "execution_count": 0,
      "outputs": []
    },
    {
      "cell_type": "code",
      "metadata": {
        "scrolled": true,
        "id": "eoBZf2PNFlbZ",
        "colab_type": "code",
        "colab": {
          "base_uri": "https://localhost:8080/",
          "height": 287
        },
        "outputId": "922a3544-ba20-4888-b0e8-8fe9225735f8"
      },
      "source": [
        "plt.plot(predict[65000:66000])\n",
        "plt.plot(y[65000:66000])"
      ],
      "execution_count": 18,
      "outputs": [
        {
          "output_type": "execute_result",
          "data": {
            "text/plain": [
              "[<matplotlib.lines.Line2D at 0x7f78ba2ef240>]"
            ]
          },
          "metadata": {
            "tags": []
          },
          "execution_count": 18
        },
        {
          "output_type": "display_data",
          "data": {
            "image/png": "[encoded data removed]",
            "text/plain": [
              "<Figure size 432x288 with 1 Axes>"
            ]
          },
          "metadata": {
            "tags": []
          }
        }
      ]
    },
    {
      "cell_type": "code",
      "metadata": {
        "id": "gv8BP9AEFlbd",
        "colab_type": "code",
        "colab": {
          "base_uri": "https://localhost:8080/",
          "height": 287
        },
        "outputId": "04ff3107-6464-47ba-da92-6acca7e3613d"
      },
      "source": [
        "plt.plot(predict[52000:58000])\n",
        "plt.plot(y[52000:58000])"
      ],
      "execution_count": 22,
      "outputs": [
        {
          "output_type": "execute_result",
          "data": {
            "text/plain": [
              "[<matplotlib.lines.Line2D at 0x7f78b1fdc278>]"
            ]
          },
          "metadata": {
            "tags": []
          },
          "execution_count": 22
        },
        {
          "output_type": "display_data",
          "data": {
            "image/png": "[encoded data removed]",
            "text/plain": [
              "<Figure size 432x288 with 1 Axes>"
            ]
          },
          "metadata": {
            "tags": []
          }
        }
      ]
    },
    {
      "cell_type": "code",
      "metadata": {
        "id": "ZfjKtBQukQFP",
        "colab_type": "code",
        "colab": {
          "base_uri": "https://localhost:8080/",
          "height": 287
        },
        "outputId": "21e6b97f-43ac-4b91-b5e6-411ec1015146"
      },
      "source": [
        "plt.plot(predict)\n",
        "plt.plot(y)"
      ],
      "execution_count": 20,
      "outputs": [
        {
          "output_type": "execute_result",
          "data": {
            "text/plain": [
              "[<matplotlib.lines.Line2D at 0x7f78ba0a2b00>]"
            ]
          },
          "metadata": {
            "tags": []
          },
          "execution_count": 20
        },
        {
          "output_type": "display_data",
          "data": {
            "image/png": "[encoded data removed]",
            "text/plain": [
              "<Figure size 432x288 with 1 Axes>"
            ]
          },
          "metadata": {
            "tags": []
          }
        }
      ]
    },
    {
      "cell_type": "markdown",
      "metadata": {
        "id": "qvF57BG-npnS",
        "colab_type": "text"
      },
      "source": [
        "## Test"
      ]
    },
    {
      "cell_type": "code",
      "metadata": {
        "id": "9cWeiGpanpN8",
        "colab_type": "code",
        "colab": {}
      },
      "source": [
        "mmax = np.max(x_test)\n",
        "x_test = normalise(x_test,mmax)\n",
        "\n",
        "\n",
        "indexer = np.arange(params['window_size'])[None, :] + np.arange(len(x)-params['window_size']+1)[:, None]\n",
        "x_test = x_test[indexer]\n",
        "x_test = np.reshape(x_test, (x_test.shape[0],params['window_size'],1))\n"
      ],
      "execution_count": 0,
      "outputs": []
    },
    {
      "cell_type": "code",
      "metadata": {
        "id": "Lgoxn33yn-kz",
        "colab_type": "code",
        "colab": {}
      },
      "source": [
        "predict = model.predict(x_test, batch_size=128)\n"
      ],
      "execution_count": 0,
      "outputs": []
    },
    {
      "cell_type": "code",
      "metadata": {
        "id": "SiNOM2mdoOlB",
        "colab_type": "code",
        "colab": {
          "base_uri": "https://localhost:8080/",
          "height": 287
        },
        "outputId": "f4b9c6ef-ef58-4e14-8d66-bb657710f11b"
      },
      "source": [
        "predict = inversenormalise(predict,mmax)\n",
        "plt.plot(predict)\n",
        "plt.plot(y_test)"
      ],
      "execution_count": 37,
      "outputs": [
        {
          "output_type": "execute_result",
          "data": {
            "text/plain": [
              "[<matplotlib.lines.Line2D at 0x7f78b1a03550>]"
            ]
          },
          "metadata": {
            "tags": []
          },
          "execution_count": 37
        },
        {
          "output_type": "display_data",
          "data": {
            "image/png": "[encoded data removed]",
            "text/plain": [
              "<Figure size 432x288 with 1 Axes>"
            ]
          },
          "metadata": {
            "tags": []
          }
        }
      ]
    },
    {
      "cell_type": "code",
      "metadata": {
        "id": "ycm5auExpGvD",
        "colab_type": "code",
        "colab": {
          "base_uri": "https://localhost:8080/",
          "height": 287
        },
        "outputId": "7c60e44b-46d8-45c0-d6f0-f1a7e54cf231"
      },
      "source": [
        "plt.plot(predict[1500:3000])\n",
        "plt.plot(y_test[1500:3000])"
      ],
      "execution_count": 43,
      "outputs": [
        {
          "output_type": "execute_result",
          "data": {
            "text/plain": [
              "[<matplotlib.lines.Line2D at 0x7f78b18c0860>]"
            ]
          },
          "metadata": {
            "tags": []
          },
          "execution_count": 43
        },
        {
          "output_type": "display_data",
          "data": {
            "image/png": "[encoded data removed]",
            "text/plain": [
              "<Figure size 432x288 with 1 Axes>"
            ]
          },
          "metadata": {
            "tags": []
          }
        }
      ]
    },
    {
      "cell_type": "markdown",
      "metadata": {
        "id": "JkAso40sje6a",
        "colab_type": "text"
      },
      "source": [
        "## DAE"
      ]
    },
    {
      "cell_type": "code",
      "metadata": {
        "id": "Cv1fPIA3Flbg",
        "colab_type": "code",
        "colab": {
          "base_uri": "https://localhost:8080/",
          "height": 746
        },
        "outputId": "51e33072-76b6-4a6b-d699-c751ae829699"
      },
      "source": [
        "from keras.layers import Reshape, BatchNormalization, Activation, Flatten, Concatenate\n",
        "\n",
        "model = Sequential()\n",
        "\n",
        "# 1D Conv\n",
        "model.add(Conv1D(30, 10, activation='relu', input_shape=(params['window_size'],1), padding=\"same\", strides=1))\n",
        "model.add(Dropout(0.3))\n",
        "model.add(Conv1D(30, 8, activation='relu', padding=\"same\", strides=1))\n",
        "model.add(Dropout(0.3))\n",
        "model.add(Conv1D(40, 6, activation='relu', padding=\"same\", strides=1))\n",
        "model.add(Dropout(0.3))\n",
        "model.add(Conv1D(50, 5, activation='relu', padding=\"same\", strides=1))\n",
        "model.add(Dropout(0.3))\n",
        "model.add(Conv1D(50, 5, activation='relu', padding=\"same\", strides=1))\n",
        "model.add(Dropout(0.3))\n",
        "\n",
        "# Fully Connected Layers\n",
        "model.add(Flatten())\n",
        "model.add(Dense(1024, activation='relu'))\n",
        "model.add(Dropout(0.3))\n",
        "model.add(Dense(1, activation='linear'))\n",
        "\n",
        "model.compile(loss='mse', optimizer='adam')\n",
        "\n",
        "model.fit(x, y, epochs=20, batch_size=128, shuffle=True)"
      ],
      "execution_count": 51,
      "outputs": [
        {
          "output_type": "stream",
          "text": [
            "Epoch 1/20\n",
            "334307/334307 [==============================] - 21s 62us/step - loss: 1.7693e-04\n",
            "Epoch 2/20\n",
            "334307/334307 [==============================] - 20s 59us/step - loss: 1.4958e-04\n",
            "Epoch 3/20\n",
            "334307/334307 [==============================] - 19s 58us/step - loss: 1.4743e-04\n",
            "Epoch 4/20\n",
            "334307/334307 [==============================] - 19s 58us/step - loss: 1.4829e-04\n",
            "Epoch 5/20\n",
            "334307/334307 [==============================] - 19s 58us/step - loss: 1.5202e-04\n",
            "Epoch 6/20\n",
            "334307/334307 [==============================] - 20s 59us/step - loss: 1.4909e-04\n",
            "Epoch 7/20\n",
            "334307/334307 [==============================] - 19s 58us/step - loss: 1.5579e-04\n",
            "Epoch 8/20\n",
            "334307/334307 [==============================] - 19s 58us/step - loss: 1.5180e-04\n",
            "Epoch 9/20\n",
            "334307/334307 [==============================] - 19s 58us/step - loss: 1.5239e-04\n",
            "Epoch 10/20\n",
            "334307/334307 [==============================] - 20s 58us/step - loss: 1.4856e-04\n",
            "Epoch 11/20\n",
            "334307/334307 [==============================] - 20s 58us/step - loss: 1.4925e-04\n",
            "Epoch 12/20\n",
            "334307/334307 [==============================] - 19s 58us/step - loss: 1.4691e-04\n",
            "Epoch 13/20\n",
            "334307/334307 [==============================] - 20s 59us/step - loss: 1.4804e-04\n",
            "Epoch 14/20\n",
            "334307/334307 [==============================] - 19s 58us/step - loss: 1.4523e-04\n",
            "Epoch 15/20\n",
            "334307/334307 [==============================] - 19s 58us/step - loss: 1.4179e-04\n",
            "Epoch 16/20\n",
            "334307/334307 [==============================] - 19s 58us/step - loss: 1.4132e-04\n",
            "Epoch 17/20\n",
            "334307/334307 [==============================] - 19s 58us/step - loss: 1.3988e-04\n",
            "Epoch 18/20\n",
            "334307/334307 [==============================] - 19s 58us/step - loss: 1.6111e-04\n",
            "Epoch 19/20\n",
            "334307/334307 [==============================] - 19s 58us/step - loss: 1.4778e-04\n",
            "Epoch 20/20\n",
            "334307/334307 [==============================] - 19s 58us/step - loss: 1.5300e-04\n"
          ],
          "name": "stdout"
        },
        {
          "output_type": "execute_result",
          "data": {
            "text/plain": [
              "<keras.callbacks.History at 0x7f78b08a1240>"
            ]
          },
          "metadata": {
            "tags": []
          },
          "execution_count": 51
        }
      ]
    },
    {
      "cell_type": "code",
      "metadata": {
        "id": "MbArxlbZFlbj",
        "colab_type": "code",
        "colab": {}
      },
      "source": [
        "predict = model.predict(x, batch_size=128)\n"
      ],
      "execution_count": 0,
      "outputs": []
    },
    {
      "cell_type": "code",
      "metadata": {
        "id": "7MjF2LKiFlbm",
        "colab_type": "code",
        "colab": {
          "base_uri": "https://localhost:8080/",
          "height": 287
        },
        "outputId": "26b78fc2-d8b4-4a9b-da5d-954085389dc2"
      },
      "source": [
        "plt.plot(predict[74000:76000])\n",
        "plt.plot(y[74000:76000])"
      ],
      "execution_count": 53,
      "outputs": [
        {
          "output_type": "execute_result",
          "data": {
            "text/plain": [
              "[<matplotlib.lines.Line2D at 0x7f78b17d7048>]"
            ]
          },
          "metadata": {
            "tags": []
          },
          "execution_count": 53
        },
        {
          "output_type": "display_data",
          "data": {
            "image/png": "[encoded data removed]",
            "text/plain": [
              "<Figure size 432x288 with 1 Axes>"
            ]
          },
          "metadata": {
            "tags": []
          }
        }
      ]
    },
    {
      "cell_type": "code",
      "metadata": {
        "id": "a843y3TcFlbp",
        "colab_type": "code",
        "colab": {
          "base_uri": "https://localhost:8080/",
          "height": 287
        },
        "outputId": "adf6bedd-db67-450a-cf19-82942dfa0be5"
      },
      "source": [
        "plt.plot(predict[65000:74000])"
      ],
      "execution_count": 58,
      "outputs": [
        {
          "output_type": "execute_result",
          "data": {
            "text/plain": [
              "[<matplotlib.lines.Line2D at 0x7f786e8c3f60>]"
            ]
          },
          "metadata": {
            "tags": []
          },
          "execution_count": 58
        },
        {
          "output_type": "display_data",
          "data": {
            "image/png": "[encoded data removed]",
            "text/plain": [
              "<Figure size 432x288 with 1 Axes>"
            ]
          },
          "metadata": {
            "tags": []
          }
        }
      ]
    },
    {
      "cell_type": "code",
      "metadata": {
        "id": "uQeN4cIdFlbu",
        "colab_type": "code",
        "colab": {
          "base_uri": "https://localhost:8080/",
          "height": 287
        },
        "outputId": "9f2c0823-d53e-4fd7-909e-47d4ad0ed42f"
      },
      "source": [
        "plt.plot(y[74000:76000])"
      ],
      "execution_count": 55,
      "outputs": [
        {
          "output_type": "execute_result",
          "data": {
            "text/plain": [
              "[<matplotlib.lines.Line2D at 0x7f786e9c6358>]"
            ]
          },
          "metadata": {
            "tags": []
          },
          "execution_count": 55
        },
        {
          "output_type": "display_data",
          "data": {
            "image/png": "[encoded data removed]",
            "text/plain": [
              "<Figure size 432x288 with 1 Axes>"
            ]
          },
          "metadata": {
            "tags": []
          }
        }
      ]
    },
    {
      "cell_type": "code",
      "metadata": {
        "id": "rVhMRF86Flby",
        "colab_type": "code",
        "colab": {}
      },
      "source": [
        ""
      ],
      "execution_count": 0,
      "outputs": []
    },
    {
      "cell_type": "markdown",
      "metadata": {
        "id": "a_umGZgzwNHX",
        "colab_type": "text"
      },
      "source": [
        "## DresNet"
      ]
    },
    {
      "cell_type": "code",
      "metadata": {
        "id": "MPy1fSFXwOjJ",
        "colab_type": "code",
        "colab": {}
      },
      "source": [
        "from keras.models import load_model, Model, Input\n",
        "\n",
        "def residual_block(filters,xin,stride = 1,dilate = None):\n",
        "    resiual = xin\n",
        "    out = BatchNormalization()(xin)\n",
        "    out1 = Activation('relu')(out)\n",
        "    out = Conv1D(filters = filters,kernel_size = [3],dilation_rate = dilate,strides = [1],padding = 'same')(out1)\n",
        "    out = BatchNormalization()(out)\n",
        "    out = Activation('relu')(out)\n",
        "    out = Conv1D(filters = filters,kernel_size = [3],strides = [1],padding = 'same')(out)\n",
        "    out = BatchNormalization()(out)\n",
        "    out = Activation('relu')(out)\n",
        "    out = Conv1D(filters = filters,kernel_size = [1],dilation_rate = dilate,strides = [1],padding = 'same')(out)\n",
        "\n",
        "    if out1.shape[-1] != filters or stride == 1:\n",
        "        residual = Conv1D(filters = filters,kernel_size = [3],strides = [1],padding = 'same')(out1)\n",
        "        out = Concatenate()([residual,out])\n",
        "    return out\n",
        "\n",
        "xin = Input(shape = [params['window_size'],1])\n",
        "conv1 = Conv1D(filters = 30,kernel_size = [5],dilation_rate = [1],strides = [1],padding = 'same')(xin)\n",
        "bn = BatchNormalization()(conv1)\n",
        "out = Activation('relu')(bn)\n",
        "repetition = [3,4,6,3]\n",
        "filter_num = [30,40,50,50]\n",
        "dilations = [[1],[2],[3],[3]]\n",
        "for i in range(len(repetition)):\n",
        "    for j in range(repetition[i]):\n",
        "        out = residual_block(filters = filter_num[i],dilate = dilations[i],xin = out)\n",
        "\n",
        "out = Flatten()(out)\n",
        "out = Dense(units = 1)(out)\n",
        "model = Model(xin,out)\n",
        "model.compile(optimizer = 'adam',loss = 'mse')"
      ],
      "execution_count": 0,
      "outputs": []
    },
    {
      "cell_type": "code",
      "metadata": {
        "id": "GKF6qiR5x-BU",
        "colab_type": "code",
        "colab": {
          "base_uri": "https://localhost:8080/",
          "height": 390
        },
        "outputId": "ae0c863f-8960-4c76-92b5-3e4ca188891c"
      },
      "source": [
        "model.fit(x, y, epochs=10, batch_size=128, shuffle=True)\n"
      ],
      "execution_count": 72,
      "outputs": [
        {
          "output_type": "stream",
          "text": [
            "Epoch 1/10\n",
            "334307/334307 [==============================] - 239s 714us/step - loss: 0.0022\n",
            "Epoch 2/10\n",
            "334307/334307 [==============================] - 237s 709us/step - loss: 5.2069e-04\n",
            "Epoch 3/10\n",
            "334307/334307 [==============================] - 237s 710us/step - loss: 2.8162e-04\n",
            "Epoch 4/10\n",
            "334307/334307 [==============================] - 238s 711us/step - loss: 0.0864\n",
            "Epoch 5/10\n",
            "334307/334307 [==============================] - 240s 717us/step - loss: 0.0013\n",
            "Epoch 6/10\n",
            "334307/334307 [==============================] - 243s 726us/step - loss: 9.3079e-04\n",
            "Epoch 7/10\n",
            "334307/334307 [==============================] - 237s 710us/step - loss: 3.2789e-04\n",
            "Epoch 8/10\n",
            "334307/334307 [==============================] - 238s 710us/step - loss: 0.0197\n",
            "Epoch 9/10\n",
            "334307/334307 [==============================] - 238s 713us/step - loss: 4.6354e-04\n",
            "Epoch 10/10\n",
            "334307/334307 [==============================] - 244s 729us/step - loss: 3.4755e-04\n"
          ],
          "name": "stdout"
        },
        {
          "output_type": "execute_result",
          "data": {
            "text/plain": [
              "<keras.callbacks.History at 0x7f77ff26b208>"
            ]
          },
          "metadata": {
            "tags": []
          },
          "execution_count": 72
        }
      ]
    },
    {
      "cell_type": "code",
      "metadata": {
        "id": "AtNIRtwhyPfE",
        "colab_type": "code",
        "colab": {}
      },
      "source": [
        "predict = model.predict(x, batch_size=128)"
      ],
      "execution_count": 0,
      "outputs": []
    },
    {
      "cell_type": "code",
      "metadata": {
        "id": "kI5cd2rE8nGK",
        "colab_type": "code",
        "colab": {
          "base_uri": "https://localhost:8080/",
          "height": 287
        },
        "outputId": "a07b3e3a-2d85-48f9-9a2c-c0a92a2f7c54"
      },
      "source": [
        "plt.plot(predict[0:10000])\n",
        "plt.plot(y[0:10000])"
      ],
      "execution_count": 80,
      "outputs": [
        {
          "output_type": "execute_result",
          "data": {
            "text/plain": [
              "[<matplotlib.lines.Line2D at 0x7f77fe46e470>]"
            ]
          },
          "metadata": {
            "tags": []
          },
          "execution_count": 80
        },
        {
          "output_type": "display_data",
          "data": {
            "image/png": "[encoded data removed]",
            "text/plain": [
              "<Figure size 432x288 with 1 Axes>"
            ]
          },
          "metadata": {
            "tags": []
          }
        }
      ]
    },
    {
      "cell_type": "code",
      "metadata": {
        "id": "qjGSZnWJ81Yb",
        "colab_type": "code",
        "colab": {}
      },
      "source": [
        ""
      ],
      "execution_count": 0,
      "outputs": []
    }
  ]
}
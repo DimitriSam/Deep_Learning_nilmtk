{
 "cells": [
  {
   "cell_type": "code",
   "execution_count": 114,
   "metadata": {},
   "outputs": [],
   "source": [
    "from __future__ import print_function, division\n",
    "import time\n",
    "\n",
    "from matplotlib import rcParams\n",
    "import matplotlib.pyplot as plt\n",
    "\n",
    "from nilmtk import DataSet, TimeFrame, MeterGroup, HDFDataStore\n",
    "\n",
    "\n",
    "import random\n",
    "import sys\n",
    "import pandas as pd\n",
    "import numpy as np\n",
    "import h5py\n"
   ]
  },
  {
   "cell_type": "code",
   "execution_count": 124,
   "metadata": {},
   "outputs": [
    {
     "name": "stdout",
     "output_type": "stream",
     "text": [
      "2011-04-18 09:22:09-04:00    225.283340\n",
      "2011-04-18 09:22:12-04:00    222.350006\n",
      "2011-04-18 09:22:15-04:00    222.853333\n",
      "2011-04-18 09:22:18-04:00    222.706665\n",
      "2011-04-18 09:22:21-04:00    222.646667\n",
      "2011-04-18 09:22:24-04:00    222.463333\n",
      "2011-04-18 09:22:27-04:00    222.236664\n",
      "2011-04-18 09:22:30-04:00    222.613327\n",
      "2011-04-18 09:22:33-04:00    222.559998\n",
      "2011-04-18 09:22:36-04:00    223.436661\n",
      "2011-04-18 09:22:39-04:00    226.320007\n",
      "2011-04-18 09:22:42-04:00    223.893341\n",
      "2011-04-18 09:22:45-04:00    223.526672\n",
      "2011-04-18 09:22:48-04:00    223.873337\n",
      "2011-04-18 09:22:51-04:00    225.503326\n",
      "2011-04-18 09:22:54-04:00    222.669998\n",
      "2011-04-18 09:22:57-04:00    225.720001\n",
      "2011-04-18 09:23:00-04:00    226.593338\n",
      "2011-04-18 09:23:03-04:00    226.106659\n",
      "2011-04-18 09:23:06-04:00    225.253326\n",
      "2011-04-18 09:23:09-04:00    225.866669\n",
      "2011-04-18 09:23:12-04:00    225.366669\n",
      "2011-04-18 09:23:15-04:00    226.029999\n",
      "2011-04-18 09:23:18-04:00    226.069992\n",
      "2011-04-18 09:23:21-04:00    225.449997\n",
      "2011-04-18 09:23:24-04:00    226.743332\n",
      "2011-04-18 09:23:27-04:00    225.203339\n",
      "2011-04-18 09:23:30-04:00    227.270004\n",
      "2011-04-18 09:23:33-04:00    226.803329\n",
      "2011-04-18 09:23:36-04:00    226.323334\n",
      "                                ...    \n",
      "2011-04-29 23:58:30-04:00    132.180008\n",
      "2011-04-29 23:58:33-04:00    129.206665\n",
      "2011-04-29 23:58:36-04:00    131.649994\n",
      "2011-04-29 23:58:39-04:00    131.063324\n",
      "2011-04-29 23:58:42-04:00    130.606674\n",
      "2011-04-29 23:58:45-04:00    131.326675\n",
      "2011-04-29 23:58:48-04:00    129.426666\n",
      "2011-04-29 23:58:51-04:00    132.243332\n",
      "2011-04-29 23:58:54-04:00    130.250000\n",
      "2011-04-29 23:58:57-04:00    130.770004\n",
      "2011-04-29 23:59:00-04:00    131.233337\n",
      "2011-04-29 23:59:03-04:00    130.869995\n",
      "2011-04-29 23:59:06-04:00    131.483322\n",
      "2011-04-29 23:59:09-04:00    130.613327\n",
      "2011-04-29 23:59:12-04:00    130.850006\n",
      "2011-04-29 23:59:15-04:00    132.339996\n",
      "2011-04-29 23:59:18-04:00    129.753326\n",
      "2011-04-29 23:59:21-04:00    131.510010\n",
      "2011-04-29 23:59:24-04:00    130.426666\n",
      "2011-04-29 23:59:27-04:00    131.149994\n",
      "2011-04-29 23:59:30-04:00    130.243332\n",
      "2011-04-29 23:59:33-04:00    130.696671\n",
      "2011-04-29 23:59:36-04:00    131.800003\n",
      "2011-04-29 23:59:39-04:00    131.486664\n",
      "2011-04-29 23:59:42-04:00    131.356674\n",
      "2011-04-29 23:59:45-04:00    131.733337\n",
      "2011-04-29 23:59:48-04:00    131.070007\n",
      "2011-04-29 23:59:51-04:00    131.003342\n",
      "2011-04-29 23:59:54-04:00    131.176666\n",
      "2011-04-29 23:59:57-04:00    129.186661\n",
      "Name: (power, apparent), Length: 334357, dtype: float32\n"
     ]
    }
   ],
   "source": [
    "# =====Define paramaters======\n",
    "info = {'filename': 'C:/Users/dimit/Desktop/Msc Business Analytics/Dissertation/My_code/redd.h5',\n",
    "        'meter_label': 'fridge',  # [\"kettle\" , \"microwave\" , \"dishwasher\" , \"fridge\" , \"washing_machine\"]\n",
    "        'train_building': 1,\n",
    "        'test_building': 1,\n",
    "        'sample_period': 3\n",
    "       }\n",
    "\n",
    "# Parameters\n",
    "params = {'batch_size': 512,\n",
    "          'window_size': 50,\n",
    "          'model_name': 'DAE',\n",
    "          'shuffle': True}\n",
    "\n",
    "\n",
    "\n",
    "#test_window = {1: ('30-4-2011', '5-5-2011')}\n",
    "train_window = {1: (None, '30-4-2011')}\n",
    "test_window = {1: (None, None)}\n",
    "\n",
    "#Load datasets\n",
    "train = DataSet(filename)\n",
    "test = DataSet(filename)\n",
    "\n",
    "def load_dataset(train_window,test_window, filename, meter_label, train_building, test_building, **load_kwargs):\n",
    "    \n",
    "        #Load datasets\n",
    "    train = DataSet(filename)\n",
    "    test = DataSet(filename)\n",
    "\n",
    "    test.set_window(*test_window[test_building])\n",
    "    train.set_window(*train_window[test_building])\n",
    "    \n",
    "    x = train.buildings[train_building].elec.mains().all_meters()[0]\n",
    "    x = x.power_series_all_data(**load_kwargs)\n",
    "    print(x)\n",
    "    \n",
    "    y = train.buildings[train_building].elec.submeters()[meter_label]\n",
    "    y = y.power_series_all_data(**load_kwargs)\n",
    "    \n",
    "    x.fillna(0, inplace=True)\n",
    "    y.fillna(0, inplace=True)\n",
    "    ix = x.index.intersection(y.index)\n",
    "    x = np.array(x[ix])\n",
    "    y = np.array(y[ix])\n",
    "\n",
    "    return x ,y \n",
    "x , y =load_dataset(train_window,test_window, **info)  \n",
    "pl = x\n",
    "x = np.reshape(x, (x.shape[0],1,1))"
   ]
  },
  {
   "cell_type": "code",
   "execution_count": 133,
   "metadata": {},
   "outputs": [
    {
     "data": {
      "text/plain": [
       "[<matplotlib.lines.Line2D at 0x2a2ec36e8d0>]"
      ]
     },
     "execution_count": 133,
     "metadata": {},
     "output_type": "execute_result"
    },
    {
     "data": {
      "image/png": "[encoded data removed]",
      "text/plain": [
       "<Figure size 432x288 with 1 Axes>"
      ]
     },
     "metadata": {
      "needs_background": "light"
     },
     "output_type": "display_data"
    }
   ],
   "source": [
    "plt.plot(pl[0:10000])\n",
    "#plt.plot(y)"
   ]
  },
  {
   "cell_type": "markdown",
   "metadata": {},
   "source": [
    "# GRU"
   ]
  },
  {
   "cell_type": "code",
   "execution_count": 80,
   "metadata": {
    "scrolled": true
   },
   "outputs": [
    {
     "name": "stdout",
     "output_type": "stream",
     "text": [
      "Epoch 1/15\n",
      "334356/334356 [==============================] - 30s 90us/step - loss: 4359.5670\n",
      "Epoch 2/15\n",
      "334356/334356 [==============================] - 31s 94us/step - loss: 3822.3133\n",
      "Epoch 3/15\n",
      "334356/334356 [==============================] - 30s 89us/step - loss: 3479.1991\n",
      "Epoch 4/15\n",
      "334356/334356 [==============================] - 29s 87us/step - loss: 3258.3688\n",
      "Epoch 5/15\n",
      "334356/334356 [==============================] - 30s 89us/step - loss: 2973.7115\n",
      "Epoch 6/15\n",
      "334356/334356 [==============================] - 30s 90us/step - loss: 2809.5209\n",
      "Epoch 7/15\n",
      "334356/334356 [==============================] - 31s 93us/step - loss: 2770.1877\n",
      "Epoch 8/15\n",
      "334356/334356 [==============================] - 30s 89us/step - loss: 2754.6918\n",
      "Epoch 9/15\n",
      "334356/334356 [==============================] - 31s 93us/step - loss: 2754.0123\n",
      "Epoch 10/15\n",
      "334356/334356 [==============================] - 31s 94us/step - loss: 2736.6973\n",
      "Epoch 11/15\n",
      "334356/334356 [==============================] - 33s 98us/step - loss: 2729.92150s - loss: 2\n",
      "Epoch 12/15\n",
      "334356/334356 [==============================] - 33s 97us/step - loss: 2721.4986\n",
      "Epoch 13/15\n",
      "334356/334356 [==============================] - 32s 96us/step - loss: 2721.5007\n",
      "Epoch 14/15\n",
      "334356/334356 [==============================] - 32s 96us/step - loss: 2721.0215\n",
      "Epoch 15/15\n",
      "334356/334356 [==============================] - 33s 99us/step - loss: 2716.6579\n"
     ]
    },
    {
     "data": {
      "text/plain": [
       "<keras.callbacks.History at 0x2a2746fbf28>"
      ]
     },
     "execution_count": 80,
     "metadata": {},
     "output_type": "execute_result"
    }
   ],
   "source": [
    "import random\n",
    "import sys\n",
    "import pandas as pd\n",
    "import numpy as np\n",
    "import h5py\n",
    "\n",
    "from keras.models import load_model\n",
    "from keras.models import Sequential\n",
    "from keras.layers import Dense, Conv1D, GRU, Bidirectional, Dropout, Conv2D,LSTM\n",
    "\n",
    "\n",
    "model = Sequential()\n",
    "\n",
    "# 1D Conv\n",
    "model.add(Conv1D(16, 4, activation=\"relu\", padding=\"same\", strides=1, input_shape=(1,1)))\n",
    "model.add(Conv1D(8, 4, activation=\"relu\", padding=\"same\", strides=1))\n",
    "\n",
    "# Bi-directional LSTMs\n",
    "model.add(Bidirectional(GRU(64, return_sequences=True, stateful=False), merge_mode='concat'))\n",
    "model.add(Bidirectional(GRU(128, return_sequences=False, stateful=False), merge_mode='concat'))\n",
    "\n",
    "# Fully Connected Layers\n",
    "model.add(Dense(64, activation='relu'))\n",
    "model.add(Dense(1, activation='linear'))\n",
    "\n",
    "model.compile(loss='mse', optimizer='adam')\n",
    "\n",
    "model.fit(x, y, epochs=15, batch_size=128, shuffle=True)"
   ]
  },
  {
   "cell_type": "code",
   "execution_count": 81,
   "metadata": {},
   "outputs": [],
   "source": [
    "predict = model.predict(x, batch_size=128)\n"
   ]
  },
  {
   "cell_type": "code",
   "execution_count": 93,
   "metadata": {
    "scrolled": true
   },
   "outputs": [
    {
     "data": {
      "text/plain": [
       "[<matplotlib.lines.Line2D at 0x2a2140a32b0>]"
      ]
     },
     "execution_count": 93,
     "metadata": {},
     "output_type": "execute_result"
    },
    {
     "data": {
      "image/png": "[encoded data removed]",
      "text/plain": [
       "<Figure size 432x288 with 1 Axes>"
      ]
     },
     "metadata": {
      "needs_background": "light"
     },
     "output_type": "display_data"
    }
   ],
   "source": [
    "plt.plot(predict[65000:66000])\n",
    "plt.plot(y[65000:66000])"
   ]
  },
  {
   "cell_type": "markdown",
   "metadata": {},
   "source": [
    "# DAE"
   ]
  },
  {
   "cell_type": "code",
   "execution_count": 96,
   "metadata": {},
   "outputs": [
    {
     "name": "stdout",
     "output_type": "stream",
     "text": [
      "Epoch 1/15\n",
      "334356/334356 [==============================] - 30s 89us/step - loss: 6179.0708\n",
      "Epoch 2/15\n",
      "334356/334356 [==============================] - 32s 97us/step - loss: 4477.7987\n",
      "Epoch 3/15\n",
      "334356/334356 [==============================] - 32s 96us/step - loss: 4084.7266\n",
      "Epoch 4/15\n",
      "334356/334356 [==============================] - 33s 98us/step - loss: 3913.3380\n",
      "Epoch 5/15\n",
      "334356/334356 [==============================] - 33s 98us/step - loss: 3759.4368\n",
      "Epoch 6/15\n",
      "334356/334356 [==============================] - 33s 99us/step - loss: 3559.8655\n",
      "Epoch 7/15\n",
      "334356/334356 [==============================] - 34s 100us/step - loss: 3325.3428\n",
      "Epoch 8/15\n",
      "334356/334356 [==============================] - 34s 103us/step - loss: 3279.7547\n",
      "Epoch 9/15\n",
      "334356/334356 [==============================] - 34s 102us/step - loss: 3213.8576\n",
      "Epoch 10/15\n",
      "334356/334356 [==============================] - 35s 105us/step - loss: 3198.8649\n",
      "Epoch 11/15\n",
      "334356/334356 [==============================] - 36s 107us/step - loss: 3182.7315\n",
      "Epoch 12/15\n",
      "334356/334356 [==============================] - 36s 107us/step - loss: 3201.5851\n",
      "Epoch 13/15\n",
      "334356/334356 [==============================] - 36s 106us/step - loss: 3141.6459\n",
      "Epoch 14/15\n",
      "334356/334356 [==============================] - 36s 106us/step - loss: 3165.1630\n",
      "Epoch 15/15\n",
      "334356/334356 [==============================] - 36s 107us/step - loss: 3164.3094\n"
     ]
    },
    {
     "data": {
      "text/plain": [
       "<keras.callbacks.History at 0x2a214556cf8>"
      ]
     },
     "execution_count": 96,
     "metadata": {},
     "output_type": "execute_result"
    }
   ],
   "source": [
    "from keras.layers import Reshape, BatchNormalization, Activation, Flatten, Concatenate\n",
    "\n",
    "model = Sequential()\n",
    "\n",
    "# 1D Conv\n",
    "model.add(Conv1D(30, 10, activation='relu', input_shape=(1,1), padding=\"same\", strides=1))\n",
    "model.add(Dropout(0.2))\n",
    "model.add(Conv1D(30, 8, activation='relu', padding=\"same\", strides=1))\n",
    "model.add(Dropout(0.2))\n",
    "model.add(Conv1D(40, 6, activation='relu', padding=\"same\", strides=1))\n",
    "model.add(Dropout(0.2))\n",
    "model.add(Conv1D(50, 5, activation='relu', padding=\"same\", strides=1))\n",
    "model.add(Dropout(0.2))\n",
    "model.add(Conv1D(50, 5, activation='relu', padding=\"same\", strides=1))\n",
    "model.add(Dropout(0.2))\n",
    "# Fully Connected Layers\n",
    "model.add(Flatten())\n",
    "model.add(Dense(1024, activation='relu'))\n",
    "model.add(Dropout(0.2))\n",
    "model.add(Dense(1, activation='linear'))\n",
    "\n",
    "model.compile(loss='mse', optimizer='adam')\n",
    "\n",
    "model.fit(x, y, epochs=15, batch_size=128, shuffle=True)"
   ]
  },
  {
   "cell_type": "code",
   "execution_count": 97,
   "metadata": {},
   "outputs": [],
   "source": [
    "predict = model.predict(x, batch_size=128)\n"
   ]
  },
  {
   "cell_type": "code",
   "execution_count": 101,
   "metadata": {},
   "outputs": [
    {
     "data": {
      "text/plain": [
       "[<matplotlib.lines.Line2D at 0x2a2146c9e80>]"
      ]
     },
     "execution_count": 101,
     "metadata": {},
     "output_type": "execute_result"
    },
    {
     "data": {
      "image/png": "[encoded data removed]",
      "text/plain": [
       "<Figure size 432x288 with 1 Axes>"
      ]
     },
     "metadata": {
      "needs_background": "light"
     },
     "output_type": "display_data"
    }
   ],
   "source": [
    "plt.plot(predict[74000:76000])\n",
    "plt.plot(y[74000:76000])"
   ]
  },
  {
   "cell_type": "code",
   "execution_count": 104,
   "metadata": {},
   "outputs": [
    {
     "data": {
      "text/plain": [
       "[<matplotlib.lines.Line2D at 0x2a215081208>]"
      ]
     },
     "execution_count": 104,
     "metadata": {},
     "output_type": "execute_result"
    },
    {
     "data": {
      "image/png": "[encoded data removed]",
      "text/plain": [
       "<Figure size 432x288 with 1 Axes>"
      ]
     },
     "metadata": {
      "needs_background": "light"
     },
     "output_type": "display_data"
    }
   ],
   "source": [
    "plt.plot(predict)\n",
    "plt.plot(y)"
   ]
  },
  {
   "cell_type": "code",
   "execution_count": 103,
   "metadata": {},
   "outputs": [
    {
     "data": {
      "text/plain": [
       "[<matplotlib.lines.Line2D at 0x2a2150ce518>]"
      ]
     },
     "execution_count": 103,
     "metadata": {},
     "output_type": "execute_result"
    },
    {
     "data": {
      "image/png": "[encoded data removed]",
      "text/plain": [
       "<Figure size 432x288 with 1 Axes>"
      ]
     },
     "metadata": {
      "needs_background": "light"
     },
     "output_type": "display_data"
    }
   ],
   "source": [
    "plt.plot(y[74000:76000])"
   ]
  },
  {
   "cell_type": "markdown",
   "metadata": {},
   "source": [
    "# LSTM\n"
   ]
  },
  {
   "cell_type": "code",
   "execution_count": 108,
   "metadata": {},
   "outputs": [
    {
     "name": "stdout",
     "output_type": "stream",
     "text": [
      "Epoch 1/15\n",
      "334356/334356 [==============================] - 94s 280us/step - loss: 5167.1996\n",
      "Epoch 2/15\n",
      "334356/334356 [==============================] - 91s 271us/step - loss: 4331.2322\n",
      "Epoch 3/15\n",
      "334356/334356 [==============================] - 89s 265us/step - loss: 4316.6368\n",
      "Epoch 4/15\n",
      "334356/334356 [==============================] - 92s 275us/step - loss: 4197.5180\n",
      "Epoch 5/15\n",
      "334356/334356 [==============================] - 91s 273us/step - loss: 4110.3541\n",
      "Epoch 6/15\n",
      "334356/334356 [==============================] - 89s 266us/step - loss: 4297.4865\n",
      "Epoch 7/15\n",
      "334356/334356 [==============================] - 88s 264us/step - loss: 4207.8171\n",
      "Epoch 8/15\n",
      "334356/334356 [==============================] - 92s 275us/step - loss: 4180.7523\n",
      "Epoch 9/15\n",
      "334356/334356 [==============================] - 94s 280us/step - loss: 3812.2330\n",
      "Epoch 10/15\n",
      "334356/334356 [==============================] - 91s 273us/step - loss: 3929.1781\n",
      "Epoch 11/15\n",
      "334356/334356 [==============================] - 88s 263us/step - loss: 4200.0038\n",
      "Epoch 12/15\n",
      "334356/334356 [==============================] - 96s 286us/step - loss: 4291.5255\n",
      "Epoch 13/15\n",
      "334356/334356 [==============================] - 93s 278us/step - loss: 4170.6744\n",
      "Epoch 14/15\n",
      "334356/334356 [==============================] - 87s 261us/step - loss: 4205.2655\n",
      "Epoch 15/15\n",
      "334356/334356 [==============================] - 94s 282us/step - loss: 4182.1433\n"
     ]
    },
    {
     "data": {
      "text/plain": [
       "<keras.callbacks.History at 0x2a2c686d518>"
      ]
     },
     "execution_count": 108,
     "metadata": {},
     "output_type": "execute_result"
    }
   ],
   "source": [
    "from keras.layers import Dense, Conv1D, GRU, LSTM, Bidirectional, Dropout,Conv2D\n",
    "from keras.layers import Reshape, BatchNormalization, Activation, Flatten, Concatenate\n",
    "\n",
    "model = Sequential()\n",
    "\n",
    "# 1D Conv\n",
    "model.add(Conv1D(16, 4, activation=\"linear\", input_shape=(1,1), padding=\"same\", strides=1))\n",
    "\n",
    "#Bi-directional LSTMs\n",
    "model.add(Bidirectional(LSTM(128, return_sequences=True, stateful=False), merge_mode='concat'))\n",
    "model.add(Bidirectional(LSTM(256, return_sequences=False, stateful=False), merge_mode='concat'))\n",
    "\n",
    "# Fully Connected Layers\n",
    "model.add(Dense(128, activation='tanh'))\n",
    "model.add(Dense(1, activation='linear'))\n",
    "\n",
    "model.compile(loss='mse', optimizer='adam')\n",
    "#plot_model(model, to_file='model.png', show_shapes=True)\n",
    "\n",
    "\n",
    "model.fit(x, y, epochs=15, batch_size=128, shuffle=True)"
   ]
  },
  {
   "cell_type": "code",
   "execution_count": 109,
   "metadata": {},
   "outputs": [],
   "source": [
    "predict = model.predict(x, batch_size=128)"
   ]
  },
  {
   "cell_type": "code",
   "execution_count": 110,
   "metadata": {},
   "outputs": [
    {
     "data": {
      "text/plain": [
       "[<matplotlib.lines.Line2D at 0x2a2447c67b8>]"
      ]
     },
     "execution_count": 110,
     "metadata": {},
     "output_type": "execute_result"
    },
    {
     "data": {
      "image/png": "[encoded data removed]",
      "text/plain": [
       "<Figure size 432x288 with 1 Axes>"
      ]
     },
     "metadata": {
      "needs_background": "light"
     },
     "output_type": "display_data"
    }
   ],
   "source": [
    "plt.plot(predict[74000:76000])\n",
    "plt.plot(y[74000:76000])"
   ]
  },
  {
   "cell_type": "code",
   "execution_count": 111,
   "metadata": {},
   "outputs": [
    {
     "data": {
      "text/plain": [
       "[<matplotlib.lines.Line2D at 0x2a2ccc94c88>]"
      ]
     },
     "execution_count": 111,
     "metadata": {},
     "output_type": "execute_result"
    },
    {
     "data": {
      "image/png": "[encoded data removed]",
      "text/plain": [
       "<Figure size 432x288 with 1 Axes>"
      ]
     },
     "metadata": {
      "needs_background": "light"
     },
     "output_type": "display_data"
    }
   ],
   "source": [
    "plt.plot(predict)\n",
    "plt.plot(y)"
   ]
  },
  {
   "cell_type": "code",
   "execution_count": null,
   "metadata": {},
   "outputs": [],
   "source": []
  }
 ],
 "metadata": {
  "kernelspec": {
   "display_name": "Python 3",
   "language": "python",
   "name": "python3"
  },
  "language_info": {
   "codemirror_mode": {
    "name": "ipython",
    "version": 3
   },
   "file_extension": ".py",
   "mimetype": "text/x-python",
   "name": "python",
   "nbconvert_exporter": "python",
   "pygments_lexer": "ipython3",
   "version": "3.6.7"
  }
 },
 "nbformat": 4,
 "nbformat_minor": 2
}

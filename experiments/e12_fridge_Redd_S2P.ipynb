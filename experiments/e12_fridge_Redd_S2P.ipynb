{
 "cells": [
  {
   "cell_type": "code",
   "execution_count": 1,
   "metadata": {
    "colab": {
     "base_uri": "https://localhost:8080/",
     "height": 35
    },
    "colab_type": "code",
    "id": "nheyVgwbFlbA",
    "outputId": "97bc0836-8122-4259-b63e-87a8a948a66d"
   },
   "outputs": [
    {
     "data": {
      "text/plain": [
       "'\\nP2P\\n\\nwith normalisation\\n'"
      ]
     },
     "execution_count": 1,
     "metadata": {
      "tags": []
     },
     "output_type": "execute_result"
    }
   ],
   "source": [
    "'''\n",
    "P2P\n",
    "\n",
    "with normalisation\n",
    "no dropout\n",
    "'''"
   ]
  },
  {
   "cell_type": "code",
   "execution_count": 1,
   "metadata": {
    "colab": {
     "base_uri": "https://localhost:8080/",
     "height": 126
    },
    "colab_type": "code",
    "id": "eaYRKT2BFpbM",
    "outputId": "668aae64-b918-4d14-9cac-b7c36fe8f408"
   },
   "outputs": [
    {
     "name": "stdout",
     "output_type": "stream",
     "text": [
      "Go to this URL in a browser: https://accounts.google.com/o/oauth2/auth?client_id=947318989803-6bn6qk8qdgf4n4g3pfee6491hc0brc4i.apps.googleusercontent.com&redirect_uri=urn%3Aietf%3Awg%3Aoauth%3A2.0%3Aoob&scope=email%20https%3A%2F%2Fwww.googleapis.com%2Fauth%2Fdocs.test%20https%3A%2F%2Fwww.googleapis.com%2Fauth%2Fdrive%20https%3A%2F%2Fwww.googleapis.com%2Fauth%2Fdrive.photos.readonly%20https%3A%2F%2Fwww.googleapis.com%2Fauth%2Fpeopleapi.readonly&response_type=code\n",
      "\n",
      "Enter your authorization code:\n",
      "··········\n",
      "Mounted at /content/drive\n"
     ]
    }
   ],
   "source": [
    "from google.colab import drive\n",
    "drive.mount('/content/drive')\n",
    "import sys\n",
    "sys.path.insert(0,'drive/My Drive/Dissertation')"
   ]
  },
  {
   "cell_type": "code",
   "execution_count": 2,
   "metadata": {
    "colab": {
     "base_uri": "https://localhost:8080/",
     "height": 1000
    },
    "colab_type": "code",
    "id": "frkTSzkzHC9C",
    "outputId": "4ef28cdd-9b05-414e-d385-168324fefcc9"
   },
   "outputs": [
    {
     "name": "stdout",
     "output_type": "stream",
     "text": [
      "Collecting git+git://github.com/nilmtk/nilmtk.git\n",
      "  Cloning git://github.com/nilmtk/nilmtk.git to /tmp/pip-req-build-uix_1h7i\n",
      "  Running command git clone -q git://github.com/nilmtk/nilmtk.git /tmp/pip-req-build-uix_1h7i\n",
      "Requirement already satisfied: future in /usr/local/lib/python3.6/dist-packages (from nilmtk==0.3.0.dev0+git.2f15ab7) (0.16.0)\n",
      "Requirement already satisfied: six in /usr/local/lib/python3.6/dist-packages (from nilmtk==0.3.0.dev0+git.2f15ab7) (1.12.0)\n",
      "Collecting psycopg2-binary (from nilmtk==0.3.0.dev0+git.2f15ab7)\n",
      "\u001b[?25l  Downloading https://files.pythonhosted.org/packages/b1/35/75c9c2d9cfc073ab6c42b2d8e91ff58c9b99f4ed7ed56b36647642e6080e/psycopg2_binary-2.8.3-cp36-cp36m-manylinux1_x86_64.whl (2.9MB)\n",
      "\u001b[K     |████████████████████████████████| 2.9MB 45.0MB/s \n",
      "\u001b[?25hRequirement already satisfied: pandas==0.24.2 in /usr/local/lib/python3.6/dist-packages (from nilmtk==0.3.0.dev0+git.2f15ab7) (0.24.2)\n",
      "Collecting networkx==2.1 (from nilmtk==0.3.0.dev0+git.2f15ab7)\n",
      "\u001b[?25l  Downloading https://files.pythonhosted.org/packages/11/42/f951cc6838a4dff6ce57211c4d7f8444809ccbe2134179950301e5c4c83c/networkx-2.1.zip (1.6MB)\n",
      "\u001b[K     |████████████████████████████████| 1.6MB 54.9MB/s \n",
      "\u001b[?25hRequirement already satisfied: scipy in /usr/local/lib/python3.6/dist-packages (from nilmtk==0.3.0.dev0+git.2f15ab7) (1.3.0)\n",
      "Requirement already satisfied: tables in /usr/local/lib/python3.6/dist-packages (from nilmtk==0.3.0.dev0+git.2f15ab7) (3.4.4)\n",
      "Requirement already satisfied: scikit-learn>=0.21.2 in /usr/local/lib/python3.6/dist-packages (from nilmtk==0.3.0.dev0+git.2f15ab7) (0.21.2)\n",
      "Collecting hmmlearn>=0.2.1 (from nilmtk==0.3.0.dev0+git.2f15ab7)\n",
      "\u001b[?25l  Downloading https://files.pythonhosted.org/packages/d7/c5/91b43156b193d180ed94069269bcf88d3c7c6e54514a8482050fa9995e10/hmmlearn-0.2.2.tar.gz (146kB)\n",
      "\u001b[K     |████████████████████████████████| 153kB 42.7MB/s \n",
      "\u001b[?25hRequirement already satisfied: pyyaml in /usr/local/lib/python3.6/dist-packages (from nilmtk==0.3.0.dev0+git.2f15ab7) (3.13)\n",
      "Requirement already satisfied: matplotlib>=2.2.0 in /usr/local/lib/python3.6/dist-packages (from nilmtk==0.3.0.dev0+git.2f15ab7) (3.0.3)\n",
      "Requirement already satisfied: jupyter in /usr/local/lib/python3.6/dist-packages (from nilmtk==0.3.0.dev0+git.2f15ab7) (1.0.0)\n",
      "Requirement already satisfied: numpy>=1.12.0 in /usr/local/lib/python3.6/dist-packages (from pandas==0.24.2->nilmtk==0.3.0.dev0+git.2f15ab7) (1.16.4)\n",
      "Requirement already satisfied: pytz>=2011k in /usr/local/lib/python3.6/dist-packages (from pandas==0.24.2->nilmtk==0.3.0.dev0+git.2f15ab7) (2018.9)\n",
      "Requirement already satisfied: python-dateutil>=2.5.0 in /usr/local/lib/python3.6/dist-packages (from pandas==0.24.2->nilmtk==0.3.0.dev0+git.2f15ab7) (2.5.3)\n",
      "Requirement already satisfied: decorator>=4.1.0 in /usr/local/lib/python3.6/dist-packages (from networkx==2.1->nilmtk==0.3.0.dev0+git.2f15ab7) (4.4.0)\n",
      "Requirement already satisfied: numexpr>=2.5.2 in /usr/local/lib/python3.6/dist-packages (from tables->nilmtk==0.3.0.dev0+git.2f15ab7) (2.6.9)\n",
      "Requirement already satisfied: joblib>=0.11 in /usr/local/lib/python3.6/dist-packages (from scikit-learn>=0.21.2->nilmtk==0.3.0.dev0+git.2f15ab7) (0.13.2)\n",
      "Requirement already satisfied: cycler>=0.10 in /usr/local/lib/python3.6/dist-packages (from matplotlib>=2.2.0->nilmtk==0.3.0.dev0+git.2f15ab7) (0.10.0)\n",
      "Requirement already satisfied: pyparsing!=2.0.4,!=2.1.2,!=2.1.6,>=2.0.1 in /usr/local/lib/python3.6/dist-packages (from matplotlib>=2.2.0->nilmtk==0.3.0.dev0+git.2f15ab7) (2.4.0)\n",
      "Requirement already satisfied: kiwisolver>=1.0.1 in /usr/local/lib/python3.6/dist-packages (from matplotlib>=2.2.0->nilmtk==0.3.0.dev0+git.2f15ab7) (1.1.0)\n",
      "Requirement already satisfied: ipykernel in /usr/local/lib/python3.6/dist-packages (from jupyter->nilmtk==0.3.0.dev0+git.2f15ab7) (4.6.1)\n",
      "Requirement already satisfied: jupyter-console in /usr/local/lib/python3.6/dist-packages (from jupyter->nilmtk==0.3.0.dev0+git.2f15ab7) (6.0.0)\n",
      "Requirement already satisfied: ipywidgets in /usr/local/lib/python3.6/dist-packages (from jupyter->nilmtk==0.3.0.dev0+git.2f15ab7) (7.4.2)\n",
      "Requirement already satisfied: notebook in /usr/local/lib/python3.6/dist-packages (from jupyter->nilmtk==0.3.0.dev0+git.2f15ab7) (5.2.2)\n",
      "Requirement already satisfied: nbconvert in /usr/local/lib/python3.6/dist-packages (from jupyter->nilmtk==0.3.0.dev0+git.2f15ab7) (5.5.0)\n",
      "Requirement already satisfied: qtconsole in /usr/local/lib/python3.6/dist-packages (from jupyter->nilmtk==0.3.0.dev0+git.2f15ab7) (4.5.1)\n",
      "Requirement already satisfied: setuptools in /usr/local/lib/python3.6/dist-packages (from kiwisolver>=1.0.1->matplotlib>=2.2.0->nilmtk==0.3.0.dev0+git.2f15ab7) (41.0.1)\n",
      "Requirement already satisfied: tornado>=4.0 in /usr/local/lib/python3.6/dist-packages (from ipykernel->jupyter->nilmtk==0.3.0.dev0+git.2f15ab7) (4.5.3)\n",
      "Requirement already satisfied: traitlets>=4.1.0 in /usr/local/lib/python3.6/dist-packages (from ipykernel->jupyter->nilmtk==0.3.0.dev0+git.2f15ab7) (4.3.2)\n",
      "Requirement already satisfied: jupyter-client in /usr/local/lib/python3.6/dist-packages (from ipykernel->jupyter->nilmtk==0.3.0.dev0+git.2f15ab7) (5.2.4)\n",
      "Requirement already satisfied: ipython>=4.0.0 in /usr/local/lib/python3.6/dist-packages (from ipykernel->jupyter->nilmtk==0.3.0.dev0+git.2f15ab7) (5.5.0)\n",
      "Requirement already satisfied: pygments in /usr/local/lib/python3.6/dist-packages (from jupyter-console->jupyter->nilmtk==0.3.0.dev0+git.2f15ab7) (2.1.3)\n",
      "Collecting prompt-toolkit<2.1.0,>=2.0.0 (from jupyter-console->jupyter->nilmtk==0.3.0.dev0+git.2f15ab7)\n",
      "\u001b[?25l  Downloading https://files.pythonhosted.org/packages/f7/a7/9b1dd14ef45345f186ef69d175bdd2491c40ab1dfa4b2b3e4352df719ed7/prompt_toolkit-2.0.9-py3-none-any.whl (337kB)\n",
      "\u001b[K     |████████████████████████████████| 337kB 28.1MB/s \n",
      "\u001b[?25hRequirement already satisfied: widgetsnbextension~=3.4.0 in /usr/local/lib/python3.6/dist-packages (from ipywidgets->jupyter->nilmtk==0.3.0.dev0+git.2f15ab7) (3.4.2)\n",
      "Requirement already satisfied: nbformat>=4.2.0 in /usr/local/lib/python3.6/dist-packages (from ipywidgets->jupyter->nilmtk==0.3.0.dev0+git.2f15ab7) (4.4.0)\n",
      "Requirement already satisfied: ipython-genutils in /usr/local/lib/python3.6/dist-packages (from notebook->jupyter->nilmtk==0.3.0.dev0+git.2f15ab7) (0.2.0)\n",
      "Requirement already satisfied: jupyter-core in /usr/local/lib/python3.6/dist-packages (from notebook->jupyter->nilmtk==0.3.0.dev0+git.2f15ab7) (4.4.0)\n",
      "Requirement already satisfied: terminado>=0.3.3; sys_platform != \"win32\" in /usr/local/lib/python3.6/dist-packages (from notebook->jupyter->nilmtk==0.3.0.dev0+git.2f15ab7) (0.8.2)\n",
      "Requirement already satisfied: jinja2 in /usr/local/lib/python3.6/dist-packages (from notebook->jupyter->nilmtk==0.3.0.dev0+git.2f15ab7) (2.10.1)\n",
      "Requirement already satisfied: pandocfilters>=1.4.1 in /usr/local/lib/python3.6/dist-packages (from nbconvert->jupyter->nilmtk==0.3.0.dev0+git.2f15ab7) (1.4.2)\n",
      "Requirement already satisfied: testpath in /usr/local/lib/python3.6/dist-packages (from nbconvert->jupyter->nilmtk==0.3.0.dev0+git.2f15ab7) (0.4.2)\n",
      "Requirement already satisfied: defusedxml in /usr/local/lib/python3.6/dist-packages (from nbconvert->jupyter->nilmtk==0.3.0.dev0+git.2f15ab7) (0.6.0)\n",
      "Requirement already satisfied: entrypoints>=0.2.2 in /usr/local/lib/python3.6/dist-packages (from nbconvert->jupyter->nilmtk==0.3.0.dev0+git.2f15ab7) (0.3)\n",
      "Requirement already satisfied: mistune>=0.8.1 in /usr/local/lib/python3.6/dist-packages (from nbconvert->jupyter->nilmtk==0.3.0.dev0+git.2f15ab7) (0.8.4)\n",
      "Requirement already satisfied: bleach in /usr/local/lib/python3.6/dist-packages (from nbconvert->jupyter->nilmtk==0.3.0.dev0+git.2f15ab7) (3.1.0)\n",
      "Requirement already satisfied: pyzmq>=13 in /usr/local/lib/python3.6/dist-packages (from jupyter-client->ipykernel->jupyter->nilmtk==0.3.0.dev0+git.2f15ab7) (17.0.0)\n",
      "Requirement already satisfied: simplegeneric>0.8 in /usr/local/lib/python3.6/dist-packages (from ipython>=4.0.0->ipykernel->jupyter->nilmtk==0.3.0.dev0+git.2f15ab7) (0.8.1)\n",
      "Requirement already satisfied: pexpect; sys_platform != \"win32\" in /usr/local/lib/python3.6/dist-packages (from ipython>=4.0.0->ipykernel->jupyter->nilmtk==0.3.0.dev0+git.2f15ab7) (4.7.0)\n",
      "Requirement already satisfied: pickleshare in /usr/local/lib/python3.6/dist-packages (from ipython>=4.0.0->ipykernel->jupyter->nilmtk==0.3.0.dev0+git.2f15ab7) (0.7.5)\n",
      "Requirement already satisfied: wcwidth in /usr/local/lib/python3.6/dist-packages (from prompt-toolkit<2.1.0,>=2.0.0->jupyter-console->jupyter->nilmtk==0.3.0.dev0+git.2f15ab7) (0.1.7)\n",
      "Requirement already satisfied: jsonschema!=2.5.0,>=2.4 in /usr/local/lib/python3.6/dist-packages (from nbformat>=4.2.0->ipywidgets->jupyter->nilmtk==0.3.0.dev0+git.2f15ab7) (2.6.0)\n",
      "Requirement already satisfied: ptyprocess; os_name != \"nt\" in /usr/local/lib/python3.6/dist-packages (from terminado>=0.3.3; sys_platform != \"win32\"->notebook->jupyter->nilmtk==0.3.0.dev0+git.2f15ab7) (0.6.0)\n",
      "Requirement already satisfied: MarkupSafe>=0.23 in /usr/local/lib/python3.6/dist-packages (from jinja2->notebook->jupyter->nilmtk==0.3.0.dev0+git.2f15ab7) (1.1.1)\n",
      "Requirement already satisfied: webencodings in /usr/local/lib/python3.6/dist-packages (from bleach->nbconvert->jupyter->nilmtk==0.3.0.dev0+git.2f15ab7) (0.5.1)\n",
      "Building wheels for collected packages: nilmtk, networkx, hmmlearn\n",
      "  Building wheel for nilmtk (setup.py) ... \u001b[?25l\u001b[?25hdone\n",
      "  Stored in directory: /tmp/pip-ephem-wheel-cache-tn9ofewt/wheels/71/84/2f/eca0fb8014a0fe59881ab1a3e3374f4108211de4c7c3081e8d\n",
      "  Building wheel for networkx (setup.py) ... \u001b[?25l\u001b[?25hdone\n",
      "  Stored in directory: /root/.cache/pip/wheels/44/c0/34/6f98693a554301bdb405f8d65d95bbcd3e50180cbfdd98a94e\n",
      "  Building wheel for hmmlearn (setup.py) ... \u001b[?25l\u001b[?25hdone\n",
      "  Stored in directory: /root/.cache/pip/wheels/2c/b6/0e/63a865a30e21e01d04f417d8995fbfb793d6bd464707efc546\n",
      "Successfully built nilmtk networkx hmmlearn\n",
      "\u001b[31mERROR: ipython 5.5.0 has requirement prompt-toolkit<2.0.0,>=1.0.4, but you'll have prompt-toolkit 2.0.9 which is incompatible.\u001b[0m\n",
      "\u001b[31mERROR: albumentations 0.1.12 has requirement imgaug<0.2.7,>=0.2.5, but you'll have imgaug 0.2.9 which is incompatible.\u001b[0m\n",
      "Installing collected packages: psycopg2-binary, networkx, hmmlearn, nilmtk, prompt-toolkit\n",
      "  Found existing installation: networkx 2.3\n",
      "    Uninstalling networkx-2.3:\n",
      "      Successfully uninstalled networkx-2.3\n",
      "  Found existing installation: prompt-toolkit 1.0.16\n",
      "    Uninstalling prompt-toolkit-1.0.16:\n",
      "      Successfully uninstalled prompt-toolkit-1.0.16\n",
      "Successfully installed hmmlearn-0.2.2 networkx-2.1 nilmtk-0.3.0.dev0+git.2f15ab7 prompt-toolkit-2.0.9 psycopg2-binary-2.8.3\n"
     ]
    },
    {
     "data": {
      "application/vnd.colab-display-data+json": {
       "pip_warning": {
        "packages": [
         "prompt_toolkit"
        ]
       }
      }
     },
     "metadata": {
      "tags": []
     },
     "output_type": "display_data"
    }
   ],
   "source": [
    "pip install git+git://github.com/nilmtk/nilmtk.git"
   ]
  },
  {
   "cell_type": "code",
   "execution_count": 3,
   "metadata": {
    "colab": {
     "base_uri": "https://localhost:8080/",
     "height": 284
    },
    "colab_type": "code",
    "id": "LwfMpZX8HDnv",
    "outputId": "f0e4a698-2b6b-4b0a-d8d2-676cad27659c"
   },
   "outputs": [
    {
     "name": "stdout",
     "output_type": "stream",
     "text": [
      "Collecting git+git://github.com/nilmtk/nilm_metadata.git\n",
      "  Cloning git://github.com/nilmtk/nilm_metadata.git to /tmp/pip-req-build-6qe_wt4v\n",
      "  Running command git clone -q git://github.com/nilmtk/nilm_metadata.git /tmp/pip-req-build-6qe_wt4v\n",
      "Requirement already satisfied: PyYAML in /usr/local/lib/python3.6/dist-packages (from nilm-metadata==0.2.3) (3.13)\n",
      "Requirement already satisfied: six in /usr/local/lib/python3.6/dist-packages (from nilm-metadata==0.2.3) (1.12.0)\n",
      "Requirement already satisfied: pandas in /usr/local/lib/python3.6/dist-packages (from nilm-metadata==0.2.3) (0.24.2)\n",
      "Requirement already satisfied: python-dateutil>=2.5.0 in /usr/local/lib/python3.6/dist-packages (from pandas->nilm-metadata==0.2.3) (2.5.3)\n",
      "Requirement already satisfied: pytz>=2011k in /usr/local/lib/python3.6/dist-packages (from pandas->nilm-metadata==0.2.3) (2018.9)\n",
      "Requirement already satisfied: numpy>=1.12.0 in /usr/local/lib/python3.6/dist-packages (from pandas->nilm-metadata==0.2.3) (1.16.4)\n",
      "Building wheels for collected packages: nilm-metadata\n",
      "  Building wheel for nilm-metadata (setup.py) ... \u001b[?25l\u001b[?25hdone\n",
      "  Stored in directory: /tmp/pip-ephem-wheel-cache-ed4gczki/wheels/75/e0/6d/1ec555a322c151fe20b4c9834753a692203b1f62a66b3ee235\n",
      "Successfully built nilm-metadata\n",
      "Installing collected packages: nilm-metadata\n",
      "Successfully installed nilm-metadata-0.2.3\n"
     ]
    }
   ],
   "source": [
    "pip install git+git://github.com/nilmtk/nilm_metadata.git"
   ]
  },
  {
   "cell_type": "code",
   "execution_count": 4,
   "metadata": {
    "colab": {
     "base_uri": "https://localhost:8080/",
     "height": 336
    },
    "colab_type": "code",
    "id": "6H2-FIOHHIMX",
    "outputId": "b57a2de2-cc0c-49ff-f72e-f06bafee5977"
   },
   "outputs": [
    {
     "name": "stdout",
     "output_type": "stream",
     "text": [
      "Collecting pandas==0.24.0\n",
      "\u001b[?25l  Downloading https://files.pythonhosted.org/packages/f9/e1/4a63ed31e1b1362d40ce845a5735c717a959bda992669468dae3420af2cd/pandas-0.24.0-cp36-cp36m-manylinux1_x86_64.whl (10.1MB)\n",
      "\u001b[K     |████████████████████████████████| 10.1MB 19.3MB/s \n",
      "\u001b[?25hRequirement already satisfied: pytz>=2011k in /usr/local/lib/python3.6/dist-packages (from pandas==0.24.0) (2018.9)\n",
      "Requirement already satisfied: python-dateutil>=2.5.0 in /usr/local/lib/python3.6/dist-packages (from pandas==0.24.0) (2.5.3)\n",
      "Requirement already satisfied: numpy>=1.12.0 in /usr/local/lib/python3.6/dist-packages (from pandas==0.24.0) (1.16.4)\n",
      "Requirement already satisfied: six>=1.5 in /usr/local/lib/python3.6/dist-packages (from python-dateutil>=2.5.0->pandas==0.24.0) (1.12.0)\n",
      "\u001b[31mERROR: nilmtk 0.3.0.dev0+git.2f15ab7 has requirement pandas==0.24.2, but you'll have pandas 0.24.0 which is incompatible.\u001b[0m\n",
      "Installing collected packages: pandas\n",
      "  Found existing installation: pandas 0.24.2\n",
      "    Uninstalling pandas-0.24.2:\n",
      "      Successfully uninstalled pandas-0.24.2\n",
      "Successfully installed pandas-0.24.0\n"
     ]
    },
    {
     "data": {
      "application/vnd.colab-display-data+json": {
       "pip_warning": {
        "packages": [
         "pandas"
        ]
       }
      }
     },
     "metadata": {
      "tags": []
     },
     "output_type": "display_data"
    }
   ],
   "source": [
    "pip install pandas==0.24.0"
   ]
  },
  {
   "cell_type": "code",
   "execution_count": 0,
   "metadata": {
    "colab": {},
    "colab_type": "code",
    "id": "gEnfnGHVFlbG"
   },
   "outputs": [],
   "source": [
    "from __future__ import print_function, division\n",
    "import time\n",
    "\n",
    "from matplotlib import rcParams\n",
    "import matplotlib.pyplot as plt\n",
    "\n",
    "from nilmtk import DataSet, TimeFrame, MeterGroup, HDFDataStore\n",
    "\n",
    "\n",
    "import random\n",
    "import sys\n",
    "import pandas as pd\n",
    "import numpy as np\n",
    "import h5py\n"
   ]
  },
  {
   "cell_type": "code",
   "execution_count": 0,
   "metadata": {
    "colab": {},
    "colab_type": "code",
    "id": "9l6SVMHmFlbJ"
   },
   "outputs": [],
   "source": [
    "# =====Define paramaters======\n",
    "info = {'filename': 'drive/My Drive/Dissertation/redd.h5',\n",
    "        'meter_label': 'fridge',  # [\"kettle\" , \"microwave\" , \"dishwasher\" , \"fridge\" , \"washing_machine\"]\n",
    "        'train_building': 1,\n",
    "        'test_building': 1,\n",
    "        'sample_period': 3\n",
    "       }\n",
    "\n",
    "# Parameters\n",
    "params = {'batch_size': 512,\n",
    "          'window_size': 50,\n",
    "          'model_name': 'DAE',\n",
    "          'shuffle': True}\n",
    "\n",
    "\n",
    "\n",
    "#test_window = {1: ('30-4-2011', '5-5-2011')}\n",
    "train_window = {1: (None, '30-4-2011')}\n",
    "test_window = {1: ('30-4-2011', None)}\n",
    "\n",
    "\n",
    "def load_dataset(train_window,test_window, filename, meter_label, train_building, test_building, **load_kwargs):\n",
    "    \n",
    "        #Load datasets\n",
    "    train = DataSet(filename)\n",
    "    test = DataSet(filename)\n",
    "\n",
    "    test.set_window(*test_window[test_building])\n",
    "    train.set_window(*train_window[test_building])\n",
    "    \n",
    "    x = train.buildings[train_building].elec.mains().all_meters()[0]\n",
    "    x = x.power_series_all_data(**load_kwargs)\n",
    "    \n",
    "    y = train.buildings[train_building].elec.submeters()[meter_label]\n",
    "    y = y.power_series_all_data(**load_kwargs)\n",
    "    \n",
    "    x.fillna(0, inplace=True)\n",
    "    y.fillna(0, inplace=True)\n",
    "    ix = x.index.intersection(y.index)\n",
    "    x = np.array(x[ix])\n",
    "    y = np.array(y[ix])\n",
    "    \n",
    "    #TEST\n",
    "    \n",
    "    x_test = test.buildings[test_building].elec.mains().all_meters()[0]\n",
    "    x_test = x_test.power_series_all_data(**load_kwargs)\n",
    "    \n",
    "    y_test = test.buildings[test_building].elec.submeters()[meter_label]\n",
    "    y_test = y_test.power_series_all_data(**load_kwargs)\n",
    "    \n",
    "    x_test.fillna(0, inplace=True)\n",
    "    y_test.fillna(0, inplace=True)\n",
    "    ix = x_test.index.intersection(y_test.index)\n",
    "    x_test = np.array(x_test[ix])\n",
    "    y_test = np.array(y_test[ix])\n",
    "\n",
    "    return x ,y,x_test,y_test \n",
    "  \n",
    "  \n",
    "x , y, x_test, y_test =load_dataset(train_window,test_window, **info)  \n",
    "\n"
   ]
  },
  {
   "cell_type": "markdown",
   "metadata": {
    "colab_type": "text",
    "id": "rPqkCnBBFlbP"
   },
   "source": [
    "### Nomralise Data"
   ]
  },
  {
   "cell_type": "code",
   "execution_count": 0,
   "metadata": {
    "colab": {},
    "colab_type": "code",
    "id": "ADiDynHwFlbQ"
   },
   "outputs": [],
   "source": [
    "def normalise(data,mmax):\n",
    "    return data/mmax\n",
    "\n",
    "def inversenormalise(data,mmax):\n",
    "    return data*mmax\n",
    "\n",
    "\n",
    "mmax = np.max(x)\n",
    "x = normalise(x,mmax)\n",
    "y = normalise(y,mmax)"
   ]
  },
  {
   "cell_type": "code",
   "execution_count": 0,
   "metadata": {
    "colab": {},
    "colab_type": "code",
    "id": "2IuuZJyBGvf9"
   },
   "outputs": [],
   "source": []
  },
  {
   "cell_type": "markdown",
   "metadata": {
    "colab_type": "text",
    "id": "sFH80Lr-Gz8a"
   },
   "source": [
    "## Windows\n"
   ]
  },
  {
   "cell_type": "code",
   "execution_count": 0,
   "metadata": {
    "colab": {},
    "colab_type": "code",
    "id": "0E7DTO2cF0nj"
   },
   "outputs": [],
   "source": [
    "indexer = np.arange(params['window_size'])[None, :] + np.arange(len(x)-params['window_size']+1)[:, None]\n",
    "x = x[indexer]\n",
    "y = y[params['window_size']-1:]\n",
    "\n",
    "x = np.reshape(x, (x.shape[0],params['window_size'],1))\n",
    "y = np.reshape(y, (y.shape[0],1))"
   ]
  },
  {
   "cell_type": "code",
   "execution_count": 0,
   "metadata": {
    "colab": {},
    "colab_type": "code",
    "id": "_R1qialnPzv9"
   },
   "outputs": [],
   "source": []
  },
  {
   "cell_type": "markdown",
   "metadata": {
    "colab_type": "text",
    "id": "Nigi0j4HFlbT"
   },
   "source": [
    "# GRU"
   ]
  },
  {
   "cell_type": "code",
   "execution_count": 11,
   "metadata": {
    "colab": {
     "base_uri": "https://localhost:8080/",
     "height": 641
    },
    "colab_type": "code",
    "id": "LZN6PV24FlbT",
    "outputId": "a22d9728-d8ac-4dbb-a2c1-4604a741628f",
    "scrolled": true
   },
   "outputs": [
    {
     "name": "stderr",
     "output_type": "stream",
     "text": [
      "Using TensorFlow backend.\n",
      "WARNING: Logging before flag parsing goes to stderr.\n",
      "W0628 13:25:03.325930 140158274418560 deprecation_wrapper.py:119] From /usr/local/lib/python3.6/dist-packages/keras/backend/tensorflow_backend.py:74: The name tf.get_default_graph is deprecated. Please use tf.compat.v1.get_default_graph instead.\n",
      "\n",
      "W0628 13:25:03.366490 140158274418560 deprecation_wrapper.py:119] From /usr/local/lib/python3.6/dist-packages/keras/backend/tensorflow_backend.py:517: The name tf.placeholder is deprecated. Please use tf.compat.v1.placeholder instead.\n",
      "\n",
      "W0628 13:25:03.376542 140158274418560 deprecation_wrapper.py:119] From /usr/local/lib/python3.6/dist-packages/keras/backend/tensorflow_backend.py:4138: The name tf.random_uniform is deprecated. Please use tf.random.uniform instead.\n",
      "\n",
      "W0628 13:25:04.178723 140158274418560 deprecation_wrapper.py:119] From /usr/local/lib/python3.6/dist-packages/keras/optimizers.py:790: The name tf.train.Optimizer is deprecated. Please use tf.compat.v1.train.Optimizer instead.\n",
      "\n",
      "W0628 13:25:04.611607 140158274418560 deprecation.py:323] From /usr/local/lib/python3.6/dist-packages/tensorflow/python/ops/math_grad.py:1250: add_dispatch_support.<locals>.wrapper (from tensorflow.python.ops.array_ops) is deprecated and will be removed in a future version.\n",
      "Instructions for updating:\n",
      "Use tf.where in 2.0, which has the same broadcast rule as np.where\n",
      "W0628 13:25:06.148609 140158274418560 deprecation_wrapper.py:119] From /usr/local/lib/python3.6/dist-packages/keras/backend/tensorflow_backend.py:986: The name tf.assign_add is deprecated. Please use tf.compat.v1.assign_add instead.\n",
      "\n",
      "W0628 13:25:06.378889 140158274418560 deprecation_wrapper.py:119] From /usr/local/lib/python3.6/dist-packages/keras/backend/tensorflow_backend.py:973: The name tf.assign is deprecated. Please use tf.compat.v1.assign instead.\n",
      "\n"
     ]
    },
    {
     "name": "stdout",
     "output_type": "stream",
     "text": [
      "Epoch 1/8\n",
      "334307/334307 [==============================] - 615s 2ms/step - loss: 1.7345e-04\n",
      "Epoch 2/8\n",
      "334307/334307 [==============================] - 609s 2ms/step - loss: 1.4254e-04\n",
      "Epoch 3/8\n",
      "334307/334307 [==============================] - 610s 2ms/step - loss: 1.3523e-04\n",
      "Epoch 4/8\n",
      "334307/334307 [==============================] - 611s 2ms/step - loss: 1.3309e-04\n",
      "Epoch 5/8\n",
      "334307/334307 [==============================] - 610s 2ms/step - loss: 1.3053e-04\n",
      "Epoch 6/8\n",
      "334307/334307 [==============================] - 609s 2ms/step - loss: 1.2935e-04\n",
      "Epoch 7/8\n",
      "334307/334307 [==============================] - 606s 2ms/step - loss: 1.2795e-04\n",
      "Epoch 8/8\n",
      "334307/334307 [==============================] - 615s 2ms/step - loss: 1.2703e-04\n"
     ]
    },
    {
     "data": {
      "text/plain": [
       "<keras.callbacks.History at 0x7f78cae3a978>"
      ]
     },
     "execution_count": 11,
     "metadata": {
      "tags": []
     },
     "output_type": "execute_result"
    }
   ],
   "source": [
    "import random\n",
    "import sys\n",
    "import pandas as pd\n",
    "import numpy as np\n",
    "import h5py\n",
    "\n",
    "from keras.models import load_model\n",
    "from keras.models import Sequential\n",
    "from keras.layers import Dense, Conv1D, GRU, Bidirectional, Dropout\n",
    "\n",
    "\n",
    "model = Sequential()\n",
    "\n",
    "# 1D Conv\n",
    "model.add(Conv1D(16, 4, activation=\"relu\", padding=\"same\", strides=1, input_shape=(params['window_size'],1)))\n",
    "model.add(Conv1D(8, 4, activation=\"relu\", padding=\"same\", strides=1))\n",
    "\n",
    "# Bi-directional LSTMs\n",
    "model.add(Bidirectional(GRU(64, return_sequences=True, stateful=False), merge_mode='concat'))\n",
    "model.add(Bidirectional(GRU(128, return_sequences=False, stateful=False), merge_mode='concat'))\n",
    "\n",
    "# Fully Connected Layers\n",
    "model.add(Dense(64, activation='relu'))\n",
    "model.add(Dense(1, activation='linear'))\n",
    "\n",
    "model.compile(loss='mse', optimizer='adam')\n",
    "\n",
    "model.fit(x, y, epochs=8, batch_size=128, shuffle=True)"
   ]
  },
  {
   "cell_type": "code",
   "execution_count": 0,
   "metadata": {
    "colab": {},
    "colab_type": "code",
    "id": "-5izFuAeFlbX"
   },
   "outputs": [],
   "source": [
    "predict = model.predict(x, batch_size=128)\n"
   ]
  },
  {
   "cell_type": "code",
   "execution_count": 0,
   "metadata": {
    "colab": {},
    "colab_type": "code",
    "id": "iC1w0p-kkfV8"
   },
   "outputs": [],
   "source": [
    "y = inversenormalise(y,mmax)\n",
    "predict = inversenormalise(predict,mmax)"
   ]
  },
  {
   "cell_type": "code",
   "execution_count": 18,
   "metadata": {
    "colab": {
     "base_uri": "https://localhost:8080/",
     "height": 287
    },
    "colab_type": "code",
    "id": "eoBZf2PNFlbZ",
    "outputId": "922a3544-ba20-4888-b0e8-8fe9225735f8",
    "scrolled": true
   },
   "outputs": [
    {
     "data": {
      "text/plain": [
       "[<matplotlib.lines.Line2D at 0x7f78ba2ef240>]"
      ]
     },
     "execution_count": 18,
     "metadata": {
      "tags": []
     },
     "output_type": "execute_result"
    },
    {
     "data": {
      "image/png": "[encoded data removed]",
      "text/plain": [
       "<Figure size 432x288 with 1 Axes>"
      ]
     },
     "metadata": {
      "tags": []
     },
     "output_type": "display_data"
    }
   ],
   "source": [
    "plt.plot(predict[65000:66000])\n",
    "plt.plot(y[65000:66000])"
   ]
  },
  {
   "cell_type": "code",
   "execution_count": 22,
   "metadata": {
    "colab": {
     "base_uri": "https://localhost:8080/",
     "height": 287
    },
    "colab_type": "code",
    "id": "gv8BP9AEFlbd",
    "outputId": "04ff3107-6464-47ba-da92-6acca7e3613d"
   },
   "outputs": [
    {
     "data": {
      "text/plain": [
       "[<matplotlib.lines.Line2D at 0x7f78b1fdc278>]"
      ]
     },
     "execution_count": 22,
     "metadata": {
      "tags": []
     },
     "output_type": "execute_result"
    },
    {
     "data": {
      "image/png": "[encoded data removed]",
      "text/plain": [
       "<Figure size 432x288 with 1 Axes>"
      ]
     },
     "metadata": {
      "tags": []
     },
     "output_type": "display_data"
    }
   ],
   "source": [
    "plt.plot(predict[52000:58000])\n",
    "plt.plot(y[52000:58000])"
   ]
  },
  {
   "cell_type": "code",
   "execution_count": 20,
   "metadata": {
    "colab": {
     "base_uri": "https://localhost:8080/",
     "height": 287
    },
    "colab_type": "code",
    "id": "ZfjKtBQukQFP",
    "outputId": "21e6b97f-43ac-4b91-b5e6-411ec1015146"
   },
   "outputs": [
    {
     "data": {
      "text/plain": [
       "[<matplotlib.lines.Line2D at 0x7f78ba0a2b00>]"
      ]
     },
     "execution_count": 20,
     "metadata": {
      "tags": []
     },
     "output_type": "execute_result"
    },
    {
     "data": {
      "image/png": "[encoded data removed]",
      "text/plain": [
       "<Figure size 432x288 with 1 Axes>"
      ]
     },
     "metadata": {
      "tags": []
     },
     "output_type": "display_data"
    }
   ],
   "source": [
    "plt.plot(predict)\n",
    "plt.plot(y)"
   ]
  },
  {
   "cell_type": "markdown",
   "metadata": {
    "colab_type": "text",
    "id": "qvF57BG-npnS"
   },
   "source": [
    "## Test"
   ]
  },
  {
   "cell_type": "code",
   "execution_count": 0,
   "metadata": {
    "colab": {},
    "colab_type": "code",
    "id": "9cWeiGpanpN8"
   },
   "outputs": [],
   "source": [
    "mmax = np.max(x_test)\n",
    "x_test = normalise(x_test,mmax)\n",
    "\n",
    "\n",
    "indexer = np.arange(params['window_size'])[None, :] + np.arange(len(x)-params['window_size']+1)[:, None]\n",
    "x_test = x_test[indexer]\n",
    "x_test = np.reshape(x_test, (x_test.shape[0],params['window_size'],1))\n"
   ]
  },
  {
   "cell_type": "code",
   "execution_count": 0,
   "metadata": {
    "colab": {},
    "colab_type": "code",
    "id": "Lgoxn33yn-kz"
   },
   "outputs": [],
   "source": [
    "predict = model.predict(x_test, batch_size=128)\n"
   ]
  },
  {
   "cell_type": "code",
   "execution_count": 37,
   "metadata": {
    "colab": {
     "base_uri": "https://localhost:8080/",
     "height": 287
    },
    "colab_type": "code",
    "id": "SiNOM2mdoOlB",
    "outputId": "f4b9c6ef-ef58-4e14-8d66-bb657710f11b"
   },
   "outputs": [
    {
     "data": {
      "text/plain": [
       "[<matplotlib.lines.Line2D at 0x7f78b1a03550>]"
      ]
     },
     "execution_count": 37,
     "metadata": {
      "tags": []
     },
     "output_type": "execute_result"
    },
    {
     "data": {
      "image/png": "[encoded data removed]",
      "text/plain": [
       "<Figure size 432x288 with 1 Axes>"
      ]
     },
     "metadata": {
      "tags": []
     },
     "output_type": "display_data"
    }
   ],
   "source": [
    "predict = inversenormalise(predict,mmax)\n",
    "plt.plot(predict)\n",
    "plt.plot(y_test)"
   ]
  },
  {
   "cell_type": "code",
   "execution_count": 43,
   "metadata": {
    "colab": {
     "base_uri": "https://localhost:8080/",
     "height": 287
    },
    "colab_type": "code",
    "id": "ycm5auExpGvD",
    "outputId": "7c60e44b-46d8-45c0-d6f0-f1a7e54cf231"
   },
   "outputs": [
    {
     "data": {
      "text/plain": [
       "[<matplotlib.lines.Line2D at 0x7f78b18c0860>]"
      ]
     },
     "execution_count": 43,
     "metadata": {
      "tags": []
     },
     "output_type": "execute_result"
    },
    {
     "data": {
      "image/png": "[encoded data removed]",
      "text/plain": [
       "<Figure size 432x288 with 1 Axes>"
      ]
     },
     "metadata": {
      "tags": []
     },
     "output_type": "display_data"
    }
   ],
   "source": [
    "plt.plot(predict[1500:3000])\n",
    "plt.plot(y_test[1500:3000])"
   ]
  },
  {
   "cell_type": "markdown",
   "metadata": {
    "colab_type": "text",
    "id": "JkAso40sje6a"
   },
   "source": [
    "## DAE P2P"
   ]
  },
  {
   "cell_type": "code",
   "execution_count": 0,
   "metadata": {
    "colab": {},
    "colab_type": "code",
    "id": "Cv1fPIA3Flbg",
    "outputId": "2f5392a1-be62-439e-c334-b9e4f96e3ba0"
   },
   "outputs": [
    {
     "name": "stdout",
     "output_type": "stream",
     "text": [
      "Epoch 1/15\n",
      "334356/334356 [==============================] - 30s 89us/step - loss: 6179.0708\n",
      "Epoch 2/15\n",
      "334356/334356 [==============================] - 32s 97us/step - loss: 4477.7987\n",
      "Epoch 3/15\n",
      "334356/334356 [==============================] - 32s 96us/step - loss: 4084.7266\n",
      "Epoch 4/15\n",
      "334356/334356 [==============================] - 33s 98us/step - loss: 3913.3380\n",
      "Epoch 5/15\n",
      "334356/334356 [==============================] - 33s 98us/step - loss: 3759.4368\n",
      "Epoch 6/15\n",
      "334356/334356 [==============================] - 33s 99us/step - loss: 3559.8655\n",
      "Epoch 7/15\n",
      "334356/334356 [==============================] - 34s 100us/step - loss: 3325.3428\n",
      "Epoch 8/15\n",
      "334356/334356 [==============================] - 34s 103us/step - loss: 3279.7547\n",
      "Epoch 9/15\n",
      "334356/334356 [==============================] - 34s 102us/step - loss: 3213.8576\n",
      "Epoch 10/15\n",
      "334356/334356 [==============================] - 35s 105us/step - loss: 3198.8649\n",
      "Epoch 11/15\n",
      "334356/334356 [==============================] - 36s 107us/step - loss: 3182.7315\n",
      "Epoch 12/15\n",
      "334356/334356 [==============================] - 36s 107us/step - loss: 3201.5851\n",
      "Epoch 13/15\n",
      "334356/334356 [==============================] - 36s 106us/step - loss: 3141.6459\n",
      "Epoch 14/15\n",
      "334356/334356 [==============================] - 36s 106us/step - loss: 3165.1630\n",
      "Epoch 15/15\n",
      "334356/334356 [==============================] - 36s 107us/step - loss: 3164.3094\n"
     ]
    },
    {
     "data": {
      "text/plain": [
       "<keras.callbacks.History at 0x2a214556cf8>"
      ]
     },
     "execution_count": 96,
     "metadata": {
      "tags": []
     },
     "output_type": "execute_result"
    }
   ],
   "source": [
    "from keras.layers import Reshape, BatchNormalization, Activation, Flatten, Concatenate\n",
    "\n",
    "model = Sequential()\n",
    "\n",
    "# 1D Conv\n",
    "model.add(Conv1D(30, 10, activation='relu', input_shape=(1,1), padding=\"same\", strides=1))\n",
    "model.add(Dropout(0.2))\n",
    "model.add(Conv1D(30, 8, activation='relu', padding=\"same\", strides=1))\n",
    "model.add(Dropout(0.2))\n",
    "model.add(Conv1D(40, 6, activation='relu', padding=\"same\", strides=1))\n",
    "model.add(Dropout(0.2))\n",
    "model.add(Conv1D(50, 5, activation='relu', padding=\"same\", strides=1))\n",
    "model.add(Dropout(0.2))\n",
    "model.add(Conv1D(50, 5, activation='relu', padding=\"same\", strides=1))\n",
    "model.add(Dropout(0.2))\n",
    "# Fully Connected Layers\n",
    "model.add(Flatten())\n",
    "model.add(Dense(1024, activation='relu'))\n",
    "model.add(Dropout(0.2))\n",
    "model.add(Dense(1, activation='linear'))\n",
    "\n",
    "model.compile(loss='mse', optimizer='adam')\n",
    "\n",
    "model.fit(x, y, epochs=15, batch_size=128, shuffle=True)"
   ]
  },
  {
   "cell_type": "code",
   "execution_count": 0,
   "metadata": {
    "colab": {},
    "colab_type": "code",
    "id": "MbArxlbZFlbj"
   },
   "outputs": [],
   "source": [
    "predict = model.predict(x, batch_size=128)\n"
   ]
  },
  {
   "cell_type": "code",
   "execution_count": 0,
   "metadata": {
    "colab": {},
    "colab_type": "code",
    "id": "7MjF2LKiFlbm",
    "outputId": "82e8693d-b68c-40fe-ffd7-0a9d4bea1787"
   },
   "outputs": [
    {
     "data": {
      "text/plain": [
       "[<matplotlib.lines.Line2D at 0x2a2146c9e80>]"
      ]
     },
     "execution_count": 101,
     "metadata": {
      "tags": []
     },
     "output_type": "execute_result"
    },
    {
     "data": {
      "image/png": "[encoded data removed]",
      "text/plain": [
       "<Figure size 432x288 with 1 Axes>"
      ]
     },
     "metadata": {
      "needs_background": "light",
      "tags": []
     },
     "output_type": "display_data"
    }
   ],
   "source": [
    "plt.plot(predict[74000:76000])\n",
    "plt.plot(y[74000:76000])"
   ]
  },
  {
   "cell_type": "code",
   "execution_count": 0,
   "metadata": {
    "colab": {},
    "colab_type": "code",
    "id": "a843y3TcFlbp",
    "outputId": "15b5e04c-c966-404c-9d9b-74f064d560ac"
   },
   "outputs": [
    {
     "data": {
      "text/plain": [
       "[<matplotlib.lines.Line2D at 0x2a2147867f0>]"
      ]
     },
     "execution_count": 102,
     "metadata": {
      "tags": []
     },
     "output_type": "execute_result"
    },
    {
     "data": {
      "image/png": "[encoded data removed]",
      "text/plain": [
       "<Figure size 432x288 with 1 Axes>"
      ]
     },
     "metadata": {
      "needs_background": "light",
      "tags": []
     },
     "output_type": "display_data"
    }
   ],
   "source": [
    "plt.plot(predict[74000:76000])"
   ]
  },
  {
   "cell_type": "code",
   "execution_count": 0,
   "metadata": {
    "colab": {},
    "colab_type": "code",
    "id": "uQeN4cIdFlbu",
    "outputId": "98733837-acc4-4839-f76d-b4a2df0ba602"
   },
   "outputs": [
    {
     "data": {
      "text/plain": [
       "[<matplotlib.lines.Line2D at 0x2a2150ce518>]"
      ]
     },
     "execution_count": 103,
     "metadata": {
      "tags": []
     },
     "output_type": "execute_result"
    },
    {
     "data": {
      "image/png": "[encoded data removed]",
      "text/plain": [
       "<Figure size 432x288 with 1 Axes>"
      ]
     },
     "metadata": {
      "needs_background": "light",
      "tags": []
     },
     "output_type": "display_data"
    }
   ],
   "source": [
    "plt.plot(y[74000:76000])"
   ]
  },
  {
   "cell_type": "code",
   "execution_count": 0,
   "metadata": {
    "colab": {},
    "colab_type": "code",
    "id": "rVhMRF86Flby"
   },
   "outputs": [],
   "source": []
  }
 ],
 "metadata": {
  "accelerator": "GPU",
  "colab": {
   "name": "e11_fridge_Redd_S2P.ipynb",
   "provenance": [],
   "version": "0.3.2"
  },
  "kernelspec": {
   "display_name": "Python 3",
   "language": "python",
   "name": "python3"
  },
  "language_info": {
   "codemirror_mode": {
    "name": "ipython",
    "version": 3
   },
   "file_extension": ".py",
   "mimetype": "text/x-python",
   "name": "python",
   "nbconvert_exporter": "python",
   "pygments_lexer": "ipython3",
   "version": "3.6.7"
  }
 },
 "nbformat": 4,
 "nbformat_minor": 1
}

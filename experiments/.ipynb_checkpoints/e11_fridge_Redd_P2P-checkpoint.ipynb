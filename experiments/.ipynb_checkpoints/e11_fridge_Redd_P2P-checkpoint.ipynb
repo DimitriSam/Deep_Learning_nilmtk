{
 "cells": [
  {
   "cell_type": "code",
   "execution_count": 8,
   "metadata": {},
   "outputs": [
    {
     "data": {
      "text/plain": [
       "'\\nP2P\\n\\nwith normalisation\\n'"
      ]
     },
     "execution_count": 8,
     "metadata": {},
     "output_type": "execute_result"
    }
   ],
   "source": [
    "'''\n",
    "P2P\n",
    "\n",
    "with normalisation\n",
    "'''"
   ]
  },
  {
   "cell_type": "code",
   "execution_count": 2,
   "metadata": {},
   "outputs": [],
   "source": [
    "from __future__ import print_function, division\n",
    "import time\n",
    "\n",
    "from matplotlib import rcParams\n",
    "import matplotlib.pyplot as plt\n",
    "\n",
    "from nilmtk import DataSet, TimeFrame, MeterGroup, HDFDataStore\n",
    "\n",
    "\n",
    "import random\n",
    "import sys\n",
    "import pandas as pd\n",
    "import numpy as np\n",
    "import h5py\n"
   ]
  },
  {
   "cell_type": "code",
   "execution_count": 4,
   "metadata": {},
   "outputs": [
    {
     "name": "stderr",
     "output_type": "stream",
     "text": [
      "C:\\Users\\dimit\\Anaconda3\\envs\\nilmtk-env\\lib\\site-packages\\nilm_metadata\\file_management.py:16: YAMLLoadWarning: calling yaml.load() without Loader=... is deprecated, as the default Loader is unsafe. Please read https://msg.pyyaml.org/load for full details.\n",
      "  objs = yaml.load(fh)\n"
     ]
    }
   ],
   "source": [
    "# =====Define paramaters======\n",
    "info = {'filename': 'C:/Users/dimit/Desktop/Msc Business Analytics/Dissertation/My_code/redd.h5',\n",
    "        'meter_label': 'fridge',  # [\"kettle\" , \"microwave\" , \"dishwasher\" , \"fridge\" , \"washing_machine\"]\n",
    "        'train_building': 1,\n",
    "        'test_building': 1,\n",
    "        'sample_period': 3\n",
    "       }\n",
    "\n",
    "# Parameters\n",
    "params = {'batch_size': 512,\n",
    "          'window_size': 50,\n",
    "          'model_name': 'DAE',\n",
    "          'shuffle': True}\n",
    "\n",
    "\n",
    "\n",
    "#test_window = {1: ('30-4-2011', '5-5-2011')}\n",
    "train_window = {1: (None, '30-4-2011')}\n",
    "test_window = {1: (None, None)}\n",
    "\n",
    "\n",
    "def load_dataset(train_window,test_window, filename, meter_label, train_building, test_building, **load_kwargs):\n",
    "    \n",
    "        #Load datasets\n",
    "    train = DataSet(filename)\n",
    "    test = DataSet(filename)\n",
    "\n",
    "    test.set_window(*test_window[test_building])\n",
    "    train.set_window(*train_window[test_building])\n",
    "    \n",
    "    x = train.buildings[train_building].elec.mains().all_meters()[0]\n",
    "    x = x.power_series_all_data(**load_kwargs)\n",
    "    \n",
    "    y = train.buildings[train_building].elec.submeters()[meter_label]\n",
    "    y = y.power_series_all_data(**load_kwargs)\n",
    "    \n",
    "    x.fillna(0, inplace=True)\n",
    "    y.fillna(0, inplace=True)\n",
    "    ix = x.index.intersection(y.index)\n",
    "    x = np.array(x[ix])\n",
    "    y = np.array(y[ix])\n",
    "\n",
    "    return x ,y \n",
    "x , y =load_dataset(train_window,test_window, **info)  \n",
    "\n",
    "x = np.reshape(x, (x.shape[0],1,1))"
   ]
  },
  {
   "cell_type": "code",
   "execution_count": 5,
   "metadata": {},
   "outputs": [
    {
     "data": {
      "text/plain": [
       "4505.783"
      ]
     },
     "execution_count": 5,
     "metadata": {},
     "output_type": "execute_result"
    }
   ],
   "source": [
    "np.max(x)"
   ]
  },
  {
   "cell_type": "markdown",
   "metadata": {},
   "source": [
    "### Nomralise Data"
   ]
  },
  {
   "cell_type": "code",
   "execution_count": 6,
   "metadata": {},
   "outputs": [],
   "source": [
    "def normalise(data,mmax):\n",
    "    return data/mmax\n",
    "\n",
    "def inversenormalise(data,mmax):\n",
    "    return data*mmax\n",
    "\n",
    "\n",
    "mmax = np.max(x)\n",
    "x = normalise(x,mmax)\n",
    "y = normalise(y,mmax)"
   ]
  },
  {
   "cell_type": "markdown",
   "metadata": {},
   "source": [
    "# GRU"
   ]
  },
  {
   "cell_type": "code",
   "execution_count": 7,
   "metadata": {
    "scrolled": true
   },
   "outputs": [
    {
     "name": "stderr",
     "output_type": "stream",
     "text": [
      "Using TensorFlow backend.\n",
      "C:\\Users\\dimit\\Anaconda3\\envs\\nilmtk-env\\lib\\site-packages\\tensorflow\\python\\keras\\backend.py:5201: ResourceWarning: unclosed file <_io.TextIOWrapper name='C:\\\\Users\\\\dimit\\\\.keras\\\\keras.json' mode='r' encoding='cp1252'>\n",
      "  _config = json.load(open(_config_path))\n"
     ]
    },
    {
     "name": "stdout",
     "output_type": "stream",
     "text": [
      "WARNING:tensorflow:From C:\\Users\\dimit\\Anaconda3\\envs\\nilmtk-env\\lib\\site-packages\\tensorflow\\python\\framework\\op_def_library.py:263: colocate_with (from tensorflow.python.framework.ops) is deprecated and will be removed in a future version.\n",
      "Instructions for updating:\n",
      "Colocations handled automatically by placer.\n",
      "WARNING:tensorflow:From C:\\Users\\dimit\\Anaconda3\\envs\\nilmtk-env\\lib\\site-packages\\tensorflow\\python\\ops\\math_ops.py:3066: to_int32 (from tensorflow.python.ops.math_ops) is deprecated and will be removed in a future version.\n",
      "Instructions for updating:\n",
      "Use tf.cast instead.\n",
      "Epoch 1/15\n",
      "334356/334356 [==============================] - 36s 107us/step - loss: 1.8896e-04\n",
      "Epoch 2/15\n",
      "334356/334356 [==============================] - ETA: 0s - loss: 1.5326e-0 - 32s 96us/step - loss: 1.5326e-04\n",
      "Epoch 3/15\n",
      "334356/334356 [==============================] - 32s 95us/step - loss: 1.4870e-04\n",
      "Epoch 4/15\n",
      "334356/334356 [==============================] - 40s 120us/step - loss: 1.4598e-04\n",
      "Epoch 5/15\n",
      "334356/334356 [==============================] - 35s 105us/step - loss: 1.4484e-04\n",
      "Epoch 6/15\n",
      "334356/334356 [==============================] - 33s 100us/step - loss: 1.4470e-04\n",
      "Epoch 7/15\n",
      "334356/334356 [==============================] - 34s 100us/step - loss: 1.4343e-040s - loss: 1.4354\n",
      "Epoch 8/15\n",
      "334356/334356 [==============================] - 34s 101us/step - loss: 1.4321e-04\n",
      "Epoch 9/15\n",
      "334356/334356 [==============================] - 37s 112us/step - loss: 1.4201e-04\n",
      "Epoch 10/15\n",
      "334356/334356 [==============================] - 35s 105us/step - loss: 1.4274e-04\n",
      "Epoch 11/15\n",
      "334356/334356 [==============================] - 40s 120us/step - loss: 1.4263e-04\n",
      "Epoch 12/15\n",
      "334356/334356 [==============================] - 36s 108us/step - loss: 1.4171e-04\n",
      "Epoch 13/15\n",
      "334356/334356 [==============================] - 42s 125us/step - loss: 1.4047e-04\n",
      "Epoch 14/15\n",
      "334356/334356 [==============================] - 37s 110us/step - loss: 1.3970e-04\n",
      "Epoch 15/15\n",
      "334356/334356 [==============================] - 40s 120us/step - loss: 1.3818e-04\n"
     ]
    },
    {
     "data": {
      "text/plain": [
       "<keras.callbacks.History at 0x22d8a392ac8>"
      ]
     },
     "execution_count": 7,
     "metadata": {},
     "output_type": "execute_result"
    }
   ],
   "source": [
    "import random\n",
    "import sys\n",
    "import pandas as pd\n",
    "import numpy as np\n",
    "import h5py\n",
    "\n",
    "from keras.models import load_model\n",
    "from keras.models import Sequential\n",
    "from keras.layers import Dense, Conv1D, GRU, Bidirectional, Dropout\n",
    "\n",
    "\n",
    "model = Sequential()\n",
    "\n",
    "# 1D Conv\n",
    "model.add(Conv1D(16, 4, activation=\"relu\", padding=\"same\", strides=1, input_shape=(1,1)))\n",
    "model.add(Conv1D(8, 4, activation=\"relu\", padding=\"same\", strides=1))\n",
    "\n",
    "# Bi-directional LSTMs\n",
    "model.add(Bidirectional(GRU(64, return_sequences=True, stateful=False), merge_mode='concat'))\n",
    "model.add(Bidirectional(GRU(128, return_sequences=False, stateful=False), merge_mode='concat'))\n",
    "\n",
    "# Fully Connected Layers\n",
    "model.add(Dense(64, activation='relu'))\n",
    "model.add(Dense(1, activation='linear'))\n",
    "\n",
    "model.compile(loss='mse', optimizer='adam')\n",
    "\n",
    "model.fit(x, y, epochs=15, batch_size=128, shuffle=True)"
   ]
  },
  {
   "cell_type": "code",
   "execution_count": 9,
   "metadata": {},
   "outputs": [],
   "source": [
    "predict = model.predict(x, batch_size=128)\n"
   ]
  },
  {
   "cell_type": "code",
   "execution_count": 10,
   "metadata": {
    "scrolled": true
   },
   "outputs": [
    {
     "data": {
      "text/plain": [
       "[<matplotlib.lines.Line2D at 0x22d8114b5c0>]"
      ]
     },
     "execution_count": 10,
     "metadata": {},
     "output_type": "execute_result"
    },
    {
     "data": {
      "image/png": "[encoded data removed]",
      "text/plain": [
       "<Figure size 432x288 with 1 Axes>"
      ]
     },
     "metadata": {
      "needs_background": "light"
     },
     "output_type": "display_data"
    }
   ],
   "source": [
    "plt.plot(predict[65000:66000])\n",
    "plt.plot(y[65000:66000])"
   ]
  },
  {
   "cell_type": "code",
   "execution_count": 15,
   "metadata": {},
   "outputs": [
    {
     "data": {
      "text/plain": [
       "[<matplotlib.lines.Line2D at 0x22d8f368048>]"
      ]
     },
     "execution_count": 15,
     "metadata": {},
     "output_type": "execute_result"
    },
    {
     "data": {
      "image/png": "[encoded data removed]",
      "text/plain": [
       "<Figure size 432x288 with 1 Axes>"
      ]
     },
     "metadata": {
      "needs_background": "light"
     },
     "output_type": "display_data"
    }
   ],
   "source": [
    "plt.plot(predict[52000:54000])\n",
    "plt.plot(y[52000:54000])"
   ]
  },
  {
   "cell_type": "code",
   "execution_count": 96,
   "metadata": {},
   "outputs": [
    {
     "name": "stdout",
     "output_type": "stream",
     "text": [
      "Epoch 1/15\n",
      "334356/334356 [==============================] - 30s 89us/step - loss: 6179.0708\n",
      "Epoch 2/15\n",
      "334356/334356 [==============================] - 32s 97us/step - loss: 4477.7987\n",
      "Epoch 3/15\n",
      "334356/334356 [==============================] - 32s 96us/step - loss: 4084.7266\n",
      "Epoch 4/15\n",
      "334356/334356 [==============================] - 33s 98us/step - loss: 3913.3380\n",
      "Epoch 5/15\n",
      "334356/334356 [==============================] - 33s 98us/step - loss: 3759.4368\n",
      "Epoch 6/15\n",
      "334356/334356 [==============================] - 33s 99us/step - loss: 3559.8655\n",
      "Epoch 7/15\n",
      "334356/334356 [==============================] - 34s 100us/step - loss: 3325.3428\n",
      "Epoch 8/15\n",
      "334356/334356 [==============================] - 34s 103us/step - loss: 3279.7547\n",
      "Epoch 9/15\n",
      "334356/334356 [==============================] - 34s 102us/step - loss: 3213.8576\n",
      "Epoch 10/15\n",
      "334356/334356 [==============================] - 35s 105us/step - loss: 3198.8649\n",
      "Epoch 11/15\n",
      "334356/334356 [==============================] - 36s 107us/step - loss: 3182.7315\n",
      "Epoch 12/15\n",
      "334356/334356 [==============================] - 36s 107us/step - loss: 3201.5851\n",
      "Epoch 13/15\n",
      "334356/334356 [==============================] - 36s 106us/step - loss: 3141.6459\n",
      "Epoch 14/15\n",
      "334356/334356 [==============================] - 36s 106us/step - loss: 3165.1630\n",
      "Epoch 15/15\n",
      "334356/334356 [==============================] - 36s 107us/step - loss: 3164.3094\n"
     ]
    },
    {
     "data": {
      "text/plain": [
       "<keras.callbacks.History at 0x2a214556cf8>"
      ]
     },
     "execution_count": 96,
     "metadata": {},
     "output_type": "execute_result"
    }
   ],
   "source": [
    "from keras.layers import Reshape, BatchNormalization, Activation, Flatten, Concatenate\n",
    "\n",
    "model = Sequential()\n",
    "\n",
    "# 1D Conv\n",
    "model.add(Conv1D(30, 10, activation='relu', input_shape=(1,1), padding=\"same\", strides=1))\n",
    "model.add(Dropout(0.2))\n",
    "model.add(Conv1D(30, 8, activation='relu', padding=\"same\", strides=1))\n",
    "model.add(Dropout(0.2))\n",
    "model.add(Conv1D(40, 6, activation='relu', padding=\"same\", strides=1))\n",
    "model.add(Dropout(0.2))\n",
    "model.add(Conv1D(50, 5, activation='relu', padding=\"same\", strides=1))\n",
    "model.add(Dropout(0.2))\n",
    "model.add(Conv1D(50, 5, activation='relu', padding=\"same\", strides=1))\n",
    "model.add(Dropout(0.2))\n",
    "# Fully Connected Layers\n",
    "model.add(Flatten())\n",
    "model.add(Dense(1024, activation='relu'))\n",
    "model.add(Dropout(0.2))\n",
    "model.add(Dense(1, activation='linear'))\n",
    "\n",
    "model.compile(loss='mse', optimizer='adam')\n",
    "\n",
    "model.fit(x, y, epochs=15, batch_size=128, shuffle=True)"
   ]
  },
  {
   "cell_type": "code",
   "execution_count": 97,
   "metadata": {},
   "outputs": [],
   "source": [
    "predict = model.predict(x, batch_size=128)\n"
   ]
  },
  {
   "cell_type": "code",
   "execution_count": 101,
   "metadata": {},
   "outputs": [
    {
     "data": {
      "text/plain": [
       "[<matplotlib.lines.Line2D at 0x2a2146c9e80>]"
      ]
     },
     "execution_count": 101,
     "metadata": {},
     "output_type": "execute_result"
    },
    {
     "data": {
      "image/png": "[encoded data removed]",
      "text/plain": [
       "<Figure size 432x288 with 1 Axes>"
      ]
     },
     "metadata": {
      "needs_background": "light"
     },
     "output_type": "display_data"
    }
   ],
   "source": [
    "plt.plot(predict[74000:76000])\n",
    "plt.plot(y[74000:76000])"
   ]
  },
  {
   "cell_type": "code",
   "execution_count": 102,
   "metadata": {},
   "outputs": [
    {
     "data": {
      "text/plain": [
       "[<matplotlib.lines.Line2D at 0x2a2147867f0>]"
      ]
     },
     "execution_count": 102,
     "metadata": {},
     "output_type": "execute_result"
    },
    {
     "data": {
      "image/png": "[encoded data removed]",
      "text/plain": [
       "<Figure size 432x288 with 1 Axes>"
      ]
     },
     "metadata": {
      "needs_background": "light"
     },
     "output_type": "display_data"
    }
   ],
   "source": [
    "plt.plot(predict[74000:76000])"
   ]
  },
  {
   "cell_type": "code",
   "execution_count": 103,
   "metadata": {},
   "outputs": [
    {
     "data": {
      "text/plain": [
       "[<matplotlib.lines.Line2D at 0x2a2150ce518>]"
      ]
     },
     "execution_count": 103,
     "metadata": {},
     "output_type": "execute_result"
    },
    {
     "data": {
      "image/png": "[encoded data removed]",
      "text/plain": [
       "<Figure size 432x288 with 1 Axes>"
      ]
     },
     "metadata": {
      "needs_background": "light"
     },
     "output_type": "display_data"
    }
   ],
   "source": [
    "plt.plot(y[74000:76000])"
   ]
  },
  {
   "cell_type": "code",
   "execution_count": null,
   "metadata": {},
   "outputs": [],
   "source": []
  }
 ],
 "metadata": {
  "kernelspec": {
   "display_name": "Python 3",
   "language": "python",
   "name": "python3"
  },
  "language_info": {
   "codemirror_mode": {
    "name": "ipython",
    "version": 3
   },
   "file_extension": ".py",
   "mimetype": "text/x-python",
   "name": "python",
   "nbconvert_exporter": "python",
   "pygments_lexer": "ipython3",
   "version": "3.6.7"
  }
 },
 "nbformat": 4,
 "nbformat_minor": 2
}

{
 "cells": [
  {
   "cell_type": "code",
   "execution_count": 0,
   "metadata": {
    "colab": {},
    "colab_type": "code",
    "id": "nheyVgwbFlbA"
   },
   "outputs": [],
   "source": [
    "'''\n",
    "P2P\n",
    "\n",
    "with normalisation\n",
    "no dropout\n",
    "'''"
   ]
  },
  {
   "cell_type": "code",
   "execution_count": 40,
   "metadata": {
    "colab": {
     "base_uri": "https://localhost:8080/",
     "height": 35
    },
    "colab_type": "code",
    "id": "eaYRKT2BFpbM",
    "outputId": "791e10c3-8363-4f3c-a831-96799b152ef0"
   },
   "outputs": [
    {
     "name": "stdout",
     "output_type": "stream",
     "text": [
      "Drive already mounted at /content/drive; to attempt to forcibly remount, call drive.mount(\"/content/drive\", force_remount=True).\n"
     ]
    }
   ],
   "source": [
    "from google.colab import drive\n",
    "drive.mount('/content/drive')\n",
    "import sys\n",
    "sys.path.insert(0,'drive/My Drive/Dissertation')"
   ]
  },
  {
   "cell_type": "code",
   "execution_count": 2,
   "metadata": {
    "colab": {
     "base_uri": "https://localhost:8080/",
     "height": 1000
    },
    "colab_type": "code",
    "id": "frkTSzkzHC9C",
    "outputId": "183085b2-113c-45e4-cad2-9f7ff727c0dc"
   },
   "outputs": [
    {
     "name": "stdout",
     "output_type": "stream",
     "text": [
      "Collecting git+git://github.com/nilmtk/nilmtk.git\n",
      "  Cloning git://github.com/nilmtk/nilmtk.git to /tmp/pip-req-build-5xfhug0_\n",
      "  Running command git clone -q git://github.com/nilmtk/nilmtk.git /tmp/pip-req-build-5xfhug0_\n",
      "Requirement already satisfied: future in /usr/local/lib/python3.6/dist-packages (from nilmtk==0.3.0.dev0+git.2f15ab7) (0.16.0)\n",
      "Requirement already satisfied: six in /usr/local/lib/python3.6/dist-packages (from nilmtk==0.3.0.dev0+git.2f15ab7) (1.12.0)\n",
      "Collecting psycopg2-binary (from nilmtk==0.3.0.dev0+git.2f15ab7)\n",
      "\u001b[?25l  Downloading https://files.pythonhosted.org/packages/b1/35/75c9c2d9cfc073ab6c42b2d8e91ff58c9b99f4ed7ed56b36647642e6080e/psycopg2_binary-2.8.3-cp36-cp36m-manylinux1_x86_64.whl (2.9MB)\n",
      "\u001b[K     |████████████████████████████████| 2.9MB 45.0MB/s \n",
      "\u001b[?25hRequirement already satisfied: pandas==0.24.2 in /usr/local/lib/python3.6/dist-packages (from nilmtk==0.3.0.dev0+git.2f15ab7) (0.24.2)\n",
      "Collecting networkx==2.1 (from nilmtk==0.3.0.dev0+git.2f15ab7)\n",
      "\u001b[?25l  Downloading https://files.pythonhosted.org/packages/11/42/f951cc6838a4dff6ce57211c4d7f8444809ccbe2134179950301e5c4c83c/networkx-2.1.zip (1.6MB)\n",
      "\u001b[K     |████████████████████████████████| 1.6MB 45.3MB/s \n",
      "\u001b[?25hRequirement already satisfied: scipy in /usr/local/lib/python3.6/dist-packages (from nilmtk==0.3.0.dev0+git.2f15ab7) (1.3.0)\n",
      "Requirement already satisfied: tables in /usr/local/lib/python3.6/dist-packages (from nilmtk==0.3.0.dev0+git.2f15ab7) (3.4.4)\n",
      "Requirement already satisfied: scikit-learn>=0.21.2 in /usr/local/lib/python3.6/dist-packages (from nilmtk==0.3.0.dev0+git.2f15ab7) (0.21.2)\n",
      "Collecting hmmlearn>=0.2.1 (from nilmtk==0.3.0.dev0+git.2f15ab7)\n",
      "\u001b[?25l  Downloading https://files.pythonhosted.org/packages/d7/c5/91b43156b193d180ed94069269bcf88d3c7c6e54514a8482050fa9995e10/hmmlearn-0.2.2.tar.gz (146kB)\n",
      "\u001b[K     |████████████████████████████████| 153kB 50.6MB/s \n",
      "\u001b[?25hRequirement already satisfied: pyyaml in /usr/local/lib/python3.6/dist-packages (from nilmtk==0.3.0.dev0+git.2f15ab7) (3.13)\n",
      "Requirement already satisfied: matplotlib>=2.2.0 in /usr/local/lib/python3.6/dist-packages (from nilmtk==0.3.0.dev0+git.2f15ab7) (3.0.3)\n",
      "Requirement already satisfied: jupyter in /usr/local/lib/python3.6/dist-packages (from nilmtk==0.3.0.dev0+git.2f15ab7) (1.0.0)\n",
      "Requirement already satisfied: numpy>=1.12.0 in /usr/local/lib/python3.6/dist-packages (from pandas==0.24.2->nilmtk==0.3.0.dev0+git.2f15ab7) (1.16.4)\n",
      "Requirement already satisfied: python-dateutil>=2.5.0 in /usr/local/lib/python3.6/dist-packages (from pandas==0.24.2->nilmtk==0.3.0.dev0+git.2f15ab7) (2.5.3)\n",
      "Requirement already satisfied: pytz>=2011k in /usr/local/lib/python3.6/dist-packages (from pandas==0.24.2->nilmtk==0.3.0.dev0+git.2f15ab7) (2018.9)\n",
      "Requirement already satisfied: decorator>=4.1.0 in /usr/local/lib/python3.6/dist-packages (from networkx==2.1->nilmtk==0.3.0.dev0+git.2f15ab7) (4.4.0)\n",
      "Requirement already satisfied: numexpr>=2.5.2 in /usr/local/lib/python3.6/dist-packages (from tables->nilmtk==0.3.0.dev0+git.2f15ab7) (2.6.9)\n",
      "Requirement already satisfied: joblib>=0.11 in /usr/local/lib/python3.6/dist-packages (from scikit-learn>=0.21.2->nilmtk==0.3.0.dev0+git.2f15ab7) (0.13.2)\n",
      "Requirement already satisfied: pyparsing!=2.0.4,!=2.1.2,!=2.1.6,>=2.0.1 in /usr/local/lib/python3.6/dist-packages (from matplotlib>=2.2.0->nilmtk==0.3.0.dev0+git.2f15ab7) (2.4.0)\n",
      "Requirement already satisfied: kiwisolver>=1.0.1 in /usr/local/lib/python3.6/dist-packages (from matplotlib>=2.2.0->nilmtk==0.3.0.dev0+git.2f15ab7) (1.1.0)\n",
      "Requirement already satisfied: cycler>=0.10 in /usr/local/lib/python3.6/dist-packages (from matplotlib>=2.2.0->nilmtk==0.3.0.dev0+git.2f15ab7) (0.10.0)\n",
      "Requirement already satisfied: notebook in /usr/local/lib/python3.6/dist-packages (from jupyter->nilmtk==0.3.0.dev0+git.2f15ab7) (5.2.2)\n",
      "Requirement already satisfied: ipywidgets in /usr/local/lib/python3.6/dist-packages (from jupyter->nilmtk==0.3.0.dev0+git.2f15ab7) (7.4.2)\n",
      "Requirement already satisfied: ipykernel in /usr/local/lib/python3.6/dist-packages (from jupyter->nilmtk==0.3.0.dev0+git.2f15ab7) (4.6.1)\n",
      "Requirement already satisfied: nbconvert in /usr/local/lib/python3.6/dist-packages (from jupyter->nilmtk==0.3.0.dev0+git.2f15ab7) (5.5.0)\n",
      "Requirement already satisfied: jupyter-console in /usr/local/lib/python3.6/dist-packages (from jupyter->nilmtk==0.3.0.dev0+git.2f15ab7) (6.0.0)\n",
      "Requirement already satisfied: qtconsole in /usr/local/lib/python3.6/dist-packages (from jupyter->nilmtk==0.3.0.dev0+git.2f15ab7) (4.5.1)\n",
      "Requirement already satisfied: setuptools in /usr/local/lib/python3.6/dist-packages (from kiwisolver>=1.0.1->matplotlib>=2.2.0->nilmtk==0.3.0.dev0+git.2f15ab7) (41.0.1)\n",
      "Requirement already satisfied: ipython-genutils in /usr/local/lib/python3.6/dist-packages (from notebook->jupyter->nilmtk==0.3.0.dev0+git.2f15ab7) (0.2.0)\n",
      "Requirement already satisfied: nbformat in /usr/local/lib/python3.6/dist-packages (from notebook->jupyter->nilmtk==0.3.0.dev0+git.2f15ab7) (4.4.0)\n",
      "Requirement already satisfied: jupyter-core in /usr/local/lib/python3.6/dist-packages (from notebook->jupyter->nilmtk==0.3.0.dev0+git.2f15ab7) (4.5.0)\n",
      "Requirement already satisfied: traitlets>=4.2.1 in /usr/local/lib/python3.6/dist-packages (from notebook->jupyter->nilmtk==0.3.0.dev0+git.2f15ab7) (4.3.2)\n",
      "Requirement already satisfied: tornado>=4 in /usr/local/lib/python3.6/dist-packages (from notebook->jupyter->nilmtk==0.3.0.dev0+git.2f15ab7) (4.5.3)\n",
      "Requirement already satisfied: jinja2 in /usr/local/lib/python3.6/dist-packages (from notebook->jupyter->nilmtk==0.3.0.dev0+git.2f15ab7) (2.10.1)\n",
      "Requirement already satisfied: jupyter-client in /usr/local/lib/python3.6/dist-packages (from notebook->jupyter->nilmtk==0.3.0.dev0+git.2f15ab7) (5.2.4)\n",
      "Requirement already satisfied: terminado>=0.3.3; sys_platform != \"win32\" in /usr/local/lib/python3.6/dist-packages (from notebook->jupyter->nilmtk==0.3.0.dev0+git.2f15ab7) (0.8.2)\n",
      "Requirement already satisfied: ipython>=4.0.0; python_version >= \"3.3\" in /usr/local/lib/python3.6/dist-packages (from ipywidgets->jupyter->nilmtk==0.3.0.dev0+git.2f15ab7) (5.5.0)\n",
      "Requirement already satisfied: widgetsnbextension~=3.4.0 in /usr/local/lib/python3.6/dist-packages (from ipywidgets->jupyter->nilmtk==0.3.0.dev0+git.2f15ab7) (3.4.2)\n",
      "Requirement already satisfied: pandocfilters>=1.4.1 in /usr/local/lib/python3.6/dist-packages (from nbconvert->jupyter->nilmtk==0.3.0.dev0+git.2f15ab7) (1.4.2)\n",
      "Requirement already satisfied: defusedxml in /usr/local/lib/python3.6/dist-packages (from nbconvert->jupyter->nilmtk==0.3.0.dev0+git.2f15ab7) (0.6.0)\n",
      "Requirement already satisfied: entrypoints>=0.2.2 in /usr/local/lib/python3.6/dist-packages (from nbconvert->jupyter->nilmtk==0.3.0.dev0+git.2f15ab7) (0.3)\n",
      "Requirement already satisfied: bleach in /usr/local/lib/python3.6/dist-packages (from nbconvert->jupyter->nilmtk==0.3.0.dev0+git.2f15ab7) (3.1.0)\n",
      "Requirement already satisfied: testpath in /usr/local/lib/python3.6/dist-packages (from nbconvert->jupyter->nilmtk==0.3.0.dev0+git.2f15ab7) (0.4.2)\n",
      "Requirement already satisfied: pygments in /usr/local/lib/python3.6/dist-packages (from nbconvert->jupyter->nilmtk==0.3.0.dev0+git.2f15ab7) (2.1.3)\n",
      "Requirement already satisfied: mistune>=0.8.1 in /usr/local/lib/python3.6/dist-packages (from nbconvert->jupyter->nilmtk==0.3.0.dev0+git.2f15ab7) (0.8.4)\n",
      "Collecting prompt-toolkit<2.1.0,>=2.0.0 (from jupyter-console->jupyter->nilmtk==0.3.0.dev0+git.2f15ab7)\n",
      "\u001b[?25l  Downloading https://files.pythonhosted.org/packages/f7/a7/9b1dd14ef45345f186ef69d175bdd2491c40ab1dfa4b2b3e4352df719ed7/prompt_toolkit-2.0.9-py3-none-any.whl (337kB)\n",
      "\u001b[K     |████████████████████████████████| 337kB 48.4MB/s \n",
      "\u001b[?25hRequirement already satisfied: jsonschema!=2.5.0,>=2.4 in /usr/local/lib/python3.6/dist-packages (from nbformat->notebook->jupyter->nilmtk==0.3.0.dev0+git.2f15ab7) (2.6.0)\n",
      "Requirement already satisfied: MarkupSafe>=0.23 in /usr/local/lib/python3.6/dist-packages (from jinja2->notebook->jupyter->nilmtk==0.3.0.dev0+git.2f15ab7) (1.1.1)\n",
      "Requirement already satisfied: pyzmq>=13 in /usr/local/lib/python3.6/dist-packages (from jupyter-client->notebook->jupyter->nilmtk==0.3.0.dev0+git.2f15ab7) (17.0.0)\n",
      "Requirement already satisfied: ptyprocess; os_name != \"nt\" in /usr/local/lib/python3.6/dist-packages (from terminado>=0.3.3; sys_platform != \"win32\"->notebook->jupyter->nilmtk==0.3.0.dev0+git.2f15ab7) (0.6.0)\n",
      "Requirement already satisfied: pickleshare in /usr/local/lib/python3.6/dist-packages (from ipython>=4.0.0; python_version >= \"3.3\"->ipywidgets->jupyter->nilmtk==0.3.0.dev0+git.2f15ab7) (0.7.5)\n",
      "Requirement already satisfied: pexpect; sys_platform != \"win32\" in /usr/local/lib/python3.6/dist-packages (from ipython>=4.0.0; python_version >= \"3.3\"->ipywidgets->jupyter->nilmtk==0.3.0.dev0+git.2f15ab7) (4.7.0)\n",
      "Requirement already satisfied: simplegeneric>0.8 in /usr/local/lib/python3.6/dist-packages (from ipython>=4.0.0; python_version >= \"3.3\"->ipywidgets->jupyter->nilmtk==0.3.0.dev0+git.2f15ab7) (0.8.1)\n",
      "Requirement already satisfied: webencodings in /usr/local/lib/python3.6/dist-packages (from bleach->nbconvert->jupyter->nilmtk==0.3.0.dev0+git.2f15ab7) (0.5.1)\n",
      "Requirement already satisfied: wcwidth in /usr/local/lib/python3.6/dist-packages (from prompt-toolkit<2.1.0,>=2.0.0->jupyter-console->jupyter->nilmtk==0.3.0.dev0+git.2f15ab7) (0.1.7)\n",
      "Building wheels for collected packages: nilmtk, networkx, hmmlearn\n",
      "  Building wheel for nilmtk (setup.py) ... \u001b[?25l\u001b[?25hdone\n",
      "  Stored in directory: /tmp/pip-ephem-wheel-cache-_ha9_sei/wheels/71/84/2f/eca0fb8014a0fe59881ab1a3e3374f4108211de4c7c3081e8d\n",
      "  Building wheel for networkx (setup.py) ... \u001b[?25l\u001b[?25hdone\n",
      "  Stored in directory: /root/.cache/pip/wheels/44/c0/34/6f98693a554301bdb405f8d65d95bbcd3e50180cbfdd98a94e\n",
      "  Building wheel for hmmlearn (setup.py) ... \u001b[?25l\u001b[?25hdone\n",
      "  Stored in directory: /root/.cache/pip/wheels/2c/b6/0e/63a865a30e21e01d04f417d8995fbfb793d6bd464707efc546\n",
      "Successfully built nilmtk networkx hmmlearn\n",
      "\u001b[31mERROR: ipython 5.5.0 has requirement prompt-toolkit<2.0.0,>=1.0.4, but you'll have prompt-toolkit 2.0.9 which is incompatible.\u001b[0m\n",
      "\u001b[31mERROR: albumentations 0.1.12 has requirement imgaug<0.2.7,>=0.2.5, but you'll have imgaug 0.2.9 which is incompatible.\u001b[0m\n",
      "Installing collected packages: psycopg2-binary, networkx, hmmlearn, nilmtk, prompt-toolkit\n",
      "  Found existing installation: networkx 2.3\n",
      "    Uninstalling networkx-2.3:\n",
      "      Successfully uninstalled networkx-2.3\n",
      "  Found existing installation: prompt-toolkit 1.0.16\n",
      "    Uninstalling prompt-toolkit-1.0.16:\n",
      "      Successfully uninstalled prompt-toolkit-1.0.16\n",
      "Successfully installed hmmlearn-0.2.2 networkx-2.1 nilmtk-0.3.0.dev0+git.2f15ab7 prompt-toolkit-2.0.9 psycopg2-binary-2.8.3\n"
     ]
    },
    {
     "data": {
      "application/vnd.colab-display-data+json": {
       "pip_warning": {
        "packages": [
         "prompt_toolkit"
        ]
       }
      }
     },
     "metadata": {
      "tags": []
     },
     "output_type": "display_data"
    }
   ],
   "source": [
    "pip install git+git://github.com/nilmtk/nilmtk.git"
   ]
  },
  {
   "cell_type": "code",
   "execution_count": 3,
   "metadata": {
    "colab": {
     "base_uri": "https://localhost:8080/",
     "height": 284
    },
    "colab_type": "code",
    "id": "LwfMpZX8HDnv",
    "outputId": "3a75c7fb-8359-42e5-84ab-c2f38a6db025"
   },
   "outputs": [
    {
     "name": "stdout",
     "output_type": "stream",
     "text": [
      "Collecting git+git://github.com/nilmtk/nilm_metadata.git\n",
      "  Cloning git://github.com/nilmtk/nilm_metadata.git to /tmp/pip-req-build-l4xbo4j8\n",
      "  Running command git clone -q git://github.com/nilmtk/nilm_metadata.git /tmp/pip-req-build-l4xbo4j8\n",
      "Requirement already satisfied: PyYAML in /usr/local/lib/python3.6/dist-packages (from nilm-metadata==0.2.3) (3.13)\n",
      "Requirement already satisfied: six in /usr/local/lib/python3.6/dist-packages (from nilm-metadata==0.2.3) (1.12.0)\n",
      "Requirement already satisfied: pandas in /usr/local/lib/python3.6/dist-packages (from nilm-metadata==0.2.3) (0.24.2)\n",
      "Requirement already satisfied: pytz>=2011k in /usr/local/lib/python3.6/dist-packages (from pandas->nilm-metadata==0.2.3) (2018.9)\n",
      "Requirement already satisfied: numpy>=1.12.0 in /usr/local/lib/python3.6/dist-packages (from pandas->nilm-metadata==0.2.3) (1.16.4)\n",
      "Requirement already satisfied: python-dateutil>=2.5.0 in /usr/local/lib/python3.6/dist-packages (from pandas->nilm-metadata==0.2.3) (2.5.3)\n",
      "Building wheels for collected packages: nilm-metadata\n",
      "  Building wheel for nilm-metadata (setup.py) ... \u001b[?25l\u001b[?25hdone\n",
      "  Stored in directory: /tmp/pip-ephem-wheel-cache-zrm443bm/wheels/75/e0/6d/1ec555a322c151fe20b4c9834753a692203b1f62a66b3ee235\n",
      "Successfully built nilm-metadata\n",
      "Installing collected packages: nilm-metadata\n",
      "Successfully installed nilm-metadata-0.2.3\n"
     ]
    }
   ],
   "source": [
    "pip install git+git://github.com/nilmtk/nilm_metadata.git"
   ]
  },
  {
   "cell_type": "code",
   "execution_count": 4,
   "metadata": {
    "colab": {
     "base_uri": "https://localhost:8080/",
     "height": 356
    },
    "colab_type": "code",
    "id": "6H2-FIOHHIMX",
    "outputId": "3b5324a3-4cd1-4b32-fae2-a39826422ff9"
   },
   "outputs": [
    {
     "name": "stdout",
     "output_type": "stream",
     "text": [
      "Collecting pandas==0.24.0\n",
      "\u001b[?25l  Downloading https://files.pythonhosted.org/packages/f9/e1/4a63ed31e1b1362d40ce845a5735c717a959bda992669468dae3420af2cd/pandas-0.24.0-cp36-cp36m-manylinux1_x86_64.whl (10.1MB)\n",
      "\u001b[K     |████████████████████████████████| 10.1MB 37.7MB/s \n",
      "\u001b[?25hRequirement already satisfied: pytz>=2011k in /usr/local/lib/python3.6/dist-packages (from pandas==0.24.0) (2018.9)\n",
      "Requirement already satisfied: python-dateutil>=2.5.0 in /usr/local/lib/python3.6/dist-packages (from pandas==0.24.0) (2.5.3)\n",
      "Requirement already satisfied: numpy>=1.12.0 in /usr/local/lib/python3.6/dist-packages (from pandas==0.24.0) (1.16.4)\n",
      "Requirement already satisfied: six>=1.5 in /usr/local/lib/python3.6/dist-packages (from python-dateutil>=2.5.0->pandas==0.24.0) (1.12.0)\n",
      "\u001b[31mERROR: nilmtk 0.3.0.dev0+git.2f15ab7 has requirement pandas==0.24.2, but you'll have pandas 0.24.0 which is incompatible.\u001b[0m\n",
      "Installing collected packages: pandas\n",
      "  Found existing installation: pandas 0.24.2\n",
      "    Uninstalling pandas-0.24.2:\n",
      "      Successfully uninstalled pandas-0.24.2\n",
      "Successfully installed pandas-0.24.0\n"
     ]
    },
    {
     "data": {
      "application/vnd.colab-display-data+json": {
       "pip_warning": {
        "packages": [
         "pandas"
        ]
       }
      }
     },
     "metadata": {
      "tags": []
     },
     "output_type": "display_data"
    }
   ],
   "source": [
    "pip install pandas==0.24.0"
   ]
  },
  {
   "cell_type": "code",
   "execution_count": 0,
   "metadata": {
    "colab": {},
    "colab_type": "code",
    "id": "gEnfnGHVFlbG"
   },
   "outputs": [],
   "source": [
    "from __future__ import print_function, division\n",
    "import time\n",
    "\n",
    "from matplotlib import rcParams\n",
    "import matplotlib.pyplot as plt\n",
    "\n",
    "from nilmtk import DataSet, TimeFrame, MeterGroup, HDFDataStore\n",
    "\n",
    "\n",
    "import random\n",
    "import sys\n",
    "import pandas as pd\n",
    "import numpy as np\n",
    "import h5py\n"
   ]
  },
  {
   "cell_type": "code",
   "execution_count": 0,
   "metadata": {
    "colab": {},
    "colab_type": "code",
    "id": "9l6SVMHmFlbJ"
   },
   "outputs": [],
   "source": [
    "# =====Define paramaters======\n",
    "info = {'filename': 'drive/My Drive/Dissertation/redd.h5',\n",
    "        'meter_label': 'fridge',  # [\"kettle\" , \"microwave\" , \"dishwasher\" , \"fridge\" , \"washing_machine\"]\n",
    "        'train_building': 1,\n",
    "        'test_building': 1,\n",
    "        'sample_period': 3\n",
    "       }\n",
    "\n",
    "# Parameters\n",
    "params = {'batch_size': 128,\n",
    "          'window_size': 50,\n",
    "          'model_name': 'DAE',\n",
    "          'shuffle': True}\n",
    "\n",
    "\n",
    "\n",
    "#test_window = {1: ('30-4-2011', '5-5-2011')}\n",
    "train_window = {1: (None, '25-4-2011')}\n",
    "test_window = {1: ('30-4-2011', None)}\n",
    "\n",
    "\n",
    "def load_dataset(train_window,test_window, filename, meter_label, train_building, test_building, **load_kwargs):\n",
    "    \n",
    "        #Load datasets\n",
    "    train = DataSet(filename)\n",
    "    test = DataSet(filename)\n",
    "\n",
    "    test.set_window(*test_window[test_building])\n",
    "    train.set_window(*train_window[test_building])\n",
    "    \n",
    "    x = train.buildings[train_building].elec.mains().all_meters()[0]\n",
    "    x = x.power_series_all_data(**load_kwargs)\n",
    "    \n",
    "    y = train.buildings[train_building].elec.submeters()[meter_label]\n",
    "    y = y.power_series_all_data(**load_kwargs)\n",
    "    \n",
    "    x.fillna(0, inplace=True)\n",
    "    y.fillna(0, inplace=True)\n",
    "    ix = x.index.intersection(y.index)\n",
    "    x = np.array(x[ix])\n",
    "    y = np.array(y[ix])\n",
    "    \n",
    "    #TEST\n",
    "    \n",
    "    x_test = test.buildings[test_building].elec.mains().all_meters()[0]\n",
    "    x_test = x_test.power_series_all_data(**load_kwargs)\n",
    "    \n",
    "    y_test = test.buildings[test_building].elec.submeters()[meter_label]\n",
    "    y_test = y_test.power_series_all_data(**load_kwargs)\n",
    "    \n",
    "    x_test.fillna(0, inplace=True)\n",
    "    y_test.fillna(0, inplace=True)\n",
    "    ix = x_test.index.intersection(y_test.index)\n",
    "    x_test = np.array(x_test[ix])\n",
    "    y_test = np.array(y_test[ix])\n",
    "\n",
    "    return x ,y,x_test,y_test \n",
    "  \n",
    "  \n",
    "x , y, x_test, y_test =load_dataset(train_window,test_window, **info)  \n",
    "\n"
   ]
  },
  {
   "cell_type": "markdown",
   "metadata": {
    "colab_type": "text",
    "id": "rPqkCnBBFlbP"
   },
   "source": [
    "### Nomralise Data"
   ]
  },
  {
   "cell_type": "code",
   "execution_count": 0,
   "metadata": {
    "colab": {},
    "colab_type": "code",
    "id": "ADiDynHwFlbQ"
   },
   "outputs": [],
   "source": [
    "def normalise(data,mmax):\n",
    "    return data/mmax\n",
    "\n",
    "def inversenormalise(data,mmax):\n",
    "    return data*mmax\n",
    "\n",
    "\n",
    "mmax = np.max(x)\n",
    "x = normalise(x,mmax)\n",
    "y = normalise(y,mmax)"
   ]
  },
  {
   "cell_type": "code",
   "execution_count": 0,
   "metadata": {
    "colab": {},
    "colab_type": "code",
    "id": "2IuuZJyBGvf9"
   },
   "outputs": [],
   "source": []
  },
  {
   "cell_type": "markdown",
   "metadata": {
    "colab_type": "text",
    "id": "sFH80Lr-Gz8a"
   },
   "source": [
    "## Windows\n"
   ]
  },
  {
   "cell_type": "code",
   "execution_count": 0,
   "metadata": {
    "colab": {},
    "colab_type": "code",
    "id": "0E7DTO2cF0nj"
   },
   "outputs": [],
   "source": [
    "indexer = np.arange(params['window_size'])[None, :] + np.arange(len(x)-params['window_size']+1)[:, None]\n",
    "x = x[indexer]\n",
    "y = y[params['window_size']-1:]\n",
    "\n",
    "x = np.reshape(x, (x.shape[0],params['window_size'],1))\n",
    "y = np.reshape(y, (y.shape[0],1))"
   ]
  },
  {
   "cell_type": "markdown",
   "metadata": {
    "colab_type": "text",
    "id": "Nigi0j4HFlbT"
   },
   "source": [
    "# GRU"
   ]
  },
  {
   "cell_type": "markdown",
   "metadata": {
    "colab_type": "text",
    "id": "uSHNmp4_0gFz"
   },
   "source": [
    "## Batch generator again"
   ]
  },
  {
   "cell_type": "code",
   "execution_count": 0,
   "metadata": {
    "colab": {},
    "colab_type": "code",
    "id": "yrTVwRyF0gFz"
   },
   "outputs": [],
   "source": [
    "def generator(inputs, targets,batch_size=128,window=50):\n",
    "        \n",
    "        num_of_steps = int((len(inputs)-window+1) / batch_size)# - 1\n",
    "        indexes=list(range(num_of_steps))\n",
    "        \n",
    "#         np.random.shuffle(indexes)\n",
    "        \n",
    "        \n",
    "        while True:\n",
    "            np.random.shuffle(indexes)\n",
    "            for ei, e in enumerate(indexes):\n",
    "              offset = e * batch_size\n",
    "\n",
    "              mainpart = inputs\n",
    "              meterpart = targets\n",
    "              mainpart = np.array(mainpart)\n",
    "              indexer = np.arange(window)[None, :] + np.arange(len(mainpart)-window+1)[offset:offset + batch_size, None]\n",
    "\n",
    "              mainpart = mainpart[indexer]\n",
    "              meterpart = meterpart[window - 1:][offset:offset + batch_size]\n",
    "\n",
    "              X = np.reshape(mainpart, (batch_size, window, 1))\n",
    "              Y = np.reshape(meterpart, (batch_size, 1))\n",
    "\n",
    "              yield X,Y\n",
    "\n"
   ]
  },
  {
   "cell_type": "code",
   "execution_count": 33,
   "metadata": {
    "colab": {
     "base_uri": "https://localhost:8080/",
     "height": 319
    },
    "colab_type": "code",
    "id": "WNzzrkbF0gF1",
    "outputId": "cc682f13-15dd-4be6-f788-e383b7e8d04d"
   },
   "outputs": [
    {
     "name": "stdout",
     "output_type": "stream",
     "text": [
      "Epoch 1/8\n",
      "1485/1485 [==============================] - 374s 252ms/step - loss: 3517.0567\n",
      "Epoch 2/8\n",
      "1485/1485 [==============================] - 358s 241ms/step - loss: 2854.4160\n",
      "Epoch 3/8\n",
      "1485/1485 [==============================] - 354s 238ms/step - loss: 3007.1380\n",
      "Epoch 4/8\n",
      "1485/1485 [==============================] - 351s 237ms/step - loss: 2878.4545\n",
      "Epoch 5/8\n",
      "1485/1485 [==============================] - 351s 236ms/step - loss: 2801.6931\n",
      "Epoch 6/8\n",
      "1485/1485 [==============================] - 350s 235ms/step - loss: 2600.1663\n",
      "Epoch 7/8\n",
      "1485/1485 [==============================] - 349s 235ms/step - loss: 2336.4841\n",
      "Epoch 8/8\n",
      "1485/1485 [==============================] - 349s 235ms/step - loss: 2911.1363\n"
     ]
    },
    {
     "data": {
      "text/plain": [
       "<keras.callbacks.History at 0x7f20b8845cc0>"
      ]
     },
     "execution_count": 33,
     "metadata": {
      "tags": []
     },
     "output_type": "execute_result"
    }
   ],
   "source": [
    "import random\n",
    "import sys\n",
    "import pandas as pd\n",
    "import numpy as np\n",
    "import h5py\n",
    "\n",
    "from keras.models import load_model\n",
    "from keras.models import Sequential\n",
    "from keras.layers import Dense, Conv1D, GRU, Bidirectional, Dropout\n",
    "\n",
    "\n",
    "model = Sequential()\n",
    "\n",
    "# 1D Conv\n",
    "model.add(Conv1D(16, 4, activation=\"relu\", padding=\"same\", strides=1, input_shape=(params['window_size'],1)))\n",
    "model.add(Conv1D(8, 4, activation=\"relu\", padding=\"same\", strides=1))\n",
    "\n",
    "# Bi-directional LSTMs\n",
    "model.add(Bidirectional(GRU(64, return_sequences=True, stateful=False), merge_mode='concat'))\n",
    "model.add(Bidirectional(GRU(128, return_sequences=False, stateful=False), merge_mode='concat'))\n",
    "\n",
    "# Fully Connected Layers\n",
    "model.add(Dense(64, activation='relu'))\n",
    "model.add(Dense(1, activation='linear'))\n",
    "\n",
    "model.compile(loss='mse', optimizer='adam')\n",
    "\n",
    "model.fit_generator(generator(x, y), \n",
    "                    steps_per_epoch =  int((len(x)-50+1) / 128) - 1, \n",
    "                    epochs=8)"
   ]
  },
  {
   "cell_type": "code",
   "execution_count": 0,
   "metadata": {
    "colab": {},
    "colab_type": "code",
    "id": "6qvVTee30gF4"
   },
   "outputs": [],
   "source": [
    "indexer = np.arange(50)[None, :] + np.arange(len(x)-50+1)[:, None]\n",
    "x1 = x[indexer]\n",
    "y1 = y[50-1:]\n",
    "\n",
    "x1 = np.reshape(x1, (x1.shape[0],50,1))\n",
    "y1 = np.reshape(y1, (y1.shape[0],1))\n",
    "predict = model.predict(x1, batch_size=128)"
   ]
  },
  {
   "cell_type": "code",
   "execution_count": 46,
   "metadata": {
    "colab": {
     "base_uri": "https://localhost:8080/",
     "height": 287
    },
    "colab_type": "code",
    "id": "Z7LsYwT50gGF",
    "outputId": "2e43ed01-0d20-4ca4-980a-4348f981c6dd"
   },
   "outputs": [
    {
     "data": {
      "text/plain": [
       "[<matplotlib.lines.Line2D at 0x7f20b6a1d0f0>]"
      ]
     },
     "execution_count": 46,
     "metadata": {
      "tags": []
     },
     "output_type": "execute_result"
    },
    {
     "data": {
      "image/png": "[encoded data removed]",
      "text/plain": [
       "<Figure size 432x288 with 1 Axes>"
      ]
     },
     "metadata": {
      "tags": []
     },
     "output_type": "display_data"
    }
   ],
   "source": [
    "plt.plot(predict[50000:55000])\n",
    "plt.plot(y1[50000:55000])"
   ]
  },
  {
   "cell_type": "code",
   "execution_count": 47,
   "metadata": {
    "colab": {
     "base_uri": "https://localhost:8080/",
     "height": 287
    },
    "colab_type": "code",
    "id": "IhTGQMPaQwqb",
    "outputId": "19f66881-6fa2-4a70-e893-abe9d5c05278"
   },
   "outputs": [
    {
     "data": {
      "text/plain": [
       "[<matplotlib.lines.Line2D at 0x7f20b6a9ebe0>]"
      ]
     },
     "execution_count": 47,
     "metadata": {
      "tags": []
     },
     "output_type": "execute_result"
    },
    {
     "data": {
      "image/png": "[encoded data removed]",
      "text/plain": [
       "<Figure size 432x288 with 1 Axes>"
      ]
     },
     "metadata": {
      "tags": []
     },
     "output_type": "display_data"
    }
   ],
   "source": [
    "plt.plot(predict[52000:68000])\n",
    "plt.plot(y1[52000:68000])"
   ]
  },
  {
   "cell_type": "code",
   "execution_count": 48,
   "metadata": {
    "colab": {
     "base_uri": "https://localhost:8080/",
     "height": 287
    },
    "colab_type": "code",
    "id": "DCB2FFQRRaOt",
    "outputId": "42a238ac-1467-4fd6-fbde-0aab6acf0d62"
   },
   "outputs": [
    {
     "data": {
      "text/plain": [
       "[<matplotlib.lines.Line2D at 0x7f20b6910668>]"
      ]
     },
     "execution_count": 48,
     "metadata": {
      "tags": []
     },
     "output_type": "execute_result"
    },
    {
     "data": {
      "image/png": "[encoded data removed]",
      "text/plain": [
       "<Figure size 432x288 with 1 Axes>"
      ]
     },
     "metadata": {
      "tags": []
     },
     "output_type": "display_data"
    }
   ],
   "source": [
    "plt.plot(predict)\n",
    "plt.plot(y1)"
   ]
  },
  {
   "cell_type": "code",
   "execution_count": 0,
   "metadata": {
    "colab": {},
    "colab_type": "code",
    "id": "egEVDDVLqyuu"
   },
   "outputs": [],
   "source": [
    "import numpy as np\n",
    "\n",
    "\n",
    "# from sklearn.metrics import confusion_matrix\n",
    "\n",
    "def get_TP(target, prediction, threshold):\n",
    "    '''\n",
    "    compute the  number of true positive\n",
    "\n",
    "    Parameters:\n",
    "    ----------------\n",
    "    target: the groud truth , np.array\n",
    "    prediction: the prediction, np.array\n",
    "    threshold: float\n",
    "    '''\n",
    "\n",
    "    assert (target.shape == prediction.shape)\n",
    "\n",
    "    target = 1 - np.clip(target, threshold, 0) / threshold\n",
    "    prediction = 1 - np.clip(prediction, threshold, 0) / threshold\n",
    "\n",
    "    tp_array = np.logical_and(target, prediction) * 1.0\n",
    "    tp = np.sum(tp_array)\n",
    "\n",
    "    return tp\n",
    "\n",
    "\n",
    "def get_FP(target, prediction, threshold):\n",
    "    '''\n",
    "    compute the  number of false positive\n",
    "\n",
    "    Parameters:\n",
    "    ----------------\n",
    "    target: the groud truth , np.array\n",
    "    prediction: the prediction, np.array\n",
    "    threshold: float\n",
    "    '''\n",
    "\n",
    "    assert (target.shape == prediction.shape)\n",
    "\n",
    "    target = np.clip(target, threshold, 0) / threshold\n",
    "    prediction = 1 - np.clip(prediction, threshold, 0) / threshold\n",
    "\n",
    "    fp_array = np.logical_and(target, prediction) * 1.0\n",
    "    fp = np.sum(fp_array)\n",
    "\n",
    "    return fp\n",
    "\n",
    "\n",
    "def get_FN(target, prediction, threshold):\n",
    "    '''\n",
    "    compute the  number of false negtive\n",
    "\n",
    "    Parameters:\n",
    "    ----------------\n",
    "    target: the groud truth , np.array\n",
    "    prediction: the prediction, np.array\n",
    "    threshold: float\n",
    "    '''\n",
    "\n",
    "    assert (target.shape == prediction.shape)\n",
    "\n",
    "    target = 1 - np.clip(target, threshold, 0) / threshold\n",
    "    prediction = np.clip(prediction, threshold, 0) / threshold\n",
    "\n",
    "    fn_array = np.logical_and(target, prediction) * 1.0\n",
    "    fn = np.sum(fn_array)\n",
    "\n",
    "    return fn\n",
    "\n",
    "\n",
    "def get_TN(target, prediction, threshold):\n",
    "    '''\n",
    "    compute the  number of true negative\n",
    "\n",
    "    Parameters:\n",
    "    ----------------\n",
    "    target: the groud truth , np.array\n",
    "    prediction: the prediction, np.array\n",
    "    threshold: float\n",
    "    '''\n",
    "\n",
    "    assert (target.shape == prediction.shape)\n",
    "\n",
    "    target = np.clip(target, threshold, 0) / threshold\n",
    "    prediction = np.clip(prediction, threshold, 0) / threshold\n",
    "\n",
    "    tn_array = np.logical_and(target, prediction) * 1.0\n",
    "    tn = np.sum(tn_array)\n",
    "\n",
    "    return tn\n",
    "\n",
    "\n",
    "def get_recall(target, prediction, threshold):\n",
    "    '''\n",
    "    compute the recall rate\n",
    "\n",
    "    Parameters:\n",
    "    ----------------\n",
    "    target: the groud truth , np.array\n",
    "    prediction: the prediction, np.array\n",
    "    threshold: float\n",
    "    '''\n",
    "\n",
    "    tp = get_TP(target, prediction, threshold)\n",
    "    fn = get_FN(target, prediction, threshold)\n",
    "    print('tp={0}'.format(tp))\n",
    "    print('fn={0}'.format(fn))\n",
    "    if tp + fn <= 0.0:\n",
    "        recall = tp / (tp + fn + 1e-9)\n",
    "    else:\n",
    "        recall = tp / (tp + fn)\n",
    "    return recall\n",
    "\n",
    "\n",
    "def get_precision(target, prediction, threshold):\n",
    "    '''\n",
    "    compute the  precision rate\n",
    "\n",
    "    Parameters:\n",
    "    ----------------\n",
    "    target: the groud truth , np.array\n",
    "    prediction: the prediction, np.array\n",
    "    threshold: float\n",
    "    '''\n",
    "\n",
    "    tp = get_TP(target, prediction, threshold)\n",
    "    fp = get_FP(target, prediction, threshold)\n",
    "    print('tp={0}'.format(tp))\n",
    "    print('fp={0}'.format(fp))\n",
    "    if tp + fp <= 0.0:\n",
    "        precision = tp / (tp + fp + 1e-9)\n",
    "    else:\n",
    "        precision = tp / (tp + fp)\n",
    "    return precision\n",
    "\n",
    "\n",
    "def get_F1(target, prediction, threshold):\n",
    "    '''\n",
    "    compute the  F1 score\n",
    "\n",
    "    Parameters:\n",
    "    ----------------\n",
    "    target: the groud truth , np.array\n",
    "    prediction: the prediction, np.array\n",
    "    threshold: float\n",
    "    '''\n",
    "\n",
    "    recall = get_recall(target, prediction, threshold)\n",
    "    print(recall)\n",
    "    precision = get_precision(target, prediction, threshold)\n",
    "    print(precision)\n",
    "    if precision == 0.0 or recall == 0.0:\n",
    "        f1 = 0.0\n",
    "    else:\n",
    "        f1 = 2 * precision * recall / (precision + recall)\n",
    "    return f1\n",
    "\n",
    "\n",
    "def get_accuracy(target, prediction, threshold):\n",
    "    '''\n",
    "    compute the accuracy rate\n",
    "\n",
    "    Parameters:\n",
    "    ----------------\n",
    "    target: the groud truth , np.array\n",
    "    prediction: the prediction, np.array\n",
    "    threshold: float\n",
    "    '''\n",
    "\n",
    "    tp = get_TP(target, prediction, threshold)\n",
    "    tn = get_TN(target, prediction, threshold)\n",
    "\n",
    "    accuracy = (tp + tn) / target.size\n",
    "\n",
    "    return accuracy\n",
    "\n",
    "\n",
    "def get_relative_error(target, prediction):\n",
    "    '''\n",
    "    compute the  relative_error\n",
    "\n",
    "    Parameters:\n",
    "    ----------------\n",
    "    target: the groud truth , np.array\n",
    "    prediction: the prediction, np.array\n",
    "    '''\n",
    "\n",
    "    assert (target.shape == prediction.shape)\n",
    "\n",
    "    return np.mean(np.nan_to_num(np.abs(target - prediction) / np.maximum(target, prediction)))\n",
    "\n",
    "\n",
    "def get_abs_error(target, prediction):\n",
    "    '''\n",
    "    compute the  absolute_error\n",
    "\n",
    "    Parameters:\n",
    "    ----------------\n",
    "    target: the groud truth , np.array\n",
    "    prediction: the prediction, np.array\n",
    "    '''\n",
    "\n",
    "    assert (target.shape == prediction.shape)\n",
    "\n",
    "    return np.mean(np.abs(target - prediction))\n",
    "\n",
    "\n",
    "def get_nde(target, prediction):\n",
    "    '''\n",
    "    compute the  normalized disaggregation error\n",
    "\n",
    "    Parameters:\n",
    "    ----------------\n",
    "    target: the groud truth , np.array\n",
    "    prediction: the prediction, np.array\n",
    "    '''\n",
    "\n",
    "    return np.sum((target - prediction) ** 2) / np.sum((target ** 2))\n",
    "\n",
    "\n",
    "def get_sae(target, prediction, sample_second):\n",
    "    '''\n",
    "    compute the signal aggregate error\n",
    "    sae = |\\hat(r)-r|/r where r is the ground truth total energy;\n",
    "    \\hat(r) is the predicted total energy.\n",
    "    '''\n",
    "    r = np.sum(target * sample_second * 1.0 / 3600.0)\n",
    "    rhat = np.sum(prediction * sample_second * 1.0 / 3600.0)\n",
    "\n",
    "    return np.abs(r - rhat) / np.abs(r)"
   ]
  },
  {
   "cell_type": "code",
   "execution_count": 57,
   "metadata": {
    "colab": {
     "base_uri": "https://localhost:8080/",
     "height": 195
    },
    "colab_type": "code",
    "id": "lzNitOuCRjwL",
    "outputId": "95fbd39f-b2c4-45e6-fb2d-28e87c8163ce"
   },
   "outputs": [
    {
     "name": "stdout",
     "output_type": "stream",
     "text": [
      "\n",
      "tp=44521.0\n",
      "fn=39.0\n",
      "0.9991247755834829\n",
      "tp=44521.0\n",
      "fp=16548.0\n",
      "0.7290278209893727\n",
      "F1:0.8429692603357032\n",
      "Mean absolute error(in Watts):19.72992515563965\n",
      "Relative error:0.26517266035079956\n"
     ]
    }
   ],
   "source": [
    "#import nilm_metric as nm\n",
    "\n",
    "y1 = np.reshape(y1, (y1.shape[0],1))\n",
    "threshold = 50\n",
    "print()\n",
    "print('F1:{0}'.format(get_F1(y1, predict, threshold)))\n",
    "print('Mean absolute error(in Watts):{0}'.format(get_abs_error(y1, predict)))\n",
    "print('Relative error:{0}'.format(get_relative_error(y1, predict)))"
   ]
  },
  {
   "cell_type": "code",
   "execution_count": 0,
   "metadata": {
    "colab": {},
    "colab_type": "code",
    "id": "5FwNQY1IrOgx"
   },
   "outputs": [],
   "source": []
  }
 ],
 "metadata": {
  "accelerator": "GPU",
  "colab": {
   "name": "e20_S2P_batch_generator.ipynb",
   "provenance": [],
   "toc_visible": true,
   "version": "0.3.2"
  },
  "kernelspec": {
   "display_name": "Python 3",
   "language": "python",
   "name": "python3"
  },
  "language_info": {
   "codemirror_mode": {
    "name": "ipython",
    "version": 3
   },
   "file_extension": ".py",
   "mimetype": "text/x-python",
   "name": "python",
   "nbconvert_exporter": "python",
   "pygments_lexer": "ipython3",
   "version": "3.6.7"
  }
 },
 "nbformat": 4,
 "nbformat_minor": 1
}

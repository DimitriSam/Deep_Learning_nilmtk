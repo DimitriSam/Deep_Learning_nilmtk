{
 "cells": [
  {
   "cell_type": "code",
   "execution_count": null,
   "metadata": {
    "colab": {
     "base_uri": "https://localhost:8080/",
     "height": 35
    },
    "colab_type": "code",
    "id": "nheyVgwbFlbA",
    "outputId": "97bc0836-8122-4259-b63e-87a8a948a66d"
   },
   "outputs": [],
   "source": [
    "'''\n",
    "P2P\n",
    "\n",
    "with normalisation\n",
    "no dropout\n",
    "'''"
   ]
  },
  {
   "cell_type": "code",
   "execution_count": null,
   "metadata": {
    "colab": {
     "base_uri": "https://localhost:8080/",
     "height": 126
    },
    "colab_type": "code",
    "id": "eaYRKT2BFpbM",
    "outputId": "668aae64-b918-4d14-9cac-b7c36fe8f408"
   },
   "outputs": [],
   "source": [
    "from google.colab import drive\n",
    "drive.mount('/content/drive')\n",
    "import sys\n",
    "sys.path.insert(0,'drive/My Drive/Dissertation')"
   ]
  },
  {
   "cell_type": "code",
   "execution_count": null,
   "metadata": {
    "colab": {
     "base_uri": "https://localhost:8080/",
     "height": 1000
    },
    "colab_type": "code",
    "id": "frkTSzkzHC9C",
    "outputId": "4ef28cdd-9b05-414e-d385-168324fefcc9"
   },
   "outputs": [],
   "source": [
    "pip install git+git://github.com/nilmtk/nilmtk.git"
   ]
  },
  {
   "cell_type": "code",
   "execution_count": null,
   "metadata": {
    "colab": {
     "base_uri": "https://localhost:8080/",
     "height": 284
    },
    "colab_type": "code",
    "id": "LwfMpZX8HDnv",
    "outputId": "f0e4a698-2b6b-4b0a-d8d2-676cad27659c"
   },
   "outputs": [],
   "source": [
    "pip install git+git://github.com/nilmtk/nilm_metadata.git"
   ]
  },
  {
   "cell_type": "code",
   "execution_count": null,
   "metadata": {
    "colab": {
     "base_uri": "https://localhost:8080/",
     "height": 336
    },
    "colab_type": "code",
    "id": "6H2-FIOHHIMX",
    "outputId": "b57a2de2-cc0c-49ff-f72e-f06bafee5977"
   },
   "outputs": [],
   "source": [
    "pip install pandas==0.24.0"
   ]
  },
  {
   "cell_type": "code",
   "execution_count": 13,
   "metadata": {
    "colab": {},
    "colab_type": "code",
    "id": "gEnfnGHVFlbG"
   },
   "outputs": [],
   "source": [
    "from __future__ import print_function, division\n",
    "import time\n",
    "\n",
    "from matplotlib import rcParams\n",
    "import matplotlib.pyplot as plt\n",
    "\n",
    "from nilmtk import DataSet, TimeFrame, MeterGroup, HDFDataStore\n",
    "\n",
    "\n",
    "import random\n",
    "import sys\n",
    "import pandas as pd\n",
    "import numpy as np\n",
    "import h5py\n"
   ]
  },
  {
   "cell_type": "code",
   "execution_count": 241,
   "metadata": {
    "colab": {},
    "colab_type": "code",
    "id": "9l6SVMHmFlbJ"
   },
   "outputs": [],
   "source": [
    "# =====Define paramaters======\n",
    "info = {'filename': 'C:/Users/dimit/Desktop/Msc Business Analytics/Dissertation/My_code/redd.h5',\n",
    "        'meter_label': 'fridge',  # [\"kettle\" , \"microwave\" , \"dishwasher\" , \"fridge\" , \"washing_machine\"]\n",
    "        'train_building': 1,\n",
    "        'test_building': 1,\n",
    "        'sample_period': 3\n",
    "       }\n",
    "\n",
    "# Parameters\n",
    "params = {'batch_size': 128,\n",
    "          'window_size': 50,\n",
    "          'model_name': 'DAE',\n",
    "          'shuffle': True}\n",
    "\n",
    "\n",
    "\n",
    "#test_window = {1: ('30-4-2011', '5-5-2011')}\n",
    "train_window = {1: (None, '25-4-2011')}\n",
    "test_window = {1: ('30-4-2011', None)}\n",
    "\n",
    "\n",
    "def load_dataset(train_window,test_window, filename, meter_label, train_building, test_building, **load_kwargs):\n",
    "    \n",
    "        #Load datasets\n",
    "    train = DataSet(filename)\n",
    "    test = DataSet(filename)\n",
    "\n",
    "    test.set_window(*test_window[test_building])\n",
    "    train.set_window(*train_window[test_building])\n",
    "    \n",
    "    x = train.buildings[train_building].elec.mains().all_meters()[0]\n",
    "    x = x.power_series_all_data(**load_kwargs)\n",
    "    \n",
    "    y = train.buildings[train_building].elec.submeters()[meter_label]\n",
    "    y = y.power_series_all_data(**load_kwargs)\n",
    "    \n",
    "    x.fillna(0, inplace=True)\n",
    "    y.fillna(0, inplace=True)\n",
    "    ix = x.index.intersection(y.index)\n",
    "    x = np.array(x[ix])\n",
    "    y = np.array(y[ix])\n",
    "    \n",
    "    #TEST\n",
    "    \n",
    "    x_test = test.buildings[test_building].elec.mains().all_meters()[0]\n",
    "    x_test = x_test.power_series_all_data(**load_kwargs)\n",
    "    \n",
    "    y_test = test.buildings[test_building].elec.submeters()[meter_label]\n",
    "    y_test = y_test.power_series_all_data(**load_kwargs)\n",
    "    \n",
    "    x_test.fillna(0, inplace=True)\n",
    "    y_test.fillna(0, inplace=True)\n",
    "    ix = x_test.index.intersection(y_test.index)\n",
    "    x_test = np.array(x_test[ix])\n",
    "    y_test = np.array(y_test[ix])\n",
    "\n",
    "    return x ,y,x_test,y_test \n",
    "  \n",
    "  \n",
    "x , y, x_test, y_test =load_dataset(train_window,test_window, **info)  \n",
    "\n"
   ]
  },
  {
   "cell_type": "markdown",
   "metadata": {
    "colab_type": "text",
    "id": "rPqkCnBBFlbP"
   },
   "source": [
    "### Nomralise Data"
   ]
  },
  {
   "cell_type": "code",
   "execution_count": null,
   "metadata": {
    "colab": {},
    "colab_type": "code",
    "id": "ADiDynHwFlbQ"
   },
   "outputs": [],
   "source": [
    "def normalise(data,mmax):\n",
    "    return data/mmax\n",
    "\n",
    "def inversenormalise(data,mmax):\n",
    "    return data*mmax\n",
    "\n",
    "\n",
    "mmax = np.max(x)\n",
    "x = normalise(x,mmax)\n",
    "y = normalise(y,mmax)"
   ]
  },
  {
   "cell_type": "code",
   "execution_count": null,
   "metadata": {
    "colab": {},
    "colab_type": "code",
    "id": "2IuuZJyBGvf9"
   },
   "outputs": [],
   "source": []
  },
  {
   "cell_type": "markdown",
   "metadata": {
    "colab_type": "text",
    "id": "sFH80Lr-Gz8a"
   },
   "source": [
    "## Windows\n"
   ]
  },
  {
   "cell_type": "code",
   "execution_count": 242,
   "metadata": {
    "colab": {},
    "colab_type": "code",
    "id": "0E7DTO2cF0nj"
   },
   "outputs": [],
   "source": [
    "indexer = np.arange(params['window_size'])[None, :] + np.arange(len(x)-params['window_size']+1)[:, None]\n",
    "x = x[indexer]\n",
    "y = y[params['window_size']-1:]\n",
    "\n",
    "x = np.reshape(x, (x.shape[0],params['window_size'],1))\n",
    "y = np.reshape(y, (y.shape[0],1))"
   ]
  },
  {
   "cell_type": "markdown",
   "metadata": {
    "colab_type": "text",
    "id": "Nigi0j4HFlbT"
   },
   "source": [
    "# GRU"
   ]
  },
  {
   "cell_type": "code",
   "execution_count": 243,
   "metadata": {
    "colab": {
     "base_uri": "https://localhost:8080/",
     "height": 641
    },
    "colab_type": "code",
    "id": "LZN6PV24FlbT",
    "outputId": "a22d9728-d8ac-4dbb-a2c1-4604a741628f",
    "scrolled": true
   },
   "outputs": [
    {
     "name": "stdout",
     "output_type": "stream",
     "text": [
      "Epoch 1/8\n",
      "190307/190307 [==============================] - 385s 2ms/step - loss: 4863.7057\n",
      "Epoch 2/8\n",
      "190307/190307 [==============================] - 450s 2ms/step - loss: 3741.2355\n",
      "Epoch 3/8\n",
      "190307/190307 [==============================] - 500s 3ms/step - loss: 2899.2057\n",
      "Epoch 4/8\n",
      "190307/190307 [==============================] - 523s 3ms/step - loss: 4815.6837\n",
      "Epoch 5/8\n",
      "190307/190307 [==============================] - 582s 3ms/step - loss: 5548.1971\n",
      "Epoch 6/8\n",
      "190307/190307 [==============================] - 588s 3ms/step - loss: 3873.6817\n",
      "Epoch 7/8\n",
      "190307/190307 [==============================] - 539s 3ms/step - loss: 2966.6104\n",
      "Epoch 8/8\n",
      "190307/190307 [==============================] - 495s 3ms/step - loss: 2512.9743\n"
     ]
    },
    {
     "data": {
      "text/plain": [
       "<keras.callbacks.History at 0x20faf392f28>"
      ]
     },
     "execution_count": 243,
     "metadata": {},
     "output_type": "execute_result"
    }
   ],
   "source": [
    "import random\n",
    "import sys\n",
    "import pandas as pd\n",
    "import numpy as np\n",
    "import h5py\n",
    "\n",
    "from keras.models import load_model\n",
    "from keras.models import Sequential\n",
    "from keras.layers import Dense, Conv1D, GRU, Bidirectional, Dropout\n",
    "\n",
    "\n",
    "model = Sequential()\n",
    "\n",
    "# 1D Conv\n",
    "model.add(Conv1D(16, 4, activation=\"relu\", padding=\"same\", strides=1, input_shape=(params['window_size'],1)))\n",
    "model.add(Conv1D(8, 4, activation=\"relu\", padding=\"same\", strides=1))\n",
    "\n",
    "# Bi-directional LSTMs\n",
    "model.add(Bidirectional(GRU(64, return_sequences=True, stateful=False), merge_mode='concat'))\n",
    "model.add(Bidirectional(GRU(128, return_sequences=False, stateful=False), merge_mode='concat'))\n",
    "\n",
    "# Fully Connected Layers\n",
    "model.add(Dense(64, activation='relu'))\n",
    "model.add(Dense(1, activation='linear'))\n",
    "\n",
    "model.compile(loss='mse', optimizer='adam')\n",
    "\n",
    "model.fit(x, y, epochs=8, batch_size=128, shuffle=False)"
   ]
  },
  {
   "cell_type": "code",
   "execution_count": 244,
   "metadata": {
    "colab": {},
    "colab_type": "code",
    "id": "-5izFuAeFlbX"
   },
   "outputs": [],
   "source": [
    "predict = model.predict(x, batch_size=128)\n"
   ]
  },
  {
   "cell_type": "code",
   "execution_count": 249,
   "metadata": {
    "colab": {
     "base_uri": "https://localhost:8080/",
     "height": 287
    },
    "colab_type": "code",
    "id": "eoBZf2PNFlbZ",
    "outputId": "922a3544-ba20-4888-b0e8-8fe9225735f8",
    "scrolled": false
   },
   "outputs": [
    {
     "data": {
      "text/plain": [
       "[<matplotlib.lines.Line2D at 0x20f89a5d6a0>]"
      ]
     },
     "execution_count": 249,
     "metadata": {},
     "output_type": "execute_result"
    },
    {
     "data": {
      "image/png": "[encoded data removed]",
      "text/plain": [
       "<Figure size 432x288 with 1 Axes>"
      ]
     },
     "metadata": {
      "needs_background": "light"
     },
     "output_type": "display_data"
    }
   ],
   "source": [
    "plt.plot(predict[50000:55000])\n",
    "plt.plot(y[50000:55000])"
   ]
  },
  {
   "cell_type": "code",
   "execution_count": 246,
   "metadata": {},
   "outputs": [
    {
     "name": "stdout",
     "output_type": "stream",
     "text": [
      "\n",
      "tp=44540.0\n",
      "fn=20.0\n",
      "0.9995511669658886\n",
      "tp=44540.0\n",
      "fp=12156.0\n",
      "0.78559333991816\n",
      "F1:0.8797503357825708\n",
      "Mean absolute error(in Watts):19.946544647216797\n",
      "Relative error:0.24632394313812256\n"
     ]
    }
   ],
   "source": [
    "import nilm_metric as nm\n",
    "\n",
    "\n",
    "threshold = 50\n",
    "print()\n",
    "print('F1:{0}'.format(nm.get_F1(y, predict, threshold)))\n",
    "print('Mean absolute error(in Watts):{0}'.format(nm.get_abs_error(y, predict)))\n",
    "print('Relative error:{0}'.format(nm.get_relative_error(y, predict)))"
   ]
  },
  {
   "cell_type": "code",
   "execution_count": 247,
   "metadata": {
    "colab": {
     "base_uri": "https://localhost:8080/",
     "height": 287
    },
    "colab_type": "code",
    "id": "gv8BP9AEFlbd",
    "outputId": "04ff3107-6464-47ba-da92-6acca7e3613d"
   },
   "outputs": [
    {
     "data": {
      "text/plain": [
       "[<matplotlib.lines.Line2D at 0x2102845d5c0>]"
      ]
     },
     "execution_count": 247,
     "metadata": {},
     "output_type": "execute_result"
    },
    {
     "data": {
      "image/png": "[encoded data removed]",
      "text/plain": [
       "<Figure size 432x288 with 1 Axes>"
      ]
     },
     "metadata": {
      "needs_background": "light"
     },
     "output_type": "display_data"
    }
   ],
   "source": [
    "plt.plot(predict[52000:58000])\n",
    "plt.plot(y[52000:58000])"
   ]
  },
  {
   "cell_type": "code",
   "execution_count": 248,
   "metadata": {
    "colab": {
     "base_uri": "https://localhost:8080/",
     "height": 287
    },
    "colab_type": "code",
    "id": "ZfjKtBQukQFP",
    "outputId": "21e6b97f-43ac-4b91-b5e6-411ec1015146"
   },
   "outputs": [
    {
     "data": {
      "text/plain": [
       "[<matplotlib.lines.Line2D at 0x20f899fe400>]"
      ]
     },
     "execution_count": 248,
     "metadata": {},
     "output_type": "execute_result"
    },
    {
     "data": {
      "image/png": "[encoded data removed]",
      "text/plain": [
       "<Figure size 432x288 with 1 Axes>"
      ]
     },
     "metadata": {
      "needs_background": "light"
     },
     "output_type": "display_data"
    }
   ],
   "source": [
    "plt.plot(predict)\n",
    "plt.plot(y)"
   ]
  },
  {
   "cell_type": "markdown",
   "metadata": {
    "colab_type": "text",
    "id": "qvF57BG-npnS"
   },
   "source": [
    "## Test"
   ]
  },
  {
   "cell_type": "code",
   "execution_count": null,
   "metadata": {
    "colab": {},
    "colab_type": "code",
    "id": "9cWeiGpanpN8"
   },
   "outputs": [],
   "source": [
    "mmax = np.max(x_test)\n",
    "x_test = normalise(x_test,mmax)\n",
    "\n",
    "\n",
    "indexer = np.arange(params['window_size'])[None, :] + np.arange(len(x)-params['window_size']+1)[:, None]\n",
    "x_test = x_test[indexer]\n",
    "x_test = np.reshape(x_test, (x_test.shape[0],params['window_size'],1))\n"
   ]
  },
  {
   "cell_type": "code",
   "execution_count": null,
   "metadata": {
    "colab": {},
    "colab_type": "code",
    "id": "Lgoxn33yn-kz"
   },
   "outputs": [],
   "source": [
    "predict = model.predict(x_test, batch_size=128)\n"
   ]
  },
  {
   "cell_type": "code",
   "execution_count": null,
   "metadata": {
    "colab": {
     "base_uri": "https://localhost:8080/",
     "height": 287
    },
    "colab_type": "code",
    "id": "SiNOM2mdoOlB",
    "outputId": "f4b9c6ef-ef58-4e14-8d66-bb657710f11b"
   },
   "outputs": [],
   "source": [
    "predict = inversenormalise(predict,mmax)\n",
    "plt.plot(predict)\n",
    "plt.plot(y_test)"
   ]
  },
  {
   "cell_type": "code",
   "execution_count": null,
   "metadata": {
    "colab": {
     "base_uri": "https://localhost:8080/",
     "height": 287
    },
    "colab_type": "code",
    "id": "ycm5auExpGvD",
    "outputId": "7c60e44b-46d8-45c0-d6f0-f1a7e54cf231"
   },
   "outputs": [],
   "source": [
    "plt.plot(predict[1500:3000])\n",
    "plt.plot(y_test[1500:3000])"
   ]
  },
  {
   "cell_type": "markdown",
   "metadata": {
    "colab_type": "text",
    "id": "JkAso40sje6a"
   },
   "source": [
    "## Batch Genarator"
   ]
  },
  {
   "cell_type": "code",
   "execution_count": 141,
   "metadata": {
    "colab": {},
    "colab_type": "code",
    "id": "rVhMRF86Flby"
   },
   "outputs": [],
   "source": [
    "import numpy as np\n",
    "\n",
    "\n",
    "class Batch_Generator():\n",
    "\n",
    "    def __init__(self, batch_size, window_size, model_name, shuffle=True):\n",
    "\n",
    "        self.name = model_name\n",
    "        self.batch_size = batch_size\n",
    "        self.shuffle = shuffle\n",
    "        self.window_size = window_size\n",
    "        \n",
    "    def num_epochs(self, inputs):\n",
    "        \n",
    "        batch_size = self.batch_size \n",
    "        num_of_batches = int((len(inputs)-self.window_size+1) / batch_size) - 1\n",
    "        n_epochs = num_of_batches\n",
    "        \n",
    "        return n_epochs\n",
    "\n",
    "    def generator(self, inputs, targets):\n",
    "        while True:\n",
    "\n",
    "          #num_meters = len(inputs)\n",
    "          #batch_size = int(self.batch_size / num_meters)\n",
    "          #num_of_batches = [(int(len(inputs[i]) / batch_size) - 1) for i in range(len(inputs))]\n",
    "          batch_size = self.batch_size\n",
    "\n",
    "          n_epochs = self.num_epochs(inputs)\n",
    "\n",
    "\n",
    "          # Batch indexes\n",
    "          self.indexes = list(range(n_epochs))\n",
    "\n",
    "          if self.shuffle == True:\n",
    "              np.random.shuffle(self.indexes)\n",
    "\n",
    "          for ei, e in enumerate(self.indexes):\n",
    "\n",
    "              offset = e * batch_size\n",
    "\n",
    "              # Initialization\n",
    "              X_batch = np.zeros((batch_size, self.window_size, 1))  # (128,100,1)\n",
    "              Y_batch = np.zeros((batch_size, 1))  # (128,1)\n",
    "\n",
    "              # Create a batch out of data from all buildings\n",
    "              \n",
    "              mainpart = inputs\n",
    "              meterpart = targets\n",
    "\n",
    "              indexer = np.arange(self.window_size)[None, :] + np.arange(len(inputs)-self.window_size+1)[offset:offset + batch_size, None]\n",
    "\n",
    "              mainpart = mainpart[indexer]\n",
    "              meterpart = meterpart[self.window_size - 1:][offset:offset + batch_size]\n",
    "\n",
    "              X = np.reshape(mainpart, (batch_size, self.window_size, 1))\n",
    "              Y = np.reshape(meterpart, (batch_size, 1))\n",
    "\n",
    "              X_batch[0:  batch_size] = np.array(X)\n",
    "              Y_batch[0:batch_size] = np.array(Y)\n",
    "              X_batch = np.around(X_batch,decimals=5)    \n",
    "              Y_batch = np.around(Y_batch,decimals=5) \n",
    "\n",
    "#               # Shuffle data\n",
    "#               if self.shuffle == True:\n",
    "#                 p = np.random.permutation(len(X_batch))\n",
    "#                 X_batch, Y_batch = X_batch[p], Y_batch[p]\n",
    "       \n",
    "              yield X_batch, Y_batch\n",
    "# Batch generator\n",
    "# Parameters\n",
    "params = {'batch_size': 128,\n",
    "          'window_size': 50,\n",
    "          'model_name': 'DAE',\n",
    "          'shuffle': True}\n",
    "\n",
    "\n",
    "\n",
    "gen = Batch_Generator(**params)\n",
    "t = gen.generator(x, y)\n",
    "steps_epochs = gen.num_epochs(x)"
   ]
  },
  {
   "cell_type": "code",
   "execution_count": 142,
   "metadata": {},
   "outputs": [
    {
     "name": "stdout",
     "output_type": "stream",
     "text": [
      "Epoch 1/8\n",
      " 435/1485 [=======>......................] - ETA: 4:36 - loss: 6402.1733"
     ]
    },
    {
     "ename": "KeyboardInterrupt",
     "evalue": "",
     "output_type": "error",
     "traceback": [
      "\u001b[1;31m---------------------------------------------------------------------------\u001b[0m",
      "\u001b[1;31mKeyboardInterrupt\u001b[0m                         Traceback (most recent call last)",
      "\u001b[1;32m<ipython-input-142-bb925fc0195a>\u001b[0m in \u001b[0;36m<module>\u001b[1;34m\u001b[0m\n\u001b[0;32m     17\u001b[0m model.fit_generator(Batch_Generator(**params).generator(x, y), \n\u001b[0;32m     18\u001b[0m                     \u001b[0msteps_per_epoch\u001b[0m \u001b[1;33m=\u001b[0m  \u001b[0mgen\u001b[0m\u001b[1;33m.\u001b[0m\u001b[0mnum_epochs\u001b[0m\u001b[1;33m(\u001b[0m\u001b[0mx\u001b[0m\u001b[1;33m)\u001b[0m\u001b[1;33m,\u001b[0m\u001b[1;33m\u001b[0m\u001b[1;33m\u001b[0m\u001b[0m\n\u001b[1;32m---> 19\u001b[1;33m                     epochs=8)\n\u001b[0m",
      "\u001b[1;32m~\\Anaconda3\\envs\\nilmtk-env\\lib\\site-packages\\keras\\legacy\\interfaces.py\u001b[0m in \u001b[0;36mwrapper\u001b[1;34m(*args, **kwargs)\u001b[0m\n\u001b[0;32m     89\u001b[0m                 warnings.warn('Update your `' + object_name + '` call to the ' +\n\u001b[0;32m     90\u001b[0m                               'Keras 2 API: ' + signature, stacklevel=2)\n\u001b[1;32m---> 91\u001b[1;33m             \u001b[1;32mreturn\u001b[0m \u001b[0mfunc\u001b[0m\u001b[1;33m(\u001b[0m\u001b[1;33m*\u001b[0m\u001b[0margs\u001b[0m\u001b[1;33m,\u001b[0m \u001b[1;33m**\u001b[0m\u001b[0mkwargs\u001b[0m\u001b[1;33m)\u001b[0m\u001b[1;33m\u001b[0m\u001b[1;33m\u001b[0m\u001b[0m\n\u001b[0m\u001b[0;32m     92\u001b[0m         \u001b[0mwrapper\u001b[0m\u001b[1;33m.\u001b[0m\u001b[0m_original_function\u001b[0m \u001b[1;33m=\u001b[0m \u001b[0mfunc\u001b[0m\u001b[1;33m\u001b[0m\u001b[1;33m\u001b[0m\u001b[0m\n\u001b[0;32m     93\u001b[0m         \u001b[1;32mreturn\u001b[0m \u001b[0mwrapper\u001b[0m\u001b[1;33m\u001b[0m\u001b[1;33m\u001b[0m\u001b[0m\n",
      "\u001b[1;32m~\\Anaconda3\\envs\\nilmtk-env\\lib\\site-packages\\keras\\engine\\training.py\u001b[0m in \u001b[0;36mfit_generator\u001b[1;34m(self, generator, steps_per_epoch, epochs, verbose, callbacks, validation_data, validation_steps, class_weight, max_queue_size, workers, use_multiprocessing, shuffle, initial_epoch)\u001b[0m\n\u001b[0;32m   1416\u001b[0m             \u001b[0muse_multiprocessing\u001b[0m\u001b[1;33m=\u001b[0m\u001b[0muse_multiprocessing\u001b[0m\u001b[1;33m,\u001b[0m\u001b[1;33m\u001b[0m\u001b[1;33m\u001b[0m\u001b[0m\n\u001b[0;32m   1417\u001b[0m             \u001b[0mshuffle\u001b[0m\u001b[1;33m=\u001b[0m\u001b[0mshuffle\u001b[0m\u001b[1;33m,\u001b[0m\u001b[1;33m\u001b[0m\u001b[1;33m\u001b[0m\u001b[0m\n\u001b[1;32m-> 1418\u001b[1;33m             initial_epoch=initial_epoch)\n\u001b[0m\u001b[0;32m   1419\u001b[0m \u001b[1;33m\u001b[0m\u001b[0m\n\u001b[0;32m   1420\u001b[0m     \u001b[1;33m@\u001b[0m\u001b[0minterfaces\u001b[0m\u001b[1;33m.\u001b[0m\u001b[0mlegacy_generator_methods_support\u001b[0m\u001b[1;33m\u001b[0m\u001b[1;33m\u001b[0m\u001b[0m\n",
      "\u001b[1;32m~\\Anaconda3\\envs\\nilmtk-env\\lib\\site-packages\\keras\\engine\\training_generator.py\u001b[0m in \u001b[0;36mfit_generator\u001b[1;34m(model, generator, steps_per_epoch, epochs, verbose, callbacks, validation_data, validation_steps, class_weight, max_queue_size, workers, use_multiprocessing, shuffle, initial_epoch)\u001b[0m\n\u001b[0;32m    215\u001b[0m                 outs = model.train_on_batch(x, y,\n\u001b[0;32m    216\u001b[0m                                             \u001b[0msample_weight\u001b[0m\u001b[1;33m=\u001b[0m\u001b[0msample_weight\u001b[0m\u001b[1;33m,\u001b[0m\u001b[1;33m\u001b[0m\u001b[1;33m\u001b[0m\u001b[0m\n\u001b[1;32m--> 217\u001b[1;33m                                             class_weight=class_weight)\n\u001b[0m\u001b[0;32m    218\u001b[0m \u001b[1;33m\u001b[0m\u001b[0m\n\u001b[0;32m    219\u001b[0m                 \u001b[0mouts\u001b[0m \u001b[1;33m=\u001b[0m \u001b[0mto_list\u001b[0m\u001b[1;33m(\u001b[0m\u001b[0mouts\u001b[0m\u001b[1;33m)\u001b[0m\u001b[1;33m\u001b[0m\u001b[1;33m\u001b[0m\u001b[0m\n",
      "\u001b[1;32m~\\Anaconda3\\envs\\nilmtk-env\\lib\\site-packages\\keras\\engine\\training.py\u001b[0m in \u001b[0;36mtrain_on_batch\u001b[1;34m(self, x, y, sample_weight, class_weight)\u001b[0m\n\u001b[0;32m   1215\u001b[0m             \u001b[0mins\u001b[0m \u001b[1;33m=\u001b[0m \u001b[0mx\u001b[0m \u001b[1;33m+\u001b[0m \u001b[0my\u001b[0m \u001b[1;33m+\u001b[0m \u001b[0msample_weights\u001b[0m\u001b[1;33m\u001b[0m\u001b[1;33m\u001b[0m\u001b[0m\n\u001b[0;32m   1216\u001b[0m         \u001b[0mself\u001b[0m\u001b[1;33m.\u001b[0m\u001b[0m_make_train_function\u001b[0m\u001b[1;33m(\u001b[0m\u001b[1;33m)\u001b[0m\u001b[1;33m\u001b[0m\u001b[1;33m\u001b[0m\u001b[0m\n\u001b[1;32m-> 1217\u001b[1;33m         \u001b[0moutputs\u001b[0m \u001b[1;33m=\u001b[0m \u001b[0mself\u001b[0m\u001b[1;33m.\u001b[0m\u001b[0mtrain_function\u001b[0m\u001b[1;33m(\u001b[0m\u001b[0mins\u001b[0m\u001b[1;33m)\u001b[0m\u001b[1;33m\u001b[0m\u001b[1;33m\u001b[0m\u001b[0m\n\u001b[0m\u001b[0;32m   1218\u001b[0m         \u001b[1;32mreturn\u001b[0m \u001b[0munpack_singleton\u001b[0m\u001b[1;33m(\u001b[0m\u001b[0moutputs\u001b[0m\u001b[1;33m)\u001b[0m\u001b[1;33m\u001b[0m\u001b[1;33m\u001b[0m\u001b[0m\n\u001b[0;32m   1219\u001b[0m \u001b[1;33m\u001b[0m\u001b[0m\n",
      "\u001b[1;32m~\\Anaconda3\\envs\\nilmtk-env\\lib\\site-packages\\keras\\backend\\tensorflow_backend.py\u001b[0m in \u001b[0;36m__call__\u001b[1;34m(self, inputs)\u001b[0m\n\u001b[0;32m   2713\u001b[0m                 \u001b[1;32mreturn\u001b[0m \u001b[0mself\u001b[0m\u001b[1;33m.\u001b[0m\u001b[0m_legacy_call\u001b[0m\u001b[1;33m(\u001b[0m\u001b[0minputs\u001b[0m\u001b[1;33m)\u001b[0m\u001b[1;33m\u001b[0m\u001b[1;33m\u001b[0m\u001b[0m\n\u001b[0;32m   2714\u001b[0m \u001b[1;33m\u001b[0m\u001b[0m\n\u001b[1;32m-> 2715\u001b[1;33m             \u001b[1;32mreturn\u001b[0m \u001b[0mself\u001b[0m\u001b[1;33m.\u001b[0m\u001b[0m_call\u001b[0m\u001b[1;33m(\u001b[0m\u001b[0minputs\u001b[0m\u001b[1;33m)\u001b[0m\u001b[1;33m\u001b[0m\u001b[1;33m\u001b[0m\u001b[0m\n\u001b[0m\u001b[0;32m   2716\u001b[0m         \u001b[1;32melse\u001b[0m\u001b[1;33m:\u001b[0m\u001b[1;33m\u001b[0m\u001b[1;33m\u001b[0m\u001b[0m\n\u001b[0;32m   2717\u001b[0m             \u001b[1;32mif\u001b[0m \u001b[0mpy_any\u001b[0m\u001b[1;33m(\u001b[0m\u001b[0mis_tensor\u001b[0m\u001b[1;33m(\u001b[0m\u001b[0mx\u001b[0m\u001b[1;33m)\u001b[0m \u001b[1;32mfor\u001b[0m \u001b[0mx\u001b[0m \u001b[1;32min\u001b[0m \u001b[0minputs\u001b[0m\u001b[1;33m)\u001b[0m\u001b[1;33m:\u001b[0m\u001b[1;33m\u001b[0m\u001b[1;33m\u001b[0m\u001b[0m\n",
      "\u001b[1;32m~\\Anaconda3\\envs\\nilmtk-env\\lib\\site-packages\\keras\\backend\\tensorflow_backend.py\u001b[0m in \u001b[0;36m_call\u001b[1;34m(self, inputs)\u001b[0m\n\u001b[0;32m   2673\u001b[0m             \u001b[0mfetched\u001b[0m \u001b[1;33m=\u001b[0m \u001b[0mself\u001b[0m\u001b[1;33m.\u001b[0m\u001b[0m_callable_fn\u001b[0m\u001b[1;33m(\u001b[0m\u001b[1;33m*\u001b[0m\u001b[0marray_vals\u001b[0m\u001b[1;33m,\u001b[0m \u001b[0mrun_metadata\u001b[0m\u001b[1;33m=\u001b[0m\u001b[0mself\u001b[0m\u001b[1;33m.\u001b[0m\u001b[0mrun_metadata\u001b[0m\u001b[1;33m)\u001b[0m\u001b[1;33m\u001b[0m\u001b[1;33m\u001b[0m\u001b[0m\n\u001b[0;32m   2674\u001b[0m         \u001b[1;32melse\u001b[0m\u001b[1;33m:\u001b[0m\u001b[1;33m\u001b[0m\u001b[1;33m\u001b[0m\u001b[0m\n\u001b[1;32m-> 2675\u001b[1;33m             \u001b[0mfetched\u001b[0m \u001b[1;33m=\u001b[0m \u001b[0mself\u001b[0m\u001b[1;33m.\u001b[0m\u001b[0m_callable_fn\u001b[0m\u001b[1;33m(\u001b[0m\u001b[1;33m*\u001b[0m\u001b[0marray_vals\u001b[0m\u001b[1;33m)\u001b[0m\u001b[1;33m\u001b[0m\u001b[1;33m\u001b[0m\u001b[0m\n\u001b[0m\u001b[0;32m   2676\u001b[0m         \u001b[1;32mreturn\u001b[0m \u001b[0mfetched\u001b[0m\u001b[1;33m[\u001b[0m\u001b[1;33m:\u001b[0m\u001b[0mlen\u001b[0m\u001b[1;33m(\u001b[0m\u001b[0mself\u001b[0m\u001b[1;33m.\u001b[0m\u001b[0moutputs\u001b[0m\u001b[1;33m)\u001b[0m\u001b[1;33m]\u001b[0m\u001b[1;33m\u001b[0m\u001b[1;33m\u001b[0m\u001b[0m\n\u001b[0;32m   2677\u001b[0m \u001b[1;33m\u001b[0m\u001b[0m\n",
      "\u001b[1;32m~\\Anaconda3\\envs\\nilmtk-env\\lib\\site-packages\\tensorflow\\python\\client\\session.py\u001b[0m in \u001b[0;36m__call__\u001b[1;34m(self, *args, **kwargs)\u001b[0m\n\u001b[0;32m   1437\u001b[0m           ret = tf_session.TF_SessionRunCallable(\n\u001b[0;32m   1438\u001b[0m               \u001b[0mself\u001b[0m\u001b[1;33m.\u001b[0m\u001b[0m_session\u001b[0m\u001b[1;33m.\u001b[0m\u001b[0m_session\u001b[0m\u001b[1;33m,\u001b[0m \u001b[0mself\u001b[0m\u001b[1;33m.\u001b[0m\u001b[0m_handle\u001b[0m\u001b[1;33m,\u001b[0m \u001b[0margs\u001b[0m\u001b[1;33m,\u001b[0m \u001b[0mstatus\u001b[0m\u001b[1;33m,\u001b[0m\u001b[1;33m\u001b[0m\u001b[1;33m\u001b[0m\u001b[0m\n\u001b[1;32m-> 1439\u001b[1;33m               run_metadata_ptr)\n\u001b[0m\u001b[0;32m   1440\u001b[0m         \u001b[1;32mif\u001b[0m \u001b[0mrun_metadata\u001b[0m\u001b[1;33m:\u001b[0m\u001b[1;33m\u001b[0m\u001b[1;33m\u001b[0m\u001b[0m\n\u001b[0;32m   1441\u001b[0m           \u001b[0mproto_data\u001b[0m \u001b[1;33m=\u001b[0m \u001b[0mtf_session\u001b[0m\u001b[1;33m.\u001b[0m\u001b[0mTF_GetBuffer\u001b[0m\u001b[1;33m(\u001b[0m\u001b[0mrun_metadata_ptr\u001b[0m\u001b[1;33m)\u001b[0m\u001b[1;33m\u001b[0m\u001b[1;33m\u001b[0m\u001b[0m\n",
      "\u001b[1;31mKeyboardInterrupt\u001b[0m: "
     ]
    }
   ],
   "source": [
    "model = Sequential()\n",
    "\n",
    "# 1D Conv\n",
    "model.add(Conv1D(16, 4, activation=\"relu\", padding=\"same\", strides=1, input_shape=(params['window_size'],1)))\n",
    "model.add(Conv1D(8, 4, activation=\"relu\", padding=\"same\", strides=1))\n",
    "\n",
    "# Bi-directional LSTMs\n",
    "model.add(Bidirectional(GRU(64, return_sequences=True, stateful=False), merge_mode='concat'))\n",
    "model.add(Bidirectional(GRU(128, return_sequences=False, stateful=False), merge_mode='concat'))\n",
    "\n",
    "# Fully Connected Layers\n",
    "model.add(Dense(64, activation='relu'))\n",
    "model.add(Dense(1, activation='linear'))\n",
    "\n",
    "model.compile(loss='mse', optimizer='adam')\n",
    "\n",
    "model.fit_generator(Batch_Generator(**params).generator(x, y), \n",
    "                    steps_per_epoch =  gen.num_epochs(x), \n",
    "                    epochs=8)"
   ]
  },
  {
   "cell_type": "code",
   "execution_count": 131,
   "metadata": {},
   "outputs": [],
   "source": [
    "l1=next(t)[0]\n",
    "l2=next(t)[1]"
   ]
  },
  {
   "cell_type": "code",
   "execution_count": 132,
   "metadata": {},
   "outputs": [
    {
     "name": "stdout",
     "output_type": "stream",
     "text": [
      "[[222.35001]\n",
      " [222.85333]\n",
      " [222.70667]\n",
      " [222.64667]\n",
      " [222.46333]\n",
      " [222.23666]\n",
      " [222.61333]\n",
      " [222.56   ]\n",
      " [223.43666]\n",
      " [226.32001]\n",
      " [223.89334]\n",
      " [223.52667]\n",
      " [223.87334]\n",
      " [225.50333]\n",
      " [222.67   ]\n",
      " [225.72   ]\n",
      " [226.59334]\n",
      " [226.10666]\n",
      " [225.25333]\n",
      " [225.86667]\n",
      " [225.36667]\n",
      " [226.03   ]\n",
      " [226.06999]\n",
      " [225.45   ]\n",
      " [226.74333]\n",
      " [225.20334]\n",
      " [227.27   ]\n",
      " [226.80333]\n",
      " [226.32333]\n",
      " [227.18666]\n",
      " [227.34666]\n",
      " [227.34666]\n",
      " [226.74333]\n",
      " [226.38667]\n",
      " [226.67667]\n",
      " [226.32001]\n",
      " [225.55   ]\n",
      " [225.21667]\n",
      " [223.21333]\n",
      " [225.11667]\n",
      " [223.52   ]\n",
      " [223.39   ]\n",
      " [223.30667]\n",
      " [222.66333]\n",
      " [222.95667]\n",
      " [223.33333]\n",
      " [222.67   ]\n",
      " [224.89   ]\n",
      " [224.99666]\n",
      " [224.92999]]\n",
      "[[222.85333]\n",
      " [222.70667]\n",
      " [222.64667]\n",
      " [222.46333]\n",
      " [222.23666]\n",
      " [222.61333]\n",
      " [222.56   ]\n",
      " [223.43666]\n",
      " [226.32001]\n",
      " [223.89334]\n",
      " [223.52667]\n",
      " [223.87334]\n",
      " [225.50333]\n",
      " [222.67   ]\n",
      " [225.72   ]\n",
      " [226.59334]\n",
      " [226.10666]\n",
      " [225.25333]\n",
      " [225.86667]\n",
      " [225.36667]\n",
      " [226.03   ]\n",
      " [226.06999]\n",
      " [225.45   ]\n",
      " [226.74333]\n",
      " [225.20334]\n",
      " [227.27   ]\n",
      " [226.80333]\n",
      " [226.32333]\n",
      " [227.18666]\n",
      " [227.34666]\n",
      " [227.34666]\n",
      " [226.74333]\n",
      " [226.38667]\n",
      " [226.67667]\n",
      " [226.32001]\n",
      " [225.55   ]\n",
      " [225.21667]\n",
      " [223.21333]\n",
      " [225.11667]\n",
      " [223.52   ]\n",
      " [223.39   ]\n",
      " [223.30667]\n",
      " [222.66333]\n",
      " [222.95667]\n",
      " [223.33333]\n",
      " [222.67   ]\n",
      " [224.89   ]\n",
      " [224.99666]\n",
      " [224.92999]\n",
      " [222.66   ]]\n",
      "[[222.70667]\n",
      " [222.64667]\n",
      " [222.46333]\n",
      " [222.23666]\n",
      " [222.61333]\n",
      " [222.56   ]\n",
      " [223.43666]\n",
      " [226.32001]\n",
      " [223.89334]\n",
      " [223.52667]\n",
      " [223.87334]\n",
      " [225.50333]\n",
      " [222.67   ]\n",
      " [225.72   ]\n",
      " [226.59334]\n",
      " [226.10666]\n",
      " [225.25333]\n",
      " [225.86667]\n",
      " [225.36667]\n",
      " [226.03   ]\n",
      " [226.06999]\n",
      " [225.45   ]\n",
      " [226.74333]\n",
      " [225.20334]\n",
      " [227.27   ]\n",
      " [226.80333]\n",
      " [226.32333]\n",
      " [227.18666]\n",
      " [227.34666]\n",
      " [227.34666]\n",
      " [226.74333]\n",
      " [226.38667]\n",
      " [226.67667]\n",
      " [226.32001]\n",
      " [225.55   ]\n",
      " [225.21667]\n",
      " [223.21333]\n",
      " [225.11667]\n",
      " [223.52   ]\n",
      " [223.39   ]\n",
      " [223.30667]\n",
      " [222.66333]\n",
      " [222.95667]\n",
      " [223.33333]\n",
      " [222.67   ]\n",
      " [224.89   ]\n",
      " [224.99666]\n",
      " [224.92999]\n",
      " [222.66   ]\n",
      " [222.23666]]\n",
      "[[222.64667]\n",
      " [222.46333]\n",
      " [222.23666]\n",
      " [222.61333]\n",
      " [222.56   ]\n",
      " [223.43666]\n",
      " [226.32001]\n",
      " [223.89334]\n",
      " [223.52667]\n",
      " [223.87334]\n",
      " [225.50333]\n",
      " [222.67   ]\n",
      " [225.72   ]\n",
      " [226.59334]\n",
      " [226.10666]\n",
      " [225.25333]\n",
      " [225.86667]\n",
      " [225.36667]\n",
      " [226.03   ]\n",
      " [226.06999]\n",
      " [225.45   ]\n",
      " [226.74333]\n",
      " [225.20334]\n",
      " [227.27   ]\n",
      " [226.80333]\n",
      " [226.32333]\n",
      " [227.18666]\n",
      " [227.34666]\n",
      " [227.34666]\n",
      " [226.74333]\n",
      " [226.38667]\n",
      " [226.67667]\n",
      " [226.32001]\n",
      " [225.55   ]\n",
      " [225.21667]\n",
      " [223.21333]\n",
      " [225.11667]\n",
      " [223.52   ]\n",
      " [223.39   ]\n",
      " [223.30667]\n",
      " [222.66333]\n",
      " [222.95667]\n",
      " [223.33333]\n",
      " [222.67   ]\n",
      " [224.89   ]\n",
      " [224.99666]\n",
      " [224.92999]\n",
      " [222.66   ]\n",
      " [222.23666]\n",
      " [222.53667]]\n",
      "[[222.46333]\n",
      " [222.23666]\n",
      " [222.61333]\n",
      " [222.56   ]\n",
      " [223.43666]\n",
      " [226.32001]\n",
      " [223.89334]\n",
      " [223.52667]\n",
      " [223.87334]\n",
      " [225.50333]\n",
      " [222.67   ]\n",
      " [225.72   ]\n",
      " [226.59334]\n",
      " [226.10666]\n",
      " [225.25333]\n",
      " [225.86667]\n",
      " [225.36667]\n",
      " [226.03   ]\n",
      " [226.06999]\n",
      " [225.45   ]\n",
      " [226.74333]\n",
      " [225.20334]\n",
      " [227.27   ]\n",
      " [226.80333]\n",
      " [226.32333]\n",
      " [227.18666]\n",
      " [227.34666]\n",
      " [227.34666]\n",
      " [226.74333]\n",
      " [226.38667]\n",
      " [226.67667]\n",
      " [226.32001]\n",
      " [225.55   ]\n",
      " [225.21667]\n",
      " [223.21333]\n",
      " [225.11667]\n",
      " [223.52   ]\n",
      " [223.39   ]\n",
      " [223.30667]\n",
      " [222.66333]\n",
      " [222.95667]\n",
      " [223.33333]\n",
      " [222.67   ]\n",
      " [224.89   ]\n",
      " [224.99666]\n",
      " [224.92999]\n",
      " [222.66   ]\n",
      " [222.23666]\n",
      " [222.53667]\n",
      " [221.76334]]\n"
     ]
    }
   ],
   "source": [
    "for i in range(5):\n",
    "    print(l1[i])"
   ]
  },
  {
   "cell_type": "code",
   "execution_count": 110,
   "metadata": {
    "collapsed": true
   },
   "outputs": [
    {
     "name": "stdout",
     "output_type": "stream",
     "text": [
      "[[[222.35   ]\n",
      "  [222.85333]\n",
      "  [222.70667]\n",
      "  [222.64667]\n",
      "  [222.46333]\n",
      "  [222.23666]\n",
      "  [222.61333]\n",
      "  [222.56   ]\n",
      "  [223.43666]\n",
      "  [226.32   ]\n",
      "  [223.89334]\n",
      "  [223.52667]\n",
      "  [223.87334]\n",
      "  [225.50333]\n",
      "  [222.67   ]\n",
      "  [225.72   ]\n",
      "  [226.59334]\n",
      "  [226.10666]\n",
      "  [225.25333]\n",
      "  [225.86667]\n",
      "  [225.36667]\n",
      "  [226.03   ]\n",
      "  [226.06999]\n",
      "  [225.45   ]\n",
      "  [226.74333]\n",
      "  [225.20334]\n",
      "  [227.27   ]\n",
      "  [226.80333]\n",
      "  [226.32333]\n",
      "  [227.18666]\n",
      "  [227.34666]\n",
      "  [227.34666]\n",
      "  [226.74333]\n",
      "  [226.38667]\n",
      "  [226.67667]\n",
      "  [226.32   ]\n",
      "  [225.55   ]\n",
      "  [225.21667]\n",
      "  [223.21333]\n",
      "  [225.11667]\n",
      "  [223.52   ]\n",
      "  [223.39   ]\n",
      "  [223.30667]\n",
      "  [222.66333]\n",
      "  [222.95667]\n",
      "  [223.33333]\n",
      "  [222.67   ]\n",
      "  [224.89   ]\n",
      "  [224.99666]\n",
      "  [224.93   ]]\n",
      "\n",
      " [[222.85333]\n",
      "  [222.70667]\n",
      "  [222.64667]\n",
      "  [222.46333]\n",
      "  [222.23666]\n",
      "  [222.61333]\n",
      "  [222.56   ]\n",
      "  [223.43666]\n",
      "  [226.32   ]\n",
      "  [223.89334]\n",
      "  [223.52667]\n",
      "  [223.87334]\n",
      "  [225.50333]\n",
      "  [222.67   ]\n",
      "  [225.72   ]\n",
      "  [226.59334]\n",
      "  [226.10666]\n",
      "  [225.25333]\n",
      "  [225.86667]\n",
      "  [225.36667]\n",
      "  [226.03   ]\n",
      "  [226.06999]\n",
      "  [225.45   ]\n",
      "  [226.74333]\n",
      "  [225.20334]\n",
      "  [227.27   ]\n",
      "  [226.80333]\n",
      "  [226.32333]\n",
      "  [227.18666]\n",
      "  [227.34666]\n",
      "  [227.34666]\n",
      "  [226.74333]\n",
      "  [226.38667]\n",
      "  [226.67667]\n",
      "  [226.32   ]\n",
      "  [225.55   ]\n",
      "  [225.21667]\n",
      "  [223.21333]\n",
      "  [225.11667]\n",
      "  [223.52   ]\n",
      "  [223.39   ]\n",
      "  [223.30667]\n",
      "  [222.66333]\n",
      "  [222.95667]\n",
      "  [223.33333]\n",
      "  [222.67   ]\n",
      "  [224.89   ]\n",
      "  [224.99666]\n",
      "  [224.93   ]\n",
      "  [222.66   ]]\n",
      "\n",
      " [[222.70667]\n",
      "  [222.64667]\n",
      "  [222.46333]\n",
      "  [222.23666]\n",
      "  [222.61333]\n",
      "  [222.56   ]\n",
      "  [223.43666]\n",
      "  [226.32   ]\n",
      "  [223.89334]\n",
      "  [223.52667]\n",
      "  [223.87334]\n",
      "  [225.50333]\n",
      "  [222.67   ]\n",
      "  [225.72   ]\n",
      "  [226.59334]\n",
      "  [226.10666]\n",
      "  [225.25333]\n",
      "  [225.86667]\n",
      "  [225.36667]\n",
      "  [226.03   ]\n",
      "  [226.06999]\n",
      "  [225.45   ]\n",
      "  [226.74333]\n",
      "  [225.20334]\n",
      "  [227.27   ]\n",
      "  [226.80333]\n",
      "  [226.32333]\n",
      "  [227.18666]\n",
      "  [227.34666]\n",
      "  [227.34666]\n",
      "  [226.74333]\n",
      "  [226.38667]\n",
      "  [226.67667]\n",
      "  [226.32   ]\n",
      "  [225.55   ]\n",
      "  [225.21667]\n",
      "  [223.21333]\n",
      "  [225.11667]\n",
      "  [223.52   ]\n",
      "  [223.39   ]\n",
      "  [223.30667]\n",
      "  [222.66333]\n",
      "  [222.95667]\n",
      "  [223.33333]\n",
      "  [222.67   ]\n",
      "  [224.89   ]\n",
      "  [224.99666]\n",
      "  [224.93   ]\n",
      "  [222.66   ]\n",
      "  [222.23666]]\n",
      "\n",
      " [[222.64667]\n",
      "  [222.46333]\n",
      "  [222.23666]\n",
      "  [222.61333]\n",
      "  [222.56   ]\n",
      "  [223.43666]\n",
      "  [226.32   ]\n",
      "  [223.89334]\n",
      "  [223.52667]\n",
      "  [223.87334]\n",
      "  [225.50333]\n",
      "  [222.67   ]\n",
      "  [225.72   ]\n",
      "  [226.59334]\n",
      "  [226.10666]\n",
      "  [225.25333]\n",
      "  [225.86667]\n",
      "  [225.36667]\n",
      "  [226.03   ]\n",
      "  [226.06999]\n",
      "  [225.45   ]\n",
      "  [226.74333]\n",
      "  [225.20334]\n",
      "  [227.27   ]\n",
      "  [226.80333]\n",
      "  [226.32333]\n",
      "  [227.18666]\n",
      "  [227.34666]\n",
      "  [227.34666]\n",
      "  [226.74333]\n",
      "  [226.38667]\n",
      "  [226.67667]\n",
      "  [226.32   ]\n",
      "  [225.55   ]\n",
      "  [225.21667]\n",
      "  [223.21333]\n",
      "  [225.11667]\n",
      "  [223.52   ]\n",
      "  [223.39   ]\n",
      "  [223.30667]\n",
      "  [222.66333]\n",
      "  [222.95667]\n",
      "  [223.33333]\n",
      "  [222.67   ]\n",
      "  [224.89   ]\n",
      "  [224.99666]\n",
      "  [224.93   ]\n",
      "  [222.66   ]\n",
      "  [222.23666]\n",
      "  [222.53667]]\n",
      "\n",
      " [[222.46333]\n",
      "  [222.23666]\n",
      "  [222.61333]\n",
      "  [222.56   ]\n",
      "  [223.43666]\n",
      "  [226.32   ]\n",
      "  [223.89334]\n",
      "  [223.52667]\n",
      "  [223.87334]\n",
      "  [225.50333]\n",
      "  [222.67   ]\n",
      "  [225.72   ]\n",
      "  [226.59334]\n",
      "  [226.10666]\n",
      "  [225.25333]\n",
      "  [225.86667]\n",
      "  [225.36667]\n",
      "  [226.03   ]\n",
      "  [226.06999]\n",
      "  [225.45   ]\n",
      "  [226.74333]\n",
      "  [225.20334]\n",
      "  [227.27   ]\n",
      "  [226.80333]\n",
      "  [226.32333]\n",
      "  [227.18666]\n",
      "  [227.34666]\n",
      "  [227.34666]\n",
      "  [226.74333]\n",
      "  [226.38667]\n",
      "  [226.67667]\n",
      "  [226.32   ]\n",
      "  [225.55   ]\n",
      "  [225.21667]\n",
      "  [223.21333]\n",
      "  [225.11667]\n",
      "  [223.52   ]\n",
      "  [223.39   ]\n",
      "  [223.30667]\n",
      "  [222.66333]\n",
      "  [222.95667]\n",
      "  [223.33333]\n",
      "  [222.67   ]\n",
      "  [224.89   ]\n",
      "  [224.99666]\n",
      "  [224.93   ]\n",
      "  [222.66   ]\n",
      "  [222.23666]\n",
      "  [222.53667]\n",
      "  [221.76334]]]\n"
     ]
    }
   ],
   "source": [
    "indexer = np.arange(params['window_size'])[None, :] + np.arange(len(x)-params['window_size']+1)[:, None]\n",
    "x1 = x[indexer]\n",
    "y1 = y[params['window_size']-1:]\n",
    "\n",
    "x1 = np.reshape(x1, (x1.shape[0],params['window_size'],1))\n",
    "y1 = np.reshape(y1, (y1.shape[0],1))\n",
    "\n",
    "print(x1[0:5])"
   ]
  },
  {
   "cell_type": "code",
   "execution_count": null,
   "metadata": {},
   "outputs": [],
   "source": [
    "class Batch_Generator():\n",
    "\n",
    "    def __init__(self, batch_size, window_size, model_name, shuffle=True):\n",
    "\n",
    "        self.name = model_name\n",
    "        self.batch_size = batch_size\n",
    "        self.shuffle = shuffle\n",
    "        self.window_size = window_size\n",
    "        \n",
    "    def num_epochs(self, inputs):\n",
    "        \n",
    "        batch_size = self.batch_size \n",
    "        num_of_steps = int((len(inputs)-self.window_size+1) / batch_size) - 1\n",
    "        \n",
    "        return num_of_steps\n",
    "\n",
    "    def generator(self, inputs, targets):\n",
    "        while True:\n",
    "\n",
    "          #num_meters = len(inputs)\n",
    "          #batch_size = int(self.batch_size / num_meters)\n",
    "          #num_of_batches = [(int(len(inputs[i]) / batch_size) - 1) for i in range(len(inputs))]\n",
    "          batch_size = self.batch_size\n",
    "\n",
    "          n_epochs = self.num_epochs(inputs)\n",
    "\n",
    "\n",
    "          # Batch indexes\n",
    "          self.indexes = list(range(n_epochs))\n",
    "\n",
    "          if self.shuffle == True:\n",
    "              np.random.shuffle(self.indexes)\n",
    "\n",
    "          for ei, e in enumerate(self.indexes):\n",
    "\n",
    "              offset = e * batch_size\n",
    "\n",
    "              # Initialization\n",
    "              X_batch = np.zeros((batch_size, self.window_size, 1))  # (128,100,1)\n",
    "              Y_batch = np.zeros((batch_size, 1))  # (128,1)\n",
    "\n",
    "              # Create a batch out of data from all buildings\n",
    "              \n",
    "              mainpart = inputs\n",
    "              meterpart = targets\n",
    "\n",
    "              indexer = np.arange(self.window_size)[None, :] + np.arange(len(inputs)-self.window_size+1)[offset:offset + batch_size, None]\n",
    "\n",
    "              mainpart = mainpart[indexer]\n",
    "              meterpart = meterpart[self.window_size - 1:][offset:offset + batch_size]\n",
    "\n",
    "              X = np.reshape(mainpart, (batch_size, self.window_size, 1))\n",
    "              Y = np.reshape(meterpart, (batch_size, 1))\n",
    "\n",
    "              X_batch[0:  batch_size] = np.array(X)\n",
    "              Y_batch[0:batch_size] = np.array(Y)\n",
    "              X_batch = np.around(X_batch,decimals=5)    \n",
    "              Y_batch = np.around(Y_batch,decimals=5) \n",
    "\n",
    "#               # Shuffle data\n",
    "#               if self.shuffle == True:\n",
    "#                 p = np.random.permutation(len(X_batch))\n",
    "#                 X_batch, Y_batch = X_batch[p], Y_batch[p]\n",
    "       \n",
    "              yield X_batch, Y_batch\n",
    "# Batch generator\n",
    "# Parameters\n",
    "params = {'batch_size': 128,\n",
    "          'window_size': 50,\n",
    "          'model_name': 'DAE',\n",
    "          'shuffle': True}\n",
    "\n",
    "\n",
    "\n",
    "gen = Batch_Generator(**params)\n",
    "t = gen.generator(x, y)\n",
    "steps_epochs = gen.num_epochs(x)"
   ]
  },
  {
   "cell_type": "code",
   "execution_count": 149,
   "metadata": {},
   "outputs": [],
   "source": [
    "mainpart = x\n",
    "meterpart = y\n",
    "\n",
    "indexer = np.arange(params['window_size'])[None, :] + np.arange(len(mainpart)-params['window_size']+1)[:, None]\n",
    "\n",
    "mainpart = mainpart[indexer]\n",
    "meterpart = meterpart[params['window_size'] - 1:][:]"
   ]
  },
  {
   "cell_type": "code",
   "execution_count": 158,
   "metadata": {},
   "outputs": [
    {
     "data": {
      "text/plain": [
       "190356"
      ]
     },
     "execution_count": 158,
     "metadata": {},
     "output_type": "execute_result"
    }
   ],
   "source": [
    "len(y)"
   ]
  },
  {
   "cell_type": "code",
   "execution_count": 159,
   "metadata": {},
   "outputs": [],
   "source": [
    "indexer = np.arange(params['window_size'])[None, :] + np.arange(len(x)-params['window_size']+1)[:, None]\n",
    "x1 = x[indexer]\n",
    "y1 = y[params['window_size']-1:]\n",
    "\n",
    "x1 = np.reshape(x1, (x1.shape[0],params['window_size'],1))\n",
    "y1 = np.reshape(y1, (y1.shape[0],1))"
   ]
  },
  {
   "cell_type": "code",
   "execution_count": 171,
   "metadata": {},
   "outputs": [
    {
     "data": {
      "text/plain": [
       "220.0"
      ]
     },
     "execution_count": 171,
     "metadata": {},
     "output_type": "execute_result"
    }
   ],
   "source": [
    "y[2000]"
   ]
  },
  {
   "cell_type": "code",
   "execution_count": 172,
   "metadata": {},
   "outputs": [
    {
     "data": {
      "text/plain": [
       "363.19666"
      ]
     },
     "execution_count": 172,
     "metadata": {},
     "output_type": "execute_result"
    }
   ],
   "source": [
    "x[2000]"
   ]
  },
  {
   "cell_type": "code",
   "execution_count": 176,
   "metadata": {},
   "outputs": [
    {
     "data": {
      "text/plain": [
       "array([[363.19666],\n",
       "       [362.06   ],\n",
       "       [363.26   ],\n",
       "       [362.62668],\n",
       "       [360.25   ],\n",
       "       [361.63   ],\n",
       "       [362.3    ],\n",
       "       [360.92334],\n",
       "       [361.16998],\n",
       "       [361.08334],\n",
       "       [360.85   ],\n",
       "       [359.50665],\n",
       "       [359.46332],\n",
       "       [360.10666],\n",
       "       [357.99   ],\n",
       "       [358.98334],\n",
       "       [358.22333],\n",
       "       [358.33334],\n",
       "       [358.91   ],\n",
       "       [358.09   ],\n",
       "       [359.05   ],\n",
       "       [358.20334],\n",
       "       [357.68   ],\n",
       "       [358.18332],\n",
       "       [356.91333],\n",
       "       [355.92667],\n",
       "       [356.25   ],\n",
       "       [355.85   ],\n",
       "       [354.89   ],\n",
       "       [355.05   ],\n",
       "       [355.15335],\n",
       "       [355.77335],\n",
       "       [354.55334],\n",
       "       [354.29333],\n",
       "       [355.06668],\n",
       "       [354.09   ],\n",
       "       [354.42667],\n",
       "       [354.04   ],\n",
       "       [354.05667],\n",
       "       [353.69333],\n",
       "       [353.48666],\n",
       "       [353.60333],\n",
       "       [353.47333],\n",
       "       [353.38   ],\n",
       "       [352.75665],\n",
       "       [352.06   ],\n",
       "       [352.61334],\n",
       "       [351.90668],\n",
       "       [352.27335],\n",
       "       [352.36667]], dtype=float32)"
      ]
     },
     "execution_count": 176,
     "metadata": {},
     "output_type": "execute_result"
    }
   ],
   "source": [
    "x1[2000]"
   ]
  },
  {
   "cell_type": "code",
   "execution_count": 180,
   "metadata": {},
   "outputs": [
    {
     "data": {
      "text/plain": [
       "array([208.], dtype=float32)"
      ]
     },
     "execution_count": 180,
     "metadata": {},
     "output_type": "execute_result"
    }
   ],
   "source": [
    "y1[2000]"
   ]
  },
  {
   "cell_type": "code",
   "execution_count": 182,
   "metadata": {},
   "outputs": [],
   "source": [
    "r=[1,2,3,4,5,6,7,8,9,10,11,12,13,14,15,16,17,18,19,20]\n",
    "l = [i+20 for i in r]"
   ]
  },
  {
   "cell_type": "code",
   "execution_count": 199,
   "metadata": {},
   "outputs": [],
   "source": [
    "window=4\n",
    "indexer = np.arange(window)[None, :] + np.arange(len(r)-window+1)[:, None]\n",
    "r1=np.array(r)\n",
    "r1 = r1[indexer]\n",
    "l1 = l[window-1:]\n"
   ]
  },
  {
   "cell_type": "code",
   "execution_count": 203,
   "metadata": {},
   "outputs": [
    {
     "name": "stdout",
     "output_type": "stream",
     "text": [
      "17\n",
      "[[ 1  2  3  4]\n",
      " [ 2  3  4  5]\n",
      " [ 3  4  5  6]\n",
      " [ 4  5  6  7]\n",
      " [ 5  6  7  8]\n",
      " [ 6  7  8  9]\n",
      " [ 7  8  9 10]\n",
      " [ 8  9 10 11]\n",
      " [ 9 10 11 12]\n",
      " [10 11 12 13]\n",
      " [11 12 13 14]\n",
      " [12 13 14 15]\n",
      " [13 14 15 16]\n",
      " [14 15 16 17]\n",
      " [15 16 17 18]\n",
      " [16 17 18 19]\n",
      " [17 18 19 20]]\n",
      "[24, 25, 26, 27, 28, 29, 30, 31, 32, 33, 34, 35, 36, 37, 38, 39, 40]\n",
      "17\n"
     ]
    }
   ],
   "source": [
    "print(len(r1))\n",
    "print(r1)\n",
    "print(list(l1))\n",
    "print(len(l1))"
   ]
  },
  {
   "cell_type": "markdown",
   "metadata": {},
   "source": [
    "## Batch generator again"
   ]
  },
  {
   "cell_type": "code",
   "execution_count": 239,
   "metadata": {},
   "outputs": [],
   "source": [
    "def generator(inputs, targets,batch_size=128,window=50):\n",
    "        \n",
    "        num_of_steps = int((len(inputs)-window+1) / batch_size) - 1\n",
    "        indexes=list(range(num_of_steps))\n",
    "        \n",
    "        np.random.shuffle(indexes)\n",
    "        \n",
    "        while True:\n",
    "            for ei, e in enumerate(indexes):\n",
    "\n",
    "                offset = e * batch_size\n",
    "\n",
    "                mainpart = inputs\n",
    "                meterpart = targets\n",
    "                mainpart = np.array(mainpart)\n",
    "                indexer = np.arange(window)[None, :] + np.arange(len(mainpart)-window+1)[offset:offset + batch_size, None]\n",
    "\n",
    "                mainpart = mainpart[indexer]\n",
    "                meterpart = meterpart[window - 1:][offset:offset + batch_size]\n",
    "\n",
    "                X = np.reshape(mainpart, (batch_size, window, 1))\n",
    "                Y = np.reshape(meterpart, (batch_size, 1))\n",
    "\n",
    "                yield X,Y\n",
    "\n"
   ]
  },
  {
   "cell_type": "code",
   "execution_count": 240,
   "metadata": {},
   "outputs": [
    {
     "name": "stdout",
     "output_type": "stream",
     "text": [
      "Epoch 1/8\n",
      "1008/1485 [===================>..........] - ETA: 2:29 - loss: 2500.8519"
     ]
    },
    {
     "ename": "KeyboardInterrupt",
     "evalue": "",
     "output_type": "error",
     "traceback": [
      "\u001b[1;31m---------------------------------------------------------------------------\u001b[0m",
      "\u001b[1;31mKeyboardInterrupt\u001b[0m                         Traceback (most recent call last)",
      "\u001b[1;32m<ipython-input-240-2e2199e22e62>\u001b[0m in \u001b[0;36m<module>\u001b[1;34m\u001b[0m\n\u001b[0;32m      1\u001b[0m model.fit_generator(generator(x, y), \n\u001b[0;32m      2\u001b[0m                     \u001b[0msteps_per_epoch\u001b[0m \u001b[1;33m=\u001b[0m  \u001b[0mint\u001b[0m\u001b[1;33m(\u001b[0m\u001b[1;33m(\u001b[0m\u001b[0mlen\u001b[0m\u001b[1;33m(\u001b[0m\u001b[0mx\u001b[0m\u001b[1;33m)\u001b[0m\u001b[1;33m-\u001b[0m\u001b[1;36m50\u001b[0m\u001b[1;33m+\u001b[0m\u001b[1;36m1\u001b[0m\u001b[1;33m)\u001b[0m \u001b[1;33m/\u001b[0m \u001b[1;36m128\u001b[0m\u001b[1;33m)\u001b[0m \u001b[1;33m-\u001b[0m \u001b[1;36m1\u001b[0m\u001b[1;33m,\u001b[0m\u001b[1;33m\u001b[0m\u001b[1;33m\u001b[0m\u001b[0m\n\u001b[1;32m----> 3\u001b[1;33m                     epochs=8)\n\u001b[0m",
      "\u001b[1;32m~\\Anaconda3\\envs\\nilmtk-env\\lib\\site-packages\\keras\\legacy\\interfaces.py\u001b[0m in \u001b[0;36mwrapper\u001b[1;34m(*args, **kwargs)\u001b[0m\n\u001b[0;32m     89\u001b[0m                 warnings.warn('Update your `' + object_name + '` call to the ' +\n\u001b[0;32m     90\u001b[0m                               'Keras 2 API: ' + signature, stacklevel=2)\n\u001b[1;32m---> 91\u001b[1;33m             \u001b[1;32mreturn\u001b[0m \u001b[0mfunc\u001b[0m\u001b[1;33m(\u001b[0m\u001b[1;33m*\u001b[0m\u001b[0margs\u001b[0m\u001b[1;33m,\u001b[0m \u001b[1;33m**\u001b[0m\u001b[0mkwargs\u001b[0m\u001b[1;33m)\u001b[0m\u001b[1;33m\u001b[0m\u001b[1;33m\u001b[0m\u001b[0m\n\u001b[0m\u001b[0;32m     92\u001b[0m         \u001b[0mwrapper\u001b[0m\u001b[1;33m.\u001b[0m\u001b[0m_original_function\u001b[0m \u001b[1;33m=\u001b[0m \u001b[0mfunc\u001b[0m\u001b[1;33m\u001b[0m\u001b[1;33m\u001b[0m\u001b[0m\n\u001b[0;32m     93\u001b[0m         \u001b[1;32mreturn\u001b[0m \u001b[0mwrapper\u001b[0m\u001b[1;33m\u001b[0m\u001b[1;33m\u001b[0m\u001b[0m\n",
      "\u001b[1;32m~\\Anaconda3\\envs\\nilmtk-env\\lib\\site-packages\\keras\\engine\\training.py\u001b[0m in \u001b[0;36mfit_generator\u001b[1;34m(self, generator, steps_per_epoch, epochs, verbose, callbacks, validation_data, validation_steps, class_weight, max_queue_size, workers, use_multiprocessing, shuffle, initial_epoch)\u001b[0m\n\u001b[0;32m   1416\u001b[0m             \u001b[0muse_multiprocessing\u001b[0m\u001b[1;33m=\u001b[0m\u001b[0muse_multiprocessing\u001b[0m\u001b[1;33m,\u001b[0m\u001b[1;33m\u001b[0m\u001b[1;33m\u001b[0m\u001b[0m\n\u001b[0;32m   1417\u001b[0m             \u001b[0mshuffle\u001b[0m\u001b[1;33m=\u001b[0m\u001b[0mshuffle\u001b[0m\u001b[1;33m,\u001b[0m\u001b[1;33m\u001b[0m\u001b[1;33m\u001b[0m\u001b[0m\n\u001b[1;32m-> 1418\u001b[1;33m             initial_epoch=initial_epoch)\n\u001b[0m\u001b[0;32m   1419\u001b[0m \u001b[1;33m\u001b[0m\u001b[0m\n\u001b[0;32m   1420\u001b[0m     \u001b[1;33m@\u001b[0m\u001b[0minterfaces\u001b[0m\u001b[1;33m.\u001b[0m\u001b[0mlegacy_generator_methods_support\u001b[0m\u001b[1;33m\u001b[0m\u001b[1;33m\u001b[0m\u001b[0m\n",
      "\u001b[1;32m~\\Anaconda3\\envs\\nilmtk-env\\lib\\site-packages\\keras\\engine\\training_generator.py\u001b[0m in \u001b[0;36mfit_generator\u001b[1;34m(model, generator, steps_per_epoch, epochs, verbose, callbacks, validation_data, validation_steps, class_weight, max_queue_size, workers, use_multiprocessing, shuffle, initial_epoch)\u001b[0m\n\u001b[0;32m    215\u001b[0m                 outs = model.train_on_batch(x, y,\n\u001b[0;32m    216\u001b[0m                                             \u001b[0msample_weight\u001b[0m\u001b[1;33m=\u001b[0m\u001b[0msample_weight\u001b[0m\u001b[1;33m,\u001b[0m\u001b[1;33m\u001b[0m\u001b[1;33m\u001b[0m\u001b[0m\n\u001b[1;32m--> 217\u001b[1;33m                                             class_weight=class_weight)\n\u001b[0m\u001b[0;32m    218\u001b[0m \u001b[1;33m\u001b[0m\u001b[0m\n\u001b[0;32m    219\u001b[0m                 \u001b[0mouts\u001b[0m \u001b[1;33m=\u001b[0m \u001b[0mto_list\u001b[0m\u001b[1;33m(\u001b[0m\u001b[0mouts\u001b[0m\u001b[1;33m)\u001b[0m\u001b[1;33m\u001b[0m\u001b[1;33m\u001b[0m\u001b[0m\n",
      "\u001b[1;32m~\\Anaconda3\\envs\\nilmtk-env\\lib\\site-packages\\keras\\engine\\training.py\u001b[0m in \u001b[0;36mtrain_on_batch\u001b[1;34m(self, x, y, sample_weight, class_weight)\u001b[0m\n\u001b[0;32m   1215\u001b[0m             \u001b[0mins\u001b[0m \u001b[1;33m=\u001b[0m \u001b[0mx\u001b[0m \u001b[1;33m+\u001b[0m \u001b[0my\u001b[0m \u001b[1;33m+\u001b[0m \u001b[0msample_weights\u001b[0m\u001b[1;33m\u001b[0m\u001b[1;33m\u001b[0m\u001b[0m\n\u001b[0;32m   1216\u001b[0m         \u001b[0mself\u001b[0m\u001b[1;33m.\u001b[0m\u001b[0m_make_train_function\u001b[0m\u001b[1;33m(\u001b[0m\u001b[1;33m)\u001b[0m\u001b[1;33m\u001b[0m\u001b[1;33m\u001b[0m\u001b[0m\n\u001b[1;32m-> 1217\u001b[1;33m         \u001b[0moutputs\u001b[0m \u001b[1;33m=\u001b[0m \u001b[0mself\u001b[0m\u001b[1;33m.\u001b[0m\u001b[0mtrain_function\u001b[0m\u001b[1;33m(\u001b[0m\u001b[0mins\u001b[0m\u001b[1;33m)\u001b[0m\u001b[1;33m\u001b[0m\u001b[1;33m\u001b[0m\u001b[0m\n\u001b[0m\u001b[0;32m   1218\u001b[0m         \u001b[1;32mreturn\u001b[0m \u001b[0munpack_singleton\u001b[0m\u001b[1;33m(\u001b[0m\u001b[0moutputs\u001b[0m\u001b[1;33m)\u001b[0m\u001b[1;33m\u001b[0m\u001b[1;33m\u001b[0m\u001b[0m\n\u001b[0;32m   1219\u001b[0m \u001b[1;33m\u001b[0m\u001b[0m\n",
      "\u001b[1;32m~\\Anaconda3\\envs\\nilmtk-env\\lib\\site-packages\\keras\\backend\\tensorflow_backend.py\u001b[0m in \u001b[0;36m__call__\u001b[1;34m(self, inputs)\u001b[0m\n\u001b[0;32m   2713\u001b[0m                 \u001b[1;32mreturn\u001b[0m \u001b[0mself\u001b[0m\u001b[1;33m.\u001b[0m\u001b[0m_legacy_call\u001b[0m\u001b[1;33m(\u001b[0m\u001b[0minputs\u001b[0m\u001b[1;33m)\u001b[0m\u001b[1;33m\u001b[0m\u001b[1;33m\u001b[0m\u001b[0m\n\u001b[0;32m   2714\u001b[0m \u001b[1;33m\u001b[0m\u001b[0m\n\u001b[1;32m-> 2715\u001b[1;33m             \u001b[1;32mreturn\u001b[0m \u001b[0mself\u001b[0m\u001b[1;33m.\u001b[0m\u001b[0m_call\u001b[0m\u001b[1;33m(\u001b[0m\u001b[0minputs\u001b[0m\u001b[1;33m)\u001b[0m\u001b[1;33m\u001b[0m\u001b[1;33m\u001b[0m\u001b[0m\n\u001b[0m\u001b[0;32m   2716\u001b[0m         \u001b[1;32melse\u001b[0m\u001b[1;33m:\u001b[0m\u001b[1;33m\u001b[0m\u001b[1;33m\u001b[0m\u001b[0m\n\u001b[0;32m   2717\u001b[0m             \u001b[1;32mif\u001b[0m \u001b[0mpy_any\u001b[0m\u001b[1;33m(\u001b[0m\u001b[0mis_tensor\u001b[0m\u001b[1;33m(\u001b[0m\u001b[0mx\u001b[0m\u001b[1;33m)\u001b[0m \u001b[1;32mfor\u001b[0m \u001b[0mx\u001b[0m \u001b[1;32min\u001b[0m \u001b[0minputs\u001b[0m\u001b[1;33m)\u001b[0m\u001b[1;33m:\u001b[0m\u001b[1;33m\u001b[0m\u001b[1;33m\u001b[0m\u001b[0m\n",
      "\u001b[1;32m~\\Anaconda3\\envs\\nilmtk-env\\lib\\site-packages\\keras\\backend\\tensorflow_backend.py\u001b[0m in \u001b[0;36m_call\u001b[1;34m(self, inputs)\u001b[0m\n\u001b[0;32m   2673\u001b[0m             \u001b[0mfetched\u001b[0m \u001b[1;33m=\u001b[0m \u001b[0mself\u001b[0m\u001b[1;33m.\u001b[0m\u001b[0m_callable_fn\u001b[0m\u001b[1;33m(\u001b[0m\u001b[1;33m*\u001b[0m\u001b[0marray_vals\u001b[0m\u001b[1;33m,\u001b[0m \u001b[0mrun_metadata\u001b[0m\u001b[1;33m=\u001b[0m\u001b[0mself\u001b[0m\u001b[1;33m.\u001b[0m\u001b[0mrun_metadata\u001b[0m\u001b[1;33m)\u001b[0m\u001b[1;33m\u001b[0m\u001b[1;33m\u001b[0m\u001b[0m\n\u001b[0;32m   2674\u001b[0m         \u001b[1;32melse\u001b[0m\u001b[1;33m:\u001b[0m\u001b[1;33m\u001b[0m\u001b[1;33m\u001b[0m\u001b[0m\n\u001b[1;32m-> 2675\u001b[1;33m             \u001b[0mfetched\u001b[0m \u001b[1;33m=\u001b[0m \u001b[0mself\u001b[0m\u001b[1;33m.\u001b[0m\u001b[0m_callable_fn\u001b[0m\u001b[1;33m(\u001b[0m\u001b[1;33m*\u001b[0m\u001b[0marray_vals\u001b[0m\u001b[1;33m)\u001b[0m\u001b[1;33m\u001b[0m\u001b[1;33m\u001b[0m\u001b[0m\n\u001b[0m\u001b[0;32m   2676\u001b[0m         \u001b[1;32mreturn\u001b[0m \u001b[0mfetched\u001b[0m\u001b[1;33m[\u001b[0m\u001b[1;33m:\u001b[0m\u001b[0mlen\u001b[0m\u001b[1;33m(\u001b[0m\u001b[0mself\u001b[0m\u001b[1;33m.\u001b[0m\u001b[0moutputs\u001b[0m\u001b[1;33m)\u001b[0m\u001b[1;33m]\u001b[0m\u001b[1;33m\u001b[0m\u001b[1;33m\u001b[0m\u001b[0m\n\u001b[0;32m   2677\u001b[0m \u001b[1;33m\u001b[0m\u001b[0m\n",
      "\u001b[1;32m~\\Anaconda3\\envs\\nilmtk-env\\lib\\site-packages\\tensorflow\\python\\client\\session.py\u001b[0m in \u001b[0;36m__call__\u001b[1;34m(self, *args, **kwargs)\u001b[0m\n\u001b[0;32m   1437\u001b[0m           ret = tf_session.TF_SessionRunCallable(\n\u001b[0;32m   1438\u001b[0m               \u001b[0mself\u001b[0m\u001b[1;33m.\u001b[0m\u001b[0m_session\u001b[0m\u001b[1;33m.\u001b[0m\u001b[0m_session\u001b[0m\u001b[1;33m,\u001b[0m \u001b[0mself\u001b[0m\u001b[1;33m.\u001b[0m\u001b[0m_handle\u001b[0m\u001b[1;33m,\u001b[0m \u001b[0margs\u001b[0m\u001b[1;33m,\u001b[0m \u001b[0mstatus\u001b[0m\u001b[1;33m,\u001b[0m\u001b[1;33m\u001b[0m\u001b[1;33m\u001b[0m\u001b[0m\n\u001b[1;32m-> 1439\u001b[1;33m               run_metadata_ptr)\n\u001b[0m\u001b[0;32m   1440\u001b[0m         \u001b[1;32mif\u001b[0m \u001b[0mrun_metadata\u001b[0m\u001b[1;33m:\u001b[0m\u001b[1;33m\u001b[0m\u001b[1;33m\u001b[0m\u001b[0m\n\u001b[0;32m   1441\u001b[0m           \u001b[0mproto_data\u001b[0m \u001b[1;33m=\u001b[0m \u001b[0mtf_session\u001b[0m\u001b[1;33m.\u001b[0m\u001b[0mTF_GetBuffer\u001b[0m\u001b[1;33m(\u001b[0m\u001b[0mrun_metadata_ptr\u001b[0m\u001b[1;33m)\u001b[0m\u001b[1;33m\u001b[0m\u001b[1;33m\u001b[0m\u001b[0m\n",
      "\u001b[1;31mKeyboardInterrupt\u001b[0m: "
     ]
    }
   ],
   "source": [
    "model.fit_generator(generator(x, y), \n",
    "                    steps_per_epoch =  int((len(x)-50+1) / 128) - 1, \n",
    "                    epochs=8)"
   ]
  },
  {
   "cell_type": "code",
   "execution_count": 214,
   "metadata": {},
   "outputs": [],
   "source": [
    "X = np.reshape(mainpart, (2, window, 1))\n",
    "Y = np.reshape(meterpart, (2, 1))"
   ]
  },
  {
   "cell_type": "code",
   "execution_count": 216,
   "metadata": {},
   "outputs": [
    {
     "data": {
      "text/plain": [
       "array([[24],\n",
       "       [25]])"
      ]
     },
     "execution_count": 216,
     "metadata": {},
     "output_type": "execute_result"
    }
   ],
   "source": [
    "Y"
   ]
  },
  {
   "cell_type": "code",
   "execution_count": 229,
   "metadata": {},
   "outputs": [
    {
     "data": {
      "text/plain": [
       "array([222.35   , 222.85333, 222.70667, ..., 316.68665, 316.45334,\n",
       "       316.22   ], dtype=float32)"
      ]
     },
     "execution_count": 229,
     "metadata": {},
     "output_type": "execute_result"
    }
   ],
   "source": [
    "x"
   ]
  },
  {
   "cell_type": "code",
   "execution_count": null,
   "metadata": {},
   "outputs": [],
   "source": []
  }
 ],
 "metadata": {
  "accelerator": "GPU",
  "colab": {
   "name": "e11_fridge_Redd_S2P.ipynb",
   "provenance": [],
   "version": "0.3.2"
  },
  "kernelspec": {
   "display_name": "Python 3",
   "language": "python",
   "name": "python3"
  },
  "language_info": {
   "codemirror_mode": {
    "name": "ipython",
    "version": 3
   },
   "file_extension": ".py",
   "mimetype": "text/x-python",
   "name": "python",
   "nbconvert_exporter": "python",
   "pygments_lexer": "ipython3",
   "version": "3.6.7"
  }
 },
 "nbformat": 4,
 "nbformat_minor": 1
}

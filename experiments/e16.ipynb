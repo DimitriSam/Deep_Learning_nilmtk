{
  "nbformat": 4,
  "nbformat_minor": 0,
  "metadata": {
    "colab": {
      "name": "e16.ipynb",
      "version": "0.3.2",
      "provenance": [],
      "collapsed_sections": []
    },
    "kernelspec": {
      "name": "python3",
      "display_name": "Python 3"
    },
    "accelerator": "GPU"
  },
  "cells": [
    {
      "cell_type": "code",
      "metadata": {
        "id": "Gz9jitiMmFkE",
        "colab_type": "code",
        "outputId": "a50853b8-d8ac-461c-a1fd-1435f2aeb694",
        "colab": {
          "base_uri": "https://localhost:8080/",
          "height": 35
        }
      },
      "source": [
        "'''\n",
        "Model: GRU (dropout =0.3)\n",
        "Aplpiance: fridge\n",
        "Data: Redd\n",
        "\n",
        "Method:S2P\n",
        "Normalization: no norm\n",
        "batch_size: 128,\n",
        "window_size: 1\n",
        "shuffle: True\n",
        "\n",
        "num epochs=15\n",
        "'''"
      ],
      "execution_count": 1,
      "outputs": [
        {
          "output_type": "execute_result",
          "data": {
            "text/plain": [
              "'\\nModel: GRU (dropout =0.3)\\nAplpiance: fridge\\nData: Redd\\n\\nMethod:S2P\\nNormalization: max\\nbatch_size: 128,\\nwindow_size: 50\\nshuffle: True\\n\\nnum epochs=8\\n\\n'"
            ]
          },
          "metadata": {
            "tags": []
          },
          "execution_count": 1
        }
      ]
    },
    {
      "cell_type": "code",
      "metadata": {
        "id": "ObzzZOy1zAzo",
        "colab_type": "code",
        "outputId": "8e727ed4-6113-421d-b939-477f77a2585f",
        "colab": {
          "base_uri": "https://localhost:8080/",
          "height": 126
        }
      },
      "source": [
        "from google.colab import drive\n",
        "drive.mount('/content/drive')\n",
        "import sys\n",
        "sys.path.insert(0,'drive/My Drive/Dissertation')"
      ],
      "execution_count": 2,
      "outputs": [
        {
          "output_type": "stream",
          "text": [
            "Go to this URL in a browser: https://accounts.google.com/o/oauth2/auth?client_id=947318989803-6bn6qk8qdgf4n4g3pfee6491hc0brc4i.apps.googleusercontent.com&redirect_uri=urn%3Aietf%3Awg%3Aoauth%3A2.0%3Aoob&scope=email%20https%3A%2F%2Fwww.googleapis.com%2Fauth%2Fdocs.test%20https%3A%2F%2Fwww.googleapis.com%2Fauth%2Fdrive%20https%3A%2F%2Fwww.googleapis.com%2Fauth%2Fdrive.photos.readonly%20https%3A%2F%2Fwww.googleapis.com%2Fauth%2Fpeopleapi.readonly&response_type=code\n",
            "\n",
            "Enter your authorization code:\n",
            "··········\n",
            "Mounted at /content/drive\n"
          ],
          "name": "stdout"
        }
      ]
    },
    {
      "cell_type": "code",
      "metadata": {
        "id": "amHn1qgwzEI2",
        "colab_type": "code",
        "outputId": "65997268-ae8b-418e-e814-b7d2ad1c036a",
        "colab": {
          "base_uri": "https://localhost:8080/",
          "height": 1000
        }
      },
      "source": [
        "pip install git+git://github.com/nilmtk/nilmtk.git"
      ],
      "execution_count": 3,
      "outputs": [
        {
          "output_type": "stream",
          "text": [
            "Collecting git+git://github.com/nilmtk/nilmtk.git\n",
            "  Cloning git://github.com/nilmtk/nilmtk.git to /tmp/pip-req-build-y1u_7b_4\n",
            "  Running command git clone -q git://github.com/nilmtk/nilmtk.git /tmp/pip-req-build-y1u_7b_4\n",
            "Requirement already satisfied: future in /usr/local/lib/python3.6/dist-packages (from nilmtk==0.3.0.dev0+git.2f15ab7) (0.16.0)\n",
            "Requirement already satisfied: six in /usr/local/lib/python3.6/dist-packages (from nilmtk==0.3.0.dev0+git.2f15ab7) (1.12.0)\n",
            "Collecting psycopg2-binary (from nilmtk==0.3.0.dev0+git.2f15ab7)\n",
            "\u001b[?25l  Downloading https://files.pythonhosted.org/packages/b1/35/75c9c2d9cfc073ab6c42b2d8e91ff58c9b99f4ed7ed56b36647642e6080e/psycopg2_binary-2.8.3-cp36-cp36m-manylinux1_x86_64.whl (2.9MB)\n",
            "\u001b[K     |████████████████████████████████| 2.9MB 38.8MB/s \n",
            "\u001b[?25hRequirement already satisfied: pandas==0.24.2 in /usr/local/lib/python3.6/dist-packages (from nilmtk==0.3.0.dev0+git.2f15ab7) (0.24.2)\n",
            "Collecting networkx==2.1 (from nilmtk==0.3.0.dev0+git.2f15ab7)\n",
            "\u001b[?25l  Downloading https://files.pythonhosted.org/packages/11/42/f951cc6838a4dff6ce57211c4d7f8444809ccbe2134179950301e5c4c83c/networkx-2.1.zip (1.6MB)\n",
            "\u001b[K     |████████████████████████████████| 1.6MB 45.4MB/s \n",
            "\u001b[?25hRequirement already satisfied: scipy in /usr/local/lib/python3.6/dist-packages (from nilmtk==0.3.0.dev0+git.2f15ab7) (1.3.0)\n",
            "Requirement already satisfied: tables in /usr/local/lib/python3.6/dist-packages (from nilmtk==0.3.0.dev0+git.2f15ab7) (3.4.4)\n",
            "Requirement already satisfied: scikit-learn>=0.21.2 in /usr/local/lib/python3.6/dist-packages (from nilmtk==0.3.0.dev0+git.2f15ab7) (0.21.2)\n",
            "Collecting hmmlearn>=0.2.1 (from nilmtk==0.3.0.dev0+git.2f15ab7)\n",
            "\u001b[?25l  Downloading https://files.pythonhosted.org/packages/d7/c5/91b43156b193d180ed94069269bcf88d3c7c6e54514a8482050fa9995e10/hmmlearn-0.2.2.tar.gz (146kB)\n",
            "\u001b[K     |████████████████████████████████| 153kB 40.9MB/s \n",
            "\u001b[?25hRequirement already satisfied: pyyaml in /usr/local/lib/python3.6/dist-packages (from nilmtk==0.3.0.dev0+git.2f15ab7) (3.13)\n",
            "Requirement already satisfied: matplotlib>=2.2.0 in /usr/local/lib/python3.6/dist-packages (from nilmtk==0.3.0.dev0+git.2f15ab7) (3.0.3)\n",
            "Requirement already satisfied: jupyter in /usr/local/lib/python3.6/dist-packages (from nilmtk==0.3.0.dev0+git.2f15ab7) (1.0.0)\n",
            "Requirement already satisfied: numpy>=1.12.0 in /usr/local/lib/python3.6/dist-packages (from pandas==0.24.2->nilmtk==0.3.0.dev0+git.2f15ab7) (1.16.4)\n",
            "Requirement already satisfied: python-dateutil>=2.5.0 in /usr/local/lib/python3.6/dist-packages (from pandas==0.24.2->nilmtk==0.3.0.dev0+git.2f15ab7) (2.5.3)\n",
            "Requirement already satisfied: pytz>=2011k in /usr/local/lib/python3.6/dist-packages (from pandas==0.24.2->nilmtk==0.3.0.dev0+git.2f15ab7) (2018.9)\n",
            "Requirement already satisfied: decorator>=4.1.0 in /usr/local/lib/python3.6/dist-packages (from networkx==2.1->nilmtk==0.3.0.dev0+git.2f15ab7) (4.4.0)\n",
            "Requirement already satisfied: numexpr>=2.5.2 in /usr/local/lib/python3.6/dist-packages (from tables->nilmtk==0.3.0.dev0+git.2f15ab7) (2.6.9)\n",
            "Requirement already satisfied: joblib>=0.11 in /usr/local/lib/python3.6/dist-packages (from scikit-learn>=0.21.2->nilmtk==0.3.0.dev0+git.2f15ab7) (0.13.2)\n",
            "Requirement already satisfied: kiwisolver>=1.0.1 in /usr/local/lib/python3.6/dist-packages (from matplotlib>=2.2.0->nilmtk==0.3.0.dev0+git.2f15ab7) (1.1.0)\n",
            "Requirement already satisfied: pyparsing!=2.0.4,!=2.1.2,!=2.1.6,>=2.0.1 in /usr/local/lib/python3.6/dist-packages (from matplotlib>=2.2.0->nilmtk==0.3.0.dev0+git.2f15ab7) (2.4.0)\n",
            "Requirement already satisfied: cycler>=0.10 in /usr/local/lib/python3.6/dist-packages (from matplotlib>=2.2.0->nilmtk==0.3.0.dev0+git.2f15ab7) (0.10.0)\n",
            "Requirement already satisfied: qtconsole in /usr/local/lib/python3.6/dist-packages (from jupyter->nilmtk==0.3.0.dev0+git.2f15ab7) (4.5.1)\n",
            "Requirement already satisfied: notebook in /usr/local/lib/python3.6/dist-packages (from jupyter->nilmtk==0.3.0.dev0+git.2f15ab7) (5.2.2)\n",
            "Requirement already satisfied: ipykernel in /usr/local/lib/python3.6/dist-packages (from jupyter->nilmtk==0.3.0.dev0+git.2f15ab7) (4.6.1)\n",
            "Requirement already satisfied: ipywidgets in /usr/local/lib/python3.6/dist-packages (from jupyter->nilmtk==0.3.0.dev0+git.2f15ab7) (7.4.2)\n",
            "Requirement already satisfied: nbconvert in /usr/local/lib/python3.6/dist-packages (from jupyter->nilmtk==0.3.0.dev0+git.2f15ab7) (5.5.0)\n",
            "Requirement already satisfied: jupyter-console in /usr/local/lib/python3.6/dist-packages (from jupyter->nilmtk==0.3.0.dev0+git.2f15ab7) (6.0.0)\n",
            "Requirement already satisfied: setuptools in /usr/local/lib/python3.6/dist-packages (from kiwisolver>=1.0.1->matplotlib>=2.2.0->nilmtk==0.3.0.dev0+git.2f15ab7) (41.0.1)\n",
            "Requirement already satisfied: jupyter-core in /usr/local/lib/python3.6/dist-packages (from qtconsole->jupyter->nilmtk==0.3.0.dev0+git.2f15ab7) (4.5.0)\n",
            "Requirement already satisfied: pygments in /usr/local/lib/python3.6/dist-packages (from qtconsole->jupyter->nilmtk==0.3.0.dev0+git.2f15ab7) (2.1.3)\n",
            "Requirement already satisfied: ipython-genutils in /usr/local/lib/python3.6/dist-packages (from qtconsole->jupyter->nilmtk==0.3.0.dev0+git.2f15ab7) (0.2.0)\n",
            "Requirement already satisfied: traitlets in /usr/local/lib/python3.6/dist-packages (from qtconsole->jupyter->nilmtk==0.3.0.dev0+git.2f15ab7) (4.3.2)\n",
            "Requirement already satisfied: jupyter-client>=4.1 in /usr/local/lib/python3.6/dist-packages (from qtconsole->jupyter->nilmtk==0.3.0.dev0+git.2f15ab7) (5.2.4)\n",
            "Requirement already satisfied: tornado>=4 in /usr/local/lib/python3.6/dist-packages (from notebook->jupyter->nilmtk==0.3.0.dev0+git.2f15ab7) (4.5.3)\n",
            "Requirement already satisfied: terminado>=0.3.3; sys_platform != \"win32\" in /usr/local/lib/python3.6/dist-packages (from notebook->jupyter->nilmtk==0.3.0.dev0+git.2f15ab7) (0.8.2)\n",
            "Requirement already satisfied: jinja2 in /usr/local/lib/python3.6/dist-packages (from notebook->jupyter->nilmtk==0.3.0.dev0+git.2f15ab7) (2.10.1)\n",
            "Requirement already satisfied: nbformat in /usr/local/lib/python3.6/dist-packages (from notebook->jupyter->nilmtk==0.3.0.dev0+git.2f15ab7) (4.4.0)\n",
            "Requirement already satisfied: ipython>=4.0.0 in /usr/local/lib/python3.6/dist-packages (from ipykernel->jupyter->nilmtk==0.3.0.dev0+git.2f15ab7) (5.5.0)\n",
            "Requirement already satisfied: widgetsnbextension~=3.4.0 in /usr/local/lib/python3.6/dist-packages (from ipywidgets->jupyter->nilmtk==0.3.0.dev0+git.2f15ab7) (3.4.2)\n",
            "Requirement already satisfied: entrypoints>=0.2.2 in /usr/local/lib/python3.6/dist-packages (from nbconvert->jupyter->nilmtk==0.3.0.dev0+git.2f15ab7) (0.3)\n",
            "Requirement already satisfied: pandocfilters>=1.4.1 in /usr/local/lib/python3.6/dist-packages (from nbconvert->jupyter->nilmtk==0.3.0.dev0+git.2f15ab7) (1.4.2)\n",
            "Requirement already satisfied: testpath in /usr/local/lib/python3.6/dist-packages (from nbconvert->jupyter->nilmtk==0.3.0.dev0+git.2f15ab7) (0.4.2)\n",
            "Requirement already satisfied: bleach in /usr/local/lib/python3.6/dist-packages (from nbconvert->jupyter->nilmtk==0.3.0.dev0+git.2f15ab7) (3.1.0)\n",
            "Requirement already satisfied: defusedxml in /usr/local/lib/python3.6/dist-packages (from nbconvert->jupyter->nilmtk==0.3.0.dev0+git.2f15ab7) (0.6.0)\n",
            "Requirement already satisfied: mistune>=0.8.1 in /usr/local/lib/python3.6/dist-packages (from nbconvert->jupyter->nilmtk==0.3.0.dev0+git.2f15ab7) (0.8.4)\n",
            "Collecting prompt-toolkit<2.1.0,>=2.0.0 (from jupyter-console->jupyter->nilmtk==0.3.0.dev0+git.2f15ab7)\n",
            "\u001b[?25l  Downloading https://files.pythonhosted.org/packages/f7/a7/9b1dd14ef45345f186ef69d175bdd2491c40ab1dfa4b2b3e4352df719ed7/prompt_toolkit-2.0.9-py3-none-any.whl (337kB)\n",
            "\u001b[K     |████████████████████████████████| 337kB 45.3MB/s \n",
            "\u001b[?25hRequirement already satisfied: pyzmq>=13 in /usr/local/lib/python3.6/dist-packages (from jupyter-client>=4.1->qtconsole->jupyter->nilmtk==0.3.0.dev0+git.2f15ab7) (17.0.0)\n",
            "Requirement already satisfied: ptyprocess; os_name != \"nt\" in /usr/local/lib/python3.6/dist-packages (from terminado>=0.3.3; sys_platform != \"win32\"->notebook->jupyter->nilmtk==0.3.0.dev0+git.2f15ab7) (0.6.0)\n",
            "Requirement already satisfied: MarkupSafe>=0.23 in /usr/local/lib/python3.6/dist-packages (from jinja2->notebook->jupyter->nilmtk==0.3.0.dev0+git.2f15ab7) (1.1.1)\n",
            "Requirement already satisfied: jsonschema!=2.5.0,>=2.4 in /usr/local/lib/python3.6/dist-packages (from nbformat->notebook->jupyter->nilmtk==0.3.0.dev0+git.2f15ab7) (2.6.0)\n",
            "Requirement already satisfied: pickleshare in /usr/local/lib/python3.6/dist-packages (from ipython>=4.0.0->ipykernel->jupyter->nilmtk==0.3.0.dev0+git.2f15ab7) (0.7.5)\n",
            "Requirement already satisfied: pexpect; sys_platform != \"win32\" in /usr/local/lib/python3.6/dist-packages (from ipython>=4.0.0->ipykernel->jupyter->nilmtk==0.3.0.dev0+git.2f15ab7) (4.7.0)\n",
            "Requirement already satisfied: simplegeneric>0.8 in /usr/local/lib/python3.6/dist-packages (from ipython>=4.0.0->ipykernel->jupyter->nilmtk==0.3.0.dev0+git.2f15ab7) (0.8.1)\n",
            "Requirement already satisfied: webencodings in /usr/local/lib/python3.6/dist-packages (from bleach->nbconvert->jupyter->nilmtk==0.3.0.dev0+git.2f15ab7) (0.5.1)\n",
            "Requirement already satisfied: wcwidth in /usr/local/lib/python3.6/dist-packages (from prompt-toolkit<2.1.0,>=2.0.0->jupyter-console->jupyter->nilmtk==0.3.0.dev0+git.2f15ab7) (0.1.7)\n",
            "Building wheels for collected packages: nilmtk, networkx, hmmlearn\n",
            "  Building wheel for nilmtk (setup.py) ... \u001b[?25l\u001b[?25hdone\n",
            "  Stored in directory: /tmp/pip-ephem-wheel-cache-i30sv188/wheels/71/84/2f/eca0fb8014a0fe59881ab1a3e3374f4108211de4c7c3081e8d\n",
            "  Building wheel for networkx (setup.py) ... \u001b[?25l\u001b[?25hdone\n",
            "  Stored in directory: /root/.cache/pip/wheels/44/c0/34/6f98693a554301bdb405f8d65d95bbcd3e50180cbfdd98a94e\n",
            "  Building wheel for hmmlearn (setup.py) ... \u001b[?25l\u001b[?25hdone\n",
            "  Stored in directory: /root/.cache/pip/wheels/2c/b6/0e/63a865a30e21e01d04f417d8995fbfb793d6bd464707efc546\n",
            "Successfully built nilmtk networkx hmmlearn\n",
            "\u001b[31mERROR: ipython 5.5.0 has requirement prompt-toolkit<2.0.0,>=1.0.4, but you'll have prompt-toolkit 2.0.9 which is incompatible.\u001b[0m\n",
            "\u001b[31mERROR: albumentations 0.1.12 has requirement imgaug<0.2.7,>=0.2.5, but you'll have imgaug 0.2.9 which is incompatible.\u001b[0m\n",
            "Installing collected packages: psycopg2-binary, networkx, hmmlearn, nilmtk, prompt-toolkit\n",
            "  Found existing installation: networkx 2.3\n",
            "    Uninstalling networkx-2.3:\n",
            "      Successfully uninstalled networkx-2.3\n",
            "  Found existing installation: prompt-toolkit 1.0.16\n",
            "    Uninstalling prompt-toolkit-1.0.16:\n",
            "      Successfully uninstalled prompt-toolkit-1.0.16\n",
            "Successfully installed hmmlearn-0.2.2 networkx-2.1 nilmtk-0.3.0.dev0+git.2f15ab7 prompt-toolkit-2.0.9 psycopg2-binary-2.8.3\n"
          ],
          "name": "stdout"
        },
        {
          "output_type": "display_data",
          "data": {
            "application/vnd.colab-display-data+json": {
              "pip_warning": {
                "packages": [
                  "prompt_toolkit"
                ]
              }
            }
          },
          "metadata": {
            "tags": []
          }
        }
      ]
    },
    {
      "cell_type": "code",
      "metadata": {
        "id": "yP1czK5szE76",
        "colab_type": "code",
        "outputId": "693182d1-4153-47b0-845a-a341d09d0c8c",
        "colab": {
          "base_uri": "https://localhost:8080/",
          "height": 284
        }
      },
      "source": [
        "pip install git+git://github.com/nilmtk/nilm_metadata.git"
      ],
      "execution_count": 4,
      "outputs": [
        {
          "output_type": "stream",
          "text": [
            "Collecting git+git://github.com/nilmtk/nilm_metadata.git\n",
            "  Cloning git://github.com/nilmtk/nilm_metadata.git to /tmp/pip-req-build-eh9wl0e6\n",
            "  Running command git clone -q git://github.com/nilmtk/nilm_metadata.git /tmp/pip-req-build-eh9wl0e6\n",
            "Requirement already satisfied: PyYAML in /usr/local/lib/python3.6/dist-packages (from nilm-metadata==0.2.3) (3.13)\n",
            "Requirement already satisfied: six in /usr/local/lib/python3.6/dist-packages (from nilm-metadata==0.2.3) (1.12.0)\n",
            "Requirement already satisfied: pandas in /usr/local/lib/python3.6/dist-packages (from nilm-metadata==0.2.3) (0.24.2)\n",
            "Requirement already satisfied: numpy>=1.12.0 in /usr/local/lib/python3.6/dist-packages (from pandas->nilm-metadata==0.2.3) (1.16.4)\n",
            "Requirement already satisfied: pytz>=2011k in /usr/local/lib/python3.6/dist-packages (from pandas->nilm-metadata==0.2.3) (2018.9)\n",
            "Requirement already satisfied: python-dateutil>=2.5.0 in /usr/local/lib/python3.6/dist-packages (from pandas->nilm-metadata==0.2.3) (2.5.3)\n",
            "Building wheels for collected packages: nilm-metadata\n",
            "  Building wheel for nilm-metadata (setup.py) ... \u001b[?25l\u001b[?25hdone\n",
            "  Stored in directory: /tmp/pip-ephem-wheel-cache-fv326ykj/wheels/75/e0/6d/1ec555a322c151fe20b4c9834753a692203b1f62a66b3ee235\n",
            "Successfully built nilm-metadata\n",
            "Installing collected packages: nilm-metadata\n",
            "Successfully installed nilm-metadata-0.2.3\n"
          ],
          "name": "stdout"
        }
      ]
    },
    {
      "cell_type": "code",
      "metadata": {
        "id": "aLVywoaWzG-s",
        "colab_type": "code",
        "outputId": "8a75ca39-081a-4f52-d02f-94d0a9396af8",
        "colab": {
          "base_uri": "https://localhost:8080/",
          "height": 336
        }
      },
      "source": [
        "pip install pandas==0.24.0"
      ],
      "execution_count": 5,
      "outputs": [
        {
          "output_type": "stream",
          "text": [
            "Collecting pandas==0.24.0\n",
            "\u001b[?25l  Downloading https://files.pythonhosted.org/packages/f9/e1/4a63ed31e1b1362d40ce845a5735c717a959bda992669468dae3420af2cd/pandas-0.24.0-cp36-cp36m-manylinux1_x86_64.whl (10.1MB)\n",
            "\u001b[K     |████████████████████████████████| 10.1MB 39.9MB/s \n",
            "\u001b[?25hRequirement already satisfied: pytz>=2011k in /usr/local/lib/python3.6/dist-packages (from pandas==0.24.0) (2018.9)\n",
            "Requirement already satisfied: numpy>=1.12.0 in /usr/local/lib/python3.6/dist-packages (from pandas==0.24.0) (1.16.4)\n",
            "Requirement already satisfied: python-dateutil>=2.5.0 in /usr/local/lib/python3.6/dist-packages (from pandas==0.24.0) (2.5.3)\n",
            "Requirement already satisfied: six>=1.5 in /usr/local/lib/python3.6/dist-packages (from python-dateutil>=2.5.0->pandas==0.24.0) (1.12.0)\n",
            "\u001b[31mERROR: nilmtk 0.3.0.dev0+git.2f15ab7 has requirement pandas==0.24.2, but you'll have pandas 0.24.0 which is incompatible.\u001b[0m\n",
            "Installing collected packages: pandas\n",
            "  Found existing installation: pandas 0.24.2\n",
            "    Uninstalling pandas-0.24.2:\n",
            "      Successfully uninstalled pandas-0.24.2\n",
            "Successfully installed pandas-0.24.0\n"
          ],
          "name": "stdout"
        },
        {
          "output_type": "display_data",
          "data": {
            "application/vnd.colab-display-data+json": {
              "pip_warning": {
                "packages": [
                  "pandas"
                ]
              }
            }
          },
          "metadata": {
            "tags": []
          }
        }
      ]
    },
    {
      "cell_type": "code",
      "metadata": {
        "id": "cVqjo-MkycMZ",
        "colab_type": "code",
        "colab": {}
      },
      "source": [
        "from __future__ import print_function, division\n",
        "import time\n",
        "\n",
        "from matplotlib import rcParams\n",
        "import matplotlib.pyplot as plt\n",
        "\n",
        "from nilmtk import DataSet, TimeFrame, MeterGroup, HDFDataStore\n",
        "\n",
        "\n",
        "import random\n",
        "import sys\n",
        "import pandas as pd\n",
        "import numpy as np\n",
        "import h5py\n",
        "\n",
        "\n",
        "\n",
        "def load_dataset(window_per_house,test_window, filename, meter_label, train_building, test_building, **load_kwargs):\n",
        "    \n",
        "    #Load datasets\n",
        "    train = DataSet(filename)\n",
        "    test = DataSet(filename)\n",
        "\n",
        "    #train.set_window(start=start_train, end=end_train)\n",
        "    test.set_window(*test_window[test_building])\n",
        "\n",
        "    train_mainlist = []\n",
        "    train_meterlist = []\n",
        "    for building_id, building in train.buildings.items():\n",
        "        if building_id in train_building:\n",
        "            train.set_window(*window_per_house[building_id])\n",
        "            y = building.elec[meter_label]\n",
        "            \n",
        "            if filename[-7:] == 'redd.h5':\n",
        "                x = building.elec.mains().all_meters()[0] \n",
        "                \n",
        "            else:\n",
        "                x = building.elec.mains()\n",
        "                \n",
        "            train_mainlist.append(x.power_series_all_data(**load_kwargs))\n",
        "            train_meterlist.append(y.power_series_all_data(**load_kwargs))\n",
        "            \n",
        "\n",
        "    test_meterlist = test.buildings[test_building].elec[meter_label]\n",
        "    \n",
        "    if filename[-7:] == 'redd.h5':\n",
        "        test_mainlist = test.buildings[test_building].elec.mains().all_meters()[0]\n",
        "    else:\n",
        "        test_mainlist = test.buildings[test_building].elec.mains()\n",
        "\n",
        "    assert len(train_mainlist) == len(train_meterlist), \"The number of main and apliances meters must be equal\"\n",
        "\n",
        "    return train_meterlist, train_mainlist, test_meterlist, test_mainlist\n",
        "\n",
        "\n",
        "def data_processing(train_mainlist, train_meterlist, window_size):\n",
        "    '''Data processing\n",
        "\n",
        "    Parameters\n",
        "    ----------\n",
        "    train_mainlist : a list of nilmtk.ElecMeter objects for the aggregate data of each building\n",
        "    train_meterlist : a list of nilmtk.ElecMeter objects for the meter data of each building\n",
        "    '''\n",
        "\n",
        "    # Normalize the data\n",
        "#     train_x = [standardise(data) for data in train_mainlist]\n",
        "#     train_y = [standardise(data) for data in train_meterlist]\n",
        "\n",
        "    train_x = [data for data in train_mainlist]\n",
        "    train_y = [data for data in train_meterlist]\n",
        "\n",
        "    # replca NaN values and\n",
        "    for i in range(len(train_x)):\n",
        "        train_x[i].fillna(0, inplace=True)\n",
        "        train_y[i].fillna(0, inplace=True)\n",
        "        ix = train_x[i].index.intersection(train_y[i].index)\n",
        "\n",
        "        train_x[i] = train_x[i][ix].values\n",
        "        train_y[i] = train_y[i][ix].values\n",
        "\n",
        "    return train_x, train_y\n",
        "\n",
        "\n",
        "\n",
        "\n",
        "def normalise(data):\n",
        "    \"\"\"\n",
        "    Perform the normalisation (x-min(x))/(max(x)-min(x)).\n",
        "    --------------------------------------\n",
        "    :arg\n",
        "    data: data that needs to be transformed\n",
        "    mean: mean value of data\n",
        "    max_v: max value of data\n",
        "    :return\n",
        "    The normalized data\n",
        "    \"\"\"\n",
        "    std =np.std(data)\n",
        "    mean = data.mean()\n",
        "    max_v = data.max()\n",
        "\n",
        "    return data/7629.0703 #remember to try this normalization as well\n",
        "    #return (data - mean) / (max_v-mean)\n",
        "\n",
        "\n",
        "def inversenormalise(data):\n",
        "    \"\"\"\n",
        "    Perform the in-normalisation data*(max(x)-min(x))+min(x).\n",
        "    ------------------------------------------------\n",
        "    :arg\n",
        "    data: data that needs to be inverse-transformed\n",
        "    mean: mean value of data\n",
        "    max_v: max value of data\n",
        "    :return\n",
        "    The in-normalized data\n",
        "    \"\"\"\n",
        "    std =np.std(data)\n",
        "    mean = data.mean()\n",
        "    max_v = data.max()\n",
        "    \n",
        "    return data * 7629.0703\n",
        "\n",
        "    #return data * (max_v-mean) + mean\n",
        "\n",
        "def standardise(X, how='std=1', mean=200, std=400, midrange=None,\n",
        "                ptp=None):\n",
        "    \"\"\"Standardise.\n",
        "    ftp://ftp.sas.com/pub/neural/FAQ2.html#A_std_in\n",
        "    Parameters\n",
        "    ----------\n",
        "    X : matrix\n",
        "        Each sample is in range [0, 1]\n",
        "    how : str, {'range=2', 'std=1'}\n",
        "        'range=2' sets midrange to 0 and enforces\n",
        "        all values to be in the range [-1,1]\n",
        "        'std=1' sets mean = 0 and std = 1\n",
        "    Returns\n",
        "    -------\n",
        "    new_X : matrix\n",
        "        Same shape as `X`.  Sample is in range [lower, upper]\n",
        "    See also\n",
        "    --------\n",
        "    unstandardise\n",
        "    \"\"\"\n",
        "    if how == 'std=1':\n",
        "        if mean is None:\n",
        "            mean = X.mean()\n",
        "        if std is None:\n",
        "            std = X.std()\n",
        "        centered = X - mean\n",
        "        if std == 0:\n",
        "            return centered\n",
        "        else:\n",
        "            return centered / std\n",
        "    elif how == 'range=2':\n",
        "        if midrange is None:\n",
        "            midrange = (X.max() + X.min()) / 2\n",
        "        if ptp is None:\n",
        "            ptp = X.ptp()\n",
        "        return (X - midrange) / (ptp / 2)\n",
        "    else:\n",
        "        raise RuntimeError(\"unrecognised how '\" + how + \"'\")\n",
        "        \n",
        "def unstandardise(data, std=400, mean=200, maximum=None):\n",
        "    unstandardised_data = (data * std) + mean\n",
        "    if maximum is not None:\n",
        "        unstandardised_data *= maximum\n",
        "    return unstandardised_data"
      ],
      "execution_count": 0,
      "outputs": []
    },
    {
      "cell_type": "code",
      "metadata": {
        "id": "PPNy3dv4y24k",
        "colab_type": "code",
        "colab": {}
      },
      "source": [
        "from keras.models import load_model, Model, Input\n",
        "from keras.layers import Dense, Conv1D, GRU, LSTM, Bidirectional, Dropout,Conv2D\n",
        "from keras.layers import Reshape, BatchNormalization, Activation, Flatten, Concatenate\n",
        "from keras.models import Sequential\n",
        "\n",
        "def RNN_model(window_size):\n",
        "    '''Creates the RNN module described in the paper\n",
        "    '''\n",
        "    model = Sequential()\n",
        "\n",
        "    # 1D Conv\n",
        "    model.add(Conv1D(16, 4, activation=\"linear\", input_shape=(window_size,1), padding=\"same\", strides=1))\n",
        "\n",
        "    #Bi-directional LSTMs\n",
        "    model.add(Bidirectional(LSTM(128, return_sequences=True, stateful=False), merge_mode='concat'))\n",
        "    model.add(Bidirectional(LSTM(256, return_sequences=False, stateful=False), merge_mode='concat'))\n",
        "\n",
        "    # Fully Connected Layers\n",
        "    model.add(Dense(128, activation='tanh'))\n",
        "    model.add(Dense(1, activation='linear'))\n",
        "\n",
        "    model.compile(loss='mse', optimizer='adam')\n",
        "    #plot_model(model, to_file='model.png', show_shapes=True)\n",
        "\n",
        "    return model\n",
        "\n",
        "\n",
        "def GRU_model(window_size):\n",
        "\n",
        "    '''Creates the GRU architecture described in the paper\n",
        "    '''\n",
        "    model = Sequential()\n",
        "\n",
        "    # 1D Conv\n",
        "    model.add(Conv1D(16, 4, activation='relu', input_shape=(1,1), padding=\"same\", strides=1))\n",
        "\n",
        "    #Bi-directional GRUs\n",
        "    model.add(Bidirectional(GRU(64, activation='relu', return_sequences=True), merge_mode='concat'))\n",
        "    #model.add(Dropout(0.3))\n",
        "    model.add(Bidirectional(GRU(128, activation='relu', return_sequences=False), merge_mode='concat'))\n",
        "    #model.add(Dropout(0.3))\n",
        "\n",
        "    # Fully Connected Layers\n",
        "    model.add(Dense(128, activation='relu'))\n",
        "    model.add(Dropout(0.3))\n",
        "    model.add(Dense(1, activation='linear'))\n",
        "\n",
        "    model.compile(loss='mse', optimizer='adam')\n",
        "    print(model.summary())\n",
        "\n",
        "    return model\n",
        "\n",
        "\n",
        "def DAE_model(window_size):\n",
        "    '''Creates and returns the ShortSeq2Point Network\n",
        "     Based on: https://arxiv.org/pdf/1612.09106v3.pdf\n",
        "    '''\n",
        "    model = Sequential()\n",
        "\n",
        "    # 1D Conv\n",
        "    model.add(Conv1D(30, 10, activation='relu', input_shape=(window_size,1), padding=\"same\", strides=1))\n",
        "    model.add(Dropout(0.2))\n",
        "    model.add(Conv1D(30, 8, activation='relu', padding=\"same\", strides=1))\n",
        "    model.add(Dropout(0.2))\n",
        "    model.add(Conv1D(40, 6, activation='relu', padding=\"same\", strides=1))\n",
        "    model.add(Dropout(0.2))\n",
        "    model.add(Conv1D(50, 5, activation='relu', padding=\"same\", strides=1))\n",
        "    model.add(Dropout(0.2))\n",
        "    model.add(Conv1D(50, 5, activation='relu', padding=\"same\", strides=1))\n",
        "    model.add(Dropout(0.2))\n",
        "    # Fully Connected Layers\n",
        "    model.add(Flatten())\n",
        "    model.add(Dense(1024, activation='relu'))\n",
        "    model.add(Dropout(0.2))\n",
        "    model.add(Dense(1, activation='linear'))\n",
        "\n",
        "    model.compile(loss='mse', optimizer='adam')\n",
        "    print(model.summary())\n",
        "\n",
        "    return model\n",
        "\n",
        "def DresNET_model(window_size):\n",
        "    '''Creates the GRU architecture described in the paper\n",
        "    '''\n",
        "    def residual_block(filters,x,stride = 1,dilate = None):\n",
        "        resiual = x\n",
        "        out = BatchNormalization()(x)\n",
        "        out1 = Activation('relu')(out)\n",
        "        out = Conv1D(filters = filters,kernel_size = [3],dilation_rate = dilate,strides = [1],padding = 'same')(out1)\n",
        "        out = BatchNormalization()(out)\n",
        "        out = Activation('relu')(out)\n",
        "        out = Conv1D(filters = filters,kernel_size = [3],strides = [1],padding = 'same')(out)\n",
        "        out = BatchNormalization()(out)\n",
        "        out = Activation('relu')(out)\n",
        "        out = Conv1D(filters = filters,kernel_size = [1],dilation_rate = dilate,strides = [1],padding = 'same')(out)\n",
        "\n",
        "        if out1.shape[-1] != filters or stride == 1:\n",
        "            residual = Conv1D(filters = filters,kernel_size = [3],strides = [1],padding = 'same')(out1)\n",
        "            out = Concatenate()([residual,out])\n",
        "        return out\n",
        "\n",
        "    x = Input(shape = [window_size,1])\n",
        "    conv1 = Conv1D(filters = 30,kernel_size = [5],dilation_rate = [1],strides = [1],padding = 'same')(x)\n",
        "    bn = BatchNormalization()(conv1)\n",
        "    out = Activation('relu')(bn)\n",
        "    repetition = [3,4,6,3]\n",
        "    filter_num = [30,40,50,50]\n",
        "    dilations = [[1],[2],[3],[3]]\n",
        "    for i in range(len(repetition)):\n",
        "        for j in range(repetition[i]):\n",
        "            out = residual_block(filters = filter_num[i],dilate = dilations[i],x = out)\n",
        "\n",
        "    out = Flatten()(out)\n",
        "    out = Dense(units = 1)(out)\n",
        "    model = Model(x,out)\n",
        "    model.compile(optimizer = 'adam',loss = 'mse')\n",
        "\n",
        "    print(model.summary())\n",
        "\n",
        "    return model\n"
      ],
      "execution_count": 0,
      "outputs": []
    },
    {
      "cell_type": "code",
      "metadata": {
        "id": "EHJPt__pyuMk",
        "colab_type": "code",
        "colab": {}
      },
      "source": [
        "from __future__ import print_function, division\n",
        "from warnings import warn, filterwarnings\n",
        "\n",
        "import random\n",
        "import sys\n",
        "import pandas as pd\n",
        "import numpy as np\n",
        "\n",
        "from nilmtk.disaggregate import Disaggregator\n",
        "from nilmtk.datastore import HDFDataStore\n",
        "\n",
        "\n",
        "\n",
        "class NeuralDisaggregator(Disaggregator):\n",
        "    '''Attempt to create a RNN Disaggregator\n",
        "\n",
        "    Attributes\n",
        "    ----------\n",
        "    model : keras Sequential model\n",
        "    mmax : the maximum value of the aggregate data\n",
        "\n",
        "    MIN_CHUNK_LENGTH : int\n",
        "       the minimum length of an acceptable chunk\n",
        "    '''\n",
        "    \n",
        "    def __init__(self, model, name,batch_size, window_size=100):\n",
        "        '''Initialize disaggregator\n",
        "        '''\n",
        "        self.MODEL_NAME = name\n",
        "        self.MIN_CHUNK_LENGTH = window_size\n",
        "        self.window_size = window_size\n",
        "        self.model = model\n",
        "        self.batch_size = batch_size\n",
        "            \n",
        "    def disaggregate(self, mains, output_datastore, meter_metadata, **load_kwargs):\n",
        "        '''Disaggregate mains according to the model learnt previously.\n",
        "\n",
        "        Parameters\n",
        "        ----------\n",
        "        mains : a nilmtk.ElecMeter of aggregate data\n",
        "        meter_metadata: a nilmtk.ElecMeter of the observed meter used for storing the metadata\n",
        "        output_datastore : instance of nilmtk.DataStore subclass\n",
        "            For storing power predictions from disaggregation algorithm.\n",
        "        **load_kwargs : key word arguments\n",
        "            Passed to `mains.power_series(**kwargs)`\n",
        "        '''\n",
        "\n",
        "        load_kwargs = self._pre_disaggregation_checks(load_kwargs)\n",
        "\n",
        "        load_kwargs.setdefault('sample_period', 60)\n",
        "        load_kwargs.setdefault('sections', mains.good_sections())\n",
        "\n",
        "        timeframes = []\n",
        "        building_path = '/building{}'.format(mains.building())\n",
        "        mains_data_location = building_path + '/elec/meter1'\n",
        "        data_is_available = False\n",
        "\n",
        "        for chunk in mains.power_series(**load_kwargs):\n",
        "            if len(chunk) < self.MIN_CHUNK_LENGTH:\n",
        "                continue\n",
        "            print(\"New sensible chunk: {}\".format(len(chunk)))\n",
        "\n",
        "            timeframes.append(chunk.timeframe)\n",
        "            measurement = chunk.name\n",
        "            #chunk2 = standardise(chunk)\n",
        "            chunk2=chunk\n",
        "            appliance_power = self.disaggregate_chunk(chunk2)\n",
        "            appliance_power[appliance_power < 0] = 0\n",
        "            #appliance_power = unstandardise(appliance_power)\n",
        "\n",
        "            # Append prediction to output\n",
        "            data_is_available = True\n",
        "            cols = pd.MultiIndex.from_tuples([chunk.name])\n",
        "            meter_instance = meter_metadata.instance()\n",
        "            df = pd.DataFrame(\n",
        "                appliance_power.values, index=appliance_power.index,\n",
        "                columns=cols, dtype=\"float32\")\n",
        "            key = '{}/elec/meter{}'.format(building_path, meter_instance)\n",
        "            output_datastore.append(key, df)\n",
        "\n",
        "            # Append aggregate data to output\n",
        "            mains_df = pd.DataFrame(chunk, columns=cols, dtype=\"float32\")\n",
        "            output_datastore.append(key=mains_data_location, value=mains_df)\n",
        "\n",
        "        # Save metadata to output\n",
        "        if data_is_available:\n",
        "            self._save_metadata_for_disaggregation(\n",
        "                output_datastore=output_datastore,\n",
        "                sample_period=load_kwargs['sample_period'],\n",
        "                measurement=measurement,\n",
        "                timeframes=timeframes,\n",
        "                building=mains.building(),\n",
        "                meters=[meter_metadata]\n",
        "            )\n",
        "\n",
        "    def disaggregate_chunk(self, mains):\n",
        "        '''In-memory disaggregation.\n",
        "\n",
        "        Parameters\n",
        "        ----------\n",
        "        mains : pd.Series of aggregate data\n",
        "        Returns\n",
        "        -------\n",
        "        appliance_powers : pd.DataFrame where each column represents a\n",
        "            disaggregated appliance.  Column names are the integer index\n",
        "            into `self.model` for the appliance in question.\n",
        "        '''\n",
        "        up_limit = len(mains)\n",
        "\n",
        "        mains.fillna(0, inplace=True)\n",
        "\n",
        "        X_batch = np.array(mains)\n",
        "        Y_len = len(X_batch)\n",
        "        indexer = np.arange(self.window_size)[None, :] + np.arange(len(X_batch)-self.window_size+1)[:, None]\n",
        "        X_batch = X_batch[indexer]\n",
        "        X_batch = np.reshape(X_batch, (X_batch.shape[0],X_batch.shape[1],1))\n",
        "\n",
        "        pred = self.model.predict(X_batch, batch_size=self.batch_size)\n",
        "        pred = np.reshape(pred, (len(pred)))\n",
        "        column = pd.Series(pred, index=mains.index[self.window_size-1:Y_len], name=0)\n",
        "        \n",
        "\n",
        "        appliance_powers_dict = {}\n",
        "        appliance_powers_dict[0] = column\n",
        "        appliance_powers = pd.DataFrame(appliance_powers_dict)\n",
        "        return appliance_powers\n"
      ],
      "execution_count": 0,
      "outputs": []
    },
    {
      "cell_type": "code",
      "metadata": {
        "id": "DUFVTW1ayl_Z",
        "colab_type": "code",
        "colab": {}
      },
      "source": [
        "\n",
        "from nilmtk.electric import align_two_meters\n",
        "import numpy as np\n",
        "\n",
        "def tp_tn_fp_fn(states_pred, states_ground):\n",
        "    tp = np.sum(np.logical_and(states_pred == 1, states_ground == 1))\n",
        "    fp = np.sum(np.logical_and(states_pred == 1, states_ground == 0))\n",
        "    fn = np.sum(np.logical_and(states_pred == 0, states_ground == 1))\n",
        "    tn = np.sum(np.logical_and(states_pred == 0, states_ground == 0))\n",
        "    return tp, tn, fp, fn\n",
        "\n",
        "def recall_precision_accuracy_f1(pred, ground):\n",
        "    aligned_meters = align_two_meters(pred, ground)\n",
        "    threshold = ground.on_power_threshold()\n",
        "    chunk_results = []\n",
        "    sum_samples = 0.0\n",
        "    for chunk in aligned_meters:\n",
        "        sum_samples += len(chunk)\n",
        "        pr = np.array([0 if (p)<threshold else 1 for p in chunk.iloc[:,0]])\n",
        "        gr = np.array([0 if p<threshold else 1 for p in chunk.iloc[:,1]])\n",
        "\n",
        "        tp, tn, fp, fn = tp_tn_fp_fn(pr,gr)\n",
        "        p = sum(pr)\n",
        "        n = len(pr) - p\n",
        "\n",
        "        chunk_results.append([tp,tn,fp,fn,p,n])\n",
        "\n",
        "    if sum_samples == 0:\n",
        "        return None\n",
        "    else:\n",
        "        [tp,tn,fp,fn,p,n] = np.sum(chunk_results, axis=0)\n",
        "\n",
        "        res_recall = recall(tp,fn)\n",
        "        res_precision = precision(tp,fp)\n",
        "        res_f1 = f1(res_precision,res_recall)\n",
        "        res_accuracy = accuracy(tp,tn,p,n)\n",
        "\n",
        "        return (res_recall,res_precision,res_accuracy,res_f1)\n",
        "\n",
        "def relative_error_total_energy(pred, ground):\n",
        "    aligned_meters = align_two_meters(pred, ground)\n",
        "    chunk_results = []\n",
        "    sum_samples = 0.0\n",
        "    for chunk in aligned_meters:\n",
        "        chunk.fillna(0, inplace=True)\n",
        "        sum_samples += len(chunk)\n",
        "        E_pred = sum(chunk.iloc[:,0])\n",
        "        E_ground = sum(chunk.iloc[:,1])\n",
        "\n",
        "        chunk_results.append([\n",
        "                            E_pred,\n",
        "                            E_ground\n",
        "                            ])\n",
        "    if sum_samples == 0:\n",
        "        return None\n",
        "    else:\n",
        "        [E_pred, E_ground] = np.sum(chunk_results,axis=0)\n",
        "        return abs(E_pred - E_ground) / float(max(E_pred,E_ground))\n",
        "\n",
        "def mean_absolute_error(pred, ground):\n",
        "    aligned_meters = align_two_meters(pred, ground)\n",
        "    total_sum = 0.0\n",
        "    sum_samples = 0.0\n",
        "    for chunk in aligned_meters:\n",
        "        chunk.fillna(0, inplace=True)\n",
        "        sum_samples += len(chunk)\n",
        "        total_sum += sum(abs((chunk.iloc[:,0]) - chunk.iloc[:,1]))\n",
        "    if sum_samples == 0:\n",
        "        return None\n",
        "    else:\n",
        "        return total_sum / sum_samples\n",
        "\n",
        "\n",
        "def recall(tp,fn):\n",
        "    return tp/float(tp+fn)\n",
        "\n",
        "def precision(tp,fp):\n",
        "    return tp/float(tp+fp)\n",
        "\n",
        "def f1(prec,rec):\n",
        "    return 2 * (prec*rec) / float(prec+rec)\n",
        "\n",
        "def accuracy(tp, tn, p, n):\n",
        "    return (tp + tn) / float(p + n)\n"
      ],
      "execution_count": 0,
      "outputs": []
    },
    {
      "cell_type": "code",
      "metadata": {
        "id": "C8sgly5YyimH",
        "colab_type": "code",
        "colab": {}
      },
      "source": [
        "import numpy as np\n",
        "\n",
        "\n",
        "class Batch_Generator():\n",
        "\n",
        "    def __init__(self, batch_size, window_size, model_name, shuffle=True):\n",
        "\n",
        "        self.name = model_name\n",
        "        self.batch_size = batch_size\n",
        "        self.shuffle = shuffle\n",
        "        self.window_size = window_size\n",
        "        \n",
        "    def num_epochs(self, inputs):\n",
        "        \n",
        "        batch_size = int(self.batch_size / len(inputs))\n",
        "        num_of_batches = [(int((len(inputs[i])-self.window_size+1) / batch_size) - 1) for i in range(len(inputs))]\n",
        "        n_epochs = min(num_of_batches)\n",
        "        \n",
        "        return n_epochs\n",
        "\n",
        "    def generator(self, inputs, targets):\n",
        "        while True:\n",
        "\n",
        "          num_meters = len(inputs)\n",
        "          batch_size = int(self.batch_size / num_meters)\n",
        "          #num_of_batches = [(int(len(inputs[i]) / batch_size) - 1) for i in range(len(inputs))]\n",
        "\n",
        "          n_epochs = self.num_epochs(inputs)\n",
        "\n",
        "\n",
        "          # Batch indexes\n",
        "          self.indexes = list(range(n_epochs))\n",
        "\n",
        "          if self.shuffle == True:\n",
        "              np.random.shuffle(self.indexes)\n",
        "\n",
        "          for ei, e in enumerate(self.indexes):\n",
        "\n",
        "              offset = e * batch_size\n",
        "\n",
        "              # Initialization\n",
        "              X_batch = np.zeros((batch_size * num_meters, self.window_size, 1))  # (128,100,1)\n",
        "              Y_batch = np.zeros((batch_size * num_meters, 1))  # (128,1)\n",
        "\n",
        "              # Create a batch out of data from all buildings\n",
        "              for i in range(num_meters):\n",
        "                  mainpart = inputs[i]\n",
        "                  meterpart = targets[i]\n",
        "\n",
        "                  indexer = np.arange(self.window_size)[None, :] + np.arange(len(inputs[i])-self.window_size+1)[offset:offset + batch_size, None]\n",
        "\n",
        "                  mainpart = mainpart[indexer]\n",
        "                  meterpart = meterpart[self.window_size - 1:][offset:offset + batch_size]\n",
        "\n",
        "                  X = np.reshape(mainpart, (batch_size, self.window_size, 1))\n",
        "                  Y = np.reshape(meterpart, (batch_size, 1))\n",
        "\n",
        "                  X_batch[i * batch_size:(i + 1) * batch_size] = np.array(X)\n",
        "                  Y_batch[i * batch_size:(i + 1) * batch_size] = np.array(Y)\n",
        "                  \n",
        "              print(X_batch)\n",
        "\n",
        "              # Shuffle data\n",
        "              if self.shuffle == True:\n",
        "                p = np.random.permutation(len(X_batch))\n",
        "                X_batch, Y_batch = X_batch[p], Y_batch[p]\n",
        "              print('================')\n",
        "              print(X_batch)\n",
        "              yield X_batch, Y_batch"
      ],
      "execution_count": 0,
      "outputs": []
    },
    {
      "cell_type": "code",
      "metadata": {
        "id": "nXmq80OAyVQD",
        "colab_type": "code",
        "colab": {}
      },
      "source": [
        "from __future__ import print_function, division\n",
        "import time\n",
        "\n",
        "\n",
        "from matplotlib import rcParams\n",
        "import matplotlib.pyplot as plt\n",
        "\n",
        "from nilmtk import DataSet, TimeFrame, MeterGroup, HDFDataStore\n",
        "#from disaggregator import NeuralDisaggregator\n",
        "#from dataset_processing import load_dataset, data_processing\n",
        "#from batch_generator import Batch_Generator\n",
        "#from models import GRU_model, RNN_model, DAE_model, DresNET_model\n",
        "from keras.models import load_model\n",
        "import metrics\n",
        "import nilm_metric as nm\n",
        "\n",
        "from keras.callbacks import ModelCheckpoint\n",
        "\n",
        "\n",
        "\n",
        "\n",
        "# =====Define paramaters======\n",
        "info = {'filename': 'drive/My Drive/Dissertation/redd.h5',\n",
        "        'meter_label': 'fridge',  # [\"kettle\" , \"microwave\" , \"dishwasher\" , \"fridge\" , \"washing_machine\"]\n",
        "        'train_building': [1],\n",
        "        'test_building': 1,\n",
        "        'sample_period': 3\n",
        "       }\n",
        "\n",
        "# Parameters\n",
        "params = {'batch_size': 128,\n",
        "          'window_size': 1,\n",
        "          'model_name': 'GRU',\n",
        "          'shuffle': True}\n",
        "\n",
        "#Define the training intervals for each house\n",
        "window_per_house = {1: (None, \"25-4-2011\"), \n",
        "                2: (\"2013-04-16\", \"2013-10-10\"), \n",
        "                3: ('2013-02-27' , '2013-04-08 '), \n",
        "                4: (\"2013-03-09\", \"2013-10-01\"), \n",
        "                5: (\"2014-06-29\", None)}\n",
        "\n",
        "\n",
        "test_window = {1: ('30-4-2011', '5-5-2011')}\n",
        "\n",
        "\n",
        "num_epochs = 15\n",
        "# =====Load Dataset======\n",
        "train_meterlist, train_mainlist, test_meterlist, test_mainlist = load_dataset(window_per_house,test_window, **info)\n",
        "\n",
        "train_x, train_y = data_processing(train_mainlist, train_meterlist, window_size=params['window_size'])\n",
        "\n",
        "# #Batch generator\n",
        "# gen = batch_generator(train_x, train_y,batch_size=128)\n",
        "\n",
        "\n",
        "if params['model_name'] == 'LSTM':\n",
        "    model = RNN_model(params['window_size'])\n",
        "\n",
        "elif params['model_name'] == 'GRU':\n",
        "    model = GRU_model(params['window_size'])\n",
        "\n",
        "elif params['model_name'] == 'DAE':\n",
        "    model = DAE_model(params['window_size'])\n",
        "\n",
        "elif params['model_name'] == 'DresNET':\n",
        "    model = DresNET_model(params['window_size'])\n",
        "\n",
        "\n",
        "\n",
        "# Training\n",
        "filepath_checkpoint = \"UKDALE-RNN-h \" + str(info['train_building']) + str(info['meter_label']) + ' epo.hdf5'\n",
        "filepath = 'drive/My Drive/Dissertation/UKDALE-GRU-microwave-5epochs.h5'\n",
        "filepath = 'UKDALE-GRU-fridge-1epochs.h5'\n",
        "\n",
        "# Batch generator\n",
        "gen = Batch_Generator(**params)\n",
        "t = gen.generator(train_x, train_y)\n",
        "steps_epochs = gen.num_epochs(train_x)\n",
        "\n",
        "\n",
        "\n",
        "mode = 'training'\n",
        "\n",
        "if mode == 'training':\n",
        "\n",
        "    print(\"*********Training*********\")\n",
        "    start = time.time()\n",
        "\n",
        "    checkpointer = ModelCheckpoint(filepath_checkpoint,\n",
        "                                   verbose=1, save_best_only=True)\n",
        "    model.fit_generator(t, \n",
        "                        steps_per_epoch = steps_epochs, \n",
        "                        epochs=num_epochs,\n",
        "                        use_multiprocessing=True,\n",
        "                        workers=6, \n",
        "                        callbacks=[checkpointer])\n",
        "\n",
        "    \n",
        "    \n",
        "    model.save(\"UKDALE-{}-{}-{}epochs.h5\".format(params['model_name'], \n",
        "                                                     info['meter_label'],\n",
        "                                                      num_epochs))\n",
        "    \n",
        "    end = time.time()\n",
        "    print('### Total trainning time cost: {} ###'.format(str(end - start)))\n",
        "\n",
        "elif mode == 'loading':\n",
        "    # load checkpoints weights\n",
        "    print(filepath_checkpoint)\n",
        "    model.load_weights(filepath_checkpoint)\n",
        "    \n",
        "elif mode == 'load_pretrained':\n",
        "    #load pretrained model\n",
        "    model = load_model(filepath)\n",
        "    model.compile(loss='mse', optimizer='adam')\n",
        "\n",
        "    \n",
        "#============Disaggregate my version===============  \n",
        "#===============================================================================   \n",
        "# def power(test_mainlist, **load_kwargs):\n",
        "#   return test_mainlist.power_series_all_data(**load_kwargs)\n",
        "\n",
        "# chunk = power(test_mainlist,sample_period = info['sample_period'])\n",
        "# chunk2 = normalise(chunk)\n",
        "# up_limit = len(chunk2)\n",
        "\n",
        "# chunk2.fillna(0, inplace=True)\n",
        "\n",
        "# X_batch = np.array(chunk2)\n",
        "# Y_len = len(X_batch)\n",
        "# indexer = np.arange(params['window_size'])[None, :] + np.arange(len(X_batch)-params['window_size']+1)[:, None]\n",
        "# X_batch = X_batch[indexer]\n",
        "# X_batch = np.reshape(X_batch, (X_batch.shape[0],X_batch.shape[1],1))\n",
        "\n",
        "# pred = model.predict(X_batch, batch_size=128)\n",
        "# pred = np.reshape(pred, (len(pred)))\n",
        "# column = pd.Series(pred, index=mains.index[params['window_size']-1:Y_len], name=0)\n",
        "\n",
        "\n",
        "# appliance_powers_dict = {}\n",
        "# appliance_powers_dict[0] = column\n",
        "# appliance_powers = pd.DataFrame(appliance_powers_dict)    \n",
        "# appliance_power[appliance_power < 0] = 0\n",
        "# appliance_power = inversenormalise(appliance_power)\n",
        "\n",
        "# plt.plot(chunk2)\n",
        "# plt.plot(appliance_power)\n",
        "    \n",
        "#===============================================================================\n",
        "#===============================================================================\n",
        "    \n",
        "    \n",
        "    \n",
        "    \n",
        "    \n",
        "    \n",
        "    \n",
        "    \n",
        "    \n",
        "    \n",
        "# # print(\"*********Disaggregate*********\")\n",
        "# disaggregator = NeuralDisaggregator(model, name = params['model_name'],batch_size = params['batch_size'], window_size = params['window_size'])\n",
        "# disag_filename = \"disag-out11.h5\"\n",
        "# output = HDFDataStore(disag_filename, 'w')\n",
        "# disaggregator.disaggregate(test_mainlist, output, test_meterlist, sample_period = info['sample_period'])\n",
        "# output.close()\n",
        "\n",
        "\n",
        "# print(\"========== RESULTS ============\")\n",
        "# meter_key = info['meter_label']\n",
        "# result = DataSet(disag_filename)\n",
        "# res_elec = result.buildings[info['test_building']].elec\n",
        "# #print(test_meterlist.power_series_all_data())\n",
        "# #print(res_elec[meter_key].power_series_all_data())\n",
        "# rpaf = metrics.recall_precision_accuracy_f1(res_elec[meter_key], test_meterlist)\n",
        "# print(\"============ Recall: {}\".format(rpaf[0]))\n",
        "# print(\"============ Precision: {}\".format(rpaf[1]))\n",
        "# print(\"============ Accuracy: {}\".format(rpaf[2]))\n",
        "# print(\"============ F1 Score: {}\".format(rpaf[3]))\n",
        "\n",
        "# print(\"============ Relative error in total energy: {}\".format(metrics.relative_error_total_energy(res_elec[meter_key], test_meterlist)))\n",
        "# print(\"============ Mean absolute error(in Watts): {}\".format(metrics.mean_absolute_error(res_elec[meter_key], test_meterlist)))\n",
        "\n",
        "\n",
        "# aligned_meters = align_two_meters(res_elec[meter_key], test_meterlist)\n",
        "# #threshold = ground.on_power_threshold()\n",
        "# meters = next(aligned_meters)\n",
        "# threshold = 10\n",
        "# predict = meters['master']\n",
        "# ground = meters['slave']\n",
        "# print()\n",
        "# print('F1:{0}'.format(nm.get_F1(ground, predict, threshold)))\n",
        "# print('Mean absolute error(in Watts):{0}'.format(nm.get_abs_error(ground, predict)))\n",
        "# print('Relative error:{0}'.format(nm.get_relative_error(ground, predict)))"
      ],
      "execution_count": 0,
      "outputs": []
    },
    {
      "cell_type": "code",
      "metadata": {
        "id": "YDp8gGHw8mK-",
        "colab_type": "code",
        "colab": {}
      },
      "source": [
        "predict = model.predict(X, batch_size=128)"
      ],
      "execution_count": 0,
      "outputs": []
    },
    {
      "cell_type": "code",
      "metadata": {
        "id": "5wK7EJYFAhLC",
        "colab_type": "code",
        "colab": {
          "base_uri": "https://localhost:8080/",
          "height": 287
        },
        "outputId": "93f332ad-15af-417f-ea85-db6f4823c1e2"
      },
      "source": [
        "plt.plot(predict[10000:15000])\n",
        "plt.plot(train_y[0][10000:15000])"
      ],
      "execution_count": 82,
      "outputs": [
        {
          "output_type": "execute_result",
          "data": {
            "text/plain": [
              "[<matplotlib.lines.Line2D at 0x7f14e0252b38>]"
            ]
          },
          "metadata": {
            "tags": []
          },
          "execution_count": 82
        },
        {
          "output_type": "display_data",
          "data": {
            "image/png": "[encoded data removed]",
            "text/plain": [
              "<Figure size 432x288 with 1 Axes>"
            ]
          },
          "metadata": {
            "tags": []
          }
        }
      ]
    },
    {
      "cell_type": "code",
      "metadata": {
        "id": "RRUBPp2D88VN",
        "colab_type": "code",
        "colab": {
          "base_uri": "https://localhost:8080/",
          "height": 287
        },
        "outputId": "434dec24-d1c6-499e-ad8e-1b3ece16be8a"
      },
      "source": [
        "plt.plot(predict[65000:96000])\n",
        "plt.plot(train_y[0][65000:96000])"
      ],
      "execution_count": 91,
      "outputs": [
        {
          "output_type": "execute_result",
          "data": {
            "text/plain": [
              "[<matplotlib.lines.Line2D at 0x7f14ddcd8470>]"
            ]
          },
          "metadata": {
            "tags": []
          },
          "execution_count": 91
        },
        {
          "output_type": "display_data",
          "data": {
            "image/png": "[encoded data removed]",
            "text/plain": [
              "<Figure size 432x288 with 1 Axes>"
            ]
          },
          "metadata": {
            "tags": []
          }
        }
      ]
    },
    {
      "cell_type": "code",
      "metadata": {
        "id": "0fA4J5nEz73M",
        "colab_type": "code",
        "colab": {
          "base_uri": "https://localhost:8080/",
          "height": 568
        },
        "outputId": "78ed7ebd-b747-41a6-f3ed-c02f859d6425"
      },
      "source": [
        "X = np.reshape(train_x[0], (train_x[0].shape[0],1,1))\n",
        "model.fit(X, train_y, epochs=15, batch_size=128, shuffle=True)"
      ],
      "execution_count": 49,
      "outputs": [
        {
          "output_type": "stream",
          "text": [
            "Epoch 1/15\n",
            "190356/190356 [==============================] - 24s 127us/step - loss: 4932.0609\n",
            "Epoch 2/15\n",
            "190356/190356 [==============================] - 21s 111us/step - loss: 2245.8041\n",
            "Epoch 3/15\n",
            "190356/190356 [==============================] - 21s 109us/step - loss: 2087.5027\n",
            "Epoch 4/15\n",
            "190356/190356 [==============================] - 21s 112us/step - loss: 2023.4233\n",
            "Epoch 5/15\n",
            "190356/190356 [==============================] - 22s 113us/step - loss: 1985.4229\n",
            "Epoch 6/15\n",
            "190356/190356 [==============================] - 22s 113us/step - loss: 1946.2758\n",
            "Epoch 7/15\n",
            "190356/190356 [==============================] - 22s 114us/step - loss: 1920.5299\n",
            "Epoch 8/15\n",
            "190356/190356 [==============================] - 22s 113us/step - loss: 1800.6243\n",
            "Epoch 9/15\n",
            "190356/190356 [==============================] - 22s 113us/step - loss: 1767.2560\n",
            "Epoch 10/15\n",
            "190356/190356 [==============================] - 21s 113us/step - loss: 1759.8165\n",
            "Epoch 11/15\n",
            "190356/190356 [==============================] - 21s 113us/step - loss: 1735.1484\n",
            "Epoch 12/15\n",
            "190356/190356 [==============================] - 21s 112us/step - loss: 1745.5651\n",
            "Epoch 13/15\n",
            "190356/190356 [==============================] - 22s 114us/step - loss: 1730.0085\n",
            "Epoch 14/15\n",
            "190356/190356 [==============================] - 21s 111us/step - loss: 1726.1711\n",
            "Epoch 15/15\n",
            "190356/190356 [==============================] - 21s 111us/step - loss: 1720.4692\n"
          ],
          "name": "stdout"
        },
        {
          "output_type": "execute_result",
          "data": {
            "text/plain": [
              "<keras.callbacks.History at 0x7f156001f6a0>"
            ]
          },
          "metadata": {
            "tags": []
          },
          "execution_count": 49
        }
      ]
    },
    {
      "cell_type": "code",
      "metadata": {
        "id": "pjMFG3tu3UtC",
        "colab_type": "code",
        "colab": {}
      },
      "source": [
        "predict = model.predict(X, batch_size=128)"
      ],
      "execution_count": 0,
      "outputs": []
    },
    {
      "cell_type": "code",
      "metadata": {
        "id": "_2tkIEFc3dqt",
        "colab_type": "code",
        "colab": {
          "base_uri": "https://localhost:8080/",
          "height": 287
        },
        "outputId": "795ecaad-35a1-4c58-d678-23a4b4097417"
      },
      "source": [
        "plt.plot(predict[65000:96000])\n",
        "plt.plot(train_y[0][65000:96000])"
      ],
      "execution_count": 60,
      "outputs": [
        {
          "output_type": "execute_result",
          "data": {
            "text/plain": [
              "[<matplotlib.lines.Line2D at 0x7f14e4774b00>]"
            ]
          },
          "metadata": {
            "tags": []
          },
          "execution_count": 60
        },
        {
          "output_type": "display_data",
          "data": {
            "image/png": "[encoded data removed]",
            "text/plain": [
              "<Figure size 432x288 with 1 Axes>"
            ]
          },
          "metadata": {
            "tags": []
          }
        }
      ]
    },
    {
      "cell_type": "code",
      "metadata": {
        "id": "0dL7LNcig9jS",
        "colab_type": "code",
        "colab": {
          "base_uri": "https://localhost:8080/",
          "height": 1000
        },
        "outputId": "a5c27c53-56cb-4620-f585-61bd728b6b61"
      },
      "source": [
        "=====Define paramaters======\n",
        "info = {'filename': 'drive/My Drive/Dissertation/redd.h5',\n",
        "        'meter_label': 'fridge',  # [\"kettle\" , \"microwave\" , \"dishwasher\" , \"fridge\" , \"washing_machine\"]\n",
        "        'train_building': 1,\n",
        "        'test_building': 1,\n",
        "        'sample_period': 3\n",
        "       }\n",
        "\n",
        "# Parameters\n",
        "params = {'batch_size': 512,\n",
        "          'window_size': 50,\n",
        "          'model_name': 'DAE',\n",
        "          'shuffle': True}\n",
        "\n",
        "\n",
        "\n",
        "#test_window = {1: ('30-4-2011', '5-5-2011')}\n",
        "train_window = {1: (None, '30-4-2011')}\n",
        "test_window = {1: (None, None)}\n",
        "\n",
        "\n",
        "def load_dataset(train_window,test_window, filename, meter_label, train_building, test_building, **load_kwargs):\n",
        "    \n",
        "        #Load datasets\n",
        "    train = DataSet(filename)\n",
        "    test = DataSet(filename)\n",
        "\n",
        "    test.set_window(*test_window[test_building])\n",
        "    train.set_window(*train_window[test_building])\n",
        "    \n",
        "    x = train.buildings[train_building].elec.mains().all_meters()[0]\n",
        "    x = x.power_series_all_data(**load_kwargs)\n",
        "    print(x)\n",
        "    \n",
        "    y = train.buildings[train_building].elec.submeters()[meter_label]\n",
        "    y = y.power_series_all_data(**load_kwargs)\n",
        "    \n",
        "    x.fillna(0, inplace=True)\n",
        "    y.fillna(0, inplace=True)\n",
        "    ix = x.index.intersection(y.index)\n",
        "    x = np.array(x[ix])\n",
        "    y = np.array(y[ix])\n",
        "\n",
        "    return x ,y \n",
        "x , y =load_dataset(train_window,test_window, **info)  "
      ],
      "execution_count": 15,
      "outputs": [
        {
          "output_type": "stream",
          "text": [
            "2011-04-18 09:22:09-04:00    225.283340\n",
            "2011-04-18 09:22:12-04:00    222.350006\n",
            "2011-04-18 09:22:15-04:00    222.853333\n",
            "2011-04-18 09:22:18-04:00    222.706665\n",
            "2011-04-18 09:22:21-04:00    222.646667\n",
            "2011-04-18 09:22:24-04:00    222.463333\n",
            "2011-04-18 09:22:27-04:00    222.236664\n",
            "2011-04-18 09:22:30-04:00    222.613327\n",
            "2011-04-18 09:22:33-04:00    222.559998\n",
            "2011-04-18 09:22:36-04:00    223.436661\n",
            "2011-04-18 09:22:39-04:00    226.320007\n",
            "2011-04-18 09:22:42-04:00    223.893341\n",
            "2011-04-18 09:22:45-04:00    223.526672\n",
            "2011-04-18 09:22:48-04:00    223.873337\n",
            "2011-04-18 09:22:51-04:00    225.503326\n",
            "2011-04-18 09:22:54-04:00    222.669998\n",
            "2011-04-18 09:22:57-04:00    225.720001\n",
            "2011-04-18 09:23:00-04:00    226.593338\n",
            "2011-04-18 09:23:03-04:00    226.106659\n",
            "2011-04-18 09:23:06-04:00    225.253326\n",
            "2011-04-18 09:23:09-04:00    225.866669\n",
            "2011-04-18 09:23:12-04:00    225.366669\n",
            "2011-04-18 09:23:15-04:00    226.029999\n",
            "2011-04-18 09:23:18-04:00    226.069992\n",
            "2011-04-18 09:23:21-04:00    225.449997\n",
            "2011-04-18 09:23:24-04:00    226.743332\n",
            "2011-04-18 09:23:27-04:00    225.203339\n",
            "2011-04-18 09:23:30-04:00    227.270004\n",
            "2011-04-18 09:23:33-04:00    226.803329\n",
            "2011-04-18 09:23:36-04:00    226.323334\n",
            "                                ...    \n",
            "2011-04-29 23:58:30-04:00    132.180008\n",
            "2011-04-29 23:58:33-04:00    129.206665\n",
            "2011-04-29 23:58:36-04:00    131.649994\n",
            "2011-04-29 23:58:39-04:00    131.063324\n",
            "2011-04-29 23:58:42-04:00    130.606674\n",
            "2011-04-29 23:58:45-04:00    131.326675\n",
            "2011-04-29 23:58:48-04:00    129.426666\n",
            "2011-04-29 23:58:51-04:00    132.243332\n",
            "2011-04-29 23:58:54-04:00    130.250000\n",
            "2011-04-29 23:58:57-04:00    130.770004\n",
            "2011-04-29 23:59:00-04:00    131.233337\n",
            "2011-04-29 23:59:03-04:00    130.869995\n",
            "2011-04-29 23:59:06-04:00    131.483322\n",
            "2011-04-29 23:59:09-04:00    130.613327\n",
            "2011-04-29 23:59:12-04:00    130.850006\n",
            "2011-04-29 23:59:15-04:00    132.339996\n",
            "2011-04-29 23:59:18-04:00    129.753326\n",
            "2011-04-29 23:59:21-04:00    131.510010\n",
            "2011-04-29 23:59:24-04:00    130.426666\n",
            "2011-04-29 23:59:27-04:00    131.149994\n",
            "2011-04-29 23:59:30-04:00    130.243332\n",
            "2011-04-29 23:59:33-04:00    130.696671\n",
            "2011-04-29 23:59:36-04:00    131.800003\n",
            "2011-04-29 23:59:39-04:00    131.486664\n",
            "2011-04-29 23:59:42-04:00    131.356674\n",
            "2011-04-29 23:59:45-04:00    131.733337\n",
            "2011-04-29 23:59:48-04:00    131.070007\n",
            "2011-04-29 23:59:51-04:00    131.003342\n",
            "2011-04-29 23:59:54-04:00    131.176666\n",
            "2011-04-29 23:59:57-04:00    129.186661\n",
            "Name: (power, apparent), Length: 334357, dtype: float32\n"
          ],
          "name": "stdout"
        }
      ]
    },
    {
      "cell_type": "code",
      "metadata": {
        "id": "NQ-W78MyYur-",
        "colab_type": "code",
        "outputId": "2309ca2c-0b33-4462-d570-85fcec42842c",
        "colab": {
          "base_uri": "https://localhost:8080/",
          "height": 287
        }
      },
      "source": [
        "plt.plot(predict[0:10000])\n",
        "#plt.plot(y[65000:66000])\n",
        "#plt.plot(ground_truth.power_series_all_data()[65000:66000])\n"
      ],
      "execution_count": 0,
      "outputs": [
        {
          "output_type": "execute_result",
          "data": {
            "text/plain": [
              "[<matplotlib.lines.Line2D at 0x7f27b0126550>]"
            ]
          },
          "metadata": {
            "tags": []
          },
          "execution_count": 21
        },
        {
          "output_type": "display_data",
          "data": {
            "image/png": "[encoded data removed]",
            "text/plain": [
              "<Figure size 432x288 with 1 Axes>"
            ]
          },
          "metadata": {
            "tags": []
          }
        }
      ]
    },
    {
      "cell_type": "code",
      "metadata": {
        "id": "1Kr26FylpM3A",
        "colab_type": "code",
        "outputId": "99a512e5-f2d9-4002-9417-fa6ec09f4993",
        "colab": {
          "base_uri": "https://localhost:8080/",
          "height": 268
        }
      },
      "source": [
        "result = DataSet(disag_filename)\n",
        "res_elec = result.buildings[1].elec\n",
        "predicted = res_elec['fridge']\n",
        "ground_truth = test_meterlist\n",
        "\n",
        "import matplotlib.pyplot as plt\n",
        "predicted.plot()\n",
        "ground_truth.plot()\n",
        "plt.show()"
      ],
      "execution_count": 0,
      "outputs": [
        {
          "output_type": "display_data",
          "data": {
            "image/png": "[encoded data removed]",
            "text/plain": [
              "<Figure size 432x288 with 1 Axes>"
            ]
          },
          "metadata": {
            "tags": []
          }
        }
      ]
    },
    {
      "cell_type": "code",
      "metadata": {
        "id": "M8v5TxSpUNBv",
        "colab_type": "code",
        "colab": {}
      },
      "source": [
        "#Define the training intervals for each house\n",
        "window_per_house = {1: (None, \"30-4-2011\"), \n",
        "                2: (\"2013-04-16\", \"2013-10-10\"), \n",
        "                3: ('2013-02-27' , '2013-04-08 '), \n",
        "                4: (\"2013-03-09\", \"2013-10-01\"), \n",
        "                5: (\"2014-06-29\", None)}\n",
        "\n",
        "\n",
        "test_window = {1: ('25-4-2011', '30-4-2011')}\n",
        "\n",
        "\n",
        "num_epochs = 2\n",
        "# =====Load Dataset======\n",
        "train_meterlist, train_mainlist, test_meterlist, test_mainlist = load_dataset(window_per_house,test_window, **info)\n",
        "\n",
        "train_x, train_y = data_processing(train_mainlist, train_meterlist, window_size=params['window_size'])\n",
        "\n",
        "disaggregator = NeuralDisaggregator(model, name = params['model_name'],batch_size = params['batch_size'], window_size = params['window_size'])\n",
        "disag_filename = \"disag-out2.h5\"\n",
        "output = HDFDataStore(disag_filename, 'w')\n",
        "disaggregator.disaggregate(test_mainlist, output, test_meterlist, sample_period = info['sample_period'])\n",
        "output.close()\n",
        "\n",
        "\n",
        "print(\"========== RESULTS ============\")\n",
        "meter_key = info['meter_label']\n",
        "result = DataSet(disag_filename)\n",
        "res_elec = result.buildings[info['test_building']].elec\n",
        "#print(test_meterlist.power_series_all_data())\n",
        "#print(res_elec[meter_key].power_series_all_data())\n",
        "rpaf = metrics.recall_precision_accuracy_f1(res_elec[meter_key], test_meterlist)\n",
        "print(\"============ Recall: {}\".format(rpaf[0]))\n",
        "print(\"============ Precision: {}\".format(rpaf[1]))\n",
        "print(\"============ Accuracy: {}\".format(rpaf[2]))\n",
        "print(\"============ F1 Score: {}\".format(rpaf[3]))\n",
        "\n",
        "print(\"============ Relative error in total energy: {}\".format(metrics.relative_error_total_energy(res_elec[meter_key], test_meterlist)))\n",
        "print(\"============ Mean absolute error(in Watts): {}\".format(metrics.mean_absolute_error(res_elec[meter_key], test_meterlist)))\n",
        "\n",
        "\n",
        "aligned_meters = align_two_meters(res_elec[meter_key], test_meterlist)\n",
        "#threshold = ground.on_power_threshold()\n",
        "meters = next(aligned_meters)\n",
        "threshold = 10\n",
        "predict = meters['master']\n",
        "ground = meters['slave']\n",
        "print()\n",
        "print('F1:{0}'.format(nm.get_F1(ground, predict, threshold)))\n",
        "print('Mean absolute error(in Watts):{0}'.format(nm.get_abs_error(ground, predict)))\n",
        "print('Relative error:{0}'.format(nm.get_relative_error(ground, predict)))"
      ],
      "execution_count": 0,
      "outputs": []
    },
    {
      "cell_type": "code",
      "metadata": {
        "id": "kFW9FgownX-a",
        "colab_type": "code",
        "colab": {}
      },
      "source": [
        "result = DataSet(disag_filename)\n",
        "res_elec = result.buildings[1].elec\n",
        "predicted = res_elec['fridge']\n",
        "ground_truth = test_meterlist\n",
        "\n",
        "import matplotlib.pyplot as plt\n",
        "predicted.plot()\n",
        "ground_truth.plot()\n",
        "plt.show()"
      ],
      "execution_count": 0,
      "outputs": []
    },
    {
      "cell_type": "code",
      "metadata": {
        "id": "qTOZY-1htq4F",
        "colab_type": "code",
        "colab": {}
      },
      "source": [
        "np.max(train_mainlist[0])"
      ],
      "execution_count": 0,
      "outputs": []
    },
    {
      "cell_type": "code",
      "metadata": {
        "id": "4RxYpdwMv-PT",
        "colab_type": "code",
        "colab": {}
      },
      "source": [
        "predicted.plot()"
      ],
      "execution_count": 0,
      "outputs": []
    },
    {
      "cell_type": "code",
      "metadata": {
        "id": "Hm5NGCWg4mod",
        "colab_type": "code",
        "colab": {}
      },
      "source": [
        "res_elec[meter_key].power_series_all_data()"
      ],
      "execution_count": 0,
      "outputs": []
    },
    {
      "cell_type": "code",
      "metadata": {
        "id": "Yt3SATc6ew1J",
        "colab_type": "code",
        "colab": {}
      },
      "source": [
        ""
      ],
      "execution_count": 0,
      "outputs": []
    }
  ]
}
{
  "nbformat": 4,
  "nbformat_minor": 0,
  "metadata": {
    "colab": {
      "name": "mimis_code.ipynb",
      "version": "0.3.2",
      "provenance": [],
      "collapsed_sections": []
    },
    "kernelspec": {
      "name": "python3",
      "display_name": "Python 3"
    },
    "accelerator": "GPU"
  },
  "cells": [
    {
      "cell_type": "code",
      "metadata": {
        "id": "Gz9jitiMmFkE",
        "colab_type": "code",
        "colab": {
          "base_uri": "https://localhost:8080/",
          "height": 35
        },
        "outputId": "ed4cac86-ff7f-4337-ece8-9807ea851477"
      },
      "source": [
        "'''\n",
        "Model: DAE (dropout =0.2)\n",
        "Aplpiance: fridge\n",
        "Data: Redd\n",
        "\n",
        "Method:S2P\n",
        "Normalization: standradise\n",
        "batch_size: 512,\n",
        "window_size: 50\n",
        "shuffle: True\n",
        "\n",
        "\n",
        "'''"
      ],
      "execution_count": 1,
      "outputs": [
        {
          "output_type": "execute_result",
          "data": {
            "text/plain": [
              "'\\nModel: DAE (dropout =0.2)\\nAplpiance: fridge\\nData: Redd\\n\\nMethod:S2P\\nNormalization: standradise\\nbatch_size: 512,\\nwindow_size: 50\\nshuffle: True\\n\\n\\n'"
            ]
          },
          "metadata": {
            "tags": []
          },
          "execution_count": 1
        }
      ]
    },
    {
      "cell_type": "code",
      "metadata": {
        "id": "ObzzZOy1zAzo",
        "colab_type": "code",
        "outputId": "31e97830-04c8-4d4b-a26f-9206404d3137",
        "colab": {
          "base_uri": "https://localhost:8080/",
          "height": 126
        }
      },
      "source": [
        "from google.colab import drive\n",
        "drive.mount('/content/drive')\n",
        "import sys\n",
        "sys.path.insert(0,'drive/My Drive/Dissertation')"
      ],
      "execution_count": 2,
      "outputs": [
        {
          "output_type": "stream",
          "text": [
            "Go to this URL in a browser: https://accounts.google.com/o/oauth2/auth?client_id=947318989803-6bn6qk8qdgf4n4g3pfee6491hc0brc4i.apps.googleusercontent.com&redirect_uri=urn%3Aietf%3Awg%3Aoauth%3A2.0%3Aoob&scope=email%20https%3A%2F%2Fwww.googleapis.com%2Fauth%2Fdocs.test%20https%3A%2F%2Fwww.googleapis.com%2Fauth%2Fdrive%20https%3A%2F%2Fwww.googleapis.com%2Fauth%2Fdrive.photos.readonly%20https%3A%2F%2Fwww.googleapis.com%2Fauth%2Fpeopleapi.readonly&response_type=code\n",
            "\n",
            "Enter your authorization code:\n",
            "··········\n",
            "Mounted at /content/drive\n"
          ],
          "name": "stdout"
        }
      ]
    },
    {
      "cell_type": "code",
      "metadata": {
        "id": "amHn1qgwzEI2",
        "colab_type": "code",
        "outputId": "4c736823-b5c0-4541-d9fb-bcb31cbd0fbe",
        "colab": {
          "base_uri": "https://localhost:8080/",
          "height": 1000
        }
      },
      "source": [
        "pip install git+git://github.com/nilmtk/nilmtk.git"
      ],
      "execution_count": 3,
      "outputs": [
        {
          "output_type": "stream",
          "text": [
            "Collecting git+git://github.com/nilmtk/nilmtk.git\n",
            "  Cloning git://github.com/nilmtk/nilmtk.git to /tmp/pip-req-build-z3ljsf7j\n",
            "  Running command git clone -q git://github.com/nilmtk/nilmtk.git /tmp/pip-req-build-z3ljsf7j\n",
            "Requirement already satisfied: future in /usr/local/lib/python3.6/dist-packages (from nilmtk==0.3.0.dev0+git.431c3b5) (0.16.0)\n",
            "Requirement already satisfied: six in /usr/local/lib/python3.6/dist-packages (from nilmtk==0.3.0.dev0+git.431c3b5) (1.12.0)\n",
            "Collecting psycopg2-binary (from nilmtk==0.3.0.dev0+git.431c3b5)\n",
            "\u001b[?25l  Downloading https://files.pythonhosted.org/packages/b1/35/75c9c2d9cfc073ab6c42b2d8e91ff58c9b99f4ed7ed56b36647642e6080e/psycopg2_binary-2.8.3-cp36-cp36m-manylinux1_x86_64.whl (2.9MB)\n",
            "\u001b[K     |████████████████████████████████| 2.9MB 3.3MB/s \n",
            "\u001b[?25hRequirement already satisfied: pandas==0.24.2 in /usr/local/lib/python3.6/dist-packages (from nilmtk==0.3.0.dev0+git.431c3b5) (0.24.2)\n",
            "Collecting networkx==2.1 (from nilmtk==0.3.0.dev0+git.431c3b5)\n",
            "\u001b[?25l  Downloading https://files.pythonhosted.org/packages/11/42/f951cc6838a4dff6ce57211c4d7f8444809ccbe2134179950301e5c4c83c/networkx-2.1.zip (1.6MB)\n",
            "\u001b[K     |████████████████████████████████| 1.6MB 46.4MB/s \n",
            "\u001b[?25hRequirement already satisfied: scipy in /usr/local/lib/python3.6/dist-packages (from nilmtk==0.3.0.dev0+git.431c3b5) (1.3.0)\n",
            "Requirement already satisfied: tables in /usr/local/lib/python3.6/dist-packages (from nilmtk==0.3.0.dev0+git.431c3b5) (3.4.4)\n",
            "Requirement already satisfied: scikit-learn>=0.21.2 in /usr/local/lib/python3.6/dist-packages (from nilmtk==0.3.0.dev0+git.431c3b5) (0.21.2)\n",
            "Collecting hmmlearn>=0.2.1 (from nilmtk==0.3.0.dev0+git.431c3b5)\n",
            "\u001b[?25l  Downloading https://files.pythonhosted.org/packages/d7/c5/91b43156b193d180ed94069269bcf88d3c7c6e54514a8482050fa9995e10/hmmlearn-0.2.2.tar.gz (146kB)\n",
            "\u001b[K     |████████████████████████████████| 153kB 46.5MB/s \n",
            "\u001b[?25hRequirement already satisfied: pyyaml in /usr/local/lib/python3.6/dist-packages (from nilmtk==0.3.0.dev0+git.431c3b5) (3.13)\n",
            "Requirement already satisfied: matplotlib>=2.2.0 in /usr/local/lib/python3.6/dist-packages (from nilmtk==0.3.0.dev0+git.431c3b5) (3.0.3)\n",
            "Requirement already satisfied: jupyter in /usr/local/lib/python3.6/dist-packages (from nilmtk==0.3.0.dev0+git.431c3b5) (1.0.0)\n",
            "Requirement already satisfied: python-dateutil>=2.5.0 in /usr/local/lib/python3.6/dist-packages (from pandas==0.24.2->nilmtk==0.3.0.dev0+git.431c3b5) (2.5.3)\n",
            "Requirement already satisfied: numpy>=1.12.0 in /usr/local/lib/python3.6/dist-packages (from pandas==0.24.2->nilmtk==0.3.0.dev0+git.431c3b5) (1.16.4)\n",
            "Requirement already satisfied: pytz>=2011k in /usr/local/lib/python3.6/dist-packages (from pandas==0.24.2->nilmtk==0.3.0.dev0+git.431c3b5) (2018.9)\n",
            "Requirement already satisfied: decorator>=4.1.0 in /usr/local/lib/python3.6/dist-packages (from networkx==2.1->nilmtk==0.3.0.dev0+git.431c3b5) (4.4.0)\n",
            "Requirement already satisfied: numexpr>=2.5.2 in /usr/local/lib/python3.6/dist-packages (from tables->nilmtk==0.3.0.dev0+git.431c3b5) (2.6.9)\n",
            "Requirement already satisfied: joblib>=0.11 in /usr/local/lib/python3.6/dist-packages (from scikit-learn>=0.21.2->nilmtk==0.3.0.dev0+git.431c3b5) (0.13.2)\n",
            "Requirement already satisfied: cycler>=0.10 in /usr/local/lib/python3.6/dist-packages (from matplotlib>=2.2.0->nilmtk==0.3.0.dev0+git.431c3b5) (0.10.0)\n",
            "Requirement already satisfied: pyparsing!=2.0.4,!=2.1.2,!=2.1.6,>=2.0.1 in /usr/local/lib/python3.6/dist-packages (from matplotlib>=2.2.0->nilmtk==0.3.0.dev0+git.431c3b5) (2.4.0)\n",
            "Requirement already satisfied: kiwisolver>=1.0.1 in /usr/local/lib/python3.6/dist-packages (from matplotlib>=2.2.0->nilmtk==0.3.0.dev0+git.431c3b5) (1.1.0)\n",
            "Requirement already satisfied: ipykernel in /usr/local/lib/python3.6/dist-packages (from jupyter->nilmtk==0.3.0.dev0+git.431c3b5) (4.6.1)\n",
            "Requirement already satisfied: notebook in /usr/local/lib/python3.6/dist-packages (from jupyter->nilmtk==0.3.0.dev0+git.431c3b5) (5.2.2)\n",
            "Requirement already satisfied: qtconsole in /usr/local/lib/python3.6/dist-packages (from jupyter->nilmtk==0.3.0.dev0+git.431c3b5) (4.5.1)\n",
            "Requirement already satisfied: ipywidgets in /usr/local/lib/python3.6/dist-packages (from jupyter->nilmtk==0.3.0.dev0+git.431c3b5) (7.4.2)\n",
            "Requirement already satisfied: nbconvert in /usr/local/lib/python3.6/dist-packages (from jupyter->nilmtk==0.3.0.dev0+git.431c3b5) (5.5.0)\n",
            "Requirement already satisfied: jupyter-console in /usr/local/lib/python3.6/dist-packages (from jupyter->nilmtk==0.3.0.dev0+git.431c3b5) (6.0.0)\n",
            "Requirement already satisfied: setuptools in /usr/local/lib/python3.6/dist-packages (from kiwisolver>=1.0.1->matplotlib>=2.2.0->nilmtk==0.3.0.dev0+git.431c3b5) (41.0.1)\n",
            "Requirement already satisfied: traitlets>=4.1.0 in /usr/local/lib/python3.6/dist-packages (from ipykernel->jupyter->nilmtk==0.3.0.dev0+git.431c3b5) (4.3.2)\n",
            "Requirement already satisfied: tornado>=4.0 in /usr/local/lib/python3.6/dist-packages (from ipykernel->jupyter->nilmtk==0.3.0.dev0+git.431c3b5) (4.5.3)\n",
            "Requirement already satisfied: jupyter-client in /usr/local/lib/python3.6/dist-packages (from ipykernel->jupyter->nilmtk==0.3.0.dev0+git.431c3b5) (5.2.4)\n",
            "Requirement already satisfied: ipython>=4.0.0 in /usr/local/lib/python3.6/dist-packages (from ipykernel->jupyter->nilmtk==0.3.0.dev0+git.431c3b5) (5.5.0)\n",
            "Requirement already satisfied: ipython-genutils in /usr/local/lib/python3.6/dist-packages (from notebook->jupyter->nilmtk==0.3.0.dev0+git.431c3b5) (0.2.0)\n",
            "Requirement already satisfied: jupyter-core in /usr/local/lib/python3.6/dist-packages (from notebook->jupyter->nilmtk==0.3.0.dev0+git.431c3b5) (4.4.0)\n",
            "Requirement already satisfied: jinja2 in /usr/local/lib/python3.6/dist-packages (from notebook->jupyter->nilmtk==0.3.0.dev0+git.431c3b5) (2.10.1)\n",
            "Requirement already satisfied: terminado>=0.3.3; sys_platform != \"win32\" in /usr/local/lib/python3.6/dist-packages (from notebook->jupyter->nilmtk==0.3.0.dev0+git.431c3b5) (0.8.2)\n",
            "Requirement already satisfied: nbformat in /usr/local/lib/python3.6/dist-packages (from notebook->jupyter->nilmtk==0.3.0.dev0+git.431c3b5) (4.4.0)\n",
            "Requirement already satisfied: pygments in /usr/local/lib/python3.6/dist-packages (from qtconsole->jupyter->nilmtk==0.3.0.dev0+git.431c3b5) (2.1.3)\n",
            "Requirement already satisfied: widgetsnbextension~=3.4.0 in /usr/local/lib/python3.6/dist-packages (from ipywidgets->jupyter->nilmtk==0.3.0.dev0+git.431c3b5) (3.4.2)\n",
            "Requirement already satisfied: entrypoints>=0.2.2 in /usr/local/lib/python3.6/dist-packages (from nbconvert->jupyter->nilmtk==0.3.0.dev0+git.431c3b5) (0.3)\n",
            "Requirement already satisfied: testpath in /usr/local/lib/python3.6/dist-packages (from nbconvert->jupyter->nilmtk==0.3.0.dev0+git.431c3b5) (0.4.2)\n",
            "Requirement already satisfied: mistune>=0.8.1 in /usr/local/lib/python3.6/dist-packages (from nbconvert->jupyter->nilmtk==0.3.0.dev0+git.431c3b5) (0.8.4)\n",
            "Requirement already satisfied: bleach in /usr/local/lib/python3.6/dist-packages (from nbconvert->jupyter->nilmtk==0.3.0.dev0+git.431c3b5) (3.1.0)\n",
            "Requirement already satisfied: defusedxml in /usr/local/lib/python3.6/dist-packages (from nbconvert->jupyter->nilmtk==0.3.0.dev0+git.431c3b5) (0.6.0)\n",
            "Requirement already satisfied: pandocfilters>=1.4.1 in /usr/local/lib/python3.6/dist-packages (from nbconvert->jupyter->nilmtk==0.3.0.dev0+git.431c3b5) (1.4.2)\n",
            "Collecting prompt-toolkit<2.1.0,>=2.0.0 (from jupyter-console->jupyter->nilmtk==0.3.0.dev0+git.431c3b5)\n",
            "\u001b[?25l  Downloading https://files.pythonhosted.org/packages/f7/a7/9b1dd14ef45345f186ef69d175bdd2491c40ab1dfa4b2b3e4352df719ed7/prompt_toolkit-2.0.9-py3-none-any.whl (337kB)\n",
            "\u001b[K     |████████████████████████████████| 337kB 41.5MB/s \n",
            "\u001b[?25hRequirement already satisfied: pyzmq>=13 in /usr/local/lib/python3.6/dist-packages (from jupyter-client->ipykernel->jupyter->nilmtk==0.3.0.dev0+git.431c3b5) (17.0.0)\n",
            "Requirement already satisfied: simplegeneric>0.8 in /usr/local/lib/python3.6/dist-packages (from ipython>=4.0.0->ipykernel->jupyter->nilmtk==0.3.0.dev0+git.431c3b5) (0.8.1)\n",
            "Requirement already satisfied: pexpect; sys_platform != \"win32\" in /usr/local/lib/python3.6/dist-packages (from ipython>=4.0.0->ipykernel->jupyter->nilmtk==0.3.0.dev0+git.431c3b5) (4.7.0)\n",
            "Requirement already satisfied: pickleshare in /usr/local/lib/python3.6/dist-packages (from ipython>=4.0.0->ipykernel->jupyter->nilmtk==0.3.0.dev0+git.431c3b5) (0.7.5)\n",
            "Requirement already satisfied: MarkupSafe>=0.23 in /usr/local/lib/python3.6/dist-packages (from jinja2->notebook->jupyter->nilmtk==0.3.0.dev0+git.431c3b5) (1.1.1)\n",
            "Requirement already satisfied: ptyprocess; os_name != \"nt\" in /usr/local/lib/python3.6/dist-packages (from terminado>=0.3.3; sys_platform != \"win32\"->notebook->jupyter->nilmtk==0.3.0.dev0+git.431c3b5) (0.6.0)\n",
            "Requirement already satisfied: jsonschema!=2.5.0,>=2.4 in /usr/local/lib/python3.6/dist-packages (from nbformat->notebook->jupyter->nilmtk==0.3.0.dev0+git.431c3b5) (2.6.0)\n",
            "Requirement already satisfied: webencodings in /usr/local/lib/python3.6/dist-packages (from bleach->nbconvert->jupyter->nilmtk==0.3.0.dev0+git.431c3b5) (0.5.1)\n",
            "Requirement already satisfied: wcwidth in /usr/local/lib/python3.6/dist-packages (from prompt-toolkit<2.1.0,>=2.0.0->jupyter-console->jupyter->nilmtk==0.3.0.dev0+git.431c3b5) (0.1.7)\n",
            "Building wheels for collected packages: nilmtk, networkx, hmmlearn\n",
            "  Building wheel for nilmtk (setup.py) ... \u001b[?25l\u001b[?25hdone\n",
            "  Stored in directory: /tmp/pip-ephem-wheel-cache-u38lh9oc/wheels/71/84/2f/eca0fb8014a0fe59881ab1a3e3374f4108211de4c7c3081e8d\n",
            "  Building wheel for networkx (setup.py) ... \u001b[?25l\u001b[?25hdone\n",
            "  Stored in directory: /root/.cache/pip/wheels/44/c0/34/6f98693a554301bdb405f8d65d95bbcd3e50180cbfdd98a94e\n",
            "  Building wheel for hmmlearn (setup.py) ... \u001b[?25l\u001b[?25hdone\n",
            "  Stored in directory: /root/.cache/pip/wheels/2c/b6/0e/63a865a30e21e01d04f417d8995fbfb793d6bd464707efc546\n",
            "Successfully built nilmtk networkx hmmlearn\n",
            "\u001b[31mERROR: ipython 5.5.0 has requirement prompt-toolkit<2.0.0,>=1.0.4, but you'll have prompt-toolkit 2.0.9 which is incompatible.\u001b[0m\n",
            "\u001b[31mERROR: albumentations 0.1.12 has requirement imgaug<0.2.7,>=0.2.5, but you'll have imgaug 0.2.9 which is incompatible.\u001b[0m\n",
            "Installing collected packages: psycopg2-binary, networkx, hmmlearn, nilmtk, prompt-toolkit\n",
            "  Found existing installation: networkx 2.3\n",
            "    Uninstalling networkx-2.3:\n",
            "      Successfully uninstalled networkx-2.3\n",
            "  Found existing installation: prompt-toolkit 1.0.16\n",
            "    Uninstalling prompt-toolkit-1.0.16:\n",
            "      Successfully uninstalled prompt-toolkit-1.0.16\n",
            "Successfully installed hmmlearn-0.2.2 networkx-2.1 nilmtk-0.3.0.dev0+git.431c3b5 prompt-toolkit-2.0.9 psycopg2-binary-2.8.3\n"
          ],
          "name": "stdout"
        },
        {
          "output_type": "display_data",
          "data": {
            "application/vnd.colab-display-data+json": {
              "pip_warning": {
                "packages": [
                  "prompt_toolkit"
                ]
              }
            }
          },
          "metadata": {
            "tags": []
          }
        }
      ]
    },
    {
      "cell_type": "code",
      "metadata": {
        "id": "yP1czK5szE76",
        "colab_type": "code",
        "outputId": "a9896c91-22b6-4ee6-9e9c-de152a23678b",
        "colab": {
          "base_uri": "https://localhost:8080/",
          "height": 284
        }
      },
      "source": [
        "pip install git+git://github.com/nilmtk/nilm_metadata.git\n"
      ],
      "execution_count": 4,
      "outputs": [
        {
          "output_type": "stream",
          "text": [
            "Collecting git+git://github.com/nilmtk/nilm_metadata.git\n",
            "  Cloning git://github.com/nilmtk/nilm_metadata.git to /tmp/pip-req-build-q2ze02km\n",
            "  Running command git clone -q git://github.com/nilmtk/nilm_metadata.git /tmp/pip-req-build-q2ze02km\n",
            "Requirement already satisfied: PyYAML in /usr/local/lib/python3.6/dist-packages (from nilm-metadata==0.2.3) (3.13)\n",
            "Requirement already satisfied: six in /usr/local/lib/python3.6/dist-packages (from nilm-metadata==0.2.3) (1.12.0)\n",
            "Requirement already satisfied: pandas in /usr/local/lib/python3.6/dist-packages (from nilm-metadata==0.2.3) (0.24.2)\n",
            "Requirement already satisfied: python-dateutil>=2.5.0 in /usr/local/lib/python3.6/dist-packages (from pandas->nilm-metadata==0.2.3) (2.5.3)\n",
            "Requirement already satisfied: numpy>=1.12.0 in /usr/local/lib/python3.6/dist-packages (from pandas->nilm-metadata==0.2.3) (1.16.4)\n",
            "Requirement already satisfied: pytz>=2011k in /usr/local/lib/python3.6/dist-packages (from pandas->nilm-metadata==0.2.3) (2018.9)\n",
            "Building wheels for collected packages: nilm-metadata\n",
            "  Building wheel for nilm-metadata (setup.py) ... \u001b[?25l\u001b[?25hdone\n",
            "  Stored in directory: /tmp/pip-ephem-wheel-cache-pbv9gpf3/wheels/75/e0/6d/1ec555a322c151fe20b4c9834753a692203b1f62a66b3ee235\n",
            "Successfully built nilm-metadata\n",
            "Installing collected packages: nilm-metadata\n",
            "Successfully installed nilm-metadata-0.2.3\n"
          ],
          "name": "stdout"
        }
      ]
    },
    {
      "cell_type": "code",
      "metadata": {
        "id": "aLVywoaWzG-s",
        "colab_type": "code",
        "outputId": "9c78057f-9e4a-49c7-e732-1176138b54ca",
        "colab": {
          "base_uri": "https://localhost:8080/",
          "height": 356
        }
      },
      "source": [
        "pip install pandas==0.24.0"
      ],
      "execution_count": 5,
      "outputs": [
        {
          "output_type": "stream",
          "text": [
            "Collecting pandas==0.24.0\n",
            "\u001b[?25l  Downloading https://files.pythonhosted.org/packages/f9/e1/4a63ed31e1b1362d40ce845a5735c717a959bda992669468dae3420af2cd/pandas-0.24.0-cp36-cp36m-manylinux1_x86_64.whl (10.1MB)\n",
            "\u001b[K     |████████████████████████████████| 10.1MB 3.2MB/s \n",
            "\u001b[?25hRequirement already satisfied: pytz>=2011k in /usr/local/lib/python3.6/dist-packages (from pandas==0.24.0) (2018.9)\n",
            "Requirement already satisfied: numpy>=1.12.0 in /usr/local/lib/python3.6/dist-packages (from pandas==0.24.0) (1.16.4)\n",
            "Requirement already satisfied: python-dateutil>=2.5.0 in /usr/local/lib/python3.6/dist-packages (from pandas==0.24.0) (2.5.3)\n",
            "Requirement already satisfied: six>=1.5 in /usr/local/lib/python3.6/dist-packages (from python-dateutil>=2.5.0->pandas==0.24.0) (1.12.0)\n",
            "\u001b[31mERROR: nilmtk 0.3.0.dev0+git.431c3b5 has requirement pandas==0.24.2, but you'll have pandas 0.24.0 which is incompatible.\u001b[0m\n",
            "Installing collected packages: pandas\n",
            "  Found existing installation: pandas 0.24.2\n",
            "    Uninstalling pandas-0.24.2:\n",
            "      Successfully uninstalled pandas-0.24.2\n",
            "Successfully installed pandas-0.24.0\n"
          ],
          "name": "stdout"
        },
        {
          "output_type": "display_data",
          "data": {
            "application/vnd.colab-display-data+json": {
              "pip_warning": {
                "packages": [
                  "pandas"
                ]
              }
            }
          },
          "metadata": {
            "tags": []
          }
        }
      ]
    },
    {
      "cell_type": "code",
      "metadata": {
        "id": "cVqjo-MkycMZ",
        "colab_type": "code",
        "outputId": "fb5b51ce-3d7a-4315-91aa-a43f4a4e2aaf",
        "colab": {
          "base_uri": "https://localhost:8080/",
          "height": 144
        }
      },
      "source": [
        "from __future__ import print_function, division\n",
        "import time\n",
        "\n",
        "from matplotlib import rcParams\n",
        "import matplotlib.pyplot as plt\n",
        "\n",
        "from nilmtk import DataSet, TimeFrame, MeterGroup, HDFDataStore\n",
        "\n",
        "\n",
        "import random\n",
        "import sys\n",
        "import pandas as pd\n",
        "import numpy as np\n",
        "import h5py\n",
        "\n",
        "\n",
        "\n",
        "def load_dataset(window_per_house,test_window, filename, meter_label, train_building, test_building, **load_kwargs):\n",
        "    \n",
        "    #Load datasets\n",
        "    train = DataSet(filename)\n",
        "    test = DataSet(filename)\n",
        "\n",
        "    #train.set_window(start=start_train, end=end_train)\n",
        "    test.set_window(*test_window[test_building])\n",
        "\n",
        "    train_mainlist = []\n",
        "    train_meterlist = []\n",
        "    for building_id, building in train.buildings.items():\n",
        "        if building_id in train_building:\n",
        "            train.set_window(*window_per_house[building_id])\n",
        "            y = building.elec[meter_label]\n",
        "            \n",
        "            if filename == 'redd.h5':\n",
        "                x = building.elec.mains().all_meters()[0] \n",
        "            else:\n",
        "                x = building.elec.mains()\n",
        "                \n",
        "            train_mainlist.append(x.power_series_all_data(**load_kwargs))\n",
        "            train_meterlist.append(y.power_series_all_data(**load_kwargs))\n",
        "            \n",
        "\n",
        "    test_meterlist = test.buildings[test_building].elec[meter_label]\n",
        "    \n",
        "    if filename == 'redd.h5':\n",
        "        test_mainlist = test.buildings[test_building].elec.mains().all_meters()[0]\n",
        "    else:\n",
        "        test_mainlist = test.buildings[test_building].elec.mains()\n",
        "\n",
        "    assert len(train_mainlist) == len(train_meterlist), \"The number of main and apliances meters must be equal\"\n",
        "\n",
        "    return train_meterlist, train_mainlist, test_meterlist, test_mainlist\n",
        "\n",
        "\n",
        "def data_processing(train_mainlist, train_meterlist, window_size):\n",
        "    '''Data processing\n",
        "\n",
        "    Parameters\n",
        "    ----------\n",
        "    train_mainlist : a list of nilmtk.ElecMeter objects for the aggregate data of each building\n",
        "    train_meterlist : a list of nilmtk.ElecMeter objects for the meter data of each building\n",
        "    '''\n",
        "\n",
        "    # Normalize the data\n",
        "    train_x = [standardise(data) for data in train_mainlist]\n",
        "    train_y = [standardise(data) for data in train_meterlist]\n",
        "\n",
        "    # replca NaN values and\n",
        "    for i in range(len(train_x)):\n",
        "        train_x[i].fillna(0, inplace=True)\n",
        "        train_y[i].fillna(0, inplace=True)\n",
        "        ix = train_x[i].index.intersection(train_y[i].index)\n",
        "\n",
        "        train_x[i] = train_x[i][ix].values\n",
        "        train_y[i] = train_y[i][ix].values\n",
        "\n",
        "    return train_x, train_y\n",
        "\n",
        "\n",
        "\n",
        "\n",
        "def normalise(data):\n",
        "    \"\"\"\n",
        "    Perform the normalisation (x-min(x))/(max(x)-min(x)).\n",
        "    --------------------------------------\n",
        "    :arg\n",
        "    data: data that needs to be transformed\n",
        "    mean: mean value of data\n",
        "    max_v: max value of data\n",
        "    :return\n",
        "    The normalized data\n",
        "    \"\"\"\n",
        "    std =np.std(data)\n",
        "    mean = data.mean()\n",
        "    max_v = data.max()\n",
        "\n",
        "    return data/7629.0703 #remember to try this normalization as well\n",
        "    #return (data - mean) / (max_v-mean)\n",
        "\n",
        "\n",
        "def inversenormalise(data):\n",
        "    \"\"\"\n",
        "    Perform the in-normalisation data*(max(x)-min(x))+min(x).\n",
        "    ------------------------------------------------\n",
        "    :arg\n",
        "    data: data that needs to be inverse-transformed\n",
        "    mean: mean value of data\n",
        "    max_v: max value of data\n",
        "    :return\n",
        "    The in-normalized data\n",
        "    \"\"\"\n",
        "    std =np.std(data)\n",
        "    mean = data.mean()\n",
        "    max_v = data.max()\n",
        "    \n",
        "    return data * 7629.0703\n",
        "\n",
        "    #return data * (max_v-mean) + mean\n",
        "\n",
        "def standardise(X, how='std=1', mean=200, std=400, midrange=None,\n",
        "                ptp=None):\n",
        "    \"\"\"Standardise.\n",
        "    ftp://ftp.sas.com/pub/neural/FAQ2.html#A_std_in\n",
        "    Parameters\n",
        "    ----------\n",
        "    X : matrix\n",
        "        Each sample is in range [0, 1]\n",
        "    how : str, {'range=2', 'std=1'}\n",
        "        'range=2' sets midrange to 0 and enforces\n",
        "        all values to be in the range [-1,1]\n",
        "        'std=1' sets mean = 0 and std = 1\n",
        "    Returns\n",
        "    -------\n",
        "    new_X : matrix\n",
        "        Same shape as `X`.  Sample is in range [lower, upper]\n",
        "    See also\n",
        "    --------\n",
        "    unstandardise\n",
        "    \"\"\"\n",
        "    if how == 'std=1':\n",
        "        if mean is None:\n",
        "            mean = X.mean()\n",
        "        if std is None:\n",
        "            std = X.std()\n",
        "        centered = X - mean\n",
        "        if std == 0:\n",
        "            return centered\n",
        "        else:\n",
        "            return centered / std\n",
        "    elif how == 'range=2':\n",
        "        if midrange is None:\n",
        "            midrange = (X.max() + X.min()) / 2\n",
        "        if ptp is None:\n",
        "            ptp = X.ptp()\n",
        "        return (X - midrange) / (ptp / 2)\n",
        "    else:\n",
        "        raise RuntimeError(\"unrecognised how '\" + how + \"'\")\n",
        "        \n",
        "def unstandardise(data, std=400, mean=200, maximum=None):\n",
        "    unstandardised_data = (data * std) + mean\n",
        "    if maximum is not None:\n",
        "        unstandardised_data *= maximum\n",
        "    return unstandardised_data"
      ],
      "execution_count": 6,
      "outputs": [
        {
          "output_type": "stream",
          "text": [
            "/usr/lib/python3.6/importlib/_bootstrap.py:219: RuntimeWarning: numpy.ufunc size changed, may indicate binary incompatibility. Expected 192 from C header, got 216 from PyObject\n",
            "  return f(*args, **kwds)\n",
            "/usr/lib/python3.6/importlib/_bootstrap.py:219: RuntimeWarning: numpy.ufunc size changed, may indicate binary incompatibility. Expected 192 from C header, got 216 from PyObject\n",
            "  return f(*args, **kwds)\n",
            "/usr/lib/python3.6/importlib/_bootstrap.py:219: RuntimeWarning: numpy.ufunc size changed, may indicate binary incompatibility. Expected 192 from C header, got 216 from PyObject\n",
            "  return f(*args, **kwds)\n"
          ],
          "name": "stderr"
        }
      ]
    },
    {
      "cell_type": "code",
      "metadata": {
        "id": "PPNy3dv4y24k",
        "colab_type": "code",
        "outputId": "a7060a4f-a4c8-456e-d140-70017c78913d",
        "colab": {
          "base_uri": "https://localhost:8080/",
          "height": 161
        }
      },
      "source": [
        "from keras.models import load_model, Model, Input\n",
        "from keras.layers import Dense, Conv1D, GRU, LSTM, Bidirectional, Dropout,Conv2D\n",
        "from keras.layers import Reshape, BatchNormalization, Activation, Flatten, Concatenate\n",
        "from keras.models import Sequential\n",
        "\n",
        "def RNN_model(window_size):\n",
        "    '''Creates the RNN module described in the paper\n",
        "    '''\n",
        "    model = Sequential()\n",
        "\n",
        "    # 1D Conv\n",
        "    model.add(Conv1D(16, 4, activation=\"linear\", input_shape=(window_size,1), padding=\"same\", strides=1))\n",
        "\n",
        "    #Bi-directional LSTMs\n",
        "    model.add(Bidirectional(LSTM(128, return_sequences=True, stateful=False), merge_mode='concat'))\n",
        "    model.add(Bidirectional(LSTM(256, return_sequences=False, stateful=False), merge_mode='concat'))\n",
        "\n",
        "    # Fully Connected Layers\n",
        "    model.add(Dense(128, activation='tanh'))\n",
        "    model.add(Dense(1, activation='linear'))\n",
        "\n",
        "    model.compile(loss='mse', optimizer='adam')\n",
        "    #plot_model(model, to_file='model.png', show_shapes=True)\n",
        "\n",
        "    return model\n",
        "\n",
        "\n",
        "def GRU_model(window_size):\n",
        "\n",
        "    '''Creates the GRU architecture described in the paper\n",
        "    '''\n",
        "    model = Sequential()\n",
        "\n",
        "    # 1D Conv\n",
        "    model.add(Conv1D(16, 4, activation='relu', input_shape=(window_size,1), padding=\"same\", strides=1))\n",
        "\n",
        "    #Bi-directional GRUs\n",
        "    model.add(Bidirectional(GRU(64, activation='relu', return_sequences=True), merge_mode='concat'))\n",
        "    model.add(Dropout(0.3))\n",
        "    model.add(Bidirectional(GRU(128, activation='relu', return_sequences=False), merge_mode='concat'))\n",
        "    model.add(Dropout(0.3))\n",
        "\n",
        "    # Fully Connected Layers\n",
        "    model.add(Dense(128, activation='relu'))\n",
        "    model.add(Dropout(0.3))\n",
        "    model.add(Dense(1, activation='linear'))\n",
        "\n",
        "    model.compile(loss='mse', optimizer='adam', metrics=['accuracy'])\n",
        "    print(model.summary())\n",
        "\n",
        "    return model\n",
        "\n",
        "\n",
        "def DAE_model(window_size):\n",
        "    '''Creates and returns the ShortSeq2Point Network\n",
        "     Based on: https://arxiv.org/pdf/1612.09106v3.pdf\n",
        "    '''\n",
        "    model = Sequential()\n",
        "\n",
        "    # 1D Conv\n",
        "    model.add(Conv1D(30, 10, activation='relu', input_shape=(window_size,1), padding=\"same\", strides=1))\n",
        "    model.add(Dropout(0.2))\n",
        "    model.add(Conv1D(30, 8, activation='relu', padding=\"same\", strides=1))\n",
        "    model.add(Dropout(0.2))\n",
        "    model.add(Conv1D(40, 6, activation='relu', padding=\"same\", strides=1))\n",
        "    model.add(Dropout(0.2))\n",
        "    model.add(Conv1D(50, 5, activation='relu', padding=\"same\", strides=1))\n",
        "    model.add(Dropout(0.2))\n",
        "    model.add(Conv1D(50, 5, activation='relu', padding=\"same\", strides=1))\n",
        "    model.add(Dropout(0.2))\n",
        "    # Fully Connected Layers\n",
        "    model.add(Flatten())\n",
        "    model.add(Dense(1024, activation='relu'))\n",
        "    model.add(Dropout(0.2))\n",
        "    model.add(Dense(1, activation='linear'))\n",
        "\n",
        "    model.compile(loss='mse', optimizer='adam')\n",
        "    print(model.summary())\n",
        "\n",
        "    return model\n",
        "\n",
        "def DresNET_model(window_size):\n",
        "    '''Creates the GRU architecture described in the paper\n",
        "    '''\n",
        "    def residual_block(filters,x,stride = 1,dilate = None):\n",
        "        resiual = x\n",
        "        out = BatchNormalization()(x)\n",
        "        out1 = Activation('relu')(out)\n",
        "        out = Conv1D(filters = filters,kernel_size = [3],dilation_rate = dilate,strides = [1],padding = 'same')(out1)\n",
        "        out = BatchNormalization()(out)\n",
        "        out = Activation('relu')(out)\n",
        "        out = Conv1D(filters = filters,kernel_size = [3],strides = [1],padding = 'same')(out)\n",
        "        out = BatchNormalization()(out)\n",
        "        out = Activation('relu')(out)\n",
        "        out = Conv1D(filters = filters,kernel_size = [1],dilation_rate = dilate,strides = [1],padding = 'same')(out)\n",
        "\n",
        "        if out1.shape[-1] != filters or stride == 1:\n",
        "            residual = Conv1D(filters = filters,kernel_size = [3],strides = [1],padding = 'same')(out1)\n",
        "            out = Concatenate()([residual,out])\n",
        "        return out\n",
        "\n",
        "    x = Input(shape = [window_size,1])\n",
        "    conv1 = Conv1D(filters = 30,kernel_size = [5],dilation_rate = [1],strides = [1],padding = 'same')(x)\n",
        "    bn = BatchNormalization()(conv1)\n",
        "    out = Activation('relu')(bn)\n",
        "    repetition = [3,4,6,3]\n",
        "    filter_num = [30,40,50,50]\n",
        "    dilations = [[1],[2],[3],[3]]\n",
        "    for i in range(len(repetition)):\n",
        "        for j in range(repetition[i]):\n",
        "            out = residual_block(filters = filter_num[i],dilate = dilations[i],x = out)\n",
        "\n",
        "    out = Flatten()(out)\n",
        "    out = Dense(units = 1)(out)\n",
        "    model = Model(x,out)\n",
        "    model.compile(optimizer = 'adam',loss = 'mse')\n",
        "\n",
        "    print(model.summary())\n",
        "\n",
        "    return model\n"
      ],
      "execution_count": 7,
      "outputs": [
        {
          "output_type": "stream",
          "text": [
            "Using TensorFlow backend.\n",
            "/usr/lib/python3.6/importlib/_bootstrap.py:219: RuntimeWarning: numpy.ufunc size changed, may indicate binary incompatibility. Expected 216, got 192\n",
            "  return f(*args, **kwds)\n",
            "/usr/local/lib/python3.6/dist-packages/tensorflow/python/keras/backend.py:5506: ResourceWarning: unclosed file <_io.TextIOWrapper name='/root/.keras/keras.json' mode='r' encoding='UTF-8'>\n",
            "  _config = json.load(open(_config_path))\n",
            "/usr/lib/python3.6/importlib/_bootstrap.py:219: RuntimeWarning: numpy.ufunc size changed, may indicate binary incompatibility. Expected 192 from C header, got 216 from PyObject\n",
            "  return f(*args, **kwds)\n"
          ],
          "name": "stderr"
        }
      ]
    },
    {
      "cell_type": "code",
      "metadata": {
        "id": "EHJPt__pyuMk",
        "colab_type": "code",
        "outputId": "36d4a58c-dea5-452b-d749-145b957f9ac8",
        "colab": {
          "base_uri": "https://localhost:8080/",
          "height": 144
        }
      },
      "source": [
        "from __future__ import print_function, division\n",
        "from warnings import warn, filterwarnings\n",
        "\n",
        "import random\n",
        "import sys\n",
        "import pandas as pd\n",
        "import numpy as np\n",
        "\n",
        "from nilmtk.disaggregate import Disaggregator\n",
        "from nilmtk.datastore import HDFDataStore\n",
        "\n",
        "\n",
        "\n",
        "class NeuralDisaggregator(Disaggregator):\n",
        "    '''Attempt to create a RNN Disaggregator\n",
        "\n",
        "    Attributes\n",
        "    ----------\n",
        "    model : keras Sequential model\n",
        "    mmax : the maximum value of the aggregate data\n",
        "\n",
        "    MIN_CHUNK_LENGTH : int\n",
        "       the minimum length of an acceptable chunk\n",
        "    '''\n",
        "    \n",
        "    def __init__(self, model, name,batch_size, window_size=100):\n",
        "        '''Initialize disaggregator\n",
        "        '''\n",
        "        self.MODEL_NAME = name\n",
        "        self.MIN_CHUNK_LENGTH = window_size\n",
        "        self.window_size = window_size\n",
        "        self.model = model\n",
        "        self.batch_size = batch_size\n",
        "            \n",
        "    def disaggregate(self, mains, output_datastore, meter_metadata, **load_kwargs):\n",
        "        '''Disaggregate mains according to the model learnt previously.\n",
        "\n",
        "        Parameters\n",
        "        ----------\n",
        "        mains : a nilmtk.ElecMeter of aggregate data\n",
        "        meter_metadata: a nilmtk.ElecMeter of the observed meter used for storing the metadata\n",
        "        output_datastore : instance of nilmtk.DataStore subclass\n",
        "            For storing power predictions from disaggregation algorithm.\n",
        "        **load_kwargs : key word arguments\n",
        "            Passed to `mains.power_series(**kwargs)`\n",
        "        '''\n",
        "\n",
        "        load_kwargs = self._pre_disaggregation_checks(load_kwargs)\n",
        "\n",
        "        load_kwargs.setdefault('sample_period', 60)\n",
        "        load_kwargs.setdefault('sections', mains.good_sections())\n",
        "\n",
        "        timeframes = []\n",
        "        building_path = '/building{}'.format(mains.building())\n",
        "        mains_data_location = building_path + '/elec/meter1'\n",
        "        data_is_available = False\n",
        "\n",
        "        for chunk in mains.power_series(**load_kwargs):\n",
        "            if len(chunk) < self.MIN_CHUNK_LENGTH:\n",
        "                continue\n",
        "            print(\"New sensible chunk: {}\".format(len(chunk)))\n",
        "\n",
        "            timeframes.append(chunk.timeframe)\n",
        "            measurement = chunk.name\n",
        "            chunk2 = standardise(chunk)\n",
        "\n",
        "            appliance_power = self.disaggregate_chunk(chunk2)\n",
        "            appliance_power[appliance_power < 0] = 0\n",
        "            appliance_power = unstandardise(appliance_power)\n",
        "\n",
        "            # Append prediction to output\n",
        "            data_is_available = True\n",
        "            cols = pd.MultiIndex.from_tuples([chunk.name])\n",
        "            meter_instance = meter_metadata.instance()\n",
        "            df = pd.DataFrame(\n",
        "                appliance_power.values, index=appliance_power.index,\n",
        "                columns=cols, dtype=\"float32\")\n",
        "            key = '{}/elec/meter{}'.format(building_path, meter_instance)\n",
        "            output_datastore.append(key, df)\n",
        "\n",
        "            # Append aggregate data to output\n",
        "            mains_df = pd.DataFrame(chunk, columns=cols, dtype=\"float32\")\n",
        "            output_datastore.append(key=mains_data_location, value=mains_df)\n",
        "\n",
        "        # Save metadata to output\n",
        "        if data_is_available:\n",
        "            self._save_metadata_for_disaggregation(\n",
        "                output_datastore=output_datastore,\n",
        "                sample_period=load_kwargs['sample_period'],\n",
        "                measurement=measurement,\n",
        "                timeframes=timeframes,\n",
        "                building=mains.building(),\n",
        "                meters=[meter_metadata]\n",
        "            )\n",
        "\n",
        "    def disaggregate_chunk(self, mains):\n",
        "        '''In-memory disaggregation.\n",
        "\n",
        "        Parameters\n",
        "        ----------\n",
        "        mains : pd.Series of aggregate data\n",
        "        Returns\n",
        "        -------\n",
        "        appliance_powers : pd.DataFrame where each column represents a\n",
        "            disaggregated appliance.  Column names are the integer index\n",
        "            into `self.model` for the appliance in question.\n",
        "        '''\n",
        "        up_limit = len(mains)\n",
        "\n",
        "        mains.fillna(0, inplace=True)\n",
        "\n",
        "        X_batch = np.array(mains)\n",
        "        Y_len = len(X_batch)\n",
        "        indexer = np.arange(self.window_size)[None, :] + np.arange(len(X_batch)-self.window_size+1)[:, None]\n",
        "        X_batch = X_batch[indexer]\n",
        "        X_batch = np.reshape(X_batch, (X_batch.shape[0],X_batch.shape[1],1))\n",
        "\n",
        "        pred = self.model.predict(X_batch, batch_size=self.batch_size)\n",
        "        pred = np.reshape(pred, (len(pred)))\n",
        "        column = pd.Series(pred, index=mains.index[self.window_size-1:Y_len], name=0)\n",
        "        \n",
        "\n",
        "        appliance_powers_dict = {}\n",
        "        appliance_powers_dict[0] = column\n",
        "        appliance_powers = pd.DataFrame(appliance_powers_dict)\n",
        "        return appliance_powers\n"
      ],
      "execution_count": 8,
      "outputs": [
        {
          "output_type": "stream",
          "text": [
            "/usr/lib/python3.6/importlib/_bootstrap.py:219: RuntimeWarning: numpy.ufunc size changed, may indicate binary incompatibility. Expected 192 from C header, got 216 from PyObject\n",
            "  return f(*args, **kwds)\n",
            "/usr/lib/python3.6/importlib/_bootstrap.py:219: RuntimeWarning: numpy.ufunc size changed, may indicate binary incompatibility. Expected 192 from C header, got 216 from PyObject\n",
            "  return f(*args, **kwds)\n",
            "/usr/lib/python3.6/importlib/_bootstrap.py:219: RuntimeWarning: numpy.ufunc size changed, may indicate binary incompatibility. Expected 192 from C header, got 216 from PyObject\n",
            "  return f(*args, **kwds)\n"
          ],
          "name": "stderr"
        }
      ]
    },
    {
      "cell_type": "code",
      "metadata": {
        "id": "DUFVTW1ayl_Z",
        "colab_type": "code",
        "colab": {}
      },
      "source": [
        "from nilmtk.electric import align_two_meters\n",
        "import numpy as np\n",
        "\n",
        "def tp_tn_fp_fn(states_pred, states_ground):\n",
        "    tp = np.sum(np.logical_and(states_pred == 1, states_ground == 1))\n",
        "    fp = np.sum(np.logical_and(states_pred == 1, states_ground == 0))\n",
        "    fn = np.sum(np.logical_and(states_pred == 0, states_ground == 1))\n",
        "    tn = np.sum(np.logical_and(states_pred == 0, states_ground == 0))\n",
        "    return tp, tn, fp, fn\n",
        "\n",
        "def recall_precision_accuracy_f1(pred, ground):\n",
        "    aligned_meters = align_two_meters(pred, ground)\n",
        "    threshold = ground.on_power_threshold()\n",
        "    chunk_results = []\n",
        "    sum_samples = 0.0\n",
        "    for chunk in aligned_meters:\n",
        "        sum_samples += len(chunk)\n",
        "        pr = np.array([0 if (p)<threshold else 1 for p in chunk.iloc[:,0]])\n",
        "        gr = np.array([0 if p<threshold else 1 for p in chunk.iloc[:,1]])\n",
        "\n",
        "        tp, tn, fp, fn = tp_tn_fp_fn(pr,gr)\n",
        "        p = sum(pr)\n",
        "        n = len(pr) - p\n",
        "\n",
        "        chunk_results.append([tp,tn,fp,fn,p,n])\n",
        "\n",
        "    if sum_samples == 0:\n",
        "        return None\n",
        "    else:\n",
        "        [tp,tn,fp,fn,p,n] = np.sum(chunk_results, axis=0)\n",
        "\n",
        "        res_recall = recall(tp,fn)\n",
        "        res_precision = precision(tp,fp)\n",
        "        res_f1 = f1(res_precision,res_recall)\n",
        "        res_accuracy = accuracy(tp,tn,p,n)\n",
        "\n",
        "        return (res_recall,res_precision,res_accuracy,res_f1)\n",
        "\n",
        "def relative_error_total_energy(pred, ground):\n",
        "    aligned_meters = align_two_meters(pred, ground)\n",
        "    chunk_results = []\n",
        "    sum_samples = 0.0\n",
        "    for chunk in aligned_meters:\n",
        "        chunk.fillna(0, inplace=True)\n",
        "        sum_samples += len(chunk)\n",
        "        E_pred = sum(chunk.iloc[:,0])\n",
        "        E_ground = sum(chunk.iloc[:,1])\n",
        "\n",
        "        chunk_results.append([\n",
        "                            E_pred,\n",
        "                            E_ground\n",
        "                            ])\n",
        "    if sum_samples == 0:\n",
        "        return None\n",
        "    else:\n",
        "        [E_pred, E_ground] = np.sum(chunk_results,axis=0)\n",
        "        return abs(E_pred - E_ground) / float(max(E_pred,E_ground))\n",
        "\n",
        "def mean_absolute_error(pred, ground):\n",
        "    aligned_meters = align_two_meters(pred, ground)\n",
        "    total_sum = 0.0\n",
        "    sum_samples = 0.0\n",
        "    for chunk in aligned_meters:\n",
        "        chunk.fillna(0, inplace=True)\n",
        "        sum_samples += len(chunk)\n",
        "        total_sum += sum(abs((chunk.iloc[:,0]) - chunk.iloc[:,1]))\n",
        "    if sum_samples == 0:\n",
        "        return None\n",
        "    else:\n",
        "        return total_sum / sum_samples\n",
        "\n",
        "\n",
        "def recall(tp,fn):\n",
        "    return tp/float(tp+fn)\n",
        "\n",
        "def precision(tp,fp):\n",
        "    return tp/float(tp+fp)\n",
        "\n",
        "def f1(prec,rec):\n",
        "    return 2 * (prec*rec) / float(prec+rec)\n",
        "\n",
        "def accuracy(tp, tn, p, n):\n",
        "    return (tp + tn) / float(p + n)\n"
      ],
      "execution_count": 0,
      "outputs": []
    },
    {
      "cell_type": "code",
      "metadata": {
        "id": "C8sgly5YyimH",
        "colab_type": "code",
        "colab": {}
      },
      "source": [
        "import numpy as np\n",
        "\n",
        "\n",
        "class Batch_Generator():\n",
        "\n",
        "    def __init__(self, batch_size, window_size, model_name, shuffle=True):\n",
        "\n",
        "        self.name = model_name\n",
        "        self.batch_size = batch_size\n",
        "        self.shuffle = shuffle\n",
        "        self.window_size = window_size\n",
        "        \n",
        "    def num_epochs(self, inputs):\n",
        "        \n",
        "        batch_size = int(self.batch_size / len(inputs))\n",
        "        num_of_batches = [(int((len(inputs[i])-self.window_size+1) / batch_size) - 1) for i in range(len(inputs))]\n",
        "        n_epochs = min(num_of_batches)\n",
        "        \n",
        "        return n_epochs\n",
        "\n",
        "    def generator(self, inputs, targets):\n",
        "\n",
        "        num_meters = len(inputs)\n",
        "        batch_size = int(self.batch_size / num_meters)\n",
        "        #num_of_batches = [(int(len(inputs[i]) / batch_size) - 1) for i in range(len(inputs))]\n",
        "        \n",
        "        n_epochs = self.num_epochs(inputs)\n",
        "        \n",
        "\n",
        "        # Batch indexes\n",
        "        self.indexes = list(range(n_epochs))\n",
        "        \n",
        "        if self.shuffle == True:\n",
        "            np.random.shuffle(self.indexes)\n",
        "\n",
        "        for ei, e in enumerate(self.indexes):\n",
        "            \n",
        "            offset = e * batch_size\n",
        "\n",
        "            # Initialization\n",
        "            X_batch = np.zeros((batch_size * num_meters, self.window_size, 1))  # (128,100,1)\n",
        "            Y_batch = np.zeros((batch_size * num_meters, 1))  # (128,1)\n",
        "\n",
        "            # Create a batch out of data from all buildings\n",
        "            for i in range(num_meters):\n",
        "                mainpart = inputs[i]\n",
        "                meterpart = targets[i]\n",
        "                \n",
        "                indexer = np.arange(self.window_size)[None, :] + np.arange(len(inputs[i])-self.window_size+1)[offset:offset + batch_size, None]\n",
        "                \n",
        "                mainpart = mainpart[indexer]\n",
        "                meterpart = meterpart[self.window_size - 1:][offset:offset + batch_size]\n",
        "                \n",
        "                X = np.reshape(mainpart, (batch_size, self.window_size, 1))\n",
        "                Y = np.reshape(meterpart, (batch_size, 1))\n",
        "\n",
        "                X_batch[i * batch_size:(i + 1) * batch_size] = np.array(X)\n",
        "                Y_batch[i * batch_size:(i + 1) * batch_size] = np.array(Y)\n",
        "\n",
        "            # Shuffle data\n",
        "            if self.shuffle == True:\n",
        "              p = np.random.permutation(len(X_batch))\n",
        "              X_batch, Y_batch = X_batch[p], Y_batch[p]\n",
        "   \n",
        "\n",
        "            yield X_batch, Y_batch"
      ],
      "execution_count": 0,
      "outputs": []
    },
    {
      "cell_type": "code",
      "metadata": {
        "id": "nXmq80OAyVQD",
        "colab_type": "code",
        "outputId": "70658c79-ec2f-4334-f6b0-b55426fa5554",
        "colab": {
          "base_uri": "https://localhost:8080/",
          "height": 1000
        }
      },
      "source": [
        "from __future__ import print_function, division\n",
        "import time\n",
        "\n",
        "\n",
        "from matplotlib import rcParams\n",
        "import matplotlib.pyplot as plt\n",
        "\n",
        "from nilmtk import DataSet, TimeFrame, MeterGroup, HDFDataStore\n",
        "#from disaggregator import NeuralDisaggregator\n",
        "#from dataset_processing import load_dataset, data_processing\n",
        "#from batch_generator import Batch_Generator\n",
        "#from models import GRU_model, RNN_model, DAE_model, DresNET_model\n",
        "from keras.models import load_model\n",
        "import metrics\n",
        "import nilm_metric as nm\n",
        "\n",
        "from keras.callbacks import ModelCheckpoint\n",
        "\n",
        "\n",
        "\n",
        "\n",
        "# =====Define paramaters======\n",
        "info = {'filename': 'drive/My Drive/Dissertation/redd.h5',\n",
        "        'meter_label': 'fridge',  # [\"kettle\" , \"microwave\" , \"dishwasher\" , \"fridge\" , \"washing_machine\"]\n",
        "        'train_building': [1],\n",
        "        'test_building': 1,\n",
        "        'sample_period': 1\n",
        "       }\n",
        "\n",
        "# Parameters\n",
        "params = {'batch_size': 512,\n",
        "          'window_size': 50,\n",
        "          'model_name': 'DAE',\n",
        "          'shuffle': True}\n",
        "\n",
        "#Define the training intervals for each house\n",
        "window_per_house = {1: (None, \"30-4-2011\"), \n",
        "                2: (\"2013-04-16\", \"2013-10-10\"), \n",
        "                3: ('2013-02-27' , '2013-04-08 '), \n",
        "                4: (\"2013-03-09\", \"2013-10-01\"), \n",
        "                5: (\"2014-06-29\", None)}\n",
        "\n",
        "\n",
        "test_window = {1: ('30-4-2011', '5-5-2011')}\n",
        "\n",
        "\n",
        "num_epochs = 2\n",
        "# =====Load Dataset======\n",
        "train_meterlist, train_mainlist, test_meterlist, test_mainlist = load_dataset(window_per_house,test_window, **info)\n",
        "\n",
        "train_x, train_y = data_processing(train_mainlist, train_meterlist, window_size=params['window_size'])\n",
        "\n",
        "# #Batch generator\n",
        "# gen = batch_generator(train_x, train_y,batch_size=128)\n",
        "\n",
        "\n",
        "if params['model_name'] == 'LSTM':\n",
        "    model = RNN_model(params['window_size'])\n",
        "\n",
        "elif params['model_name'] == 'GRU':\n",
        "    model = GRU_model(params['window_size'])\n",
        "\n",
        "elif params['model_name'] == 'DAE':\n",
        "    model = DAE_model(params['window_size'])\n",
        "\n",
        "elif params['model_name'] == 'DresNET':\n",
        "    model = DresNET_model(params['window_size'])\n",
        "\n",
        "\n",
        "\n",
        "# Training\n",
        "filepath_checkpoint = \"UKDALE-RNN-h \" + str(info['train_building']) + str(info['meter_label']) + ' epo.hdf5'\n",
        "filepath = 'drive/My Drive/Dissertation/UKDALE-GRU-microwave-5epochs.h5'\n",
        "filepath = 'UKDALE-GRU-fridge-1epochs.h5'\n",
        "\n",
        "# Batch generator\n",
        "gen = Batch_Generator(**params)\n",
        "t = gen.generator(train_x, train_y)\n",
        "steps_epochs = gen.num_epochs(train_x)\n",
        "\n",
        "\n",
        "mode = 'training'\n",
        "\n",
        "if mode == 'training':\n",
        "\n",
        "    print(\"*********Training*********\")\n",
        "    start = time.time()\n",
        "\n",
        "    checkpointer = ModelCheckpoint(filepath_checkpoint,\n",
        "                                   verbose=1, save_best_only=True)\n",
        "    model.fit_generator(t, \n",
        "                        steps_per_epoch = steps_epochs, \n",
        "                        epochs=num_epochs,\n",
        "                        use_multiprocessing=True,\n",
        "                        workers=6, \n",
        "                        callbacks=[checkpointer])\n",
        "\n",
        "    \n",
        "    \n",
        "    model.save(\"UKDALE-{}-{}-{}epochs.h5\".format(params['model_name'], \n",
        "                                                     info['meter_label'],\n",
        "                                                      num_epochs))\n",
        "    \n",
        "    end = time.time()\n",
        "    print('### Total trainning time cost: {} ###'.format(str(end - start)))\n",
        "\n",
        "elif mode == 'loading':\n",
        "    # load checkpoints weights\n",
        "    print(filepath_checkpoint)\n",
        "    model.load_weights(filepath_checkpoint)\n",
        "    \n",
        "elif mode == 'load_pretrained':\n",
        "    #load pretrained model\n",
        "    model = load_model(filepath)\n",
        "    model.compile(loss='mse', optimizer='adam')\n",
        "\n",
        "    \n",
        "#============Disaggregate my version===============  \n",
        "#===============================================================================   \n",
        "# def power(test_mainlist, **load_kwargs):\n",
        "#   return test_mainlist.power_series_all_data(**load_kwargs)\n",
        "\n",
        "# chunk = power(test_mainlist,sample_period = info['sample_period'])\n",
        "# chunk2 = normalise(chunk)\n",
        "# up_limit = len(chunk2)\n",
        "\n",
        "# chunk2.fillna(0, inplace=True)\n",
        "\n",
        "# X_batch = np.array(chunk2)\n",
        "# Y_len = len(X_batch)\n",
        "# indexer = np.arange(params['window_size'])[None, :] + np.arange(len(X_batch)-params['window_size']+1)[:, None]\n",
        "# X_batch = X_batch[indexer]\n",
        "# X_batch = np.reshape(X_batch, (X_batch.shape[0],X_batch.shape[1],1))\n",
        "\n",
        "# pred = model.predict(X_batch, batch_size=128)\n",
        "# pred = np.reshape(pred, (len(pred)))\n",
        "# column = pd.Series(pred, index=mains.index[params['window_size']-1:Y_len], name=0)\n",
        "\n",
        "\n",
        "# appliance_powers_dict = {}\n",
        "# appliance_powers_dict[0] = column\n",
        "# appliance_powers = pd.DataFrame(appliance_powers_dict)    \n",
        "# appliance_power[appliance_power < 0] = 0\n",
        "# appliance_power = inversenormalise(appliance_power)\n",
        "\n",
        "# plt.plot(chunk2)\n",
        "# plt.plot(appliance_power)\n",
        "    \n",
        "#===============================================================================\n",
        "#===============================================================================\n",
        "    \n",
        "    \n",
        "    \n",
        "    \n",
        "    \n",
        "    \n",
        "    \n",
        "    \n",
        "    \n",
        "    \n",
        "# print(\"*********Disaggregate*********\")\n",
        "disaggregator = NeuralDisaggregator(model, name = params['model_name'],batch_size = params['batch_size'], window_size = params['window_size'])\n",
        "disag_filename = \"disag-out.h5\"\n",
        "output = HDFDataStore(disag_filename, 'w')\n",
        "disaggregator.disaggregate(test_mainlist, output, test_meterlist, sample_period = info['sample_period'])\n",
        "output.close()\n",
        "\n",
        "\n",
        "print(\"========== RESULTS ============\")\n",
        "meter_key = info['meter_label']\n",
        "result = DataSet(disag_filename)\n",
        "res_elec = result.buildings[info['test_building']].elec\n",
        "#print(test_meterlist.power_series_all_data())\n",
        "#print(res_elec[meter_key].power_series_all_data())\n",
        "rpaf = metrics.recall_precision_accuracy_f1(res_elec[meter_key], test_meterlist)\n",
        "print(\"============ Recall: {}\".format(rpaf[0]))\n",
        "print(\"============ Precision: {}\".format(rpaf[1]))\n",
        "print(\"============ Accuracy: {}\".format(rpaf[2]))\n",
        "print(\"============ F1 Score: {}\".format(rpaf[3]))\n",
        "\n",
        "print(\"============ Relative error in total energy: {}\".format(metrics.relative_error_total_energy(res_elec[meter_key], test_meterlist)))\n",
        "print(\"============ Mean absolute error(in Watts): {}\".format(metrics.mean_absolute_error(res_elec[meter_key], test_meterlist)))\n",
        "\n",
        "\n",
        "aligned_meters = align_two_meters(res_elec[meter_key], test_meterlist)\n",
        "#threshold = ground.on_power_threshold()\n",
        "meters = next(aligned_meters)\n",
        "threshold = 10\n",
        "predict = meters['master']\n",
        "ground = meters['slave']\n",
        "print()\n",
        "print('F1:{0}'.format(nm.get_F1(ground, predict, threshold)))\n",
        "print('Mean absolute error(in Watts):{0}'.format(nm.get_abs_error(ground, predict)))\n",
        "print('Relative error:{0}'.format(nm.get_relative_error(ground, predict)))"
      ],
      "execution_count": 11,
      "outputs": [
        {
          "output_type": "stream",
          "text": [
            "/usr/lib/python3.6/importlib/_bootstrap.py:219: RuntimeWarning: numpy.ufunc size changed, may indicate binary incompatibility. Expected 216, got 192\n",
            "  return f(*args, **kwds)\n"
          ],
          "name": "stderr"
        },
        {
          "output_type": "stream",
          "text": [
            "Loading data for meter ElecMeterID(instance=2, building=1, dataset='REDD')     \n",
            "Done loading data all meters for this chunk.\n"
          ],
          "name": "stdout"
        },
        {
          "output_type": "stream",
          "text": [
            "WARNING: Logging before flag parsing goes to stderr.\n",
            "W0628 00:33:47.864753 140641031100288 deprecation_wrapper.py:119] From /usr/local/lib/python3.6/dist-packages/keras/backend/tensorflow_backend.py:74: The name tf.get_default_graph is deprecated. Please use tf.compat.v1.get_default_graph instead.\n",
            "\n",
            "W0628 00:33:47.896900 140641031100288 deprecation_wrapper.py:119] From /usr/local/lib/python3.6/dist-packages/keras/backend/tensorflow_backend.py:517: The name tf.placeholder is deprecated. Please use tf.compat.v1.placeholder instead.\n",
            "\n",
            "W0628 00:33:47.905397 140641031100288 deprecation_wrapper.py:119] From /usr/local/lib/python3.6/dist-packages/keras/backend/tensorflow_backend.py:4138: The name tf.random_uniform is deprecated. Please use tf.random.uniform instead.\n",
            "\n",
            "W0628 00:33:47.940374 140641031100288 deprecation_wrapper.py:119] From /usr/local/lib/python3.6/dist-packages/keras/backend/tensorflow_backend.py:133: The name tf.placeholder_with_default is deprecated. Please use tf.compat.v1.placeholder_with_default instead.\n",
            "\n",
            "W0628 00:33:47.951288 140641031100288 deprecation.py:506] From /usr/local/lib/python3.6/dist-packages/keras/backend/tensorflow_backend.py:3445: calling dropout (from tensorflow.python.ops.nn_ops) with keep_prob is deprecated and will be removed in a future version.\n",
            "Instructions for updating:\n",
            "Please use `rate` instead of `keep_prob`. Rate should be set to `rate = 1 - keep_prob`.\n",
            "W0628 00:33:48.159623 140641031100288 deprecation_wrapper.py:119] From /usr/local/lib/python3.6/dist-packages/keras/optimizers.py:790: The name tf.train.Optimizer is deprecated. Please use tf.compat.v1.train.Optimizer instead.\n",
            "\n"
          ],
          "name": "stderr"
        },
        {
          "output_type": "stream",
          "text": [
            "_________________________________________________________________\n",
            "Layer (type)                 Output Shape              Param #   \n",
            "=================================================================\n",
            "conv1d_1 (Conv1D)            (None, 50, 30)            330       \n",
            "_________________________________________________________________\n",
            "dropout_1 (Dropout)          (None, 50, 30)            0         \n",
            "_________________________________________________________________\n",
            "conv1d_2 (Conv1D)            (None, 50, 30)            7230      \n",
            "_________________________________________________________________\n",
            "dropout_2 (Dropout)          (None, 50, 30)            0         \n",
            "_________________________________________________________________\n",
            "conv1d_3 (Conv1D)            (None, 50, 40)            7240      \n",
            "_________________________________________________________________\n",
            "dropout_3 (Dropout)          (None, 50, 40)            0         \n",
            "_________________________________________________________________\n",
            "conv1d_4 (Conv1D)            (None, 50, 50)            10050     \n",
            "_________________________________________________________________\n",
            "dropout_4 (Dropout)          (None, 50, 50)            0         \n",
            "_________________________________________________________________\n",
            "conv1d_5 (Conv1D)            (None, 50, 50)            12550     \n",
            "_________________________________________________________________\n",
            "dropout_5 (Dropout)          (None, 50, 50)            0         \n",
            "_________________________________________________________________\n",
            "flatten_1 (Flatten)          (None, 2500)              0         \n",
            "_________________________________________________________________\n",
            "dense_1 (Dense)              (None, 1024)              2561024   \n",
            "_________________________________________________________________\n",
            "dropout_6 (Dropout)          (None, 1024)              0         \n",
            "_________________________________________________________________\n",
            "dense_2 (Dense)              (None, 1)                 1025      \n",
            "=================================================================\n",
            "Total params: 2,599,449\n",
            "Trainable params: 2,599,449\n",
            "Non-trainable params: 0\n",
            "_________________________________________________________________\n",
            "None\n",
            "*********Training*********\n"
          ],
          "name": "stdout"
        },
        {
          "output_type": "stream",
          "text": [
            "W0628 00:33:48.577791 140641031100288 deprecation_wrapper.py:119] From /usr/local/lib/python3.6/dist-packages/keras/backend/tensorflow_backend.py:986: The name tf.assign_add is deprecated. Please use tf.compat.v1.assign_add instead.\n",
            "\n"
          ],
          "name": "stderr"
        },
        {
          "output_type": "stream",
          "text": [
            "Epoch 1/2\n"
          ],
          "name": "stdout"
        },
        {
          "output_type": "stream",
          "text": [
            "/usr/local/lib/python3.6/dist-packages/keras/engine/training_generator.py:47: UserWarning: Using a generator with `use_multiprocessing=True` and multiple workers may duplicate your data. Please consider using the`keras.utils.Sequence class.\n",
            "  UserWarning('Using a generator with `use_multiprocessing=True`'\n",
            "/usr/local/lib/python3.6/dist-packages/keras/utils/data_utils.py:651: DeprecationWarning: `wait_time` is not used anymore.\n",
            "  DeprecationWarning)\n"
          ],
          "name": "stderr"
        },
        {
          "output_type": "stream",
          "text": [
            "1958/1958 [==============================] - 35s 18ms/step - loss: 0.0634\n",
            "Epoch 2/2\n",
            "  13/1958 [..............................] - ETA: 27s - loss: 0.0221"
          ],
          "name": "stdout"
        },
        {
          "output_type": "stream",
          "text": [
            "/usr/local/lib/python3.6/dist-packages/keras/callbacks.py:434: RuntimeWarning: Can save best model only with val_loss available, skipping.\n",
            "  'skipping.' % (self.monitor), RuntimeWarning)\n"
          ],
          "name": "stderr"
        },
        {
          "output_type": "stream",
          "text": [
            "1958/1958 [==============================] - 28s 14ms/step - loss: 0.0465\n",
            "### Total trainning time cost: 64.66111755371094 ###\n",
            "Loading data for meter ElecMeterID(instance=1, building=1, dataset='REDD')     "
          ],
          "name": "stdout"
        },
        {
          "output_type": "stream",
          "text": [
            "/usr/local/lib/python3.6/dist-packages/nilmtk/metergroup.py:922: UserWarning: As a quick implementation we only get Good Sections from the first meter in the meter group.  We should really return the intersection of the good sections for all meters.  This will be fixed...\n",
            "  warn(\"As a quick implementation we only get Good Sections from\"\n"
          ],
          "name": "stderr"
        },
        {
          "output_type": "stream",
          "text": [
            "\rLoading data for meter ElecMeterID(instance=2, building=1, dataset='REDD')     \n",
            "Done loading data all meters for this chunk.\n",
            "New sensible chunk: 121482\n",
            "Loading data for meter ElecMeterID(instance=2, building=1, dataset='REDD')     \n",
            "Done loading data all meters for this chunk.\n",
            "New sensible chunk: 112661\n",
            "Loading data for meter ElecMeterID(instance=2, building=1, dataset='REDD')     \n",
            "Done loading data all meters for this chunk.\n",
            "New sensible chunk: 87770\n",
            "Loading data for meter ElecMeterID(instance=2, building=1, dataset='REDD')     \n",
            "Done loading data all meters for this chunk.\n",
            "New sensible chunk: 55\n",
            "========== RESULTS ============\n"
          ],
          "name": "stdout"
        },
        {
          "output_type": "stream",
          "text": [
            "/usr/local/lib/python3.6/dist-packages/nilmtk/datastore/hdfdatastore.py:135: UserWarning: Pandas doesn't allow columns to be created via a new attribute name - see https://pandas.pydata.org/pandas-docs/stable/indexing.html#attribute-access\n",
            "  setattr(data, 'look_ahead', look_ahead)\n"
          ],
          "name": "stderr"
        },
        {
          "output_type": "stream",
          "text": [
            "============ Recall: 1.0\n",
            "============ Precision: 0.8041850678915848\n",
            "============ Accuracy: 0.8041850678915848\n",
            "============ F1 Score: 0.891466271618549\n",
            "============ Relative error in total energy: 0.9296545127935779\n",
            "============ Mean absolute error(in Watts): 186.91297942895858\n",
            "\n",
            "tp=0.0\n",
            "fn=113757.0\n",
            "0.0\n",
            "tp=0.0\n",
            "fp=0.0\n",
            "0.0\n",
            "F1:0.0\n",
            "Mean absolute error(in Watts):149.8360137939453\n",
            "Relative error:0.19558514654636383\n"
          ],
          "name": "stdout"
        }
      ]
    },
    {
      "cell_type": "code",
      "metadata": {
        "id": "1Kr26FylpM3A",
        "colab_type": "code",
        "colab": {
          "base_uri": "https://localhost:8080/",
          "height": 268
        },
        "outputId": "d8cba46b-666e-4558-a35f-2ada6b54dfd6"
      },
      "source": [
        "result = DataSet(disag_filename)\n",
        "res_elec = result.buildings[1].elec\n",
        "predicted = res_elec['fridge']\n",
        "ground_truth = test_meterlist\n",
        "\n",
        "import matplotlib.pyplot as plt\n",
        "predicted.plot()\n",
        "ground_truth.plot()\n",
        "plt.show()"
      ],
      "execution_count": 12,
      "outputs": [
        {
          "output_type": "display_data",
          "data": {
            "image/png": "[encoded data removed]",
            "text/plain": [
              "<Figure size 432x288 with 1 Axes>"
            ]
          },
          "metadata": {
            "tags": []
          }
        }
      ]
    },
    {
      "cell_type": "code",
      "metadata": {
        "id": "M8v5TxSpUNBv",
        "colab_type": "code",
        "colab": {
          "base_uri": "https://localhost:8080/",
          "height": 659
        },
        "outputId": "8ffc0273-896c-4fb4-fc12-bae8faea36f8"
      },
      "source": [
        "#Define the training intervals for each house\n",
        "window_per_house = {1: (None, \"30-4-2011\"), \n",
        "                2: (\"2013-04-16\", \"2013-10-10\"), \n",
        "                3: ('2013-02-27' , '2013-04-08 '), \n",
        "                4: (\"2013-03-09\", \"2013-10-01\"), \n",
        "                5: (\"2014-06-29\", None)}\n",
        "\n",
        "\n",
        "test_window = {1: ('25-4-2011', '30-4-2011')}\n",
        "\n",
        "\n",
        "num_epochs = 2\n",
        "# =====Load Dataset======\n",
        "train_meterlist, train_mainlist, test_meterlist, test_mainlist = load_dataset(window_per_house,test_window, **info)\n",
        "\n",
        "train_x, train_y = data_processing(train_mainlist, train_meterlist, window_size=params['window_size'])\n",
        "\n",
        "disaggregator = NeuralDisaggregator(model, name = params['model_name'],batch_size = params['batch_size'], window_size = params['window_size'])\n",
        "disag_filename = \"disag-out2.h5\"\n",
        "output = HDFDataStore(disag_filename, 'w')\n",
        "disaggregator.disaggregate(test_mainlist, output, test_meterlist, sample_period = info['sample_period'])\n",
        "output.close()\n",
        "\n",
        "\n",
        "print(\"========== RESULTS ============\")\n",
        "meter_key = info['meter_label']\n",
        "result = DataSet(disag_filename)\n",
        "res_elec = result.buildings[info['test_building']].elec\n",
        "#print(test_meterlist.power_series_all_data())\n",
        "#print(res_elec[meter_key].power_series_all_data())\n",
        "rpaf = metrics.recall_precision_accuracy_f1(res_elec[meter_key], test_meterlist)\n",
        "print(\"============ Recall: {}\".format(rpaf[0]))\n",
        "print(\"============ Precision: {}\".format(rpaf[1]))\n",
        "print(\"============ Accuracy: {}\".format(rpaf[2]))\n",
        "print(\"============ F1 Score: {}\".format(rpaf[3]))\n",
        "\n",
        "print(\"============ Relative error in total energy: {}\".format(metrics.relative_error_total_energy(res_elec[meter_key], test_meterlist)))\n",
        "print(\"============ Mean absolute error(in Watts): {}\".format(metrics.mean_absolute_error(res_elec[meter_key], test_meterlist)))\n",
        "\n",
        "\n",
        "aligned_meters = align_two_meters(res_elec[meter_key], test_meterlist)\n",
        "#threshold = ground.on_power_threshold()\n",
        "meters = next(aligned_meters)\n",
        "threshold = 10\n",
        "predict = meters['master']\n",
        "ground = meters['slave']\n",
        "print()\n",
        "print('F1:{0}'.format(nm.get_F1(ground, predict, threshold)))\n",
        "print('Mean absolute error(in Watts):{0}'.format(nm.get_abs_error(ground, predict)))\n",
        "print('Relative error:{0}'.format(nm.get_relative_error(ground, predict)))"
      ],
      "execution_count": 13,
      "outputs": [
        {
          "output_type": "stream",
          "text": [
            "Loading data for meter ElecMeterID(instance=2, building=1, dataset='REDD')     \n",
            "Done loading data all meters for this chunk.\n",
            "Loading data for meter ElecMeterID(instance=1, building=1, dataset='REDD')     "
          ],
          "name": "stdout"
        },
        {
          "output_type": "stream",
          "text": [
            "/usr/local/lib/python3.6/dist-packages/nilmtk/metergroup.py:922: UserWarning: As a quick implementation we only get Good Sections from the first meter in the meter group.  We should really return the intersection of the good sections for all meters.  This will be fixed...\n",
            "  warn(\"As a quick implementation we only get Good Sections from\"\n"
          ],
          "name": "stderr"
        },
        {
          "output_type": "stream",
          "text": [
            "\rLoading data for meter ElecMeterID(instance=2, building=1, dataset='REDD')     \n",
            "Done loading data all meters for this chunk.\n",
            "New sensible chunk: 183019\n",
            "Loading data for meter ElecMeterID(instance=2, building=1, dataset='REDD')     \n",
            "Done loading data all meters for this chunk.\n",
            "New sensible chunk: 1573\n",
            "Loading data for meter ElecMeterID(instance=2, building=1, dataset='REDD')     \n",
            "Done loading data all meters for this chunk.\n",
            "New sensible chunk: 95792\n",
            "Loading data for meter ElecMeterID(instance=2, building=1, dataset='REDD')     \n",
            "Done loading data all meters for this chunk.\n",
            "New sensible chunk: 2966\n",
            "========== RESULTS ============\n"
          ],
          "name": "stdout"
        },
        {
          "output_type": "stream",
          "text": [
            "/usr/local/lib/python3.6/dist-packages/nilmtk/datastore/hdfdatastore.py:135: UserWarning: Pandas doesn't allow columns to be created via a new attribute name - see https://pandas.pydata.org/pandas-docs/stable/indexing.html#attribute-access\n",
            "  setattr(data, 'look_ahead', look_ahead)\n"
          ],
          "name": "stderr"
        },
        {
          "output_type": "stream",
          "text": [
            "============ Recall: 1.0\n",
            "============ Precision: 0.8077562855155024\n",
            "============ Accuracy: 0.8077562855155024\n",
            "============ F1 Score: 0.8936561769831286\n",
            "============ Relative error in total energy: 0.926921324664225\n",
            "============ Mean absolute error(in Watts): 186.48990114815064\n",
            "\n",
            "tp=0.0\n",
            "fn=170158.0\n",
            "0.0\n",
            "tp=0.0\n",
            "fp=0.0\n",
            "0.0\n",
            "F1:0.0\n",
            "Mean absolute error(in Watts):146.7462921142578\n",
            "Relative error:0.18835484981536865\n"
          ],
          "name": "stdout"
        }
      ]
    },
    {
      "cell_type": "code",
      "metadata": {
        "id": "kFW9FgownX-a",
        "colab_type": "code",
        "colab": {
          "base_uri": "https://localhost:8080/",
          "height": 268
        },
        "outputId": "b00c4fe5-e519-420f-b436-c32cb364ee03"
      },
      "source": [
        "result = DataSet(disag_filename)\n",
        "res_elec = result.buildings[1].elec\n",
        "predicted = res_elec['fridge']\n",
        "ground_truth = test_meterlist\n",
        "\n",
        "import matplotlib.pyplot as plt\n",
        "predicted.plot()\n",
        "ground_truth.plot()\n",
        "plt.show()"
      ],
      "execution_count": 14,
      "outputs": [
        {
          "output_type": "display_data",
          "data": {
            "image/png": "[encoded data removed]",
            "text/plain": [
              "<Figure size 432x288 with 1 Axes>"
            ]
          },
          "metadata": {
            "tags": []
          }
        }
      ]
    },
    {
      "cell_type": "code",
      "metadata": {
        "id": "qTOZY-1htq4F",
        "colab_type": "code",
        "colab": {
          "base_uri": "https://localhost:8080/",
          "height": 35
        },
        "outputId": "92621ed3-ee12-4655-8bc8-0439918e3dd9"
      },
      "source": [
        "np.max(train_mainlist[0])"
      ],
      "execution_count": 15,
      "outputs": [
        {
          "output_type": "execute_result",
          "data": {
            "text/plain": [
              "7629.0703"
            ]
          },
          "metadata": {
            "tags": []
          },
          "execution_count": 15
        }
      ]
    },
    {
      "cell_type": "code",
      "metadata": {
        "id": "4RxYpdwMv-PT",
        "colab_type": "code",
        "colab": {
          "base_uri": "https://localhost:8080/",
          "height": 285
        },
        "outputId": "2b2cc8b7-0fcc-4d7a-b65a-75fd2e0e8da3"
      },
      "source": [
        "predicted.plot()"
      ],
      "execution_count": 16,
      "outputs": [
        {
          "output_type": "execute_result",
          "data": {
            "text/plain": [
              "<matplotlib.axes._subplots.AxesSubplot at 0x7fe920275048>"
            ]
          },
          "metadata": {
            "tags": []
          },
          "execution_count": 16
        },
        {
          "output_type": "display_data",
          "data": {
            "image/png": "[encoded data removed]",
            "text/plain": [
              "<Figure size 432x288 with 1 Axes>"
            ]
          },
          "metadata": {
            "tags": []
          }
        }
      ]
    },
    {
      "cell_type": "code",
      "metadata": {
        "id": "Hm5NGCWg4mod",
        "colab_type": "code",
        "colab": {
          "base_uri": "https://localhost:8080/",
          "height": 1000
        },
        "outputId": "3ec5784c-51d3-4730-8eae-444e6bb561f3"
      },
      "source": [
        "res_elec[meter_key].power_series_all_data()"
      ],
      "execution_count": 17,
      "outputs": [
        {
          "output_type": "execute_result",
          "data": {
            "text/plain": [
              "2011-04-25 00:00:49-04:00    200.0\n",
              "2011-04-25 00:00:50-04:00    200.0\n",
              "2011-04-25 00:00:51-04:00    200.0\n",
              "2011-04-25 00:00:52-04:00    200.0\n",
              "2011-04-25 00:00:53-04:00    200.0\n",
              "2011-04-25 00:00:54-04:00    200.0\n",
              "2011-04-25 00:00:55-04:00    200.0\n",
              "2011-04-25 00:00:56-04:00    200.0\n",
              "2011-04-25 00:00:57-04:00    200.0\n",
              "2011-04-25 00:00:58-04:00    200.0\n",
              "2011-04-25 00:00:59-04:00    200.0\n",
              "2011-04-25 00:01:00-04:00    200.0\n",
              "2011-04-25 00:01:01-04:00    200.0\n",
              "2011-04-25 00:01:02-04:00    200.0\n",
              "2011-04-25 00:01:03-04:00    200.0\n",
              "2011-04-25 00:01:04-04:00    200.0\n",
              "2011-04-25 00:01:05-04:00    200.0\n",
              "2011-04-25 00:01:06-04:00    200.0\n",
              "2011-04-25 00:01:07-04:00    200.0\n",
              "2011-04-25 00:01:08-04:00    200.0\n",
              "2011-04-25 00:01:09-04:00    200.0\n",
              "2011-04-25 00:01:10-04:00    200.0\n",
              "2011-04-25 00:01:11-04:00    200.0\n",
              "2011-04-25 00:01:12-04:00    200.0\n",
              "2011-04-25 00:01:13-04:00    200.0\n",
              "2011-04-25 00:01:14-04:00    200.0\n",
              "2011-04-25 00:01:15-04:00    200.0\n",
              "2011-04-25 00:01:16-04:00    200.0\n",
              "2011-04-25 00:01:17-04:00    200.0\n",
              "2011-04-25 00:01:18-04:00    200.0\n",
              "                             ...  \n",
              "2011-04-29 23:59:30-04:00    200.0\n",
              "2011-04-29 23:59:31-04:00    200.0\n",
              "2011-04-29 23:59:32-04:00    200.0\n",
              "2011-04-29 23:59:33-04:00    200.0\n",
              "2011-04-29 23:59:34-04:00    200.0\n",
              "2011-04-29 23:59:35-04:00    200.0\n",
              "2011-04-29 23:59:36-04:00    200.0\n",
              "2011-04-29 23:59:37-04:00    200.0\n",
              "2011-04-29 23:59:38-04:00    200.0\n",
              "2011-04-29 23:59:39-04:00    200.0\n",
              "2011-04-29 23:59:40-04:00    200.0\n",
              "2011-04-29 23:59:41-04:00    200.0\n",
              "2011-04-29 23:59:42-04:00    200.0\n",
              "2011-04-29 23:59:43-04:00    200.0\n",
              "2011-04-29 23:59:44-04:00    200.0\n",
              "2011-04-29 23:59:45-04:00    200.0\n",
              "2011-04-29 23:59:46-04:00    200.0\n",
              "2011-04-29 23:59:47-04:00    200.0\n",
              "2011-04-29 23:59:48-04:00    200.0\n",
              "2011-04-29 23:59:49-04:00    200.0\n",
              "2011-04-29 23:59:50-04:00    200.0\n",
              "2011-04-29 23:59:51-04:00    200.0\n",
              "2011-04-29 23:59:52-04:00    200.0\n",
              "2011-04-29 23:59:53-04:00    200.0\n",
              "2011-04-29 23:59:54-04:00    200.0\n",
              "2011-04-29 23:59:55-04:00    200.0\n",
              "2011-04-29 23:59:56-04:00    200.0\n",
              "2011-04-29 23:59:57-04:00    200.0\n",
              "2011-04-29 23:59:58-04:00    200.0\n",
              "2011-04-29 23:59:59-04:00    200.0\n",
              "Name: (power, apparent), Length: 283154, dtype: float32"
            ]
          },
          "metadata": {
            "tags": []
          },
          "execution_count": 17
        }
      ]
    },
    {
      "cell_type": "code",
      "metadata": {
        "id": "Yt3SATc6ew1J",
        "colab_type": "code",
        "colab": {}
      },
      "source": [
        ""
      ],
      "execution_count": 0,
      "outputs": []
    }
  ]
}
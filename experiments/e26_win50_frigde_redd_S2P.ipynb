{
  "nbformat": 4,
  "nbformat_minor": 0,
  "metadata": {
    "colab": {
      "name": "e18_win50_frigde_redd_S2P.ipynb",
      "version": "0.3.2",
      "provenance": [],
      "collapsed_sections": [],
      "toc_visible": true
    },
    "kernelspec": {
      "name": "python3",
      "display_name": "Python 3"
    },
    "accelerator": "GPU"
  },
  "cells": [
    {
      "cell_type": "code",
      "metadata": {
        "id": "Gz9jitiMmFkE",
        "colab_type": "code",
        "outputId": "2457ed97-7b9f-458a-861a-69b302e3ce31",
        "colab": {
          "base_uri": "https://localhost:8080/",
          "height": 35
        }
      },
      "source": [
        "'''\n",
        "Model: GRU \n",
        "Aplpiance: fridge\n",
        "Data: Redd\n",
        "\n",
        "Method:S2P\n",
        "Normalization: no norm\n",
        "batch_size: 128,\n",
        "window_size: 50\n",
        "shuffle: True\n",
        "\n",
        "num epochs=8\n",
        "'''"
      ],
      "execution_count": 2,
      "outputs": [
        {
          "output_type": "execute_result",
          "data": {
            "text/plain": [
              "'\\nModel: GRU \\nAplpiance: fridge\\nData: Redd\\n\\nMethod:S2P\\nNormalization: no norm\\nbatch_size: 128,\\nwindow_size: 50\\nshuffle: True\\n\\nnum epochs=8\\n'"
            ]
          },
          "metadata": {
            "tags": []
          },
          "execution_count": 2
        }
      ]
    },
    {
      "cell_type": "code",
      "metadata": {
        "id": "ObzzZOy1zAzo",
        "colab_type": "code",
        "outputId": "c823f970-7fb5-4682-f584-278560946768",
        "colab": {
          "base_uri": "https://localhost:8080/",
          "height": 126
        }
      },
      "source": [
        "from google.colab import drive\n",
        "drive.mount('/content/drive')\n",
        "import sys\n",
        "sys.path.insert(0,'drive/My Drive/Dissertation')"
      ],
      "execution_count": 1,
      "outputs": [
        {
          "output_type": "stream",
          "text": [
            "Go to this URL in a browser: https://accounts.google.com/o/oauth2/auth?client_id=947318989803-6bn6qk8qdgf4n4g3pfee6491hc0brc4i.apps.googleusercontent.com&redirect_uri=urn%3Aietf%3Awg%3Aoauth%3A2.0%3Aoob&scope=email%20https%3A%2F%2Fwww.googleapis.com%2Fauth%2Fdocs.test%20https%3A%2F%2Fwww.googleapis.com%2Fauth%2Fdrive%20https%3A%2F%2Fwww.googleapis.com%2Fauth%2Fdrive.photos.readonly%20https%3A%2F%2Fwww.googleapis.com%2Fauth%2Fpeopleapi.readonly&response_type=code\n",
            "\n",
            "Enter your authorization code:\n",
            "··········\n",
            "Mounted at /content/drive\n"
          ],
          "name": "stdout"
        }
      ]
    },
    {
      "cell_type": "code",
      "metadata": {
        "id": "amHn1qgwzEI2",
        "colab_type": "code",
        "outputId": "50aa3c96-3983-468b-f045-9cd4b2492736",
        "colab": {
          "base_uri": "https://localhost:8080/",
          "height": 1000
        }
      },
      "source": [
        "pip install git+git://github.com/nilmtk/nilmtk.git"
      ],
      "execution_count": 2,
      "outputs": [
        {
          "output_type": "stream",
          "text": [
            "Collecting git+git://github.com/nilmtk/nilmtk.git\n",
            "  Cloning git://github.com/nilmtk/nilmtk.git to /tmp/pip-req-build-fg4vpmn9\n",
            "  Running command git clone -q git://github.com/nilmtk/nilmtk.git /tmp/pip-req-build-fg4vpmn9\n",
            "Requirement already satisfied: future in /usr/local/lib/python3.6/dist-packages (from nilmtk==0.3.0.dev0+git.2f15ab7) (0.16.0)\n",
            "Requirement already satisfied: six in /usr/local/lib/python3.6/dist-packages (from nilmtk==0.3.0.dev0+git.2f15ab7) (1.12.0)\n",
            "Collecting psycopg2-binary (from nilmtk==0.3.0.dev0+git.2f15ab7)\n",
            "\u001b[?25l  Downloading https://files.pythonhosted.org/packages/b1/35/75c9c2d9cfc073ab6c42b2d8e91ff58c9b99f4ed7ed56b36647642e6080e/psycopg2_binary-2.8.3-cp36-cp36m-manylinux1_x86_64.whl (2.9MB)\n",
            "\u001b[K     |████████████████████████████████| 2.9MB 45.6MB/s \n",
            "\u001b[?25hRequirement already satisfied: pandas==0.24.2 in /usr/local/lib/python3.6/dist-packages (from nilmtk==0.3.0.dev0+git.2f15ab7) (0.24.2)\n",
            "Collecting networkx==2.1 (from nilmtk==0.3.0.dev0+git.2f15ab7)\n",
            "\u001b[?25l  Downloading https://files.pythonhosted.org/packages/11/42/f951cc6838a4dff6ce57211c4d7f8444809ccbe2134179950301e5c4c83c/networkx-2.1.zip (1.6MB)\n",
            "\u001b[K     |████████████████████████████████| 1.6MB 49.7MB/s \n",
            "\u001b[?25hRequirement already satisfied: scipy in /usr/local/lib/python3.6/dist-packages (from nilmtk==0.3.0.dev0+git.2f15ab7) (1.3.0)\n",
            "Requirement already satisfied: tables in /usr/local/lib/python3.6/dist-packages (from nilmtk==0.3.0.dev0+git.2f15ab7) (3.4.4)\n",
            "Requirement already satisfied: scikit-learn>=0.21.2 in /usr/local/lib/python3.6/dist-packages (from nilmtk==0.3.0.dev0+git.2f15ab7) (0.21.2)\n",
            "Collecting hmmlearn>=0.2.1 (from nilmtk==0.3.0.dev0+git.2f15ab7)\n",
            "\u001b[?25l  Downloading https://files.pythonhosted.org/packages/d7/c5/91b43156b193d180ed94069269bcf88d3c7c6e54514a8482050fa9995e10/hmmlearn-0.2.2.tar.gz (146kB)\n",
            "\u001b[K     |████████████████████████████████| 153kB 50.9MB/s \n",
            "\u001b[?25hRequirement already satisfied: pyyaml in /usr/local/lib/python3.6/dist-packages (from nilmtk==0.3.0.dev0+git.2f15ab7) (3.13)\n",
            "Requirement already satisfied: matplotlib>=2.2.0 in /usr/local/lib/python3.6/dist-packages (from nilmtk==0.3.0.dev0+git.2f15ab7) (3.0.3)\n",
            "Requirement already satisfied: jupyter in /usr/local/lib/python3.6/dist-packages (from nilmtk==0.3.0.dev0+git.2f15ab7) (1.0.0)\n",
            "Requirement already satisfied: pytz>=2011k in /usr/local/lib/python3.6/dist-packages (from pandas==0.24.2->nilmtk==0.3.0.dev0+git.2f15ab7) (2018.9)\n",
            "Requirement already satisfied: numpy>=1.12.0 in /usr/local/lib/python3.6/dist-packages (from pandas==0.24.2->nilmtk==0.3.0.dev0+git.2f15ab7) (1.16.4)\n",
            "Requirement already satisfied: python-dateutil>=2.5.0 in /usr/local/lib/python3.6/dist-packages (from pandas==0.24.2->nilmtk==0.3.0.dev0+git.2f15ab7) (2.5.3)\n",
            "Requirement already satisfied: decorator>=4.1.0 in /usr/local/lib/python3.6/dist-packages (from networkx==2.1->nilmtk==0.3.0.dev0+git.2f15ab7) (4.4.0)\n",
            "Requirement already satisfied: numexpr>=2.5.2 in /usr/local/lib/python3.6/dist-packages (from tables->nilmtk==0.3.0.dev0+git.2f15ab7) (2.6.9)\n",
            "Requirement already satisfied: joblib>=0.11 in /usr/local/lib/python3.6/dist-packages (from scikit-learn>=0.21.2->nilmtk==0.3.0.dev0+git.2f15ab7) (0.13.2)\n",
            "Requirement already satisfied: pyparsing!=2.0.4,!=2.1.2,!=2.1.6,>=2.0.1 in /usr/local/lib/python3.6/dist-packages (from matplotlib>=2.2.0->nilmtk==0.3.0.dev0+git.2f15ab7) (2.4.0)\n",
            "Requirement already satisfied: cycler>=0.10 in /usr/local/lib/python3.6/dist-packages (from matplotlib>=2.2.0->nilmtk==0.3.0.dev0+git.2f15ab7) (0.10.0)\n",
            "Requirement already satisfied: kiwisolver>=1.0.1 in /usr/local/lib/python3.6/dist-packages (from matplotlib>=2.2.0->nilmtk==0.3.0.dev0+git.2f15ab7) (1.1.0)\n",
            "Requirement already satisfied: jupyter-console in /usr/local/lib/python3.6/dist-packages (from jupyter->nilmtk==0.3.0.dev0+git.2f15ab7) (6.0.0)\n",
            "Requirement already satisfied: nbconvert in /usr/local/lib/python3.6/dist-packages (from jupyter->nilmtk==0.3.0.dev0+git.2f15ab7) (5.5.0)\n",
            "Requirement already satisfied: ipykernel in /usr/local/lib/python3.6/dist-packages (from jupyter->nilmtk==0.3.0.dev0+git.2f15ab7) (4.6.1)\n",
            "Requirement already satisfied: notebook in /usr/local/lib/python3.6/dist-packages (from jupyter->nilmtk==0.3.0.dev0+git.2f15ab7) (5.2.2)\n",
            "Requirement already satisfied: ipywidgets in /usr/local/lib/python3.6/dist-packages (from jupyter->nilmtk==0.3.0.dev0+git.2f15ab7) (7.4.2)\n",
            "Requirement already satisfied: qtconsole in /usr/local/lib/python3.6/dist-packages (from jupyter->nilmtk==0.3.0.dev0+git.2f15ab7) (4.5.1)\n",
            "Requirement already satisfied: setuptools in /usr/local/lib/python3.6/dist-packages (from kiwisolver>=1.0.1->matplotlib>=2.2.0->nilmtk==0.3.0.dev0+git.2f15ab7) (41.0.1)\n",
            "Requirement already satisfied: jupyter-client in /usr/local/lib/python3.6/dist-packages (from jupyter-console->jupyter->nilmtk==0.3.0.dev0+git.2f15ab7) (5.2.4)\n",
            "Collecting prompt-toolkit<2.1.0,>=2.0.0 (from jupyter-console->jupyter->nilmtk==0.3.0.dev0+git.2f15ab7)\n",
            "\u001b[?25l  Downloading https://files.pythonhosted.org/packages/f7/a7/9b1dd14ef45345f186ef69d175bdd2491c40ab1dfa4b2b3e4352df719ed7/prompt_toolkit-2.0.9-py3-none-any.whl (337kB)\n",
            "\u001b[K     |████████████████████████████████| 337kB 22.0MB/s \n",
            "\u001b[?25hRequirement already satisfied: ipython in /usr/local/lib/python3.6/dist-packages (from jupyter-console->jupyter->nilmtk==0.3.0.dev0+git.2f15ab7) (5.5.0)\n",
            "Requirement already satisfied: pygments in /usr/local/lib/python3.6/dist-packages (from jupyter-console->jupyter->nilmtk==0.3.0.dev0+git.2f15ab7) (2.1.3)\n",
            "Requirement already satisfied: mistune>=0.8.1 in /usr/local/lib/python3.6/dist-packages (from nbconvert->jupyter->nilmtk==0.3.0.dev0+git.2f15ab7) (0.8.4)\n",
            "Requirement already satisfied: jupyter-core in /usr/local/lib/python3.6/dist-packages (from nbconvert->jupyter->nilmtk==0.3.0.dev0+git.2f15ab7) (4.5.0)\n",
            "Requirement already satisfied: bleach in /usr/local/lib/python3.6/dist-packages (from nbconvert->jupyter->nilmtk==0.3.0.dev0+git.2f15ab7) (3.1.0)\n",
            "Requirement already satisfied: traitlets>=4.2 in /usr/local/lib/python3.6/dist-packages (from nbconvert->jupyter->nilmtk==0.3.0.dev0+git.2f15ab7) (4.3.2)\n",
            "Requirement already satisfied: nbformat>=4.4 in /usr/local/lib/python3.6/dist-packages (from nbconvert->jupyter->nilmtk==0.3.0.dev0+git.2f15ab7) (4.4.0)\n",
            "Requirement already satisfied: jinja2>=2.4 in /usr/local/lib/python3.6/dist-packages (from nbconvert->jupyter->nilmtk==0.3.0.dev0+git.2f15ab7) (2.10.1)\n",
            "Requirement already satisfied: pandocfilters>=1.4.1 in /usr/local/lib/python3.6/dist-packages (from nbconvert->jupyter->nilmtk==0.3.0.dev0+git.2f15ab7) (1.4.2)\n",
            "Requirement already satisfied: defusedxml in /usr/local/lib/python3.6/dist-packages (from nbconvert->jupyter->nilmtk==0.3.0.dev0+git.2f15ab7) (0.6.0)\n",
            "Requirement already satisfied: testpath in /usr/local/lib/python3.6/dist-packages (from nbconvert->jupyter->nilmtk==0.3.0.dev0+git.2f15ab7) (0.4.2)\n",
            "Requirement already satisfied: entrypoints>=0.2.2 in /usr/local/lib/python3.6/dist-packages (from nbconvert->jupyter->nilmtk==0.3.0.dev0+git.2f15ab7) (0.3)\n",
            "Requirement already satisfied: tornado>=4.0 in /usr/local/lib/python3.6/dist-packages (from ipykernel->jupyter->nilmtk==0.3.0.dev0+git.2f15ab7) (4.5.3)\n",
            "Requirement already satisfied: terminado>=0.3.3; sys_platform != \"win32\" in /usr/local/lib/python3.6/dist-packages (from notebook->jupyter->nilmtk==0.3.0.dev0+git.2f15ab7) (0.8.2)\n",
            "Requirement already satisfied: ipython-genutils in /usr/local/lib/python3.6/dist-packages (from notebook->jupyter->nilmtk==0.3.0.dev0+git.2f15ab7) (0.2.0)\n",
            "Requirement already satisfied: widgetsnbextension~=3.4.0 in /usr/local/lib/python3.6/dist-packages (from ipywidgets->jupyter->nilmtk==0.3.0.dev0+git.2f15ab7) (3.4.2)\n",
            "Requirement already satisfied: pyzmq>=13 in /usr/local/lib/python3.6/dist-packages (from jupyter-client->jupyter-console->jupyter->nilmtk==0.3.0.dev0+git.2f15ab7) (17.0.0)\n",
            "Requirement already satisfied: wcwidth in /usr/local/lib/python3.6/dist-packages (from prompt-toolkit<2.1.0,>=2.0.0->jupyter-console->jupyter->nilmtk==0.3.0.dev0+git.2f15ab7) (0.1.7)\n",
            "Requirement already satisfied: pickleshare in /usr/local/lib/python3.6/dist-packages (from ipython->jupyter-console->jupyter->nilmtk==0.3.0.dev0+git.2f15ab7) (0.7.5)\n",
            "Requirement already satisfied: pexpect; sys_platform != \"win32\" in /usr/local/lib/python3.6/dist-packages (from ipython->jupyter-console->jupyter->nilmtk==0.3.0.dev0+git.2f15ab7) (4.7.0)\n",
            "Requirement already satisfied: simplegeneric>0.8 in /usr/local/lib/python3.6/dist-packages (from ipython->jupyter-console->jupyter->nilmtk==0.3.0.dev0+git.2f15ab7) (0.8.1)\n",
            "Requirement already satisfied: webencodings in /usr/local/lib/python3.6/dist-packages (from bleach->nbconvert->jupyter->nilmtk==0.3.0.dev0+git.2f15ab7) (0.5.1)\n",
            "Requirement already satisfied: jsonschema!=2.5.0,>=2.4 in /usr/local/lib/python3.6/dist-packages (from nbformat>=4.4->nbconvert->jupyter->nilmtk==0.3.0.dev0+git.2f15ab7) (2.6.0)\n",
            "Requirement already satisfied: MarkupSafe>=0.23 in /usr/local/lib/python3.6/dist-packages (from jinja2>=2.4->nbconvert->jupyter->nilmtk==0.3.0.dev0+git.2f15ab7) (1.1.1)\n",
            "Requirement already satisfied: ptyprocess; os_name != \"nt\" in /usr/local/lib/python3.6/dist-packages (from terminado>=0.3.3; sys_platform != \"win32\"->notebook->jupyter->nilmtk==0.3.0.dev0+git.2f15ab7) (0.6.0)\n",
            "Building wheels for collected packages: nilmtk, networkx, hmmlearn\n",
            "  Building wheel for nilmtk (setup.py) ... \u001b[?25l\u001b[?25hdone\n",
            "  Stored in directory: /tmp/pip-ephem-wheel-cache-j_ieeh82/wheels/71/84/2f/eca0fb8014a0fe59881ab1a3e3374f4108211de4c7c3081e8d\n",
            "  Building wheel for networkx (setup.py) ... \u001b[?25l\u001b[?25hdone\n",
            "  Stored in directory: /root/.cache/pip/wheels/44/c0/34/6f98693a554301bdb405f8d65d95bbcd3e50180cbfdd98a94e\n",
            "  Building wheel for hmmlearn (setup.py) ... \u001b[?25l\u001b[?25hdone\n",
            "  Stored in directory: /root/.cache/pip/wheels/2c/b6/0e/63a865a30e21e01d04f417d8995fbfb793d6bd464707efc546\n",
            "Successfully built nilmtk networkx hmmlearn\n",
            "\u001b[31mERROR: ipython 5.5.0 has requirement prompt-toolkit<2.0.0,>=1.0.4, but you'll have prompt-toolkit 2.0.9 which is incompatible.\u001b[0m\n",
            "\u001b[31mERROR: albumentations 0.1.12 has requirement imgaug<0.2.7,>=0.2.5, but you'll have imgaug 0.2.9 which is incompatible.\u001b[0m\n",
            "Installing collected packages: psycopg2-binary, networkx, hmmlearn, nilmtk, prompt-toolkit\n",
            "  Found existing installation: networkx 2.3\n",
            "    Uninstalling networkx-2.3:\n",
            "      Successfully uninstalled networkx-2.3\n",
            "  Found existing installation: prompt-toolkit 1.0.16\n",
            "    Uninstalling prompt-toolkit-1.0.16:\n",
            "      Successfully uninstalled prompt-toolkit-1.0.16\n",
            "Successfully installed hmmlearn-0.2.2 networkx-2.1 nilmtk-0.3.0.dev0+git.2f15ab7 prompt-toolkit-2.0.9 psycopg2-binary-2.8.3\n"
          ],
          "name": "stdout"
        },
        {
          "output_type": "display_data",
          "data": {
            "application/vnd.colab-display-data+json": {
              "pip_warning": {
                "packages": [
                  "prompt_toolkit"
                ]
              }
            }
          },
          "metadata": {
            "tags": []
          }
        }
      ]
    },
    {
      "cell_type": "code",
      "metadata": {
        "id": "yP1czK5szE76",
        "colab_type": "code",
        "outputId": "815773ab-b83b-4eaf-ea36-762d96bd0399",
        "colab": {
          "base_uri": "https://localhost:8080/",
          "height": 284
        }
      },
      "source": [
        "pip install git+git://github.com/nilmtk/nilm_metadata.git"
      ],
      "execution_count": 3,
      "outputs": [
        {
          "output_type": "stream",
          "text": [
            "Collecting git+git://github.com/nilmtk/nilm_metadata.git\n",
            "  Cloning git://github.com/nilmtk/nilm_metadata.git to /tmp/pip-req-build-y1ug_f_3\n",
            "  Running command git clone -q git://github.com/nilmtk/nilm_metadata.git /tmp/pip-req-build-y1ug_f_3\n",
            "Requirement already satisfied: PyYAML in /usr/local/lib/python3.6/dist-packages (from nilm-metadata==0.2.3) (3.13)\n",
            "Requirement already satisfied: six in /usr/local/lib/python3.6/dist-packages (from nilm-metadata==0.2.3) (1.12.0)\n",
            "Requirement already satisfied: pandas in /usr/local/lib/python3.6/dist-packages (from nilm-metadata==0.2.3) (0.24.2)\n",
            "Requirement already satisfied: numpy>=1.12.0 in /usr/local/lib/python3.6/dist-packages (from pandas->nilm-metadata==0.2.3) (1.16.4)\n",
            "Requirement already satisfied: pytz>=2011k in /usr/local/lib/python3.6/dist-packages (from pandas->nilm-metadata==0.2.3) (2018.9)\n",
            "Requirement already satisfied: python-dateutil>=2.5.0 in /usr/local/lib/python3.6/dist-packages (from pandas->nilm-metadata==0.2.3) (2.5.3)\n",
            "Building wheels for collected packages: nilm-metadata\n",
            "  Building wheel for nilm-metadata (setup.py) ... \u001b[?25l\u001b[?25hdone\n",
            "  Stored in directory: /tmp/pip-ephem-wheel-cache-oqk0r1ro/wheels/75/e0/6d/1ec555a322c151fe20b4c9834753a692203b1f62a66b3ee235\n",
            "Successfully built nilm-metadata\n",
            "Installing collected packages: nilm-metadata\n",
            "Successfully installed nilm-metadata-0.2.3\n"
          ],
          "name": "stdout"
        }
      ]
    },
    {
      "cell_type": "code",
      "metadata": {
        "id": "aLVywoaWzG-s",
        "colab_type": "code",
        "outputId": "e48274e8-a6b6-45d2-c60d-e7ddfef622be",
        "colab": {
          "base_uri": "https://localhost:8080/",
          "height": 356
        }
      },
      "source": [
        "pip install pandas==0.24.0"
      ],
      "execution_count": 4,
      "outputs": [
        {
          "output_type": "stream",
          "text": [
            "Collecting pandas==0.24.0\n",
            "\u001b[?25l  Downloading https://files.pythonhosted.org/packages/f9/e1/4a63ed31e1b1362d40ce845a5735c717a959bda992669468dae3420af2cd/pandas-0.24.0-cp36-cp36m-manylinux1_x86_64.whl (10.1MB)\n",
            "\u001b[K     |████████████████████████████████| 10.1MB 21.1MB/s \n",
            "\u001b[?25hRequirement already satisfied: numpy>=1.12.0 in /usr/local/lib/python3.6/dist-packages (from pandas==0.24.0) (1.16.4)\n",
            "Requirement already satisfied: pytz>=2011k in /usr/local/lib/python3.6/dist-packages (from pandas==0.24.0) (2018.9)\n",
            "Requirement already satisfied: python-dateutil>=2.5.0 in /usr/local/lib/python3.6/dist-packages (from pandas==0.24.0) (2.5.3)\n",
            "Requirement already satisfied: six>=1.5 in /usr/local/lib/python3.6/dist-packages (from python-dateutil>=2.5.0->pandas==0.24.0) (1.12.0)\n",
            "\u001b[31mERROR: nilmtk 0.3.0.dev0+git.2f15ab7 has requirement pandas==0.24.2, but you'll have pandas 0.24.0 which is incompatible.\u001b[0m\n",
            "Installing collected packages: pandas\n",
            "  Found existing installation: pandas 0.24.2\n",
            "    Uninstalling pandas-0.24.2:\n",
            "      Successfully uninstalled pandas-0.24.2\n",
            "Successfully installed pandas-0.24.0\n"
          ],
          "name": "stdout"
        },
        {
          "output_type": "display_data",
          "data": {
            "application/vnd.colab-display-data+json": {
              "pip_warning": {
                "packages": [
                  "pandas"
                ]
              }
            }
          },
          "metadata": {
            "tags": []
          }
        }
      ]
    },
    {
      "cell_type": "code",
      "metadata": {
        "id": "cVqjo-MkycMZ",
        "colab_type": "code",
        "colab": {}
      },
      "source": [
        "from __future__ import print_function, division\n",
        "import time\n",
        "\n",
        "from matplotlib import rcParams\n",
        "import matplotlib.pyplot as plt\n",
        "\n",
        "from nilmtk import DataSet, TimeFrame, MeterGroup, HDFDataStore\n",
        "\n",
        "\n",
        "import random\n",
        "import sys\n",
        "import pandas as pd\n",
        "import numpy as np\n",
        "import h5py\n",
        "\n",
        "\n",
        "\n",
        "def load_dataset(window_per_house,test_window, filename, meter_label, train_building, test_building, **load_kwargs):\n",
        "    \n",
        "    #Load datasets\n",
        "    train = DataSet(filename)\n",
        "    test = DataSet(filename)\n",
        "\n",
        "    #train.set_window(start=start_train, end=end_train)\n",
        "    test.set_window(*test_window[test_building])\n",
        "\n",
        "    train_mainlist = []\n",
        "    train_meterlist = []\n",
        "    for building_id, building in train.buildings.items():\n",
        "        if building_id in train_building:\n",
        "            train.set_window(*window_per_house[building_id])\n",
        "            y = building.elec[meter_label]\n",
        "            \n",
        "            if filename[-7:] == 'redd.h5':\n",
        "                x = building.elec.mains().all_meters()[0] \n",
        "                \n",
        "            else:\n",
        "                x = building.elec.mains()\n",
        "                \n",
        "            train_mainlist.append(x.power_series_all_data(**load_kwargs))\n",
        "            train_meterlist.append(y.power_series_all_data(**load_kwargs))\n",
        "            \n",
        "\n",
        "    test_meterlist = test.buildings[test_building].elec[meter_label]\n",
        "    \n",
        "    if filename[-7:] == 'redd.h5':\n",
        "        test_mainlist = test.buildings[test_building].elec.mains().all_meters()[0]\n",
        "    else:\n",
        "        test_mainlist = test.buildings[test_building].elec.mains()\n",
        "\n",
        "    assert len(train_mainlist) == len(train_meterlist), \"The number of main and apliances meters must be equal\"\n",
        "\n",
        "    return train_meterlist, train_mainlist, test_meterlist, test_mainlist\n",
        "\n",
        "\n",
        "def data_processing(train_mainlist, train_meterlist, window_size):\n",
        "    '''Data processing\n",
        "\n",
        "    Parameters\n",
        "    ----------\n",
        "    train_mainlist : a list of nilmtk.ElecMeter objects for the aggregate data of each building\n",
        "    train_meterlist : a list of nilmtk.ElecMeter objects for the meter data of each building\n",
        "    '''\n",
        "\n",
        "    # Normalize the data\n",
        "#     train_x = [standardise(data) for data in train_mainlist]\n",
        "#     train_y = [standardise(data) for data in train_meterlist]\n",
        "\n",
        "    train_x = [data for data in train_mainlist]\n",
        "    train_y = [data for data in train_meterlist]\n",
        "\n",
        "    # replca NaN values and\n",
        "    for i in range(len(train_x)):\n",
        "        train_x[i].fillna(0, inplace=True)\n",
        "        train_y[i].fillna(0, inplace=True)\n",
        "        ix = train_x[i].index.intersection(train_y[i].index)\n",
        "\n",
        "        train_x[i] = train_x[i][ix].values\n",
        "        train_y[i] = train_y[i][ix].values\n",
        "\n",
        "    return train_x, train_y\n",
        "\n",
        "\n",
        "\n",
        "\n",
        "def normalise(data):\n",
        "    \"\"\"\n",
        "    Perform the normalisation (x-min(x))/(max(x)-min(x)).\n",
        "    --------------------------------------\n",
        "    :arg\n",
        "    data: data that needs to be transformed\n",
        "    mean: mean value of data\n",
        "    max_v: max value of data\n",
        "    :return\n",
        "    The normalized data\n",
        "    \"\"\"\n",
        "    std =np.std(data)\n",
        "    mean = data.mean()\n",
        "    max_v = data.max()\n",
        "\n",
        "    return data/7629.0703 #remember to try this normalization as well\n",
        "    #return (data - mean) / (max_v-mean)\n",
        "\n",
        "\n",
        "def inversenormalise(data):\n",
        "    \"\"\"\n",
        "    Perform the in-normalisation data*(max(x)-min(x))+min(x).\n",
        "    ------------------------------------------------\n",
        "    :arg\n",
        "    data: data that needs to be inverse-transformed\n",
        "    mean: mean value of data\n",
        "    max_v: max value of data\n",
        "    :return\n",
        "    The in-normalized data\n",
        "    \"\"\"\n",
        "    std =np.std(data)\n",
        "    mean = data.mean()\n",
        "    max_v = data.max()\n",
        "    \n",
        "    return data * 7629.0703\n",
        "\n",
        "    #return data * (max_v-mean) + mean\n",
        "\n",
        "def standardise(X, how='std=1', mean=200, std=400, midrange=None,\n",
        "                ptp=None):\n",
        "    \"\"\"Standardise.\n",
        "    ftp://ftp.sas.com/pub/neural/FAQ2.html#A_std_in\n",
        "    Parameters\n",
        "    ----------\n",
        "    X : matrix\n",
        "        Each sample is in range [0, 1]\n",
        "    how : str, {'range=2', 'std=1'}\n",
        "        'range=2' sets midrange to 0 and enforces\n",
        "        all values to be in the range [-1,1]\n",
        "        'std=1' sets mean = 0 and std = 1\n",
        "    Returns\n",
        "    -------\n",
        "    new_X : matrix\n",
        "        Same shape as `X`.  Sample is in range [lower, upper]\n",
        "    See also\n",
        "    --------\n",
        "    unstandardise\n",
        "    \"\"\"\n",
        "    if how == 'std=1':\n",
        "        if mean is None:\n",
        "            mean = X.mean()\n",
        "        if std is None:\n",
        "            std = X.std()\n",
        "        centered = X - mean\n",
        "        if std == 0:\n",
        "            return centered\n",
        "        else:\n",
        "            return centered / std\n",
        "    elif how == 'range=2':\n",
        "        if midrange is None:\n",
        "            midrange = (X.max() + X.min()) / 2\n",
        "        if ptp is None:\n",
        "            ptp = X.ptp()\n",
        "        return (X - midrange) / (ptp / 2)\n",
        "    else:\n",
        "        raise RuntimeError(\"unrecognised how '\" + how + \"'\")\n",
        "        \n",
        "def unstandardise(data, std=400, mean=200, maximum=None):\n",
        "    unstandardised_data = (data * std) + mean\n",
        "    if maximum is not None:\n",
        "        unstandardised_data *= maximum\n",
        "    return unstandardised_data"
      ],
      "execution_count": 0,
      "outputs": []
    },
    {
      "cell_type": "code",
      "metadata": {
        "id": "PPNy3dv4y24k",
        "colab_type": "code",
        "colab": {}
      },
      "source": [
        "from keras.models import load_model, Model, Input\n",
        "from keras.layers import Dense, Conv1D, GRU, LSTM, Bidirectional, Dropout,Conv2D\n",
        "from keras.layers import Reshape, BatchNormalization, Activation, Flatten, Concatenate\n",
        "from keras.models import Sequential\n",
        "\n",
        "def RNN_model(window_size):\n",
        "    '''Creates the RNN module described in the paper\n",
        "    '''\n",
        "    model = Sequential()\n",
        "\n",
        "    # 1D Conv\n",
        "    model.add(Conv1D(16, 4, activation=\"linear\", input_shape=(window_size,1), padding=\"same\", strides=1))\n",
        "\n",
        "    #Bi-directional LSTMs\n",
        "    model.add(Bidirectional(LSTM(128, return_sequences=True, stateful=False), merge_mode='concat'))\n",
        "    model.add(Bidirectional(LSTM(256, return_sequences=False, stateful=False), merge_mode='concat'))\n",
        "\n",
        "    # Fully Connected Layers\n",
        "    model.add(Dense(128, activation='tanh'))\n",
        "    model.add(Dense(1, activation='linear'))\n",
        "\n",
        "    model.compile(loss='mse', optimizer='adam')\n",
        "    #plot_model(model, to_file='model.png', show_shapes=True)\n",
        "\n",
        "    return model\n",
        "\n",
        "\n",
        "def GRU_model(window_size):\n",
        "\n",
        "    '''Creates the GRU architecture described in the paper\n",
        "    '''\n",
        "    model = Sequential()\n",
        "\n",
        "    # 1D Conv\n",
        "    model.add(Conv1D(16, 4, activation=\"relu\", padding=\"same\", strides=1, input_shape=(params['window_size'],1)))\n",
        "    model.add(Conv1D(8, 4, activation=\"relu\", padding=\"same\", strides=1))\n",
        "\n",
        "    # Bi-directional LSTMs\n",
        "    model.add(Bidirectional(GRU(128, return_sequences=True, stateful=False), merge_mode='concat'))\n",
        "    model.add(Dropout(0.3))\n",
        "    model.add(Bidirectional(GRU(256, return_sequences=False, stateful=False), merge_mode='concat'))\n",
        "    model.add(Dropout(0.3))\n",
        "    # Fully Connected Layers\n",
        "    model.add(Dense(64, activation='relu'))\n",
        "    model.add(Dropout(0.3))\n",
        "    model.add(Dense(1, activation='linear'))\n",
        "\n",
        "    model.compile(loss='mse', optimizer='adam')\n",
        "\n",
        "    print(model.summary())\n",
        "\n",
        "    return model\n",
        "\n",
        "\n",
        "def DAE_model(window_size):\n",
        "    '''Creates and returns the ShortSeq2Point Network\n",
        "     Based on: https://arxiv.org/pdf/1612.09106v3.pdf\n",
        "    '''\n",
        "    model = Sequential()\n",
        "\n",
        "    # 1D Conv\n",
        "    model.add(Conv1D(30, 10, activation='relu', input_shape=(window_size,1), padding=\"same\", strides=1))\n",
        "    model.add(Dropout(0.2))\n",
        "    model.add(Conv1D(30, 8, activation='relu', padding=\"same\", strides=1))\n",
        "    model.add(Dropout(0.2))\n",
        "    model.add(Conv1D(40, 6, activation='relu', padding=\"same\", strides=1))\n",
        "    model.add(Dropout(0.2))\n",
        "    model.add(Conv1D(50, 5, activation='relu', padding=\"same\", strides=1))\n",
        "    model.add(Dropout(0.2))\n",
        "    model.add(Conv1D(50, 5, activation='relu', padding=\"same\", strides=1))\n",
        "    model.add(Dropout(0.2))\n",
        "    # Fully Connected Layers\n",
        "    model.add(Flatten())\n",
        "    model.add(Dense(1024, activation='relu'))\n",
        "    model.add(Dropout(0.2))\n",
        "    model.add(Dense(1, activation='linear'))\n",
        "\n",
        "    model.compile(loss='mse', optimizer='adam')\n",
        "    print(model.summary())\n",
        "\n",
        "    return model\n",
        "\n",
        "def DresNET_model(window_size):\n",
        "    '''Creates the GRU architecture described in the paper\n",
        "    '''\n",
        "    def residual_block(filters,x,stride = 1,dilate = None):\n",
        "        resiual = x\n",
        "        out = BatchNormalization()(x)\n",
        "        out1 = Activation('relu')(out)\n",
        "        out = Conv1D(filters = filters,kernel_size = [3],dilation_rate = dilate,strides = [1],padding = 'same')(out1)\n",
        "        out = BatchNormalization()(out)\n",
        "        out = Activation('relu')(out)\n",
        "        out = Conv1D(filters = filters,kernel_size = [3],strides = [1],padding = 'same')(out)\n",
        "        out = BatchNormalization()(out)\n",
        "        out = Activation('relu')(out)\n",
        "        out = Conv1D(filters = filters,kernel_size = [1],dilation_rate = dilate,strides = [1],padding = 'same')(out)\n",
        "\n",
        "        if out1.shape[-1] != filters or stride == 1:\n",
        "            residual = Conv1D(filters = filters,kernel_size = [3],strides = [1],padding = 'same')(out1)\n",
        "            out = Concatenate()([residual,out])\n",
        "        return out\n",
        "\n",
        "    x = Input(shape = [window_size,1])\n",
        "    conv1 = Conv1D(filters = 30,kernel_size = [5],dilation_rate = [1],strides = [1],padding = 'same')(x)\n",
        "    bn = BatchNormalization()(conv1)\n",
        "    out = Activation('relu')(bn)\n",
        "    repetition = [3,4,6,3]\n",
        "    filter_num = [30,40,50,50]\n",
        "    dilations = [[1],[2],[3],[3]]\n",
        "    for i in range(len(repetition)):\n",
        "        for j in range(repetition[i]):\n",
        "            out = residual_block(filters = filter_num[i],dilate = dilations[i],x = out)\n",
        "\n",
        "    out = Flatten()(out)\n",
        "    out = Dense(units = 1)(out)\n",
        "    model = Model(x,out)\n",
        "    model.compile(optimizer = 'adam',loss = 'mse')\n",
        "\n",
        "    print(model.summary())\n",
        "\n",
        "    return model\n"
      ],
      "execution_count": 0,
      "outputs": []
    },
    {
      "cell_type": "code",
      "metadata": {
        "id": "EHJPt__pyuMk",
        "colab_type": "code",
        "colab": {}
      },
      "source": [
        "from __future__ import print_function, division\n",
        "from warnings import warn, filterwarnings\n",
        "\n",
        "import random\n",
        "import sys\n",
        "import pandas as pd\n",
        "import numpy as np\n",
        "\n",
        "from nilmtk.disaggregate import Disaggregator\n",
        "from nilmtk.datastore import HDFDataStore\n",
        "\n",
        "\n",
        "\n",
        "class NeuralDisaggregator(Disaggregator):\n",
        "    '''Attempt to create a RNN Disaggregator\n",
        "\n",
        "    Attributes\n",
        "    ----------\n",
        "    model : keras Sequential model\n",
        "    mmax : the maximum value of the aggregate data\n",
        "\n",
        "    MIN_CHUNK_LENGTH : int\n",
        "       the minimum length of an acceptable chunk\n",
        "    '''\n",
        "    \n",
        "    def __init__(self, model, name,batch_size, window_size=100):\n",
        "        '''Initialize disaggregator\n",
        "        '''\n",
        "        self.MODEL_NAME = name\n",
        "        self.MIN_CHUNK_LENGTH = window_size\n",
        "        self.window_size = window_size\n",
        "        self.model = model\n",
        "        self.batch_size = batch_size\n",
        "            \n",
        "    def disaggregate(self, mains, output_datastore, meter_metadata, **load_kwargs):\n",
        "        '''Disaggregate mains according to the model learnt previously.\n",
        "\n",
        "        Parameters\n",
        "        ----------\n",
        "        mains : a nilmtk.ElecMeter of aggregate data\n",
        "        meter_metadata: a nilmtk.ElecMeter of the observed meter used for storing the metadata\n",
        "        output_datastore : instance of nilmtk.DataStore subclass\n",
        "            For storing power predictions from disaggregation algorithm.\n",
        "        **load_kwargs : key word arguments\n",
        "            Passed to `mains.power_series(**kwargs)`\n",
        "        '''\n",
        "\n",
        "        load_kwargs = self._pre_disaggregation_checks(load_kwargs)\n",
        "\n",
        "        load_kwargs.setdefault('sample_period', 60)\n",
        "        load_kwargs.setdefault('sections', mains.good_sections())\n",
        "\n",
        "        timeframes = []\n",
        "        building_path = '/building{}'.format(mains.building())\n",
        "        mains_data_location = building_path + '/elec/meter1'\n",
        "        data_is_available = False\n",
        "\n",
        "        for chunk in mains.power_series(**load_kwargs):\n",
        "            if len(chunk) < self.MIN_CHUNK_LENGTH:\n",
        "                continue\n",
        "            print(\"New sensible chunk: {}\".format(len(chunk)))\n",
        "\n",
        "            timeframes.append(chunk.timeframe)\n",
        "            measurement = chunk.name\n",
        "            #chunk2 = standardise(chunk)\n",
        "            chunk2=chunk\n",
        "            appliance_power = self.disaggregate_chunk(chunk2)\n",
        "            appliance_power[appliance_power < 0] = 0\n",
        "            #appliance_power = unstandardise(appliance_power)\n",
        "\n",
        "            # Append prediction to output\n",
        "            data_is_available = True\n",
        "            cols = pd.MultiIndex.from_tuples([chunk.name])\n",
        "            meter_instance = meter_metadata.instance()\n",
        "            df = pd.DataFrame(\n",
        "                appliance_power.values, index=appliance_power.index,\n",
        "                columns=cols, dtype=\"float32\")\n",
        "            key = '{}/elec/meter{}'.format(building_path, meter_instance)\n",
        "            output_datastore.append(key, df)\n",
        "\n",
        "            # Append aggregate data to output\n",
        "            mains_df = pd.DataFrame(chunk, columns=cols, dtype=\"float32\")\n",
        "            output_datastore.append(key=mains_data_location, value=mains_df)\n",
        "\n",
        "        # Save metadata to output\n",
        "        if data_is_available:\n",
        "            self._save_metadata_for_disaggregation(\n",
        "                output_datastore=output_datastore,\n",
        "                sample_period=load_kwargs['sample_period'],\n",
        "                measurement=measurement,\n",
        "                timeframes=timeframes,\n",
        "                building=mains.building(),\n",
        "                meters=[meter_metadata]\n",
        "            )\n",
        "\n",
        "    def disaggregate_chunk(self, mains):\n",
        "        '''In-memory disaggregation.\n",
        "\n",
        "        Parameters\n",
        "        ----------\n",
        "        mains : pd.Series of aggregate data\n",
        "        Returns\n",
        "        -------\n",
        "        appliance_powers : pd.DataFrame where each column represents a\n",
        "            disaggregated appliance.  Column names are the integer index\n",
        "            into `self.model` for the appliance in question.\n",
        "        '''\n",
        "        up_limit = len(mains)\n",
        "\n",
        "        mains.fillna(0, inplace=True)\n",
        "\n",
        "        X_batch = np.array(mains)\n",
        "        Y_len = len(X_batch)\n",
        "        indexer = np.arange(self.window_size)[None, :] + np.arange(len(X_batch)-self.window_size+1)[:, None]\n",
        "        X_batch = X_batch[indexer]\n",
        "        X_batch = np.reshape(X_batch, (X_batch.shape[0],X_batch.shape[1],1))\n",
        "\n",
        "        pred = self.model.predict(X_batch, batch_size=self.batch_size)\n",
        "        pred = np.reshape(pred, (len(pred)))\n",
        "        column = pd.Series(pred, index=mains.index[self.window_size-1:Y_len], name=0)\n",
        "        \n",
        "\n",
        "        appliance_powers_dict = {}\n",
        "        appliance_powers_dict[0] = column\n",
        "        appliance_powers = pd.DataFrame(appliance_powers_dict)\n",
        "        return appliance_powers\n"
      ],
      "execution_count": 0,
      "outputs": []
    },
    {
      "cell_type": "code",
      "metadata": {
        "id": "DUFVTW1ayl_Z",
        "colab_type": "code",
        "colab": {}
      },
      "source": [
        "\n",
        "from nilmtk.electric import align_two_meters\n",
        "import numpy as np\n",
        "\n",
        "def tp_tn_fp_fn(states_pred, states_ground):\n",
        "    tp = np.sum(np.logical_and(states_pred == 1, states_ground == 1))\n",
        "    fp = np.sum(np.logical_and(states_pred == 1, states_ground == 0))\n",
        "    fn = np.sum(np.logical_and(states_pred == 0, states_ground == 1))\n",
        "    tn = np.sum(np.logical_and(states_pred == 0, states_ground == 0))\n",
        "    return tp, tn, fp, fn\n",
        "\n",
        "def recall_precision_accuracy_f1(pred, ground):\n",
        "    aligned_meters = align_two_meters(pred, ground)\n",
        "    threshold = ground.on_power_threshold()\n",
        "    chunk_results = []\n",
        "    sum_samples = 0.0\n",
        "    for chunk in aligned_meters:\n",
        "        sum_samples += len(chunk)\n",
        "        pr = np.array([0 if (p)<threshold else 1 for p in chunk.iloc[:,0]])\n",
        "        gr = np.array([0 if p<threshold else 1 for p in chunk.iloc[:,1]])\n",
        "\n",
        "        tp, tn, fp, fn = tp_tn_fp_fn(pr,gr)\n",
        "        p = sum(pr)\n",
        "        n = len(pr) - p\n",
        "\n",
        "        chunk_results.append([tp,tn,fp,fn,p,n])\n",
        "\n",
        "    if sum_samples == 0:\n",
        "        return None\n",
        "    else:\n",
        "        [tp,tn,fp,fn,p,n] = np.sum(chunk_results, axis=0)\n",
        "\n",
        "        res_recall = recall(tp,fn)\n",
        "        res_precision = precision(tp,fp)\n",
        "        res_f1 = f1(res_precision,res_recall)\n",
        "        res_accuracy = accuracy(tp,tn,p,n)\n",
        "\n",
        "        return (res_recall,res_precision,res_accuracy,res_f1)\n",
        "\n",
        "def relative_error_total_energy(pred, ground):\n",
        "    aligned_meters = align_two_meters(pred, ground)\n",
        "    chunk_results = []\n",
        "    sum_samples = 0.0\n",
        "    for chunk in aligned_meters:\n",
        "        chunk.fillna(0, inplace=True)\n",
        "        sum_samples += len(chunk)\n",
        "        E_pred = sum(chunk.iloc[:,0])\n",
        "        E_ground = sum(chunk.iloc[:,1])\n",
        "\n",
        "        chunk_results.append([\n",
        "                            E_pred,\n",
        "                            E_ground\n",
        "                            ])\n",
        "    if sum_samples == 0:\n",
        "        return None\n",
        "    else:\n",
        "        [E_pred, E_ground] = np.sum(chunk_results,axis=0)\n",
        "        return abs(E_pred - E_ground) / float(max(E_pred,E_ground))\n",
        "\n",
        "def mean_absolute_error(pred, ground):\n",
        "    aligned_meters = align_two_meters(pred, ground)\n",
        "    total_sum = 0.0\n",
        "    sum_samples = 0.0\n",
        "    for chunk in aligned_meters:\n",
        "        chunk.fillna(0, inplace=True)\n",
        "        sum_samples += len(chunk)\n",
        "        total_sum += sum(abs((chunk.iloc[:,0]) - chunk.iloc[:,1]))\n",
        "    if sum_samples == 0:\n",
        "        return None\n",
        "    else:\n",
        "        return total_sum / sum_samples\n",
        "\n",
        "\n",
        "def recall(tp,fn):\n",
        "    return tp/float(tp+fn)\n",
        "\n",
        "def precision(tp,fp):\n",
        "    return tp/float(tp+fp)\n",
        "\n",
        "def f1(prec,rec):\n",
        "    return 2 * (prec*rec) / float(prec+rec)\n",
        "\n",
        "def accuracy(tp, tn, p, n):\n",
        "    return (tp + tn) / float(p + n)\n"
      ],
      "execution_count": 0,
      "outputs": []
    },
    {
      "cell_type": "code",
      "metadata": {
        "id": "C8sgly5YyimH",
        "colab_type": "code",
        "colab": {}
      },
      "source": [
        "import numpy as np\n",
        "\n",
        "\n",
        "class Batch_Generator():\n",
        "\n",
        "    def __init__(self, batch_size, window_size, model_name, shuffle=True):\n",
        "\n",
        "        self.name = model_name\n",
        "        self.batch_size = batch_size\n",
        "        self.shuffle = shuffle\n",
        "        self.window_size = window_size\n",
        "        \n",
        "    def num_epochs(self, inputs):\n",
        "        \n",
        "        batch_size = int(self.batch_size / len(inputs))\n",
        "        num_of_batches = [(int((len(inputs[i])-self.window_size+1) / batch_size) - 1) for i in range(len(inputs))]\n",
        "        n_epochs = min(num_of_batches)\n",
        "        \n",
        "        return n_epochs\n",
        "\n",
        "    def generator(self, inputs, targets):\n",
        "      \n",
        "        num_meters = len(inputs)\n",
        "        batch_size = int(self.batch_size / num_meters)\n",
        "        #num_of_batches = [(int(len(inputs[i]) / batch_size) - 1) for i in range(len(inputs))]\n",
        "\n",
        "        n_epochs = self.num_epochs(inputs)\n",
        "\n",
        "\n",
        "        # Batch indexes\n",
        "        while True:\n",
        "          self.indexes = list(range(n_epochs))\n",
        "\n",
        "          if self.shuffle == True:\n",
        "              np.random.shuffle(self.indexes)\n",
        "\n",
        "          for ei, e in enumerate(self.indexes):\n",
        "\n",
        "              offset = e * batch_size\n",
        "\n",
        "              # Initialization\n",
        "              X_batch = np.zeros((batch_size * num_meters, self.window_size, 1))  # (128,100,1)\n",
        "              Y_batch = np.zeros((batch_size * num_meters, 1))  # (128,1)\n",
        "\n",
        "              # Create a batch out of data from all buildings\n",
        "              for i in range(num_meters):\n",
        "                  mainpart = inputs[i]\n",
        "                  meterpart = targets[i]\n",
        "\n",
        "                  indexer = np.arange(self.window_size)[None, :] + np.arange(len(inputs[i])-self.window_size+1)[offset:offset + batch_size, None]\n",
        "\n",
        "                  mainpart = mainpart[indexer]\n",
        "                  meterpart = meterpart[self.window_size - 1:][offset:offset + batch_size]\n",
        "\n",
        "                  X = np.reshape(mainpart, (batch_size, self.window_size, 1))\n",
        "                  Y = np.reshape(meterpart, (batch_size, 1))\n",
        "\n",
        "                  X_batch[i * batch_size:(i + 1) * batch_size] = np.array(X)\n",
        "                  Y_batch[i * batch_size:(i + 1) * batch_size] = np.array(Y)\n",
        "                  \n",
        "              \n",
        "\n",
        "#               # Shuffle data\n",
        "#               if self.shuffle == True:\n",
        "#                 p = np.random.permutation(len(X_batch))\n",
        "#                 X_batch, Y_batch = X_batch[p], Y_batch[p]\n",
        "       \n",
        "              yield X_batch, Y_batch"
      ],
      "execution_count": 0,
      "outputs": []
    },
    {
      "cell_type": "code",
      "metadata": {
        "id": "nXmq80OAyVQD",
        "colab_type": "code",
        "outputId": "27b3d448-abb6-4ada-e849-63e9ea099797",
        "colab": {
          "base_uri": "https://localhost:8080/",
          "height": 695
        }
      },
      "source": [
        "from __future__ import print_function, division\n",
        "import time\n",
        "\n",
        "\n",
        "from matplotlib import rcParams\n",
        "import matplotlib.pyplot as plt\n",
        "\n",
        "from nilmtk import DataSet, TimeFrame, MeterGroup, HDFDataStore\n",
        "#from disaggregator import NeuralDisaggregator\n",
        "#from dataset_processing import load_dataset, data_processing\n",
        "#from batch_generator import Batch_Generator\n",
        "#from models import GRU_model, RNN_model, DAE_model, DresNET_model\n",
        "from keras.models import load_model\n",
        "import metrics\n",
        "import nilm_metric as nm\n",
        "\n",
        "from keras.callbacks import ModelCheckpoint\n",
        "\n",
        "\n",
        "\n",
        "\n",
        "# =====Define paramaters======\n",
        "info = {'filename': 'drive/My Drive/Dissertation/redd.h5',\n",
        "        'meter_label': 'fridge',  # [\"kettle\" , \"microwave\" , \"dishwasher\" , \"fridge\" , \"washing_machine\"]\n",
        "        'train_building': [1],\n",
        "        'test_building': 1,\n",
        "        'sample_period': 3\n",
        "       }\n",
        "\n",
        "# Parameters\n",
        "params = {'batch_size': 128,\n",
        "          'window_size': 50,\n",
        "          'model_name': 'GRU',\n",
        "          'shuffle': True}\n",
        "\n",
        "#Define the training intervals for each house\n",
        "window_per_house = {1: (None, \"25-4-2011\"), \n",
        "                2: (\"2013-04-16\", \"2013-10-10\"), \n",
        "                3: ('2013-02-27' , '2013-04-08 '), \n",
        "                4: (\"2013-03-09\", \"2013-10-01\"), \n",
        "                5: (\"2014-06-29\", None)}\n",
        "\n",
        "\n",
        "test_window = {1: ('30-4-2011', '5-5-2011')}\n",
        "\n",
        "\n",
        "num_epochs = 8\n",
        "# =====Load Dataset======\n",
        "train_meterlist, train_mainlist, test_meterlist, test_mainlist = load_dataset(window_per_house,test_window, **info)\n",
        "\n",
        "train_x, train_y = data_processing(train_mainlist, train_meterlist, window_size=params['window_size'])\n",
        "\n",
        "\n",
        "\n",
        "if params['model_name'] == 'LSTM':\n",
        "    model = RNN_model(params['window_size'])\n",
        "\n",
        "elif params['model_name'] == 'GRU':\n",
        "    model = GRU_model(params['window_size'])\n",
        "\n",
        "elif params['model_name'] == 'DAE':\n",
        "    model = DAE_model(params['window_size'])\n",
        "\n",
        "elif params['model_name'] == 'DresNET':\n",
        "    model = DresNET_model(params['window_size'])\n",
        "\n",
        "\n",
        "\n",
        "# Training\n",
        "filepath_checkpoint = \"UKDALE-RNN-h \" + str(info['train_building']) + str(info['meter_label']) + ' epo.hdf5'\n",
        "filepath = 'drive/My Drive/Dissertation/UKDALE-GRU-microwave-5epochs.h5'\n",
        "filepath = 'UKDALE-GRU-fridge-8epochs.h5'\n",
        "\n",
        "# Batch generator\n",
        "gen = Batch_Generator(**params)\n",
        "t = gen.generator(train_x, train_y)\n",
        "steps_epochs = gen.num_epochs(train_x)\n",
        "\n",
        "\n",
        "\n",
        "mode = 'training'\n",
        "\n",
        "if mode == 'training':\n",
        "\n",
        "    print(\"*********Training*********\")\n",
        "    start = time.time()\n",
        "#     indexer = np.arange(params['window_size'])[None, :] + np.arange(len(train_x[0])-params['window_size']+1)[:, None]\n",
        "#     x = train_x[0][indexer]\n",
        "#     y = train_y[0][params['window_size']-1:]\n",
        "\n",
        "#     x = np.reshape(x, (x.shape[0],params['window_size'],1))\n",
        "#     y = np.reshape(y, (y.shape[0],1))\n",
        "#     model.fit(x, y, epochs=8, batch_size=128, shuffle=True)\n",
        "\n",
        "    checkpointer = ModelCheckpoint(filepath_checkpoint,\n",
        "                                   verbose=1, save_best_only=True)\n",
        "    model.fit_generator(t, \n",
        "                        steps_per_epoch = steps_epochs, \n",
        "                        epochs=num_epochs,\n",
        "                        use_multiprocessing=True,\n",
        "                        workers=6, \n",
        "                        callbacks=[checkpointer])\n",
        "\n",
        "    \n",
        "    \n",
        "    model.save(\"UKDALE-{}-{}-{}epochs.h5\".format(params['model_name'], \n",
        "                                                     info['meter_label'],\n",
        "                                                      num_epochs))\n",
        "    \n",
        "    end = time.time()\n",
        "    print('### Total trainning time cost: {} ###'.format(str(end - start)))\n",
        "\n",
        "elif mode == 'loading':\n",
        "    # load checkpoints weights\n",
        "    print(filepath_checkpoint)\n",
        "    model.load_weights(filepath_checkpoint)\n",
        "    \n",
        "elif mode == 'load_pretrained':\n",
        "    #load pretrained model\n",
        "    model = load_model(filepath)\n",
        "    model.compile(loss='mse', optimizer='adam')\n",
        "\n",
        "     \n",
        "    \n",
        "# print(\"*********Disaggregate*********\")\n",
        "disaggregator = NeuralDisaggregator(model, name = params['model_name'],batch_size = params['batch_size'], window_size = params['window_size'])\n",
        "disag_filename = \"disag-out5.h5\"\n",
        "output = HDFDataStore(disag_filename, 'w')\n",
        "disaggregator.disaggregate(test_mainlist, output, test_meterlist, sample_period = info['sample_period'])\n",
        "output.close()\n",
        "\n",
        "\n",
        "print(\"========== RESULTS ============\")\n",
        "meter_key = info['meter_label']\n",
        "result = DataSet(disag_filename)\n",
        "res_elec = result.buildings[info['test_building']].elec\n",
        "#print(test_meterlist.power_series_all_data())\n",
        "#print(res_elec[meter_key].power_series_all_data())\n",
        "rpaf = metrics.recall_precision_accuracy_f1(res_elec[meter_key], test_meterlist)\n",
        "print(\"============ Recall: {}\".format(rpaf[0]))\n",
        "print(\"============ Precision: {}\".format(rpaf[1]))\n",
        "print(\"============ Accuracy: {}\".format(rpaf[2]))\n",
        "print(\"============ F1 Score: {}\".format(rpaf[3]))\n",
        "\n",
        "print(\"============ Relative error in total energy: {}\".format(metrics.relative_error_total_energy(res_elec[meter_key], test_meterlist)))\n",
        "print(\"============ Mean absolute error(in Watts): {}\".format(metrics.mean_absolute_error(res_elec[meter_key], test_meterlist)))\n",
        "\n",
        "\n",
        "aligned_meters = align_two_meters(res_elec[meter_key], test_meterlist)\n",
        "#threshold = ground.on_power_threshold()\n",
        "meters = next(aligned_meters)\n",
        "threshold = 10\n",
        "predict = meters['master']\n",
        "ground = meters['slave']\n",
        "print()\n",
        "print('F1:{0}'.format(nm.get_F1(ground, predict, threshold)))\n",
        "print('Mean absolute error(in Watts):{0}'.format(nm.get_abs_error(ground, predict)))\n",
        "print('Relative error:{0}'.format(nm.get_relative_error(ground, predict)))"
      ],
      "execution_count": 0,
      "outputs": [
        {
          "output_type": "stream",
          "text": [
            "_________________________________________________________________\n",
            "Layer (type)                 Output Shape              Param #   \n",
            "=================================================================\n",
            "conv1d_21 (Conv1D)           (None, 50, 16)            80        \n",
            "_________________________________________________________________\n",
            "conv1d_22 (Conv1D)           (None, 50, 8)             520       \n",
            "_________________________________________________________________\n",
            "bidirectional_21 (Bidirectio (None, 50, 128)           28032     \n",
            "_________________________________________________________________\n",
            "bidirectional_22 (Bidirectio (None, 256)               197376    \n",
            "_________________________________________________________________\n",
            "dense_21 (Dense)             (None, 64)                16448     \n",
            "_________________________________________________________________\n",
            "dense_22 (Dense)             (None, 1)                 65        \n",
            "=================================================================\n",
            "Total params: 242,521\n",
            "Trainable params: 242,521\n",
            "Non-trainable params: 0\n",
            "_________________________________________________________________\n",
            "None\n",
            "*********Training*********\n",
            "Epoch 1/8\n"
          ],
          "name": "stdout"
        },
        {
          "output_type": "stream",
          "text": [
            "/usr/local/lib/python3.6/dist-packages/keras/engine/training_generator.py:47: UserWarning: Using a generator with `use_multiprocessing=True` and multiple workers may duplicate your data. Please consider using the`keras.utils.Sequence class.\n",
            "  UserWarning('Using a generator with `use_multiprocessing=True`'\n"
          ],
          "name": "stderr"
        },
        {
          "output_type": "stream",
          "text": [
            "1485/1485 [==============================] - 358s 241ms/step - loss: 4600.7265\n",
            "Epoch 2/8\n"
          ],
          "name": "stdout"
        },
        {
          "output_type": "stream",
          "text": [
            "/usr/local/lib/python3.6/dist-packages/keras/callbacks.py:434: RuntimeWarning: Can save best model only with val_loss available, skipping.\n",
            "  'skipping.' % (self.monitor), RuntimeWarning)\n"
          ],
          "name": "stderr"
        },
        {
          "output_type": "stream",
          "text": [
            "1485/1485 [==============================] - 350s 236ms/step - loss: 2150.8617\n",
            "Epoch 3/8\n",
            "1485/1485 [==============================] - 350s 235ms/step - loss: 2555.9704\n",
            "Epoch 4/8\n",
            "1485/1485 [==============================] - 350s 236ms/step - loss: 2887.9523\n",
            "Epoch 5/8\n",
            "1485/1485 [==============================] - 351s 236ms/step - loss: 3061.8479\n",
            "Epoch 6/8\n",
            "  44/1485 [..............................] - ETA: 5:40 - loss: 988.9977"
          ],
          "name": "stdout"
        }
      ]
    },
    {
      "cell_type": "code",
      "metadata": {
        "id": "khSOeGHWujUc",
        "colab_type": "code",
        "colab": {
          "base_uri": "https://localhost:8080/",
          "height": 287
        },
        "outputId": "6166eee0-0843-40da-d680-4a70e7e63280"
      },
      "source": [
        "plt.plot(test_meterlist.power_series_all_data()[0:10000])\n",
        "plt.plot(res_elec[meter_key].power_series_all_data()[0:10000])"
      ],
      "execution_count": 118,
      "outputs": [
        {
          "output_type": "execute_result",
          "data": {
            "text/plain": [
              "[<matplotlib.lines.Line2D at 0x7f66ce3959e8>]"
            ]
          },
          "metadata": {
            "tags": []
          },
          "execution_count": 118
        },
        {
          "output_type": "display_data",
          "data": {
            "image/png": "[encoded data removed]",
            "text/plain": [
              "<Figure size 432x288 with 1 Axes>"
            ]
          },
          "metadata": {
            "tags": []
          }
        }
      ]
    },
    {
      "cell_type": "code",
      "metadata": {
        "id": "cB97kgDjiXFh",
        "colab_type": "code",
        "colab": {
          "base_uri": "https://localhost:8080/",
          "height": 352
        },
        "outputId": "51652db6-e6ba-4942-9b9a-6662218aefdc"
      },
      "source": [
        "# print(test_meterlist.power_series_all_data())\n",
        "# print(res_elec[meter_key].power_series_all_data())\n",
        "dr = pd.DataFrame(test_meterlist.power_series_all_data()[0:10])\n",
        "#dr.append(test_meterlist.power_series_all_data()[10:20])\n",
        "\n",
        "dr = pd.concat([dr, pd.DataFrame(test_meterlist.power_series_all_data()[10:20])], ignore_index=False)\n",
        "\n",
        "g = pd.read_hdf(\"disag-out1.h5\")"
      ],
      "execution_count": 144,
      "outputs": [
        {
          "output_type": "error",
          "ename": "ValueError",
          "evalue": "ignored",
          "traceback": [
            "\u001b[0;31m---------------------------------------------------------------------------\u001b[0m",
            "\u001b[0;31mValueError\u001b[0m                                Traceback (most recent call last)",
            "\u001b[0;32m<ipython-input-144-4599ef974e48>\u001b[0m in \u001b[0;36m<module>\u001b[0;34m()\u001b[0m\n\u001b[1;32m      4\u001b[0m \u001b[0mdr\u001b[0m \u001b[0;34m=\u001b[0m \u001b[0mpd\u001b[0m\u001b[0;34m.\u001b[0m\u001b[0mconcat\u001b[0m\u001b[0;34m(\u001b[0m\u001b[0;34m[\u001b[0m\u001b[0mdr\u001b[0m\u001b[0;34m,\u001b[0m \u001b[0mpd\u001b[0m\u001b[0;34m.\u001b[0m\u001b[0mDataFrame\u001b[0m\u001b[0;34m(\u001b[0m\u001b[0mtest_meterlist\u001b[0m\u001b[0;34m.\u001b[0m\u001b[0mpower_series_all_data\u001b[0m\u001b[0;34m(\u001b[0m\u001b[0;34m)\u001b[0m\u001b[0;34m[\u001b[0m\u001b[0;36m10\u001b[0m\u001b[0;34m:\u001b[0m\u001b[0;36m20\u001b[0m\u001b[0;34m]\u001b[0m\u001b[0;34m)\u001b[0m\u001b[0;34m]\u001b[0m\u001b[0;34m,\u001b[0m \u001b[0mignore_index\u001b[0m\u001b[0;34m=\u001b[0m\u001b[0;32mFalse\u001b[0m\u001b[0;34m)\u001b[0m\u001b[0;34m\u001b[0m\u001b[0;34m\u001b[0m\u001b[0m\n\u001b[1;32m      5\u001b[0m \u001b[0;34m\u001b[0m\u001b[0m\n\u001b[0;32m----> 6\u001b[0;31m \u001b[0mg\u001b[0m \u001b[0;34m=\u001b[0m \u001b[0mpd\u001b[0m\u001b[0;34m.\u001b[0m\u001b[0mread_hdf\u001b[0m\u001b[0;34m(\u001b[0m\u001b[0;34m\"disag-out1.h5\"\u001b[0m\u001b[0;34m)\u001b[0m\u001b[0;34m\u001b[0m\u001b[0;34m\u001b[0m\u001b[0m\n\u001b[0m",
            "\u001b[0;32m/usr/local/lib/python3.6/dist-packages/pandas/io/pytables.py\u001b[0m in \u001b[0;36mread_hdf\u001b[0;34m(path_or_buf, key, mode, **kwargs)\u001b[0m\n\u001b[1;32m    366\u001b[0m                 'File {path} does not exist'.format(path=path_or_buf))\n\u001b[1;32m    367\u001b[0m \u001b[0;34m\u001b[0m\u001b[0m\n\u001b[0;32m--> 368\u001b[0;31m         \u001b[0mstore\u001b[0m \u001b[0;34m=\u001b[0m \u001b[0mHDFStore\u001b[0m\u001b[0;34m(\u001b[0m\u001b[0mpath_or_buf\u001b[0m\u001b[0;34m,\u001b[0m \u001b[0mmode\u001b[0m\u001b[0;34m=\u001b[0m\u001b[0mmode\u001b[0m\u001b[0;34m,\u001b[0m \u001b[0;34m**\u001b[0m\u001b[0mkwargs\u001b[0m\u001b[0;34m)\u001b[0m\u001b[0;34m\u001b[0m\u001b[0;34m\u001b[0m\u001b[0m\n\u001b[0m\u001b[1;32m    369\u001b[0m         \u001b[0;31m# can't auto open/close if we are using an iterator\u001b[0m\u001b[0;34m\u001b[0m\u001b[0;34m\u001b[0m\u001b[0;34m\u001b[0m\u001b[0m\n\u001b[1;32m    370\u001b[0m         \u001b[0;31m# so delegate to the iterator\u001b[0m\u001b[0;34m\u001b[0m\u001b[0;34m\u001b[0m\u001b[0;34m\u001b[0m\u001b[0m\n",
            "\u001b[0;32m/usr/local/lib/python3.6/dist-packages/pandas/io/pytables.py\u001b[0m in \u001b[0;36m__init__\u001b[0;34m(self, path, mode, complevel, complib, fletcher32, **kwargs)\u001b[0m\n\u001b[1;32m    486\u001b[0m         \u001b[0mself\u001b[0m\u001b[0;34m.\u001b[0m\u001b[0m_fletcher32\u001b[0m \u001b[0;34m=\u001b[0m \u001b[0mfletcher32\u001b[0m\u001b[0;34m\u001b[0m\u001b[0;34m\u001b[0m\u001b[0m\n\u001b[1;32m    487\u001b[0m         \u001b[0mself\u001b[0m\u001b[0;34m.\u001b[0m\u001b[0m_filters\u001b[0m \u001b[0;34m=\u001b[0m \u001b[0;32mNone\u001b[0m\u001b[0;34m\u001b[0m\u001b[0;34m\u001b[0m\u001b[0m\n\u001b[0;32m--> 488\u001b[0;31m         \u001b[0mself\u001b[0m\u001b[0;34m.\u001b[0m\u001b[0mopen\u001b[0m\u001b[0;34m(\u001b[0m\u001b[0mmode\u001b[0m\u001b[0;34m=\u001b[0m\u001b[0mmode\u001b[0m\u001b[0;34m,\u001b[0m \u001b[0;34m**\u001b[0m\u001b[0mkwargs\u001b[0m\u001b[0;34m)\u001b[0m\u001b[0;34m\u001b[0m\u001b[0;34m\u001b[0m\u001b[0m\n\u001b[0m\u001b[1;32m    489\u001b[0m \u001b[0;34m\u001b[0m\u001b[0m\n\u001b[1;32m    490\u001b[0m     \u001b[0;32mdef\u001b[0m \u001b[0m__fspath__\u001b[0m\u001b[0;34m(\u001b[0m\u001b[0mself\u001b[0m\u001b[0;34m)\u001b[0m\u001b[0;34m:\u001b[0m\u001b[0;34m\u001b[0m\u001b[0;34m\u001b[0m\u001b[0m\n",
            "\u001b[0;32m/usr/local/lib/python3.6/dist-packages/pandas/io/pytables.py\u001b[0m in \u001b[0;36mopen\u001b[0;34m(self, mode, **kwargs)\u001b[0m\n\u001b[1;32m    627\u001b[0m                             hdf_version=tables.get_hdf5_version()))\n\u001b[1;32m    628\u001b[0m \u001b[0;34m\u001b[0m\u001b[0m\n\u001b[0;32m--> 629\u001b[0;31m             \u001b[0;32mraise\u001b[0m \u001b[0me\u001b[0m\u001b[0;34m\u001b[0m\u001b[0;34m\u001b[0m\u001b[0m\n\u001b[0m\u001b[1;32m    630\u001b[0m \u001b[0;34m\u001b[0m\u001b[0m\n\u001b[1;32m    631\u001b[0m         \u001b[0;32mexcept\u001b[0m \u001b[0;34m(\u001b[0m\u001b[0mException\u001b[0m\u001b[0;34m)\u001b[0m \u001b[0;32mas\u001b[0m \u001b[0me\u001b[0m\u001b[0;34m:\u001b[0m\u001b[0;34m\u001b[0m\u001b[0;34m\u001b[0m\u001b[0m\n",
            "\u001b[0;32m/usr/local/lib/python3.6/dist-packages/pandas/io/pytables.py\u001b[0m in \u001b[0;36mopen\u001b[0;34m(self, mode, **kwargs)\u001b[0m\n\u001b[1;32m    601\u001b[0m \u001b[0;34m\u001b[0m\u001b[0m\n\u001b[1;32m    602\u001b[0m         \u001b[0;32mtry\u001b[0m\u001b[0;34m:\u001b[0m\u001b[0;34m\u001b[0m\u001b[0;34m\u001b[0m\u001b[0m\n\u001b[0;32m--> 603\u001b[0;31m             \u001b[0mself\u001b[0m\u001b[0;34m.\u001b[0m\u001b[0m_handle\u001b[0m \u001b[0;34m=\u001b[0m \u001b[0mtables\u001b[0m\u001b[0;34m.\u001b[0m\u001b[0mopen_file\u001b[0m\u001b[0;34m(\u001b[0m\u001b[0mself\u001b[0m\u001b[0;34m.\u001b[0m\u001b[0m_path\u001b[0m\u001b[0;34m,\u001b[0m \u001b[0mself\u001b[0m\u001b[0;34m.\u001b[0m\u001b[0m_mode\u001b[0m\u001b[0;34m,\u001b[0m \u001b[0;34m**\u001b[0m\u001b[0mkwargs\u001b[0m\u001b[0;34m)\u001b[0m\u001b[0;34m\u001b[0m\u001b[0;34m\u001b[0m\u001b[0m\n\u001b[0m\u001b[1;32m    604\u001b[0m         \u001b[0;32mexcept\u001b[0m \u001b[0;34m(\u001b[0m\u001b[0mIOError\u001b[0m\u001b[0;34m)\u001b[0m \u001b[0;32mas\u001b[0m \u001b[0me\u001b[0m\u001b[0;34m:\u001b[0m  \u001b[0;31m# pragma: no cover\u001b[0m\u001b[0;34m\u001b[0m\u001b[0;34m\u001b[0m\u001b[0m\n\u001b[1;32m    605\u001b[0m             \u001b[0;32mif\u001b[0m \u001b[0;34m'can not be written'\u001b[0m \u001b[0;32min\u001b[0m \u001b[0mstr\u001b[0m\u001b[0;34m(\u001b[0m\u001b[0me\u001b[0m\u001b[0;34m)\u001b[0m\u001b[0;34m:\u001b[0m\u001b[0;34m\u001b[0m\u001b[0;34m\u001b[0m\u001b[0m\n",
            "\u001b[0;32m/usr/local/lib/python3.6/dist-packages/tables/file.py\u001b[0m in \u001b[0;36mopen_file\u001b[0;34m(filename, mode, title, root_uep, filters, **kwargs)\u001b[0m\n\u001b[1;32m    304\u001b[0m                 raise ValueError(\n\u001b[1;32m    305\u001b[0m                     \u001b[0;34m\"The file '%s' is already opened, but \"\u001b[0m\u001b[0;34m\u001b[0m\u001b[0;34m\u001b[0m\u001b[0m\n\u001b[0;32m--> 306\u001b[0;31m                     \"not in read-only mode (as requested).\" % filename)\n\u001b[0m\u001b[1;32m    307\u001b[0m             \u001b[0;31m# 'a' and 'r+' are compatible with everything except 'r'\u001b[0m\u001b[0;34m\u001b[0m\u001b[0;34m\u001b[0m\u001b[0;34m\u001b[0m\u001b[0m\n\u001b[1;32m    308\u001b[0m             \u001b[0;32melif\u001b[0m \u001b[0mmode\u001b[0m \u001b[0;32min\u001b[0m \u001b[0;34m(\u001b[0m\u001b[0;34m'a'\u001b[0m\u001b[0;34m,\u001b[0m \u001b[0;34m'r+'\u001b[0m\u001b[0;34m)\u001b[0m \u001b[0;32mand\u001b[0m \u001b[0momode\u001b[0m \u001b[0;34m==\u001b[0m \u001b[0;34m'r'\u001b[0m\u001b[0;34m:\u001b[0m\u001b[0;34m\u001b[0m\u001b[0;34m\u001b[0m\u001b[0m\n",
            "\u001b[0;31mValueError\u001b[0m: The file 'disag-out1.h5' is already opened, but not in read-only mode (as requested)."
          ]
        }
      ]
    },
    {
      "cell_type": "code",
      "metadata": {
        "id": "92DuzfZTdQBs",
        "colab_type": "code",
        "colab": {}
      },
      "source": [
        "indexer = np.arange(params['window_size'])[None, :] + np.arange(len(train_x[0])-params['window_size']+1)[:, None]\n",
        "X = train_x[0][indexer]\n",
        "\n",
        "\n",
        "X = np.reshape(X, (X.shape[0],params['window_size'],1))"
      ],
      "execution_count": 0,
      "outputs": []
    },
    {
      "cell_type": "code",
      "metadata": {
        "id": "YDp8gGHw8mK-",
        "colab_type": "code",
        "colab": {}
      },
      "source": [
        "\n",
        "predict = model.predict(X, batch_size=128)"
      ],
      "execution_count": 0,
      "outputs": []
    },
    {
      "cell_type": "code",
      "metadata": {
        "id": "5wK7EJYFAhLC",
        "colab_type": "code",
        "outputId": "c66e5285-810e-4098-cdec-51d1751f5b7a",
        "colab": {
          "base_uri": "https://localhost:8080/",
          "height": 287
        }
      },
      "source": [
        "plt.plot(predict[60000:65000])\n",
        "plt.plot(train_y[0][60000:65000])"
      ],
      "execution_count": 15,
      "outputs": [
        {
          "output_type": "execute_result",
          "data": {
            "text/plain": [
              "[<matplotlib.lines.Line2D at 0x7f67486ff940>]"
            ]
          },
          "metadata": {
            "tags": []
          },
          "execution_count": 15
        },
        {
          "output_type": "display_data",
          "data": {
            "image/png": "[encoded data removed]",
            "text/plain": [
              "<Figure size 432x288 with 1 Axes>"
            ]
          },
          "metadata": {
            "tags": []
          }
        }
      ]
    },
    {
      "cell_type": "code",
      "metadata": {
        "id": "jfYFbWbMGHZ1",
        "colab_type": "code",
        "colab": {
          "base_uri": "https://localhost:8080/",
          "height": 287
        },
        "outputId": "4ddc635f-c20f-4c02-e412-b93462894076"
      },
      "source": [
        "plt.plot(predict[60000:85000])\n",
        "plt.plot(train_y[0][60000:85000])"
      ],
      "execution_count": 27,
      "outputs": [
        {
          "output_type": "execute_result",
          "data": {
            "text/plain": [
              "[<matplotlib.lines.Line2D at 0x7f8c900a1160>]"
            ]
          },
          "metadata": {
            "tags": []
          },
          "execution_count": 27
        },
        {
          "output_type": "display_data",
          "data": {
            "image/png": "[encoded data removed]",
            "text/plain": [
              "<Figure size 432x288 with 1 Axes>"
            ]
          },
          "metadata": {
            "tags": []
          }
        }
      ]
    },
    {
      "cell_type": "markdown",
      "metadata": {
        "id": "Fu2Pxu18GO-L",
        "colab_type": "text"
      },
      "source": [
        "plt.plot(predict[160000:165000])\n",
        "plt.plot(train_y[0][160000:165000])"
      ]
    }
  ]
}
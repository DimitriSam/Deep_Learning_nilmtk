{
 "cells": [
  {
   "cell_type": "markdown",
   "metadata": {},
   "source": [
    "#  Timeframes Exploration"
   ]
  },
  {
   "cell_type": "code",
   "execution_count": 1,
   "metadata": {},
   "outputs": [],
   "source": [
    "from __future__ import print_function, division\n",
    "import time\n",
    "\n",
    "from matplotlib import rcParams\n",
    "import matplotlib.pyplot as plt\n",
    "\n",
    "from nilmtk import DataSet, TimeFrame, MeterGroup, HDFDataStore"
   ]
  },
  {
   "cell_type": "markdown",
   "metadata": {},
   "source": [
    "## Appliance training on multiple houses "
   ]
  },
  {
   "cell_type": "code",
   "execution_count": 28,
   "metadata": {},
   "outputs": [
    {
     "name": "stdout",
     "output_type": "stream",
     "text": [
      "True\n",
      "HOUSE 1\n",
      "kettle meter: start 2012-11-09   end 2017-04-26\n",
      "Mains meter: start 2013-03-17   end 2017-04-26\n",
      "\n",
      "True\n",
      "HOUSE 2\n",
      "kettle meter: start 2013-02-17   end 2013-10-10\n",
      "Mains meter: start 2013-04-16   end 2013-10-10\n",
      "\n",
      "True\n",
      "HOUSE 3\n",
      "kettle meter: start 2013-02-27   end 2013-04-08\n",
      "Mains meter: start 2013-02-27   end 2013-04-08\n",
      "\n",
      "True\n",
      "HOUSE 4\n",
      "kettle meter: start 2013-03-09   end 2013-09-29\n",
      "Mains meter: start 2013-03-09   end 2013-10-01\n",
      "\n",
      "The common time interval for kettle meter is: START 2013-03-09    END 2013-04-08\n"
     ]
    }
   ],
   "source": [
    "dataset = DataSet('ukdale.h5')\n",
    "\n",
    "appliance = 'kettle'\n",
    "houses = [1,2,3,4]\n",
    "\n",
    "start_list = []\n",
    "end_list = []\n",
    "#find timeframes where meters are active\n",
    "for i in houses:\n",
    "    \n",
    "    train_meter = dataset.buildings[i].elec[appliance]\n",
    "    train_mains = dataset.buildings[i].elec.mains()\n",
    "\n",
    "    start_app = train_meter.get_timeframe().start.date()\n",
    "    end_app =  train_meter.get_timeframe().end.date()\n",
    "    \n",
    "    start_list.append(start_app)\n",
    "    end_list.append(end_app)\n",
    "    \n",
    "    print(start_app < end_app)\n",
    "    print('HOUSE {}'.format(i))\n",
    "    print('{} meter: start {}   end {}'.format( appliance, start_app, end_app)) \n",
    "    start_mains = train_mains.get_timeframe().start.date()\n",
    "    end_mains =  train_mains.get_timeframe().end.date()   \n",
    "    print('Mains meter: start {}   end {}'.format( start_mains, end_mains))\n",
    "    print()\n",
    "    \n",
    "x = max(start_list)\n",
    "print('The common time interval for kettle meter is: START {}    END {}'.format(max(start_list),min(end_list)))\n",
    "    \n",
    "    "
   ]
  },
  {
   "cell_type": "markdown",
   "metadata": {},
   "source": [
    "## Appliance testing on one house"
   ]
  },
  {
   "cell_type": "code",
   "execution_count": 25,
   "metadata": {},
   "outputs": [
    {
     "name": "stdout",
     "output_type": "stream",
     "text": [
      "HOUSE 5\n",
      "kettle meter: start 2014-06-29   end 2014-09-07\n",
      "Mains meter: start 2014-06-29   end 2014-11-13\n"
     ]
    }
   ],
   "source": [
    "appliance = 'kettle'\n",
    "house = 5\n",
    "\n",
    "test_meter = dataset.buildings[house].elec[appliance]\n",
    "test_mains = dataset.buildings[house].elec.mains()\n",
    "\n",
    "start_app = test_meter.get_timeframe().start.date()\n",
    "end_app =  test_meter.get_timeframe().end.date()\n",
    "\n",
    "start_mains = test_mains.get_timeframe().start.date()\n",
    "end_mains =  test_mains.get_timeframe().end.date()\n",
    "print('HOUSE {}'.format(house))\n",
    "print('{} meter: start {}   end {}'.format( appliance, start_app, end_app))\n",
    "print('Mains meter: start {}   end {}'.format(start_mains, end_mains))"
   ]
  },
  {
   "cell_type": "code",
   "execution_count": null,
   "metadata": {},
   "outputs": [],
   "source": []
  }
 ],
 "metadata": {
  "kernelspec": {
   "display_name": "Python 3",
   "language": "python",
   "name": "python3"
  },
  "language_info": {
   "codemirror_mode": {
    "name": "ipython",
    "version": 3
   },
   "file_extension": ".py",
   "mimetype": "text/x-python",
   "name": "python",
   "nbconvert_exporter": "python",
   "pygments_lexer": "ipython3",
   "version": "3.6.7"
  }
 },
 "nbformat": 4,
 "nbformat_minor": 2
}

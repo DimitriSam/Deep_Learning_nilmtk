{
 "cells": [
  {
   "cell_type": "markdown",
   "metadata": {},
   "source": [
    "#  Timeframes Exploration"
   ]
  },
  {
   "cell_type": "code",
   "execution_count": 1,
   "metadata": {},
   "outputs": [],
   "source": [
    "from __future__ import print_function, division\n",
    "import time\n",
    "\n",
    "from matplotlib import rcParams\n",
    "import matplotlib.pyplot as plt\n",
    "\n",
    "from nilmtk import DataSet, TimeFrame, MeterGroup, HDFDataStore"
   ]
  },
  {
   "cell_type": "markdown",
   "metadata": {},
   "source": [
    "## Appliance training on multiple houses "
   ]
  },
  {
   "cell_type": "code",
   "execution_count": 96,
   "metadata": {},
   "outputs": [
    {
     "name": "stdout",
     "output_type": "stream",
     "text": [
      "True\n",
      "HOUSE 1\n",
      "dish washer meter: start 2012-11-09   end 2017-04-26\n",
      "Mains meter: start 2013-03-17   end 2017-04-26\n",
      "\n",
      "True\n",
      "HOUSE 2\n",
      "dish washer meter: start 2013-05-20   end 2013-10-10\n",
      "Mains meter: start 2013-04-16   end 2013-10-10\n",
      "\n",
      "HOUSE 3\n",
      "There is no dish washer in house 3\n",
      "\n",
      "The common time interval for kettle meter is: START 2013-05-20    END 2013-10-10\n"
     ]
    }
   ],
   "source": [
    "dataset = DataSet('ukdale.h5')\n",
    "\n",
    "appliance = 'dish washer'\n",
    "sample_period = 6\n",
    "houses = [1,2,3]\n",
    "\n",
    "start_list = []\n",
    "end_list = []\n",
    "#find timeframes where meters are active\n",
    "for i in houses:\n",
    "    try:\n",
    "    \n",
    "        train_meter = dataset.buildings[i].elec[appliance]\n",
    "        train_mains = dataset.buildings[i].elec.mains()\n",
    "\n",
    "        start_app = train_meter.get_timeframe().start.date()\n",
    "        end_app =  train_meter.get_timeframe().end.date()\n",
    "\n",
    "        start_list.append(start_app)\n",
    "        end_list.append(end_app)\n",
    "\n",
    "        print(start_app < end_app)\n",
    "        print('HOUSE {}'.format(i))\n",
    "        print('{} meter: start {}   end {}'.format( appliance, start_app, end_app)) \n",
    "        start_mains = train_mains.get_timeframe().start.date()\n",
    "        end_mains =  train_mains.get_timeframe().end.date()   \n",
    "        print('Mains meter: start {}   end {}'.format( start_mains, end_mains))\n",
    "        print()\n",
    "        \n",
    "    except:\n",
    "        print('HOUSE {}'.format(i))\n",
    "        print(\"There is no {} in house {}\".format(appliance,i))\n",
    "        print()\n",
    "    \n",
    "x = max(start_list)\n",
    "print('The common time interval for kettle meter is: START {}    END {}'.format(max(start_list),min(end_list)))\n",
    "    \n",
    "    "
   ]
  },
  {
   "cell_type": "markdown",
   "metadata": {},
   "source": [
    "## Appliance testing on one house"
   ]
  },
  {
   "cell_type": "code",
   "execution_count": 3,
   "metadata": {},
   "outputs": [
    {
     "name": "stdout",
     "output_type": "stream",
     "text": [
      "HOUSE 5\n",
      "microwave meter: start 2014-06-29   end 2014-11-13\n",
      "Mains meter: start 2014-06-29   end 2014-11-13\n"
     ]
    }
   ],
   "source": [
    "appliance = 'microwave'\n",
    "house = 5\n",
    "\n",
    "test_meter = dataset.buildings[house].elec[appliance]\n",
    "test_mains = dataset.buildings[house].elec.mains()\n",
    "\n",
    "start_app = test_meter.get_timeframe().start.date()\n",
    "end_app =  test_meter.get_timeframe().end.date()\n",
    "\n",
    "start_mains = test_mains.get_timeframe().start.date()\n",
    "end_mains =  test_mains.get_timeframe().end.date()\n",
    "print('HOUSE {}'.format(house))\n",
    "print('{} meter: start {}   end {}'.format( appliance, start_app, end_app))\n",
    "print('Mains meter: start {}   end {}'.format(start_mains, end_mains))"
   ]
  },
  {
   "cell_type": "markdown",
   "metadata": {},
   "source": [
    "## Extract activations"
   ]
  },
  {
   "cell_type": "code",
   "execution_count": null,
   "metadata": {},
   "outputs": [],
   "source": [
    "dataset.set_window(\"2011-04-18\", \"2011-05-24\")\n",
    "\n",
    "BUILDING = 1\n",
    "elec = dataset.buildings[BUILDING].elec\n",
    "fridge = elec['microwave']"
   ]
  },
  {
   "cell_type": "code",
   "execution_count": null,
   "metadata": {},
   "outputs": [],
   "source": [
    "activations = fridge.get_activations()\n",
    "print(\"Number of activations =\", len(activations))\n",
    "\n",
    "activations[1].plot()\n",
    "plt.show()"
   ]
  },
  {
   "cell_type": "code",
   "execution_count": null,
   "metadata": {},
   "outputs": [],
   "source": [
    "activations[2].plot()\n",
    "plt.show()"
   ]
  },
  {
   "cell_type": "code",
   "execution_count": null,
   "metadata": {},
   "outputs": [],
   "source": [
    "dataset = DataSet('ukdale.h5')\n",
    "dataset.set_window(\"2013-03-17\", \"2014-03-17\")\n",
    "test_mains = dataset.buildings[1].elec.mains().power_series_all_data()\n",
    "max(test_mains)"
   ]
  },
  {
   "cell_type": "markdown",
   "metadata": {},
   "source": [
    "## Graphs"
   ]
  },
  {
   "cell_type": "code",
   "execution_count": 111,
   "metadata": {},
   "outputs": [],
   "source": [
    "dataset = DataSet('ukdale.h5')\n",
    "\n",
    "appliance = 'dish washer'\n",
    "sample_period = 6\n",
    "houses = [2]\n",
    "\n",
    "#window_per_house = {1: ('2013-03-22', \"2013-03-23\")}\n",
    "#window_per_house = {1: ('2013-04-02', '2013-05-23')}\n",
    "window_per_house = {2: ('2013-07-10 ' , '2013-7-16')}"
   ]
  },
  {
   "cell_type": "code",
   "execution_count": 112,
   "metadata": {},
   "outputs": [
    {
     "data": {
      "image/png": "[encoded data removed]",
      "text/plain": [
       "<Figure size 432x288 with 1 Axes>"
      ]
     },
     "metadata": {
      "needs_background": "light"
     },
     "output_type": "display_data"
    }
   ],
   "source": [
    "def sampling(x,y,**load_kwargs):\n",
    "    x = x.power_series_all_data(**load_kwargs)\n",
    "    y = y.power_series_all_data(**load_kwargs)\n",
    "    \n",
    "    return x , y\n",
    "\n",
    "for i in houses:\n",
    "    try:\n",
    "        \n",
    "        dataset.set_window(*window_per_house[i])\n",
    "    \n",
    "        train_meter = dataset.buildings[i].elec[appliance]\n",
    "        train_mains = dataset.buildings[i].elec.mains()\n",
    "        \n",
    "        x, y = sampling(train_mains, train_meter, sample_period  = sample_period)\n",
    "        plt.plot(x)\n",
    "        plt.plot(y,alpha=0.6)\n",
    "\n",
    "\n",
    "        \n",
    "    except:\n",
    "        print('HOUSE {}'.format(i))\n",
    "        print(\"There is no {} in house {}\".format(appliance,i))\n",
    "        print()"
   ]
  },
  {
   "cell_type": "markdown",
   "metadata": {},
   "source": [
    "## Timeframes\n",
    "\n",
    "### UKDALE\n",
    "=================================================================\n",
    "##### **Kettle**"
   ]
  },
  {
   "cell_type": "code",
   "execution_count": null,
   "metadata": {},
   "outputs": [],
   "source": [
    "# House 1\n",
    "train_house = {1: ('2014-01-30', '2014-04-10')} \n",
    "test_house = {1: ('2014-04-10', '2014-04-13')}\n",
    "\n",
    "# House 2 (Don't train kettle on house 2)\n",
    "train_house = {2: ('2013-06-20', '2013-8-4')}\n",
    "test_house = {2: ('2013-08-04', '2013-8-06')}"
   ]
  },
  {
   "cell_type": "markdown",
   "metadata": {},
   "source": [
    "##### **Fridge**"
   ]
  },
  {
   "cell_type": "code",
   "execution_count": null,
   "metadata": {},
   "outputs": [],
   "source": [
    "# House 1\n",
    "train_house = {1: ('2013-04-03', '2013-05-17')}\n",
    "test_house = {1: ('2013-10-17', '2013-10-21')}"
   ]
  },
  {
   "cell_type": "markdown",
   "metadata": {},
   "source": [
    "##### **Washing machine**"
   ]
  },
  {
   "cell_type": "code",
   "execution_count": 60,
   "metadata": {},
   "outputs": [],
   "source": [
    "# House 1\n",
    "train_house = {1: ('2016-04-12' , '2016-05-12')}\n",
    "test_house = {1: ('2016-06-04' , '2016-06-12')}\n",
    "\n",
    "# House 2\n",
    "train_house = {2: ('2013-05-20' , '2013-08-20')}\n",
    "test_house = {2: ('2013-10-05' , '2013-10-10')}"
   ]
  },
  {
   "cell_type": "markdown",
   "metadata": {},
   "source": [
    "##### **Microwave**"
   ]
  },
  {
   "cell_type": "code",
   "execution_count": null,
   "metadata": {},
   "outputs": [],
   "source": [
    "# House 1\n",
    "train_house = {1: ('2016-04-10' , '2016-05-10')}\n",
    "test_house = {1: ('2016-06-20' , '2016-06-30')}\n",
    "\n",
    "\n",
    "# House 2 (Better Data in this house)\n",
    "train_house = {2: ('2013-05-20' , '2013-07-30')}\n",
    "test_house = {2: ('2013-08-01' , '2013-08-06')}"
   ]
  },
  {
   "cell_type": "markdown",
   "metadata": {},
   "source": [
    "##### **Dish washer**"
   ]
  },
  {
   "cell_type": "code",
   "execution_count": null,
   "metadata": {},
   "outputs": [],
   "source": [
    "# House 1\n",
    "train_house = {1: ('2015-01-17' , '2015-04-17')}\n",
    "test_house = {1: ('2015-04-17' , '2015-04-27')}\n",
    "\n",
    "\n",
    "# House 2 (Better Data in this house)\n",
    "train_house = {2: ('2013-05-20 ' , '2013-7-10')}\n",
    "test_house = {2: ('2013-07-10 ' , '2013-7-16')}"
   ]
  }
 ],
 "metadata": {
  "kernelspec": {
   "display_name": "Python 3",
   "language": "python",
   "name": "python3"
  },
  "language_info": {
   "codemirror_mode": {
    "name": "ipython",
    "version": 3
   },
   "file_extension": ".py",
   "mimetype": "text/x-python",
   "name": "python",
   "nbconvert_exporter": "python",
   "pygments_lexer": "ipython3",
   "version": "3.6.7"
  }
 },
 "nbformat": 4,
 "nbformat_minor": 2
}

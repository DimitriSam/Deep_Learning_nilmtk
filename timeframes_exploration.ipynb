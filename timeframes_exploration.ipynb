{
 "cells": [
  {
   "cell_type": "markdown",
   "metadata": {},
   "source": [
    "#  Timeframes Exploration"
   ]
  },
  {
   "cell_type": "code",
   "execution_count": 2,
   "metadata": {},
   "outputs": [],
   "source": [
    "from __future__ import print_function, division\n",
    "import time\n",
    "\n",
    "from matplotlib import rcParams\n",
    "import matplotlib.pyplot as plt\n",
    "\n",
    "from nilmtk import DataSet, TimeFrame, MeterGroup, HDFDataStore"
   ]
  },
  {
   "cell_type": "markdown",
   "metadata": {},
   "source": [
    "## Appliance training on multiple houses "
   ]
  },
  {
   "cell_type": "code",
   "execution_count": 3,
   "metadata": {},
   "outputs": [
    {
     "name": "stderr",
     "output_type": "stream",
     "text": [
      "C:\\Users\\dimit\\Desktop\\Msc Business Analytics\\Dissertation\\My_code\\nilm_metadata\\file_management.py:16: YAMLLoadWarning: calling yaml.load() without Loader=... is deprecated, as the default Loader is unsafe. Please read https://msg.pyyaml.org/load for full details.\n",
      "  objs = yaml.load(fh)\n"
     ]
    },
    {
     "name": "stdout",
     "output_type": "stream",
     "text": [
      "True\n",
      "HOUSE 1\n",
      "microwave meter: start 2012-12-14   end 2017-04-26\n",
      "Mains meter: start 2013-03-17   end 2017-04-26\n",
      "\n",
      "True\n",
      "HOUSE 2\n",
      "microwave meter: start 2013-05-20   end 2013-10-10\n",
      "Mains meter: start 2013-04-16   end 2013-10-10\n",
      "\n",
      "True\n",
      "HOUSE 5\n",
      "microwave meter: start 2014-06-29   end 2014-11-13\n",
      "Mains meter: start 2014-06-29   end 2014-11-13\n",
      "\n",
      "The common time interval for kettle meter is: START 2014-06-29    END 2013-10-10\n"
     ]
    }
   ],
   "source": [
    "dataset = DataSet('ukdale.h5')\n",
    "\n",
    "appliance = 'microwave'\n",
    "houses = [1,2,5]\n",
    "\n",
    "start_list = []\n",
    "end_list = []\n",
    "#find timeframes where meters are active\n",
    "for i in houses:\n",
    "    try:\n",
    "    \n",
    "        train_meter = dataset.buildings[i].elec[appliance]\n",
    "        train_mains = dataset.buildings[i].elec.mains()\n",
    "\n",
    "        start_app = train_meter.get_timeframe().start.date()\n",
    "        end_app =  train_meter.get_timeframe().end.date()\n",
    "\n",
    "        start_list.append(start_app)\n",
    "        end_list.append(end_app)\n",
    "\n",
    "        print(start_app < end_app)\n",
    "        print('HOUSE {}'.format(i))\n",
    "        print('{} meter: start {}   end {}'.format( appliance, start_app, end_app)) \n",
    "        start_mains = train_mains.get_timeframe().start.date()\n",
    "        end_mains =  train_mains.get_timeframe().end.date()   \n",
    "        print('Mains meter: start {}   end {}'.format( start_mains, end_mains))\n",
    "        print()\n",
    "        \n",
    "    except:\n",
    "        print(\"There is no {} in house {}\".format())\n",
    "    \n",
    "x = max(start_list)\n",
    "print('The common time interval for kettle meter is: START {}    END {}'.format(max(start_list),min(end_list)))\n",
    "    \n",
    "    "
   ]
  },
  {
   "cell_type": "markdown",
   "metadata": {},
   "source": [
    "## Appliance testing on one house"
   ]
  },
  {
   "cell_type": "code",
   "execution_count": 25,
   "metadata": {},
   "outputs": [
    {
     "name": "stdout",
     "output_type": "stream",
     "text": [
      "HOUSE 5\n",
      "kettle meter: start 2014-06-29   end 2014-09-07\n",
      "Mains meter: start 2014-06-29   end 2014-11-13\n"
     ]
    }
   ],
   "source": [
    "appliance = 'kettle'\n",
    "house = 5\n",
    "\n",
    "test_meter = dataset.buildings[house].elec[appliance]\n",
    "test_mains = dataset.buildings[house].elec.mains()\n",
    "\n",
    "start_app = test_meter.get_timeframe().start.date()\n",
    "end_app =  test_meter.get_timeframe().end.date()\n",
    "\n",
    "start_mains = test_mains.get_timeframe().start.date()\n",
    "end_mains =  test_mains.get_timeframe().end.date()\n",
    "print('HOUSE {}'.format(house))\n",
    "print('{} meter: start {}   end {}'.format( appliance, start_app, end_app))\n",
    "print('Mains meter: start {}   end {}'.format(start_mains, end_mains))"
   ]
  },
  {
   "cell_type": "markdown",
   "metadata": {},
   "source": [
    "## Extract activations"
   ]
  },
  {
   "cell_type": "code",
   "execution_count": 35,
   "metadata": {},
   "outputs": [],
   "source": [
    "dataset.set_window(\"1-1-2014\", \"1-2-2014\")\n",
    "\n",
    "BUILDING = 1\n",
    "elec = dataset.buildings[BUILDING].elec\n",
    "fridge = elec['microwave']"
   ]
  },
  {
   "cell_type": "code",
   "execution_count": 36,
   "metadata": {},
   "outputs": [
    {
     "name": "stdout",
     "output_type": "stream",
     "text": [
      "Number of activations = 8\n"
     ]
    },
    {
     "data": {
      "image/png": "[encoded data removed]",
      "text/plain": [
       "<Figure size 432x288 with 1 Axes>"
      ]
     },
     "metadata": {
      "needs_background": "light"
     },
     "output_type": "display_data"
    }
   ],
   "source": [
    "activations = fridge.get_activations()\n",
    "print(\"Number of activations =\", len(activations))\n",
    "\n",
    "activations[1].plot()\n",
    "plt.show()"
   ]
  },
  {
   "cell_type": "code",
   "execution_count": null,
   "metadata": {},
   "outputs": [],
   "source": []
  }
 ],
 "metadata": {
  "kernelspec": {
   "display_name": "Python 3",
   "language": "python",
   "name": "python3"
  },
  "language_info": {
   "codemirror_mode": {
    "name": "ipython",
    "version": 3
   },
   "file_extension": ".py",
   "mimetype": "text/x-python",
   "name": "python",
   "nbconvert_exporter": "python",
   "pygments_lexer": "ipython3",
   "version": "3.6.7"
  }
 },
 "nbformat": 4,
 "nbformat_minor": 2
}
